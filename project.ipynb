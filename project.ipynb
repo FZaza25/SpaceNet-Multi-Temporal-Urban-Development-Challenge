{
  "cells": [
    {
      "cell_type": "markdown",
      "metadata": {
        "id": "9h49LP9Z--B8"
      },
      "source": [
        "SN7"
      ]
    },
    {
      "cell_type": "code",
      "execution_count": null,
      "metadata": {
        "id": "_k9VcqUs--B9"
      },
      "outputs": [],
      "source": [
        "import os\n",
        "import numpy as np\n",
        "import rasterio\n",
        "import torch\n",
        "import cv2\n",
        "import torchvision\n",
        "from torch.utils.data import DataLoader\n",
        "from glob import glob\n",
        "import geopandas as gpd\n",
        "from rasterio.features import rasterize\n",
        "import matplotlib.pyplot as plt\n",
        "import torch.nn as nn\n",
        "import torchvision.transforms.functional as TF\n",
        "import random\n",
        "from tqdm import tqdm\n",
        "from sklearn.metrics import f1_score, precision_score, recall_score, confusion_matrix\n",
        "import albumentations as A\n",
        "import torch.optim as optim\n",
        "from torch.optim.lr_scheduler import StepLR\n",
        "from albumentations.pytorch import ToTensorV2\n",
        "from torch.utils.data import Dataset\n",
        "import seaborn as sns\n",
        "import optuna"
      ]
    },
    {
      "cell_type": "markdown",
      "metadata": {
        "id": "q9QAykpF--B-"
      },
      "source": [
        "Function to calculate mean and standard deviation"
      ]
    },
    {
      "cell_type": "code",
      "execution_count": 2,
      "metadata": {
        "id": "OviawHVQ--B-"
      },
      "outputs": [],
      "source": [
        "def compute_mean_std(image_paths):\n",
        "    means = []\n",
        "    stds = []\n",
        "\n",
        "    for img_path in image_paths:\n",
        "        img = cv2.imread(img_path, cv2.IMREAD_UNCHANGED)  \n",
        "    \n",
        "        img_tensor = torch.tensor(img, dtype=torch.float32).permute(2, 0, 1)  \n",
        "\n",
        "        means.append(img_tensor.mean(dim=(1, 2))) \n",
        "        stds.append(img_tensor.std(dim=(1, 2)))    \n",
        "\n",
        "    mean = torch.stack(means).mean(dim=0) \n",
        "    std = torch.stack(stds).mean(dim=0)  \n",
        "\n",
        "    return mean.tolist(), std.tolist() "
      ]
    },
    {
      "cell_type": "code",
      "execution_count": null,
      "metadata": {
        "id": "ot1rWEAw--B-",
        "outputId": "75a64f07-0ad6-46a9-c571-84f303438943"
      },
      "outputs": [],
      "source": [
        "image_paths = glob('training/images_masked/*.tif')\n",
        "\n",
        "if torch.cuda.is_available():\n",
        "    device = torch.device('cuda')\n",
        "else:\n",
        "    device = torch.device('cpu')\n",
        "\n",
        "mean, std = compute_mean_std(image_paths)\n",
        "\n",
        "print(f'Mean of RGBM channels: {mean}')\n",
        "print(f'Standard deviation of RGBM channels: {std}')"
      ]
    },
    {
      "cell_type": "markdown",
      "metadata": {
        "id": "u3QEyVZe--B_"
      },
      "source": [
        "Label Processing:\n",
        "The handling of the exception: ValueError is due to the native images and labels in the dataset. Specifically, in some satellite images, there are clouds or other types of noise. To manage this noise, a fourth channel was added, a binary mask covering the areas where there is noise/clouds. There are also some specific labels for the masks (UDM). In exceptional cases, the entire image has the mask, where masking occurs, the labelsMatch are devoid of geojson data. Therefore, if the entire image is masked, some label_match are empty, leading to this error. Given the absence of data in the labels (resulting in them being completely \"masked\"), I decided to handle the issue simply by creating an entirely black mask."
      ]
    },
    {
      "cell_type": "code",
      "execution_count": 4,
      "metadata": {
        "id": "n4N2mx_3--B_"
      },
      "outputs": [],
      "source": [
        "def create_mask(geojson, img_shape, transform):\n",
        "    shapes = [(geom, 1) for geom in geojson.geometry if geom.is_valid and not geom.is_empty]\n",
        "    if not shapes:\n",
        "        raise ValueError('No valid geometry objects found for rasterize')\n",
        "    mask = rasterize(shapes=shapes, out_shape=img_shape, transform=transform, fill=0, dtype=np.uint8)\n",
        "    return mask\n",
        "\n",
        "def save_normalized_mask(mask, output_path, crs, transform):\n",
        "    mask_normalized = (mask * 255).astype(np.uint8)\n",
        "    with rasterio.open(\n",
        "        output_path,\n",
        "        'w',\n",
        "        driver='GTiff',\n",
        "        height=mask_normalized.shape[0],\n",
        "        width=mask_normalized.shape[1],\n",
        "        count=1,\n",
        "        dtype=mask_normalized.dtype,\n",
        "        crs=crs,\n",
        "        transform=transform,\n",
        "    ) as dst:\n",
        "        dst.write(mask_normalized, 1)\n",
        "\n",
        "def process_dataset(image_dir, label_dir, output_dir):\n",
        "    image_paths = sorted(glob(os.path.join(image_dir, '*.tif')))\n",
        "    label_paths = sorted(glob(os.path.join(label_dir, '*.geojson')))\n",
        "\n",
        "    if not os.path.exists(output_dir):\n",
        "        os.makedirs(output_dir)\n",
        "\n",
        "    processed_count = 0\n",
        "\n",
        "    for img_path, label_path in zip(image_paths, label_paths):\n",
        "        labels_match = gpd.read_file(label_path)\n",
        "\n",
        "        with rasterio.open(img_path) as src:\n",
        "            img_shape = (src.height, src.width)\n",
        "            transform = src.transform\n",
        "            img_crs = src.crs\n",
        "\n",
        "        try:\n",
        "            mask_labels_match = create_mask(labels_match, img_shape, transform)\n",
        "        except ValueError as e:\n",
        "            print(f\"Empty or invalid label, noise on image: {img_path} due to error: {e}\")\n",
        "            mask_labels_match = np.zeros(img_shape, dtype=np.uint8)  \n",
        "\n",
        "        img_name = os.path.basename(img_path)\n",
        "        mask_name = img_name.replace('.tif', '_label_mask.tif')\n",
        "        mask_output_path = os.path.join(output_dir, mask_name)\n",
        "\n",
        "        save_normalized_mask(mask_labels_match, mask_output_path, img_crs, transform)\n",
        "\n",
        "        processed_count += 1\n",
        "\n",
        "        if processed_count % 100 == 0:\n",
        "            print(f'Processed: {processed_count} masks')"
      ]
    },
    {
      "cell_type": "markdown",
      "metadata": {
        "id": "BIoHAUjg--B_"
      },
      "source": [
        "Paths"
      ]
    },
    {
      "cell_type": "code",
      "execution_count": 5,
      "metadata": {
        "id": "6-OyRkM---CA"
      },
      "outputs": [],
      "source": [
        "image_dir_train = 'training/images_masked'\n",
        "label_dir_train = 'training/labels/labels_match'\n",
        "mask_dir_train = 'training/mask_from_label'\n",
        "\n",
        "image_dir_valid = 'validation/images_masked'\n",
        "label_dir_valid = 'validation/labels/labels_match'\n",
        "mask_dir_valid = 'validation/mask_from_label'\n",
        "\n",
        "image_dir_test = 'test/images_masked'\n",
        "label_dir_test = 'test/labels/labels_match'\n",
        "mask_dir_test = 'test/mask_from_label'"
      ]
    },
    {
      "cell_type": "markdown",
      "metadata": {},
      "source": [
        "Train masks"
      ]
    },
    {
      "cell_type": "code",
      "execution_count": 37,
      "metadata": {
        "id": "sH8gUpel--CA"
      },
      "outputs": [
        {
          "name": "stdout",
          "output_type": "stream",
          "text": [
            "Empty or invalid label, noise on image: /home/federico/Documenti/LabAI/tesi/SpaceNet-Multi-Temporal-Urban-Development-Challenge/training/images_masked/a_white_1.tif due to error: No valid geometry objects found for rasterize\n",
            "Processed: 100 masks\n",
            "Processed: 200 masks\n",
            "Processed: 300 masks\n",
            "Processed: 400 masks\n",
            "Processed: 500 masks\n",
            "Processed: 600 masks\n",
            "Processed: 700 masks\n",
            "Processed: 800 masks\n",
            "Processed: 900 masks\n",
            "Processed: 1000 masks\n",
            "Empty or invalid label, noise on image: /home/federico/Documenti/LabAI/tesi/SpaceNet-Multi-Temporal-Urban-Development-Challenge/training/images_masked/white_1.tif due to error: No valid geometry objects found for rasterize\n"
          ]
        }
      ],
      "source": [
        "process_dataset(image_dir_train, label_dir_train, mask_dir_train)"
      ]
    },
    {
      "cell_type": "markdown",
      "metadata": {
        "id": "qEnVk25f--CB"
      },
      "source": [
        "Validation masks"
      ]
    },
    {
      "cell_type": "code",
      "execution_count": 38,
      "metadata": {
        "id": "bqcjflP4--CB"
      },
      "outputs": [
        {
          "name": "stdout",
          "output_type": "stream",
          "text": [
            "Empty or invalid label, noise on image: /home/federico/Documenti/LabAI/tesi/SpaceNet-Multi-Temporal-Urban-Development-Challenge/validation/images_masked/global_monthly_2018_10_mosaic_L15-0457E-1135N_1831_3648_13.tif due to error: No valid geometry objects found for rasterize\n",
            "Processed: 100 masks\n",
            "Empty or invalid label, noise on image: /home/federico/Documenti/LabAI/tesi/SpaceNet-Multi-Temporal-Urban-Development-Challenge/validation/images_masked/global_monthly_2019_07_mosaic_L15-0457E-1135N_1831_3648_13.tif due to error: No valid geometry objects found for rasterize\n",
            "Empty or invalid label, noise on image: /home/federico/Documenti/LabAI/tesi/SpaceNet-Multi-Temporal-Urban-Development-Challenge/validation/images_masked/global_monthly_2019_08_mosaic_L15-0457E-1135N_1831_3648_13.tif due to error: No valid geometry objects found for rasterize\n",
            "Empty or invalid label, noise on image: /home/federico/Documenti/LabAI/tesi/SpaceNet-Multi-Temporal-Urban-Development-Challenge/validation/images_masked/global_monthly_2019_11_mosaic_L15-0457E-1135N_1831_3648_13.tif due to error: No valid geometry objects found for rasterize\n",
            "Processed: 200 masks\n"
          ]
        }
      ],
      "source": [
        "process_dataset(image_dir_valid, label_dir_valid, mask_dir_valid)"
      ]
    },
    {
      "cell_type": "markdown",
      "metadata": {
        "id": "sPamb8P8--CB"
      },
      "source": [
        "Test masks"
      ]
    },
    {
      "cell_type": "code",
      "execution_count": 39,
      "metadata": {
        "id": "SVlhXeOQ--CB"
      },
      "outputs": [
        {
          "name": "stdout",
          "output_type": "stream",
          "text": [
            "Empty or invalid label, noise on image: /home/federico/Documenti/LabAI/tesi/SpaceNet-Multi-Temporal-Urban-Development-Challenge/test/images_masked/global_monthly_2018_03_mosaic_L15-1848E-0793N_7394_5018_13.tif due to error: No valid geometry objects found for rasterize\n",
            "Empty or invalid label, noise on image: /home/federico/Documenti/LabAI/tesi/SpaceNet-Multi-Temporal-Urban-Development-Challenge/test/images_masked/global_monthly_2018_04_mosaic_L15-1848E-0793N_7394_5018_13.tif due to error: No valid geometry objects found for rasterize\n",
            "Empty or invalid label, noise on image: /home/federico/Documenti/LabAI/tesi/SpaceNet-Multi-Temporal-Urban-Development-Challenge/test/images_masked/global_monthly_2018_05_mosaic_L15-1848E-0793N_7394_5018_13.tif due to error: No valid geometry objects found for rasterize\n",
            "Empty or invalid label, noise on image: /home/federico/Documenti/LabAI/tesi/SpaceNet-Multi-Temporal-Urban-Development-Challenge/test/images_masked/global_monthly_2018_06_mosaic_L15-1848E-0793N_7394_5018_13.tif due to error: No valid geometry objects found for rasterize\n",
            "Empty or invalid label, noise on image: /home/federico/Documenti/LabAI/tesi/SpaceNet-Multi-Temporal-Urban-Development-Challenge/test/images_masked/global_monthly_2018_07_mosaic_L15-1848E-0793N_7394_5018_13.tif due to error: No valid geometry objects found for rasterize\n",
            "Empty or invalid label, noise on image: /home/federico/Documenti/LabAI/tesi/SpaceNet-Multi-Temporal-Urban-Development-Challenge/test/images_masked/global_monthly_2018_08_mosaic_L15-1848E-0793N_7394_5018_13.tif due to error: No valid geometry objects found for rasterize\n",
            "Empty or invalid label, noise on image: /home/federico/Documenti/LabAI/tesi/SpaceNet-Multi-Temporal-Urban-Development-Challenge/test/images_masked/global_monthly_2018_09_mosaic_L15-1848E-0793N_7394_5018_13.tif due to error: No valid geometry objects found for rasterize\n",
            "Processed: 100 masks\n",
            "Empty or invalid label, noise on image: /home/federico/Documenti/LabAI/tesi/SpaceNet-Multi-Temporal-Urban-Development-Challenge/test/images_masked/global_monthly_2019_04_mosaic_L15-1848E-0793N_7394_5018_13.tif due to error: No valid geometry objects found for rasterize\n",
            "Empty or invalid label, noise on image: /home/federico/Documenti/LabAI/tesi/SpaceNet-Multi-Temporal-Urban-Development-Challenge/test/images_masked/global_monthly_2019_05_mosaic_L15-1848E-0793N_7394_5018_13.tif due to error: No valid geometry objects found for rasterize\n",
            "Empty or invalid label, noise on image: /home/federico/Documenti/LabAI/tesi/SpaceNet-Multi-Temporal-Urban-Development-Challenge/test/images_masked/global_monthly_2019_06_mosaic_L15-1848E-0793N_7394_5018_13.tif due to error: No valid geometry objects found for rasterize\n",
            "Empty or invalid label, noise on image: /home/federico/Documenti/LabAI/tesi/SpaceNet-Multi-Temporal-Urban-Development-Challenge/test/images_masked/global_monthly_2019_07_mosaic_L15-1848E-0793N_7394_5018_13.tif due to error: No valid geometry objects found for rasterize\n",
            "Processed: 200 masks\n"
          ]
        }
      ],
      "source": [
        "process_dataset(image_dir_test, label_dir_test, mask_dir_test)"
      ]
    },
    {
      "cell_type": "markdown",
      "metadata": {
        "id": "Ow895gbG--CB"
      },
      "source": [
        "SN7Dataset"
      ]
    },
    {
      "cell_type": "code",
      "execution_count": 6,
      "metadata": {
        "id": "D-wyNSbJ--CB"
      },
      "outputs": [],
      "source": [
        "class SN7Dataset(Dataset):\n",
        "    def __init__(self, image_dir, mask_dir, transform=None, mean=None, std=None):\n",
        "        self.image_paths = sorted(glob(os.path.join(image_dir, '*.tif')))  \n",
        "        self.mask_paths = sorted(glob(os.path.join(mask_dir, '*.tif')))\n",
        "        self.transform = transform\n",
        "\n",
        "    def __len__(self):\n",
        "        return len(self.image_paths)\n",
        "\n",
        "    def __getitem__(self, idx):\n",
        "        image_path = self.image_paths[idx]\n",
        "        mask_path = self.mask_paths[idx]\n",
        "\n",
        "        with rasterio.open(image_path) as src:\n",
        "            image = src.read().transpose((1, 2, 0))\n",
        "            image = image.astype(np.float32)\n",
        "            image = (image - mean) / std\n",
        "\n",
        "        with rasterio.open(mask_path) as src:\n",
        "            mask = src.read(1).astype(np.float32)\n",
        "            mask[mask == 255.0] = 1.0 \n",
        "\n",
        "        if self.transform is not None:\n",
        "            augmentations = self.transform(image=image, mask=mask)  \n",
        "            image = augmentations[\"image\"]\n",
        "            mask = augmentations[\"mask\"]\n",
        "\n",
        "        return image, mask\n"
      ]
    },
    {
      "cell_type": "markdown",
      "metadata": {
        "id": "RgxgO2BW--CC"
      },
      "source": [
        "DoubleConv"
      ]
    },
    {
      "cell_type": "code",
      "execution_count": 7,
      "metadata": {
        "id": "pmX0RtPB--CC"
      },
      "outputs": [],
      "source": [
        "class DoubleConv(nn.Module):\n",
        "  def __init__(self, in_channels, out_channels):\n",
        "      super(DoubleConv, self).__init__()    \n",
        "      self.conv = nn.Sequential(           \n",
        "          nn.Conv2d(in_channels, out_channels, 3, 1, 1, bias=False),        \n",
        "          nn.BatchNorm2d(out_channels),\n",
        "          nn.ReLU(inplace=True),\n",
        "          nn.Conv2d(out_channels, out_channels, 3, 1, 1, bias=False),\n",
        "          nn.BatchNorm2d(out_channels),\n",
        "          nn.ReLU(inplace=True),\n",
        "      )\n",
        "\n",
        "  def forward(self, x):\n",
        "      return self.conv(x)"
      ]
    },
    {
      "cell_type": "markdown",
      "metadata": {
        "id": "nt4lGJxB--CC"
      },
      "source": [
        "UNET"
      ]
    },
    {
      "cell_type": "code",
      "execution_count": 8,
      "metadata": {
        "id": "D6gceAQf--CC"
      },
      "outputs": [],
      "source": [
        "class UNET(nn.Module):\n",
        "  def __init__(\n",
        "      self, in_channels=4, out_channels=1, features=[64, 128, 256, 512],\n",
        "  ):\n",
        "    super(UNET, self).__init__()\n",
        "    self.ups = nn.ModuleList()\n",
        "    self.downs = nn.ModuleList()\n",
        "    self.pool = nn.MaxPool2d(kernel_size=2, stride=2)\n",
        "\n",
        "    for feature in features:\n",
        "      self.downs.append(DoubleConv(in_channels, feature))\n",
        "      in_channels = feature\n",
        "\n",
        "    for feature in reversed(features):\n",
        "      self.ups.append(\n",
        "          nn.ConvTranspose2d(\n",
        "              feature*2, feature, kernel_size=2, stride=2,\n",
        "          )\n",
        "      )\n",
        "      self.ups.append(DoubleConv(feature*2, feature))\n",
        "\n",
        "    self.bottleneck = DoubleConv(features[-1], features[-1]*2)\n",
        "    self.final_conv = nn.Conv2d(features[0], out_channels, kernel_size=1)\n",
        "  def forward(self, x):\n",
        "    skip_connections = []\n",
        "\n",
        "    for down in self.downs:\n",
        "      x = down(x)\n",
        "      skip_connections.append(x)\n",
        "      x = self.pool(x)\n",
        "\n",
        "    x = self.bottleneck(x)\n",
        "    skip_connections = skip_connections[::-1]\n",
        "\n",
        "    for idx in range(0, len(self.ups), 2):\n",
        "      x = self.ups[idx](x)\n",
        "      skip_connection = skip_connections[idx//2]\n",
        "\n",
        "      if x.shape != skip_connection.shape:\n",
        "        x = TF.resize(x, size=skip_connection.shape[2:])\n",
        "\n",
        "      concat_skip = torch.cat((skip_connection, x), dim=1)\n",
        "      x = self.ups[idx+1](concat_skip)\n",
        "\n",
        "    return self.final_conv(x)"
      ]
    },
    {
      "cell_type": "markdown",
      "metadata": {
        "id": "gji728PB--CC"
      },
      "source": [
        "seed"
      ]
    },
    {
      "cell_type": "code",
      "execution_count": 9,
      "metadata": {
        "id": "Wo-1KszI--CC"
      },
      "outputs": [],
      "source": [
        "def set_seed(seed):\n",
        "  random.seed(seed)\n",
        "  np.random.seed(seed)\n",
        "  torch.manual_seed(seed)\n",
        "  torch.cuda.manual_seed_all(seed)\n",
        "  \n",
        "set_seed(42)"
      ]
    },
    {
      "cell_type": "markdown",
      "metadata": {
        "id": "5bVa-AX4--CD"
      },
      "source": [
        "Train and Evaluation Function"
      ]
    },
    {
      "cell_type": "code",
      "execution_count": 10,
      "metadata": {
        "id": "wUf_Fabn--CD"
      },
      "outputs": [],
      "source": [
        "def training_nn(loader, model, optimizer, loss_nn, scaler, file_txt):\n",
        "    progress_bar = tqdm(loader)\n",
        "    cumulative_loss = 0.0\n",
        "\n",
        "    for idx, (inputs, labels) in enumerate(progress_bar):\n",
        "        inputs = inputs.float().to(device=device)      \n",
        "        labels = labels.float().to(device=device)\n",
        "\n",
        "        with torch.cuda.amp.autocast():\n",
        "            outputs = model(inputs).squeeze(1) \n",
        "            loss_value = loss_nn(outputs, labels)  \n",
        "\n",
        "        optimizer.zero_grad()       \n",
        "        scaler.scale(loss_value).backward()   \n",
        "        scaler.step(optimizer)    \n",
        "        scaler.update() \n",
        "        cumulative_loss += loss_value.item()\n",
        "        progress_bar.set_postfix(loss=loss_value.item())    \n",
        "\n",
        "    average_loss = cumulative_loss / len(loader)\n",
        "    with open(file_txt, \"a\") as file:\n",
        "        file.write(f\"Train Loss: {average_loss:.4f}\\n\")\n",
        "\n",
        "#   prec = TP(TP+FP), recall = TP(TP+FN), f1 = 2*(prec*recall)/(prec+recall)\n",
        "\n",
        "def evaluation_nn(data_loader, model, type_loss, log_file, device=\"cuda\", is_testing=False):\n",
        "    model.eval()       \n",
        "    correct_predictions = 0\n",
        "    total_pixels = 0\n",
        "    cumulative_precision = 0\n",
        "    cumulative_recall = 0\n",
        "    cumulative_f1 = 0\n",
        "    cumulative_loss = 0\n",
        "\n",
        "    all_predictions = []\n",
        "    all_ground_truths = []\n",
        "\n",
        "    with torch.no_grad():\n",
        "        for iteration, (inputs, targets) in enumerate(data_loader, start=1):\n",
        "            inputs = inputs.float().to(device)\n",
        "            targets = targets.float().to(device)\n",
        "            outputs = model(inputs).squeeze(1)\n",
        "            loss_value = type_loss(outputs, targets)\n",
        "            cumulative_loss += loss_value.item()\n",
        "            predictions = torch.sigmoid(outputs)   \n",
        "            predictions = (predictions > 0.5).float()\n",
        "\n",
        "            if is_testing:\n",
        "                all_predictions.append(predictions.cpu().numpy().flatten())\n",
        "                all_ground_truths.append(targets.cpu().numpy().flatten())\n",
        "            else:\n",
        "                print(iteration)\n",
        "\n",
        "            correct_predictions += (predictions == targets).sum().item()\n",
        "            total_pixels += torch.numel(predictions)  \n",
        "\n",
        "            targets_np = targets.cpu().numpy().flatten()\n",
        "            predictions_np = predictions.cpu().numpy().flatten()\n",
        "            cumulative_precision += precision_score(targets_np, predictions_np, zero_division=1)\n",
        "            cumulative_recall += recall_score(targets_np, predictions_np, zero_division=1)\n",
        "            cumulative_f1 += f1_score(targets_np, predictions_np, zero_division=1)\n",
        "\n",
        "    avg_loss = cumulative_loss / len(data_loader)\n",
        "    avg_precision = cumulative_precision / len(data_loader)\n",
        "    avg_recall = cumulative_recall / len(data_loader)\n",
        "    avg_f1 = cumulative_f1 / len(data_loader)\n",
        "    accuracy = correct_predictions / total_pixels * 100    \n",
        "\n",
        "    print(f\"Validation Loss: {avg_loss:.4f}\")\n",
        "    print(f\"Accuracy: {accuracy:.2f}\")\n",
        "    print(f\"Precision: {avg_precision:.4f}\")\n",
        "    print(f\"Recall: {avg_recall:.4f}\")\n",
        "    print(f\"F1 Score: {avg_f1:.4f}\")\n",
        "\n",
        "    with open(log_file, \"a\") as file:\n",
        "        file.write(f\"Validation Loss: {avg_loss:.4f}\\n\")\n",
        "        file.write(f\"Accuracy: {accuracy:.2f}\\n\")\n",
        "        file.write(f\"Precision: {avg_precision:.4f}\\n\")\n",
        "        file.write(f\"Recall: {avg_recall:.4f}\\n\")\n",
        "        file.write(f\"F1 Score: {avg_f1:.4f}\\n\")\n",
        "        file.write(\"\\n\")\n",
        "\n",
        "    if is_testing:\n",
        "        all_predictions = np.concatenate(all_predictions)\n",
        "        all_ground_truths = np.concatenate(all_ground_truths)\n",
        "        confusion_mat = confusion_matrix(all_ground_truths, all_predictions)\n",
        "\n",
        "        plt.figure(figsize=(10, 7))\n",
        "        sns.heatmap(confusion_mat, annot=True, fmt=\"d\")\n",
        "        plt.title(\"Confusion Matrix\")\n",
        "        plt.xlabel(\"Predicted\")\n",
        "        plt.ylabel(\"True\")\n",
        "        plt.savefig(log_file.replace(\".txt\", \"_confusion_matrix.png\"))\n",
        "\n",
        "    model.train()\n",
        "    return avg_loss, accuracy, avg_precision, avg_recall, avg_f1"
      ]
    },
    {
      "cell_type": "code",
      "execution_count": 11,
      "metadata": {
        "id": "C2FZ4aCn--CD"
      },
      "outputs": [],
      "source": [
        "def save_predictions_as_images(data_loader, model, output_folder, device=\"cuda\"):\n",
        "    os.makedirs(output_folder, exist_ok=True)\n",
        "    model.eval()\n",
        "    iteration = 1\n",
        "    for batch_index, (inputs, targets) in enumerate(tqdm(data_loader, desc=\"Saving predictions\")):\n",
        "        print(iteration)\n",
        "        iteration += 1\n",
        "        inputs = inputs.float().to(device=device)\n",
        "        targets = targets.float().to(device=device).unsqueeze(1)  \n",
        "\n",
        "        with torch.no_grad():\n",
        "            predictions = torch.sigmoid(model(inputs))\n",
        "            predictions = (predictions > 0.5).float()\n",
        "\n",
        "        combined_images = torch.cat((targets, predictions), dim=2)\n",
        "        torchvision.utils.save_image(combined_images, f\"{output_folder}/comparison_{batch_index}.tif\")\n",
        "\n",
        "    model.train()\n",
        "\n",
        "def save_model_checkpoint(state, file_path=\"/NN_register/checkpoint.pth.tar\"):\n",
        "    print(\"=> Saving checkpoint\")\n",
        "    torch.save(state, file_path)\n",
        "\n",
        "def load_model_checkpoint(checkpoint, model):\n",
        "    print(\"=> Loading checkpoint\")\n",
        "    model.load_state_dict(checkpoint[\"state_dict\"])"
      ]
    },
    {
      "cell_type": "markdown",
      "metadata": {
        "id": "NjXhOZG---CD"
      },
      "source": [
        "Pos-weight implementation, \"I set it up because there was an imbalance in favor of negative weights.\""
      ]
    },
    {
      "cell_type": "code",
      "execution_count": 12,
      "metadata": {
        "id": "PZolWkTw--CD"
      },
      "outputs": [],
      "source": [
        "def calculate_pos_weight(dataset):  #input (imm, mask)\n",
        "    pos_pixels = 0\n",
        "    neg_pixels = 0\n",
        "\n",
        "    for _, mask in dataset:\n",
        "        pos_pixels += mask.sum().item()\n",
        "        neg_pixels += (mask.numel() - mask.sum().item())\n",
        "\n",
        "    pos_weight = neg_pixels / pos_pixels\n",
        "    return torch.tensor([pos_weight], dtype=torch.float)   "
      ]
    },
    {
      "cell_type": "markdown",
      "metadata": {},
      "source": [
        "Setting directory"
      ]
    },
    {
      "cell_type": "code",
      "execution_count": 13,
      "metadata": {
        "id": "9LUusDo1--CE"
      },
      "outputs": [],
      "source": [
        "base_dir = os.getcwd()\n",
        "model_dir = os.path.join(base_dir, \"NN_register\")\n",
        "output_dir = os.path.join(model_dir, \"output\")\n",
        "image_output_dir = os.path.join(model_dir, \"images\")\n",
        "\n",
        "os.makedirs(output_dir, exist_ok=True)\n",
        "os.makedirs(image_output_dir, exist_ok=True)\n",
        "\n",
        "image_dir_train = os.path.join(base_dir, 'training/images_masked')\n",
        "mask_dir_train = os.path.join(base_dir, 'training/mask_from_label')\n",
        "\n",
        "image_dir_valid = os.path.join(base_dir, 'validation/images_masked')\n",
        "mask_dir_valid = os.path.join(base_dir, 'validation/mask_from_label')\n",
        "\n",
        "image_dir_test = os.path.join(base_dir, 'test/images_masked')\n",
        "mask_dir_test = os.path.join(base_dir, 'test/mask_from_label')"
      ]
    },
    {
      "cell_type": "markdown",
      "metadata": {},
      "source": [
        "Hyperparameter tuning with Optuna"
      ]
    },
    {
      "cell_type": "code",
      "execution_count": 19,
      "metadata": {
        "id": "GdQ2wFD---CE",
        "outputId": "83c92ac4-8a86-471a-821e-39906c499856"
      },
      "outputs": [
        {
          "name": "stderr",
          "output_type": "stream",
          "text": [
            "/home/federico/.local/lib/python3.10/site-packages/tqdm/auto.py:21: TqdmWarning: IProgress not found. Please update jupyter and ipywidgets. See https://ipywidgets.readthedocs.io/en/stable/user_install.html\n",
            "  from .autonotebook import tqdm as notebook_tqdm\n",
            "[I 2024-06-23 09:21:58,597] A new study created in memory with name: no-name-bafb57f9-f189-42ae-95d9-d9912e8dc84d\n"
          ]
        },
        {
          "name": "stdout",
          "output_type": "stream",
          "text": [
            "Starting trial 1\n"
          ]
        },
        {
          "name": "stderr",
          "output_type": "stream",
          "text": [
            "                                                           \r"
          ]
        },
        {
          "name": "stdout",
          "output_type": "stream",
          "text": [
            "Epoch 1/14, Validation F1 Score: 0.3296683371078058\n"
          ]
        },
        {
          "name": "stderr",
          "output_type": "stream",
          "text": [
            "                                                           \r"
          ]
        },
        {
          "name": "stdout",
          "output_type": "stream",
          "text": [
            "Epoch 2/14, Validation F1 Score: 0.333522692152894\n"
          ]
        },
        {
          "name": "stderr",
          "output_type": "stream",
          "text": [
            "                                                           \r"
          ]
        },
        {
          "name": "stdout",
          "output_type": "stream",
          "text": [
            "Epoch 3/14, Validation F1 Score: 0.35132120450750626\n"
          ]
        },
        {
          "name": "stderr",
          "output_type": "stream",
          "text": [
            "                                                           \r"
          ]
        },
        {
          "name": "stdout",
          "output_type": "stream",
          "text": [
            "Epoch 4/14, Validation F1 Score: 0.37718611187658585\n"
          ]
        },
        {
          "name": "stderr",
          "output_type": "stream",
          "text": [
            "                                                           \r"
          ]
        },
        {
          "name": "stdout",
          "output_type": "stream",
          "text": [
            "Epoch 5/14, Validation F1 Score: 0.32931339934824677\n"
          ]
        },
        {
          "name": "stderr",
          "output_type": "stream",
          "text": [
            "                                                           \r"
          ]
        },
        {
          "name": "stdout",
          "output_type": "stream",
          "text": [
            "Epoch 6/14, Validation F1 Score: 0.3655146821497586\n"
          ]
        },
        {
          "name": "stderr",
          "output_type": "stream",
          "text": [
            "                                                           \r"
          ]
        },
        {
          "name": "stdout",
          "output_type": "stream",
          "text": [
            "Epoch 7/14, Validation F1 Score: 0.3505771071132865\n"
          ]
        },
        {
          "name": "stderr",
          "output_type": "stream",
          "text": [
            "                                                           \r"
          ]
        },
        {
          "name": "stdout",
          "output_type": "stream",
          "text": [
            "Epoch 8/14, Validation F1 Score: 0.3908562917118906\n"
          ]
        },
        {
          "name": "stderr",
          "output_type": "stream",
          "text": [
            "                                                           \r"
          ]
        },
        {
          "name": "stdout",
          "output_type": "stream",
          "text": [
            "Epoch 9/14, Validation F1 Score: 0.35589556621036755\n"
          ]
        },
        {
          "name": "stderr",
          "output_type": "stream",
          "text": [
            "                                                           \r"
          ]
        },
        {
          "name": "stdout",
          "output_type": "stream",
          "text": [
            "Epoch 10/14, Validation F1 Score: 0.37129733441306084\n"
          ]
        },
        {
          "name": "stderr",
          "output_type": "stream",
          "text": [
            "                                                           \r"
          ]
        },
        {
          "name": "stdout",
          "output_type": "stream",
          "text": [
            "Epoch 11/14, Validation F1 Score: 0.2947627821137534\n"
          ]
        },
        {
          "name": "stderr",
          "output_type": "stream",
          "text": [
            "                                                           \r"
          ]
        },
        {
          "name": "stdout",
          "output_type": "stream",
          "text": [
            "Epoch 12/14, Validation F1 Score: 0.3697540638221772\n"
          ]
        },
        {
          "name": "stderr",
          "output_type": "stream",
          "text": [
            "                                                           \r"
          ]
        },
        {
          "name": "stdout",
          "output_type": "stream",
          "text": [
            "Epoch 13/14, Validation F1 Score: 0.39213837090488624\n"
          ]
        },
        {
          "name": "stderr",
          "output_type": "stream",
          "text": [
            "[I 2024-06-23 09:40:19,581] Trial 0 finished with value: 0.3642481051022015 and parameters: {'lr': 0.002694073975223751, 'weight_decay': 9.540556072440176e-05}. Best is trial 0 with value: 0.3642481051022015.\n"
          ]
        },
        {
          "name": "stdout",
          "output_type": "stream",
          "text": [
            "Epoch 14/14, Validation F1 Score: 0.3642481051022015\n",
            "Starting trial 2\n"
          ]
        },
        {
          "name": "stderr",
          "output_type": "stream",
          "text": [
            "                                                           \r"
          ]
        },
        {
          "name": "stdout",
          "output_type": "stream",
          "text": [
            "Epoch 1/14, Validation F1 Score: 0.3250740663459219\n"
          ]
        },
        {
          "name": "stderr",
          "output_type": "stream",
          "text": [
            "                                                           \r"
          ]
        },
        {
          "name": "stdout",
          "output_type": "stream",
          "text": [
            "Epoch 2/14, Validation F1 Score: 0.31043251533048916\n"
          ]
        },
        {
          "name": "stderr",
          "output_type": "stream",
          "text": [
            "                                                           \r"
          ]
        },
        {
          "name": "stdout",
          "output_type": "stream",
          "text": [
            "Epoch 3/14, Validation F1 Score: 0.3620657794751919\n"
          ]
        },
        {
          "name": "stderr",
          "output_type": "stream",
          "text": [
            "                                                           \r"
          ]
        },
        {
          "name": "stdout",
          "output_type": "stream",
          "text": [
            "Epoch 4/14, Validation F1 Score: 0.37763416738154393\n"
          ]
        },
        {
          "name": "stderr",
          "output_type": "stream",
          "text": [
            "                                                           \r"
          ]
        },
        {
          "name": "stdout",
          "output_type": "stream",
          "text": [
            "Epoch 5/14, Validation F1 Score: 0.40917674125537096\n"
          ]
        },
        {
          "name": "stderr",
          "output_type": "stream",
          "text": [
            "                                                           \r"
          ]
        },
        {
          "name": "stdout",
          "output_type": "stream",
          "text": [
            "Epoch 6/14, Validation F1 Score: 0.4305943856665986\n"
          ]
        },
        {
          "name": "stderr",
          "output_type": "stream",
          "text": [
            "                                                           \r"
          ]
        },
        {
          "name": "stdout",
          "output_type": "stream",
          "text": [
            "Epoch 7/14, Validation F1 Score: 0.39717434611219504\n"
          ]
        },
        {
          "name": "stderr",
          "output_type": "stream",
          "text": [
            "                                                           \r"
          ]
        },
        {
          "name": "stdout",
          "output_type": "stream",
          "text": [
            "Epoch 8/14, Validation F1 Score: 0.3612476203471603\n"
          ]
        },
        {
          "name": "stderr",
          "output_type": "stream",
          "text": [
            "                                                           \r"
          ]
        },
        {
          "name": "stdout",
          "output_type": "stream",
          "text": [
            "Epoch 9/14, Validation F1 Score: 0.4165193601854712\n"
          ]
        },
        {
          "name": "stderr",
          "output_type": "stream",
          "text": [
            "                                                           \r"
          ]
        },
        {
          "name": "stdout",
          "output_type": "stream",
          "text": [
            "Epoch 10/14, Validation F1 Score: 0.41944378169124585\n"
          ]
        },
        {
          "name": "stderr",
          "output_type": "stream",
          "text": [
            "                                                           \r"
          ]
        },
        {
          "name": "stdout",
          "output_type": "stream",
          "text": [
            "Epoch 11/14, Validation F1 Score: 0.42315788087304373\n"
          ]
        },
        {
          "name": "stderr",
          "output_type": "stream",
          "text": [
            "                                                           \r"
          ]
        },
        {
          "name": "stdout",
          "output_type": "stream",
          "text": [
            "Epoch 12/14, Validation F1 Score: 0.4314430374932479\n"
          ]
        },
        {
          "name": "stderr",
          "output_type": "stream",
          "text": [
            "                                                           \r"
          ]
        },
        {
          "name": "stdout",
          "output_type": "stream",
          "text": [
            "Epoch 13/14, Validation F1 Score: 0.41895207469861945\n"
          ]
        },
        {
          "name": "stderr",
          "output_type": "stream",
          "text": [
            "[I 2024-06-23 09:57:28,876] Trial 1 finished with value: 0.4044826628508637 and parameters: {'lr': 0.0002608799103604124, 'weight_decay': 0.0008404270049291294}. Best is trial 1 with value: 0.4044826628508637.\n"
          ]
        },
        {
          "name": "stdout",
          "output_type": "stream",
          "text": [
            "Epoch 14/14, Validation F1 Score: 0.4044826628508637\n",
            "Starting trial 3\n"
          ]
        },
        {
          "name": "stderr",
          "output_type": "stream",
          "text": [
            "                                                           \r"
          ]
        },
        {
          "name": "stdout",
          "output_type": "stream",
          "text": [
            "Epoch 1/14, Validation F1 Score: 0.31598410929900944\n"
          ]
        },
        {
          "name": "stderr",
          "output_type": "stream",
          "text": [
            "                                                           \r"
          ]
        },
        {
          "name": "stdout",
          "output_type": "stream",
          "text": [
            "Epoch 2/14, Validation F1 Score: 0.3551051639733175\n"
          ]
        },
        {
          "name": "stderr",
          "output_type": "stream",
          "text": [
            "                                                           \r"
          ]
        },
        {
          "name": "stdout",
          "output_type": "stream",
          "text": [
            "Epoch 3/14, Validation F1 Score: 0.30590208840212574\n"
          ]
        },
        {
          "name": "stderr",
          "output_type": "stream",
          "text": [
            "                                                           \r"
          ]
        },
        {
          "name": "stdout",
          "output_type": "stream",
          "text": [
            "Epoch 4/14, Validation F1 Score: 0.35705448512311194\n"
          ]
        },
        {
          "name": "stderr",
          "output_type": "stream",
          "text": [
            "                                                           \r"
          ]
        },
        {
          "name": "stdout",
          "output_type": "stream",
          "text": [
            "Epoch 5/14, Validation F1 Score: 0.34420748474595825\n"
          ]
        },
        {
          "name": "stderr",
          "output_type": "stream",
          "text": [
            "                                                           \r"
          ]
        },
        {
          "name": "stdout",
          "output_type": "stream",
          "text": [
            "Epoch 6/14, Validation F1 Score: 0.4090982318267749\n"
          ]
        },
        {
          "name": "stderr",
          "output_type": "stream",
          "text": [
            "                                                           \r"
          ]
        },
        {
          "name": "stdout",
          "output_type": "stream",
          "text": [
            "Epoch 7/14, Validation F1 Score: 0.3678621528323639\n"
          ]
        },
        {
          "name": "stderr",
          "output_type": "stream",
          "text": [
            "                                                           \r"
          ]
        },
        {
          "name": "stdout",
          "output_type": "stream",
          "text": [
            "Epoch 8/14, Validation F1 Score: 0.3260231700974088\n"
          ]
        },
        {
          "name": "stderr",
          "output_type": "stream",
          "text": [
            "                                                           \r"
          ]
        },
        {
          "name": "stdout",
          "output_type": "stream",
          "text": [
            "Epoch 9/14, Validation F1 Score: 0.34093259112157087\n"
          ]
        },
        {
          "name": "stderr",
          "output_type": "stream",
          "text": [
            "                                                           \r"
          ]
        },
        {
          "name": "stdout",
          "output_type": "stream",
          "text": [
            "Epoch 10/14, Validation F1 Score: 0.4005029890109983\n"
          ]
        },
        {
          "name": "stderr",
          "output_type": "stream",
          "text": [
            "                                                           \r"
          ]
        },
        {
          "name": "stdout",
          "output_type": "stream",
          "text": [
            "Epoch 11/14, Validation F1 Score: 0.39451362472931484\n"
          ]
        },
        {
          "name": "stderr",
          "output_type": "stream",
          "text": [
            "                                                           \r"
          ]
        },
        {
          "name": "stdout",
          "output_type": "stream",
          "text": [
            "Epoch 12/14, Validation F1 Score: 0.37026699934051394\n"
          ]
        },
        {
          "name": "stderr",
          "output_type": "stream",
          "text": [
            "                                                           \r"
          ]
        },
        {
          "name": "stdout",
          "output_type": "stream",
          "text": [
            "Epoch 13/14, Validation F1 Score: 0.38128049385400836\n"
          ]
        },
        {
          "name": "stderr",
          "output_type": "stream",
          "text": [
            "[I 2024-06-23 10:14:43,100] Trial 2 finished with value: 0.40496460480530816 and parameters: {'lr': 0.0024337926923895807, 'weight_decay': 0.0008850292947441551}. Best is trial 2 with value: 0.40496460480530816.\n"
          ]
        },
        {
          "name": "stdout",
          "output_type": "stream",
          "text": [
            "Epoch 14/14, Validation F1 Score: 0.40496460480530816\n",
            "Starting trial 4\n"
          ]
        },
        {
          "name": "stderr",
          "output_type": "stream",
          "text": [
            "                                                           \r"
          ]
        },
        {
          "name": "stdout",
          "output_type": "stream",
          "text": [
            "Epoch 1/14, Validation F1 Score: 0.3207592472254188\n"
          ]
        },
        {
          "name": "stderr",
          "output_type": "stream",
          "text": [
            "                                                           \r"
          ]
        },
        {
          "name": "stdout",
          "output_type": "stream",
          "text": [
            "Epoch 2/14, Validation F1 Score: 0.33846703027364844\n"
          ]
        },
        {
          "name": "stderr",
          "output_type": "stream",
          "text": [
            "                                                           \r"
          ]
        },
        {
          "name": "stdout",
          "output_type": "stream",
          "text": [
            "Epoch 3/14, Validation F1 Score: 0.29550985049904666\n"
          ]
        },
        {
          "name": "stderr",
          "output_type": "stream",
          "text": [
            "                                                           \r"
          ]
        },
        {
          "name": "stdout",
          "output_type": "stream",
          "text": [
            "Epoch 4/14, Validation F1 Score: 0.3540189367470543\n"
          ]
        },
        {
          "name": "stderr",
          "output_type": "stream",
          "text": [
            "                                                           \r"
          ]
        },
        {
          "name": "stdout",
          "output_type": "stream",
          "text": [
            "Epoch 5/14, Validation F1 Score: 0.35948445937053486\n"
          ]
        },
        {
          "name": "stderr",
          "output_type": "stream",
          "text": [
            "                                                           \r"
          ]
        },
        {
          "name": "stdout",
          "output_type": "stream",
          "text": [
            "Epoch 6/14, Validation F1 Score: 0.38972865526944056\n"
          ]
        },
        {
          "name": "stderr",
          "output_type": "stream",
          "text": [
            "                                                           \r"
          ]
        },
        {
          "name": "stdout",
          "output_type": "stream",
          "text": [
            "Epoch 7/14, Validation F1 Score: 0.38028432472876916\n"
          ]
        },
        {
          "name": "stderr",
          "output_type": "stream",
          "text": [
            "                                                           \r"
          ]
        },
        {
          "name": "stdout",
          "output_type": "stream",
          "text": [
            "Epoch 8/14, Validation F1 Score: 0.3913477740642044\n"
          ]
        },
        {
          "name": "stderr",
          "output_type": "stream",
          "text": [
            "                                                           \r"
          ]
        },
        {
          "name": "stdout",
          "output_type": "stream",
          "text": [
            "Epoch 9/14, Validation F1 Score: 0.40942983143965556\n"
          ]
        },
        {
          "name": "stderr",
          "output_type": "stream",
          "text": [
            "                                                           \r"
          ]
        },
        {
          "name": "stdout",
          "output_type": "stream",
          "text": [
            "Epoch 10/14, Validation F1 Score: 0.3427563231007688\n"
          ]
        },
        {
          "name": "stderr",
          "output_type": "stream",
          "text": [
            "                                                           \r"
          ]
        },
        {
          "name": "stdout",
          "output_type": "stream",
          "text": [
            "Epoch 11/14, Validation F1 Score: 0.3710808030935549\n"
          ]
        },
        {
          "name": "stderr",
          "output_type": "stream",
          "text": [
            "                                                           \r"
          ]
        },
        {
          "name": "stdout",
          "output_type": "stream",
          "text": [
            "Epoch 12/14, Validation F1 Score: 0.38615835016815514\n"
          ]
        },
        {
          "name": "stderr",
          "output_type": "stream",
          "text": [
            "                                                           \r"
          ]
        },
        {
          "name": "stdout",
          "output_type": "stream",
          "text": [
            "Epoch 13/14, Validation F1 Score: 0.357855962014126\n"
          ]
        },
        {
          "name": "stderr",
          "output_type": "stream",
          "text": [
            "[I 2024-06-23 10:32:31,976] Trial 3 finished with value: 0.3784097751304895 and parameters: {'lr': 0.004647090661186402, 'weight_decay': 0.0008977324079656239}. Best is trial 2 with value: 0.40496460480530816.\n"
          ]
        },
        {
          "name": "stdout",
          "output_type": "stream",
          "text": [
            "Epoch 14/14, Validation F1 Score: 0.3784097751304895\n",
            "Starting trial 5\n"
          ]
        },
        {
          "name": "stderr",
          "output_type": "stream",
          "text": [
            "                                                           \r"
          ]
        },
        {
          "name": "stdout",
          "output_type": "stream",
          "text": [
            "Epoch 1/14, Validation F1 Score: 0.3494091740608217\n"
          ]
        },
        {
          "name": "stderr",
          "output_type": "stream",
          "text": [
            "                                                           \r"
          ]
        },
        {
          "name": "stdout",
          "output_type": "stream",
          "text": [
            "Epoch 2/14, Validation F1 Score: 0.35385208596626644\n"
          ]
        },
        {
          "name": "stderr",
          "output_type": "stream",
          "text": [
            "                                                           \r"
          ]
        },
        {
          "name": "stdout",
          "output_type": "stream",
          "text": [
            "Epoch 3/14, Validation F1 Score: 0.3382767717621366\n"
          ]
        },
        {
          "name": "stderr",
          "output_type": "stream",
          "text": [
            "                                                           \r"
          ]
        },
        {
          "name": "stdout",
          "output_type": "stream",
          "text": [
            "Epoch 4/14, Validation F1 Score: 0.36779073660976036\n"
          ]
        },
        {
          "name": "stderr",
          "output_type": "stream",
          "text": [
            "                                                           \r"
          ]
        },
        {
          "name": "stdout",
          "output_type": "stream",
          "text": [
            "Epoch 5/14, Validation F1 Score: 0.3544185894397557\n"
          ]
        },
        {
          "name": "stderr",
          "output_type": "stream",
          "text": [
            "                                                           \r"
          ]
        },
        {
          "name": "stdout",
          "output_type": "stream",
          "text": [
            "Epoch 6/14, Validation F1 Score: 0.3039375674744635\n"
          ]
        },
        {
          "name": "stderr",
          "output_type": "stream",
          "text": [
            "                                                           \r"
          ]
        },
        {
          "name": "stdout",
          "output_type": "stream",
          "text": [
            "Epoch 7/14, Validation F1 Score: 0.14958549037157293\n"
          ]
        },
        {
          "name": "stderr",
          "output_type": "stream",
          "text": [
            "                                                           \r"
          ]
        },
        {
          "name": "stdout",
          "output_type": "stream",
          "text": [
            "Epoch 8/14, Validation F1 Score: 0.38820269525295675\n"
          ]
        },
        {
          "name": "stderr",
          "output_type": "stream",
          "text": [
            "                                                           \r"
          ]
        },
        {
          "name": "stdout",
          "output_type": "stream",
          "text": [
            "Epoch 9/14, Validation F1 Score: 0.3941127816590822\n"
          ]
        },
        {
          "name": "stderr",
          "output_type": "stream",
          "text": [
            "                                                           \r"
          ]
        },
        {
          "name": "stdout",
          "output_type": "stream",
          "text": [
            "Epoch 10/14, Validation F1 Score: 0.39395649253394127\n"
          ]
        },
        {
          "name": "stderr",
          "output_type": "stream",
          "text": [
            "                                                           \r"
          ]
        },
        {
          "name": "stdout",
          "output_type": "stream",
          "text": [
            "Epoch 11/14, Validation F1 Score: 0.3969716976776807\n"
          ]
        },
        {
          "name": "stderr",
          "output_type": "stream",
          "text": [
            "                                                           \r"
          ]
        },
        {
          "name": "stdout",
          "output_type": "stream",
          "text": [
            "Epoch 12/14, Validation F1 Score: 0.3360012780589225\n"
          ]
        },
        {
          "name": "stderr",
          "output_type": "stream",
          "text": [
            "                                                           \r"
          ]
        },
        {
          "name": "stdout",
          "output_type": "stream",
          "text": [
            "Epoch 13/14, Validation F1 Score: 0.3675696409758633\n"
          ]
        },
        {
          "name": "stderr",
          "output_type": "stream",
          "text": [
            "[I 2024-06-23 10:49:34,783] Trial 4 finished with value: 0.3910030469566556 and parameters: {'lr': 0.003442641373117449, 'weight_decay': 0.007764490164280695}. Best is trial 2 with value: 0.40496460480530816.\n"
          ]
        },
        {
          "name": "stdout",
          "output_type": "stream",
          "text": [
            "Epoch 14/14, Validation F1 Score: 0.3910030469566556\n",
            "Starting trial 6\n"
          ]
        },
        {
          "name": "stderr",
          "output_type": "stream",
          "text": [
            "                                                           \r"
          ]
        },
        {
          "name": "stdout",
          "output_type": "stream",
          "text": [
            "Epoch 1/14, Validation F1 Score: 0.3495445019878253\n"
          ]
        },
        {
          "name": "stderr",
          "output_type": "stream",
          "text": [
            "                                                           \r"
          ]
        },
        {
          "name": "stdout",
          "output_type": "stream",
          "text": [
            "Epoch 2/14, Validation F1 Score: 0.39911294266043573\n"
          ]
        },
        {
          "name": "stderr",
          "output_type": "stream",
          "text": [
            "                                                           \r"
          ]
        },
        {
          "name": "stdout",
          "output_type": "stream",
          "text": [
            "Epoch 3/14, Validation F1 Score: 0.36765961951257653\n"
          ]
        },
        {
          "name": "stderr",
          "output_type": "stream",
          "text": [
            "                                                           \r"
          ]
        },
        {
          "name": "stdout",
          "output_type": "stream",
          "text": [
            "Epoch 4/14, Validation F1 Score: 0.3927765629590258\n"
          ]
        },
        {
          "name": "stderr",
          "output_type": "stream",
          "text": [
            "                                                           \r"
          ]
        },
        {
          "name": "stdout",
          "output_type": "stream",
          "text": [
            "Epoch 5/14, Validation F1 Score: 0.3604207303838015\n"
          ]
        },
        {
          "name": "stderr",
          "output_type": "stream",
          "text": [
            "                                                           \r"
          ]
        },
        {
          "name": "stdout",
          "output_type": "stream",
          "text": [
            "Epoch 6/14, Validation F1 Score: 0.3685418885544389\n"
          ]
        },
        {
          "name": "stderr",
          "output_type": "stream",
          "text": [
            "                                                           \r"
          ]
        },
        {
          "name": "stdout",
          "output_type": "stream",
          "text": [
            "Epoch 7/14, Validation F1 Score: 0.40117894355516165\n"
          ]
        },
        {
          "name": "stderr",
          "output_type": "stream",
          "text": [
            "                                                           \r"
          ]
        },
        {
          "name": "stdout",
          "output_type": "stream",
          "text": [
            "Epoch 8/14, Validation F1 Score: 0.3954572708872667\n"
          ]
        },
        {
          "name": "stderr",
          "output_type": "stream",
          "text": [
            "                                                           \r"
          ]
        },
        {
          "name": "stdout",
          "output_type": "stream",
          "text": [
            "Epoch 9/14, Validation F1 Score: 0.37053349009623776\n"
          ]
        },
        {
          "name": "stderr",
          "output_type": "stream",
          "text": [
            "                                                           \r"
          ]
        },
        {
          "name": "stdout",
          "output_type": "stream",
          "text": [
            "Epoch 10/14, Validation F1 Score: 0.3762015243050685\n"
          ]
        },
        {
          "name": "stderr",
          "output_type": "stream",
          "text": [
            "                                                           \r"
          ]
        },
        {
          "name": "stdout",
          "output_type": "stream",
          "text": [
            "Epoch 11/14, Validation F1 Score: 0.39588516714580024\n"
          ]
        },
        {
          "name": "stderr",
          "output_type": "stream",
          "text": [
            "                                                           \r"
          ]
        },
        {
          "name": "stdout",
          "output_type": "stream",
          "text": [
            "Epoch 12/14, Validation F1 Score: 0.40467685542330833\n"
          ]
        },
        {
          "name": "stderr",
          "output_type": "stream",
          "text": [
            "                                                           \r"
          ]
        },
        {
          "name": "stdout",
          "output_type": "stream",
          "text": [
            "Epoch 13/14, Validation F1 Score: 0.38744749599412\n"
          ]
        },
        {
          "name": "stderr",
          "output_type": "stream",
          "text": [
            "[I 2024-06-23 11:08:13,524] Trial 5 finished with value: 0.39131390362859586 and parameters: {'lr': 0.00011781518313794804, 'weight_decay': 0.0012973085296869315}. Best is trial 2 with value: 0.40496460480530816.\n"
          ]
        },
        {
          "name": "stdout",
          "output_type": "stream",
          "text": [
            "Epoch 14/14, Validation F1 Score: 0.39131390362859586\n",
            "Starting trial 7\n"
          ]
        },
        {
          "name": "stderr",
          "output_type": "stream",
          "text": [
            "[I 2024-06-23 11:09:43,792] Trial 6 pruned.                \n"
          ]
        },
        {
          "name": "stdout",
          "output_type": "stream",
          "text": [
            "Epoch 1/14, Validation F1 Score: 0.30441490089936146\n",
            "Starting trial 8\n"
          ]
        },
        {
          "name": "stderr",
          "output_type": "stream",
          "text": [
            "[I 2024-06-23 11:11:13,772] Trial 7 pruned.                \n"
          ]
        },
        {
          "name": "stdout",
          "output_type": "stream",
          "text": [
            "Epoch 1/14, Validation F1 Score: 0.3079722809178567\n",
            "Starting trial 9\n"
          ]
        },
        {
          "name": "stderr",
          "output_type": "stream",
          "text": [
            "                                                           \r"
          ]
        },
        {
          "name": "stdout",
          "output_type": "stream",
          "text": [
            "Epoch 1/14, Validation F1 Score: 0.34337487610528594\n"
          ]
        },
        {
          "name": "stderr",
          "output_type": "stream",
          "text": [
            "                                                           \r"
          ]
        },
        {
          "name": "stdout",
          "output_type": "stream",
          "text": [
            "Epoch 2/14, Validation F1 Score: 0.3722814777602257\n"
          ]
        },
        {
          "name": "stderr",
          "output_type": "stream",
          "text": [
            "                                                           \r"
          ]
        },
        {
          "name": "stdout",
          "output_type": "stream",
          "text": [
            "Epoch 3/14, Validation F1 Score: 0.3924117712486994\n"
          ]
        },
        {
          "name": "stderr",
          "output_type": "stream",
          "text": [
            "                                                           \r"
          ]
        },
        {
          "name": "stdout",
          "output_type": "stream",
          "text": [
            "Epoch 4/14, Validation F1 Score: 0.2683333565466246\n"
          ]
        },
        {
          "name": "stderr",
          "output_type": "stream",
          "text": [
            "                                                           \r"
          ]
        },
        {
          "name": "stdout",
          "output_type": "stream",
          "text": [
            "Epoch 5/14, Validation F1 Score: 0.35716463750360156\n"
          ]
        },
        {
          "name": "stderr",
          "output_type": "stream",
          "text": [
            "                                                           \r"
          ]
        },
        {
          "name": "stdout",
          "output_type": "stream",
          "text": [
            "Epoch 6/14, Validation F1 Score: 0.3225811737539474\n"
          ]
        },
        {
          "name": "stderr",
          "output_type": "stream",
          "text": [
            "                                                           \r"
          ]
        },
        {
          "name": "stdout",
          "output_type": "stream",
          "text": [
            "Epoch 7/14, Validation F1 Score: 0.3761273439837083\n"
          ]
        },
        {
          "name": "stderr",
          "output_type": "stream",
          "text": [
            "                                                           \r"
          ]
        },
        {
          "name": "stdout",
          "output_type": "stream",
          "text": [
            "Epoch 8/14, Validation F1 Score: 0.3615576741038252\n"
          ]
        },
        {
          "name": "stderr",
          "output_type": "stream",
          "text": [
            "                                                           \r"
          ]
        },
        {
          "name": "stdout",
          "output_type": "stream",
          "text": [
            "Epoch 9/14, Validation F1 Score: 0.3823686089510922\n"
          ]
        },
        {
          "name": "stderr",
          "output_type": "stream",
          "text": [
            "                                                           \r"
          ]
        },
        {
          "name": "stdout",
          "output_type": "stream",
          "text": [
            "Epoch 10/14, Validation F1 Score: 0.32669913095594844\n"
          ]
        },
        {
          "name": "stderr",
          "output_type": "stream",
          "text": [
            "[I 2024-06-23 11:25:35,536] Trial 8 pruned.                \n"
          ]
        },
        {
          "name": "stdout",
          "output_type": "stream",
          "text": [
            "Epoch 11/14, Validation F1 Score: 0.37013737646059997\n",
            "Starting trial 10\n"
          ]
        },
        {
          "name": "stderr",
          "output_type": "stream",
          "text": [
            "                                                           \r"
          ]
        },
        {
          "name": "stdout",
          "output_type": "stream",
          "text": [
            "Epoch 1/14, Validation F1 Score: 0.34043956200013575\n"
          ]
        },
        {
          "name": "stderr",
          "output_type": "stream",
          "text": [
            "                                                           \r"
          ]
        },
        {
          "name": "stdout",
          "output_type": "stream",
          "text": [
            "Epoch 2/14, Validation F1 Score: 0.36304084916758433\n"
          ]
        },
        {
          "name": "stderr",
          "output_type": "stream",
          "text": [
            "                                                           \r"
          ]
        },
        {
          "name": "stdout",
          "output_type": "stream",
          "text": [
            "Epoch 3/14, Validation F1 Score: 0.3593310253857135\n"
          ]
        },
        {
          "name": "stderr",
          "output_type": "stream",
          "text": [
            "[I 2024-06-23 11:31:04,859] Trial 9 pruned.                \n"
          ]
        },
        {
          "name": "stdout",
          "output_type": "stream",
          "text": [
            "Epoch 4/14, Validation F1 Score: 0.28022664976330125\n",
            "Starting trial 11\n"
          ]
        },
        {
          "name": "stderr",
          "output_type": "stream",
          "text": [
            "                                                           \r"
          ]
        },
        {
          "name": "stdout",
          "output_type": "stream",
          "text": [
            "Epoch 1/14, Validation F1 Score: 0.3400886196033288\n"
          ]
        },
        {
          "name": "stderr",
          "output_type": "stream",
          "text": [
            "                                                           \r"
          ]
        },
        {
          "name": "stdout",
          "output_type": "stream",
          "text": [
            "Epoch 2/14, Validation F1 Score: 0.3524582781554483\n"
          ]
        },
        {
          "name": "stderr",
          "output_type": "stream",
          "text": [
            "                                                           \r"
          ]
        },
        {
          "name": "stdout",
          "output_type": "stream",
          "text": [
            "Epoch 3/14, Validation F1 Score: 0.4159432131102176\n"
          ]
        },
        {
          "name": "stderr",
          "output_type": "stream",
          "text": [
            "                                                           \r"
          ]
        },
        {
          "name": "stdout",
          "output_type": "stream",
          "text": [
            "Epoch 4/14, Validation F1 Score: 0.3727457057664382\n"
          ]
        },
        {
          "name": "stderr",
          "output_type": "stream",
          "text": [
            "                                                           \r"
          ]
        },
        {
          "name": "stdout",
          "output_type": "stream",
          "text": [
            "Epoch 5/14, Validation F1 Score: 0.4151118472790003\n"
          ]
        },
        {
          "name": "stderr",
          "output_type": "stream",
          "text": [
            "                                                           \r"
          ]
        },
        {
          "name": "stdout",
          "output_type": "stream",
          "text": [
            "Epoch 6/14, Validation F1 Score: 0.3658745683198166\n"
          ]
        },
        {
          "name": "stderr",
          "output_type": "stream",
          "text": [
            "                                                           \r"
          ]
        },
        {
          "name": "stdout",
          "output_type": "stream",
          "text": [
            "Epoch 7/14, Validation F1 Score: 0.3768234406814226\n"
          ]
        },
        {
          "name": "stderr",
          "output_type": "stream",
          "text": [
            "                                                           \r"
          ]
        },
        {
          "name": "stdout",
          "output_type": "stream",
          "text": [
            "Epoch 8/14, Validation F1 Score: 0.3819245301718264\n"
          ]
        },
        {
          "name": "stderr",
          "output_type": "stream",
          "text": [
            "                                                           \r"
          ]
        },
        {
          "name": "stdout",
          "output_type": "stream",
          "text": [
            "Epoch 9/14, Validation F1 Score: 0.3992823523104685\n"
          ]
        },
        {
          "name": "stderr",
          "output_type": "stream",
          "text": [
            "                                                           \r"
          ]
        },
        {
          "name": "stdout",
          "output_type": "stream",
          "text": [
            "Epoch 10/14, Validation F1 Score: 0.42132198242609886\n"
          ]
        },
        {
          "name": "stderr",
          "output_type": "stream",
          "text": [
            "                                                           \r"
          ]
        },
        {
          "name": "stdout",
          "output_type": "stream",
          "text": [
            "Epoch 11/14, Validation F1 Score: 0.14402224396474078\n"
          ]
        },
        {
          "name": "stderr",
          "output_type": "stream",
          "text": [
            "                                                           \r"
          ]
        },
        {
          "name": "stdout",
          "output_type": "stream",
          "text": [
            "Epoch 12/14, Validation F1 Score: 0.4340813809506896\n"
          ]
        },
        {
          "name": "stderr",
          "output_type": "stream",
          "text": [
            "                                                           \r"
          ]
        },
        {
          "name": "stdout",
          "output_type": "stream",
          "text": [
            "Epoch 13/14, Validation F1 Score: 0.3885793403520648\n"
          ]
        },
        {
          "name": "stderr",
          "output_type": "stream",
          "text": [
            "[I 2024-06-23 11:49:22,083] Trial 10 finished with value: 0.41681933801737997 and parameters: {'lr': 0.0009157166864196702, 'weight_decay': 0.005317745339497608}. Best is trial 10 with value: 0.41681933801737997.\n"
          ]
        },
        {
          "name": "stdout",
          "output_type": "stream",
          "text": [
            "Epoch 14/14, Validation F1 Score: 0.41681933801737997\n",
            "Starting trial 12\n"
          ]
        },
        {
          "name": "stderr",
          "output_type": "stream",
          "text": [
            "                                                           \r"
          ]
        },
        {
          "name": "stdout",
          "output_type": "stream",
          "text": [
            "Epoch 1/14, Validation F1 Score: 0.34175438464188773\n"
          ]
        },
        {
          "name": "stderr",
          "output_type": "stream",
          "text": [
            "                                                           \r"
          ]
        },
        {
          "name": "stdout",
          "output_type": "stream",
          "text": [
            "Epoch 2/14, Validation F1 Score: 0.4003500381076694\n"
          ]
        },
        {
          "name": "stderr",
          "output_type": "stream",
          "text": [
            "                                                           \r"
          ]
        },
        {
          "name": "stdout",
          "output_type": "stream",
          "text": [
            "Epoch 3/14, Validation F1 Score: 0.34755711190259736\n"
          ]
        },
        {
          "name": "stderr",
          "output_type": "stream",
          "text": [
            "                                                           \r"
          ]
        },
        {
          "name": "stdout",
          "output_type": "stream",
          "text": [
            "Epoch 4/14, Validation F1 Score: 0.4079845419519028\n"
          ]
        },
        {
          "name": "stderr",
          "output_type": "stream",
          "text": [
            "                                                           \r"
          ]
        },
        {
          "name": "stdout",
          "output_type": "stream",
          "text": [
            "Epoch 5/14, Validation F1 Score: 0.32819047114653854\n"
          ]
        },
        {
          "name": "stderr",
          "output_type": "stream",
          "text": [
            "                                                           \r"
          ]
        },
        {
          "name": "stdout",
          "output_type": "stream",
          "text": [
            "Epoch 6/14, Validation F1 Score: 0.34982519166994047\n"
          ]
        },
        {
          "name": "stderr",
          "output_type": "stream",
          "text": [
            "                                                           \r"
          ]
        },
        {
          "name": "stdout",
          "output_type": "stream",
          "text": [
            "Epoch 7/14, Validation F1 Score: 0.3554915125979282\n"
          ]
        },
        {
          "name": "stderr",
          "output_type": "stream",
          "text": [
            "                                                           \r"
          ]
        },
        {
          "name": "stdout",
          "output_type": "stream",
          "text": [
            "Epoch 8/14, Validation F1 Score: 0.33438177237940103\n"
          ]
        },
        {
          "name": "stderr",
          "output_type": "stream",
          "text": [
            "                                                           \r"
          ]
        },
        {
          "name": "stdout",
          "output_type": "stream",
          "text": [
            "Epoch 9/14, Validation F1 Score: 0.4346234378022872\n"
          ]
        },
        {
          "name": "stderr",
          "output_type": "stream",
          "text": [
            "                                                           \r"
          ]
        },
        {
          "name": "stdout",
          "output_type": "stream",
          "text": [
            "Epoch 10/14, Validation F1 Score: 0.2655414627731787\n"
          ]
        },
        {
          "name": "stderr",
          "output_type": "stream",
          "text": [
            "                                                           \r"
          ]
        },
        {
          "name": "stdout",
          "output_type": "stream",
          "text": [
            "Epoch 11/14, Validation F1 Score: 0.4257215552279066\n"
          ]
        },
        {
          "name": "stderr",
          "output_type": "stream",
          "text": [
            "                                                           \r"
          ]
        },
        {
          "name": "stdout",
          "output_type": "stream",
          "text": [
            "Epoch 12/14, Validation F1 Score: 0.40664252412447144\n"
          ]
        },
        {
          "name": "stderr",
          "output_type": "stream",
          "text": [
            "                                                           \r"
          ]
        },
        {
          "name": "stdout",
          "output_type": "stream",
          "text": [
            "Epoch 13/14, Validation F1 Score: 0.3902847670513405\n"
          ]
        },
        {
          "name": "stderr",
          "output_type": "stream",
          "text": [
            "[I 2024-06-23 12:08:12,034] Trial 11 finished with value: 0.3684541356820376 and parameters: {'lr': 0.0012555317603534443, 'weight_decay': 0.006453265200522926}. Best is trial 10 with value: 0.41681933801737997.\n"
          ]
        },
        {
          "name": "stdout",
          "output_type": "stream",
          "text": [
            "Epoch 14/14, Validation F1 Score: 0.3684541356820376\n",
            "Starting trial 13\n"
          ]
        },
        {
          "name": "stderr",
          "output_type": "stream",
          "text": [
            "                                                           \r"
          ]
        },
        {
          "name": "stdout",
          "output_type": "stream",
          "text": [
            "Epoch 1/14, Validation F1 Score: 0.35667738702520996\n"
          ]
        },
        {
          "name": "stderr",
          "output_type": "stream",
          "text": [
            "                                                           \r"
          ]
        },
        {
          "name": "stdout",
          "output_type": "stream",
          "text": [
            "Epoch 2/14, Validation F1 Score: 0.3917680772738046\n"
          ]
        },
        {
          "name": "stderr",
          "output_type": "stream",
          "text": [
            "                                                           \r"
          ]
        },
        {
          "name": "stdout",
          "output_type": "stream",
          "text": [
            "Epoch 3/14, Validation F1 Score: 0.3684072104022573\n"
          ]
        },
        {
          "name": "stderr",
          "output_type": "stream",
          "text": [
            "                                                           \r"
          ]
        },
        {
          "name": "stdout",
          "output_type": "stream",
          "text": [
            "Epoch 4/14, Validation F1 Score: 0.40703149838506725\n"
          ]
        },
        {
          "name": "stderr",
          "output_type": "stream",
          "text": [
            "                                                           \r"
          ]
        },
        {
          "name": "stdout",
          "output_type": "stream",
          "text": [
            "Epoch 5/14, Validation F1 Score: 0.41159472640039846\n"
          ]
        },
        {
          "name": "stderr",
          "output_type": "stream",
          "text": [
            "                                                           \r"
          ]
        },
        {
          "name": "stdout",
          "output_type": "stream",
          "text": [
            "Epoch 6/14, Validation F1 Score: 0.3229248196313054\n"
          ]
        },
        {
          "name": "stderr",
          "output_type": "stream",
          "text": [
            "                                                           \r"
          ]
        },
        {
          "name": "stdout",
          "output_type": "stream",
          "text": [
            "Epoch 7/14, Validation F1 Score: 0.4117154989957109\n"
          ]
        },
        {
          "name": "stderr",
          "output_type": "stream",
          "text": [
            "                                                           \r"
          ]
        },
        {
          "name": "stdout",
          "output_type": "stream",
          "text": [
            "Epoch 8/14, Validation F1 Score: 0.3006887811737442\n"
          ]
        },
        {
          "name": "stderr",
          "output_type": "stream",
          "text": [
            "                                                           \r"
          ]
        },
        {
          "name": "stdout",
          "output_type": "stream",
          "text": [
            "Epoch 9/14, Validation F1 Score: 0.41366799938593746\n"
          ]
        },
        {
          "name": "stderr",
          "output_type": "stream",
          "text": [
            "                                                           \r"
          ]
        },
        {
          "name": "stdout",
          "output_type": "stream",
          "text": [
            "Epoch 10/14, Validation F1 Score: 0.34455704730608205\n"
          ]
        },
        {
          "name": "stderr",
          "output_type": "stream",
          "text": [
            "                                                           \r"
          ]
        },
        {
          "name": "stdout",
          "output_type": "stream",
          "text": [
            "Epoch 11/14, Validation F1 Score: 0.3599539628081493\n"
          ]
        },
        {
          "name": "stderr",
          "output_type": "stream",
          "text": [
            "                                                           \r"
          ]
        },
        {
          "name": "stdout",
          "output_type": "stream",
          "text": [
            "Epoch 12/14, Validation F1 Score: 0.4049433688935179\n"
          ]
        },
        {
          "name": "stderr",
          "output_type": "stream",
          "text": [
            "                                                           \r"
          ]
        },
        {
          "name": "stdout",
          "output_type": "stream",
          "text": [
            "Epoch 13/14, Validation F1 Score: 0.4002260935128081\n"
          ]
        },
        {
          "name": "stderr",
          "output_type": "stream",
          "text": [
            "[I 2024-06-23 12:26:37,137] Trial 12 finished with value: 0.37622309237182516 and parameters: {'lr': 0.0010471239559452566, 'weight_decay': 0.0025980266889842475}. Best is trial 10 with value: 0.41681933801737997.\n"
          ]
        },
        {
          "name": "stdout",
          "output_type": "stream",
          "text": [
            "Epoch 14/14, Validation F1 Score: 0.37622309237182516\n",
            "Starting trial 14\n"
          ]
        },
        {
          "name": "stderr",
          "output_type": "stream",
          "text": [
            "[I 2024-06-23 12:28:17,719] Trial 13 pruned.               \n"
          ]
        },
        {
          "name": "stdout",
          "output_type": "stream",
          "text": [
            "Epoch 1/14, Validation F1 Score: 0.3280067667105031\n",
            "Starting trial 15\n"
          ]
        },
        {
          "name": "stderr",
          "output_type": "stream",
          "text": [
            "[I 2024-06-23 12:29:55,896] Trial 14 pruned.               \n"
          ]
        },
        {
          "name": "stdout",
          "output_type": "stream",
          "text": [
            "Epoch 1/14, Validation F1 Score: 0.3268196594430497\n",
            "Starting trial 16\n"
          ]
        },
        {
          "name": "stderr",
          "output_type": "stream",
          "text": [
            "[I 2024-06-23 12:31:35,967] Trial 15 pruned.               \n"
          ]
        },
        {
          "name": "stdout",
          "output_type": "stream",
          "text": [
            "Epoch 1/14, Validation F1 Score: 0.3353635727797973\n",
            "Starting trial 17\n"
          ]
        },
        {
          "name": "stderr",
          "output_type": "stream",
          "text": [
            "[I 2024-06-23 12:33:14,515] Trial 16 pruned.               \n"
          ]
        },
        {
          "name": "stdout",
          "output_type": "stream",
          "text": [
            "Epoch 1/14, Validation F1 Score: 0.31939284707520893\n",
            "Starting trial 18\n"
          ]
        },
        {
          "name": "stderr",
          "output_type": "stream",
          "text": [
            "                                                           \r"
          ]
        },
        {
          "name": "stdout",
          "output_type": "stream",
          "text": [
            "Epoch 1/14, Validation F1 Score: 0.34015933596348275\n"
          ]
        },
        {
          "name": "stderr",
          "output_type": "stream",
          "text": [
            "[I 2024-06-23 12:36:11,313] Trial 17 pruned.               \n"
          ]
        },
        {
          "name": "stdout",
          "output_type": "stream",
          "text": [
            "Epoch 2/14, Validation F1 Score: 0.29591843331408\n",
            "Starting trial 19\n"
          ]
        },
        {
          "name": "stderr",
          "output_type": "stream",
          "text": [
            "                                                           \r"
          ]
        },
        {
          "name": "stdout",
          "output_type": "stream",
          "text": [
            "Epoch 1/14, Validation F1 Score: 0.34228872803712307\n"
          ]
        },
        {
          "name": "stderr",
          "output_type": "stream",
          "text": [
            "[I 2024-06-23 12:39:09,332] Trial 18 pruned.               \n"
          ]
        },
        {
          "name": "stdout",
          "output_type": "stream",
          "text": [
            "Epoch 2/14, Validation F1 Score: 0.3235853164903642\n",
            "Starting trial 20\n"
          ]
        },
        {
          "name": "stderr",
          "output_type": "stream",
          "text": [
            "[I 2024-06-23 12:40:49,860] Trial 19 pruned.               \n"
          ]
        },
        {
          "name": "stdout",
          "output_type": "stream",
          "text": [
            "Epoch 1/14, Validation F1 Score: 0.17788675714315005\n",
            "Starting trial 21\n"
          ]
        },
        {
          "name": "stderr",
          "output_type": "stream",
          "text": [
            "                                                           \r"
          ]
        },
        {
          "name": "stdout",
          "output_type": "stream",
          "text": [
            "Epoch 1/14, Validation F1 Score: 0.37041127843253285\n"
          ]
        },
        {
          "name": "stderr",
          "output_type": "stream",
          "text": [
            "                                                           \r"
          ]
        },
        {
          "name": "stdout",
          "output_type": "stream",
          "text": [
            "Epoch 2/14, Validation F1 Score: 0.29662563306238776\n"
          ]
        },
        {
          "name": "stderr",
          "output_type": "stream",
          "text": [
            "                                                           \r"
          ]
        },
        {
          "name": "stdout",
          "output_type": "stream",
          "text": [
            "Epoch 3/14, Validation F1 Score: 0.2881236895863527\n"
          ]
        },
        {
          "name": "stderr",
          "output_type": "stream",
          "text": [
            "[I 2024-06-23 12:46:27,554] Trial 20 pruned.               \n"
          ]
        },
        {
          "name": "stdout",
          "output_type": "stream",
          "text": [
            "Epoch 4/14, Validation F1 Score: 0.3492388051161264\n",
            "Starting trial 22\n"
          ]
        },
        {
          "name": "stderr",
          "output_type": "stream",
          "text": [
            "[I 2024-06-23 12:48:12,034] Trial 21 pruned.               \n"
          ]
        },
        {
          "name": "stdout",
          "output_type": "stream",
          "text": [
            "Epoch 1/14, Validation F1 Score: 0.28184487673221453\n",
            "Starting trial 23\n"
          ]
        },
        {
          "name": "stderr",
          "output_type": "stream",
          "text": [
            "                                                           \r"
          ]
        },
        {
          "name": "stdout",
          "output_type": "stream",
          "text": [
            "Epoch 1/14, Validation F1 Score: 0.3456359203778184\n"
          ]
        },
        {
          "name": "stderr",
          "output_type": "stream",
          "text": [
            "[I 2024-06-23 12:51:15,679] Trial 22 pruned.               \n"
          ]
        },
        {
          "name": "stdout",
          "output_type": "stream",
          "text": [
            "Epoch 2/14, Validation F1 Score: 0.34500273581114665\n",
            "Starting trial 24\n"
          ]
        },
        {
          "name": "stderr",
          "output_type": "stream",
          "text": [
            "[I 2024-06-23 12:53:01,526] Trial 23 pruned.               \n"
          ]
        },
        {
          "name": "stdout",
          "output_type": "stream",
          "text": [
            "Epoch 1/14, Validation F1 Score: 0.32925998482201163\n",
            "Starting trial 25\n"
          ]
        },
        {
          "name": "stderr",
          "output_type": "stream",
          "text": [
            "[I 2024-06-23 12:54:47,343] Trial 24 pruned.               \n"
          ]
        },
        {
          "name": "stdout",
          "output_type": "stream",
          "text": [
            "Epoch 1/14, Validation F1 Score: 0.33564553347097487\n",
            "Starting trial 26\n"
          ]
        },
        {
          "name": "stderr",
          "output_type": "stream",
          "text": [
            "[I 2024-06-23 12:56:31,516] Trial 25 pruned.               \n"
          ]
        },
        {
          "name": "stdout",
          "output_type": "stream",
          "text": [
            "Epoch 1/14, Validation F1 Score: 0.22841396098349892\n",
            "Starting trial 27\n"
          ]
        },
        {
          "name": "stderr",
          "output_type": "stream",
          "text": [
            "[I 2024-06-23 12:58:15,071] Trial 26 pruned.               \n"
          ]
        },
        {
          "name": "stdout",
          "output_type": "stream",
          "text": [
            "Epoch 1/14, Validation F1 Score: 0.33898493204705343\n",
            "Starting trial 28\n"
          ]
        },
        {
          "name": "stderr",
          "output_type": "stream",
          "text": [
            "[I 2024-06-23 12:59:59,030] Trial 27 pruned.               \n"
          ]
        },
        {
          "name": "stdout",
          "output_type": "stream",
          "text": [
            "Epoch 1/14, Validation F1 Score: 0.33566492598835196\n",
            "Starting trial 29\n"
          ]
        },
        {
          "name": "stderr",
          "output_type": "stream",
          "text": [
            "                                                           \r"
          ]
        },
        {
          "name": "stdout",
          "output_type": "stream",
          "text": [
            "Epoch 1/14, Validation F1 Score: 0.36460303081569617\n"
          ]
        },
        {
          "name": "stderr",
          "output_type": "stream",
          "text": [
            "                                                           \r"
          ]
        },
        {
          "name": "stdout",
          "output_type": "stream",
          "text": [
            "Epoch 2/14, Validation F1 Score: 0.3590218548907916\n"
          ]
        },
        {
          "name": "stderr",
          "output_type": "stream",
          "text": [
            "                                                           \r"
          ]
        },
        {
          "name": "stdout",
          "output_type": "stream",
          "text": [
            "Epoch 3/14, Validation F1 Score: 0.34746127236660507\n"
          ]
        },
        {
          "name": "stderr",
          "output_type": "stream",
          "text": [
            "                                                           \r"
          ]
        },
        {
          "name": "stdout",
          "output_type": "stream",
          "text": [
            "Epoch 4/14, Validation F1 Score: 0.3794706546558728\n"
          ]
        },
        {
          "name": "stderr",
          "output_type": "stream",
          "text": [
            "                                                           \r"
          ]
        },
        {
          "name": "stdout",
          "output_type": "stream",
          "text": [
            "Epoch 5/14, Validation F1 Score: 0.3634565559641415\n"
          ]
        },
        {
          "name": "stderr",
          "output_type": "stream",
          "text": [
            "                                                           \r"
          ]
        },
        {
          "name": "stdout",
          "output_type": "stream",
          "text": [
            "Epoch 6/14, Validation F1 Score: 0.3893562504295255\n"
          ]
        },
        {
          "name": "stderr",
          "output_type": "stream",
          "text": [
            "                                                           \r"
          ]
        },
        {
          "name": "stdout",
          "output_type": "stream",
          "text": [
            "Epoch 7/14, Validation F1 Score: 0.35950930671916576\n"
          ]
        },
        {
          "name": "stderr",
          "output_type": "stream",
          "text": [
            "                                                           \r"
          ]
        },
        {
          "name": "stdout",
          "output_type": "stream",
          "text": [
            "Epoch 8/14, Validation F1 Score: 0.33389393860203453\n"
          ]
        },
        {
          "name": "stderr",
          "output_type": "stream",
          "text": [
            "[I 2024-06-23 13:11:59,662] Trial 28 pruned.               \n"
          ]
        },
        {
          "name": "stdout",
          "output_type": "stream",
          "text": [
            "Epoch 9/14, Validation F1 Score: 0.3787320002035886\n",
            "Starting trial 30\n"
          ]
        },
        {
          "name": "stderr",
          "output_type": "stream",
          "text": [
            "                                                           \r"
          ]
        },
        {
          "name": "stdout",
          "output_type": "stream",
          "text": [
            "Epoch 1/14, Validation F1 Score: 0.3475690523632414\n"
          ]
        },
        {
          "name": "stderr",
          "output_type": "stream",
          "text": [
            "[I 2024-06-23 13:14:59,647] Trial 29 pruned.               \n"
          ]
        },
        {
          "name": "stdout",
          "output_type": "stream",
          "text": [
            "Epoch 2/14, Validation F1 Score: 0.33072702279537053\n",
            "Starting trial 31\n"
          ]
        },
        {
          "name": "stderr",
          "output_type": "stream",
          "text": [
            "[I 2024-06-23 13:16:44,402] Trial 30 pruned.               \n"
          ]
        },
        {
          "name": "stdout",
          "output_type": "stream",
          "text": [
            "Epoch 1/14, Validation F1 Score: 0.2989589232567973\n",
            "Starting trial 32\n"
          ]
        },
        {
          "name": "stderr",
          "output_type": "stream",
          "text": [
            "                                                           \r"
          ]
        },
        {
          "name": "stdout",
          "output_type": "stream",
          "text": [
            "Epoch 1/14, Validation F1 Score: 0.3614885204842715\n"
          ]
        },
        {
          "name": "stderr",
          "output_type": "stream",
          "text": [
            "                                                           \r"
          ]
        },
        {
          "name": "stdout",
          "output_type": "stream",
          "text": [
            "Epoch 2/14, Validation F1 Score: 0.3309419858816915\n"
          ]
        },
        {
          "name": "stderr",
          "output_type": "stream",
          "text": [
            "                                                           \r"
          ]
        },
        {
          "name": "stdout",
          "output_type": "stream",
          "text": [
            "Epoch 3/14, Validation F1 Score: 0.34242974268235443\n"
          ]
        },
        {
          "name": "stderr",
          "output_type": "stream",
          "text": [
            "[I 2024-06-23 13:22:23,728] Trial 31 pruned.               \n"
          ]
        },
        {
          "name": "stdout",
          "output_type": "stream",
          "text": [
            "Epoch 4/14, Validation F1 Score: 0.34142219104389504\n",
            "Starting trial 33\n"
          ]
        },
        {
          "name": "stderr",
          "output_type": "stream",
          "text": [
            "[I 2024-06-23 13:24:08,149] Trial 32 pruned.               \n"
          ]
        },
        {
          "name": "stdout",
          "output_type": "stream",
          "text": [
            "Epoch 1/14, Validation F1 Score: 0.3222474888959584\n",
            "Starting trial 34\n"
          ]
        },
        {
          "name": "stderr",
          "output_type": "stream",
          "text": [
            "                                                           \r"
          ]
        },
        {
          "name": "stdout",
          "output_type": "stream",
          "text": [
            "Epoch 1/14, Validation F1 Score: 0.3619860928890055\n"
          ]
        },
        {
          "name": "stderr",
          "output_type": "stream",
          "text": [
            "                                                           \r"
          ]
        },
        {
          "name": "stdout",
          "output_type": "stream",
          "text": [
            "Epoch 2/14, Validation F1 Score: 0.358081527017384\n"
          ]
        },
        {
          "name": "stderr",
          "output_type": "stream",
          "text": [
            "                                                           \r"
          ]
        },
        {
          "name": "stdout",
          "output_type": "stream",
          "text": [
            "Epoch 3/14, Validation F1 Score: 0.3252408901865215\n"
          ]
        },
        {
          "name": "stderr",
          "output_type": "stream",
          "text": [
            "[I 2024-06-23 13:29:46,302] Trial 33 pruned.               \n"
          ]
        },
        {
          "name": "stdout",
          "output_type": "stream",
          "text": [
            "Epoch 4/14, Validation F1 Score: 0.36557833168586773\n",
            "Starting trial 35\n"
          ]
        },
        {
          "name": "stderr",
          "output_type": "stream",
          "text": [
            "                                                           \r"
          ]
        },
        {
          "name": "stdout",
          "output_type": "stream",
          "text": [
            "Epoch 1/14, Validation F1 Score: 0.3457282433965284\n"
          ]
        },
        {
          "name": "stderr",
          "output_type": "stream",
          "text": [
            "                                                           \r"
          ]
        },
        {
          "name": "stdout",
          "output_type": "stream",
          "text": [
            "Epoch 2/14, Validation F1 Score: 0.3658702626838519\n"
          ]
        },
        {
          "name": "stderr",
          "output_type": "stream",
          "text": [
            "                                                           \r"
          ]
        },
        {
          "name": "stdout",
          "output_type": "stream",
          "text": [
            "Epoch 3/14, Validation F1 Score: 0.3875206410692941\n"
          ]
        },
        {
          "name": "stderr",
          "output_type": "stream",
          "text": [
            "                                                           \r"
          ]
        },
        {
          "name": "stdout",
          "output_type": "stream",
          "text": [
            "Epoch 4/14, Validation F1 Score: 0.3795585077462768\n"
          ]
        },
        {
          "name": "stderr",
          "output_type": "stream",
          "text": [
            "                                                           \r"
          ]
        },
        {
          "name": "stdout",
          "output_type": "stream",
          "text": [
            "Epoch 5/14, Validation F1 Score: 0.37082170767960365\n"
          ]
        },
        {
          "name": "stderr",
          "output_type": "stream",
          "text": [
            "                                                           \r"
          ]
        },
        {
          "name": "stdout",
          "output_type": "stream",
          "text": [
            "Epoch 6/14, Validation F1 Score: 0.37496267786038134\n"
          ]
        },
        {
          "name": "stderr",
          "output_type": "stream",
          "text": [
            "                                                           \r"
          ]
        },
        {
          "name": "stdout",
          "output_type": "stream",
          "text": [
            "Epoch 7/14, Validation F1 Score: 0.3558397064996628\n"
          ]
        },
        {
          "name": "stderr",
          "output_type": "stream",
          "text": [
            "                                                           \r"
          ]
        },
        {
          "name": "stdout",
          "output_type": "stream",
          "text": [
            "Epoch 8/14, Validation F1 Score: 0.37196126311675914\n"
          ]
        },
        {
          "name": "stderr",
          "output_type": "stream",
          "text": [
            "[I 2024-06-23 13:41:44,183] Trial 34 pruned.               \n"
          ]
        },
        {
          "name": "stdout",
          "output_type": "stream",
          "text": [
            "Epoch 9/14, Validation F1 Score: 0.39359864464018085\n",
            "Starting trial 36\n"
          ]
        },
        {
          "name": "stderr",
          "output_type": "stream",
          "text": [
            "                                                           \r"
          ]
        },
        {
          "name": "stdout",
          "output_type": "stream",
          "text": [
            "Epoch 1/14, Validation F1 Score: 0.343174475756838\n"
          ]
        },
        {
          "name": "stderr",
          "output_type": "stream",
          "text": [
            "                                                           \r"
          ]
        },
        {
          "name": "stdout",
          "output_type": "stream",
          "text": [
            "Epoch 2/14, Validation F1 Score: 0.35493802875201963\n"
          ]
        },
        {
          "name": "stderr",
          "output_type": "stream",
          "text": [
            "                                                           \r"
          ]
        },
        {
          "name": "stdout",
          "output_type": "stream",
          "text": [
            "Epoch 3/14, Validation F1 Score: 0.3583438421542237\n"
          ]
        },
        {
          "name": "stderr",
          "output_type": "stream",
          "text": [
            "                                                           \r"
          ]
        },
        {
          "name": "stdout",
          "output_type": "stream",
          "text": [
            "Epoch 4/14, Validation F1 Score: 0.39440753017336194\n"
          ]
        },
        {
          "name": "stderr",
          "output_type": "stream",
          "text": [
            "                                                           \r"
          ]
        },
        {
          "name": "stdout",
          "output_type": "stream",
          "text": [
            "Epoch 5/14, Validation F1 Score: 0.3903361606628868\n"
          ]
        },
        {
          "name": "stderr",
          "output_type": "stream",
          "text": [
            "                                                           \r"
          ]
        },
        {
          "name": "stdout",
          "output_type": "stream",
          "text": [
            "Epoch 6/14, Validation F1 Score: 0.3784296323320896\n"
          ]
        },
        {
          "name": "stderr",
          "output_type": "stream",
          "text": [
            "                                                           \r"
          ]
        },
        {
          "name": "stdout",
          "output_type": "stream",
          "text": [
            "Epoch 7/14, Validation F1 Score: 0.39270647212777915\n"
          ]
        },
        {
          "name": "stderr",
          "output_type": "stream",
          "text": [
            "                                                           \r"
          ]
        },
        {
          "name": "stdout",
          "output_type": "stream",
          "text": [
            "Epoch 8/14, Validation F1 Score: 0.37258382847841726\n"
          ]
        },
        {
          "name": "stderr",
          "output_type": "stream",
          "text": [
            "[I 2024-06-23 13:52:53,819] Trial 35 pruned.               \n"
          ]
        },
        {
          "name": "stdout",
          "output_type": "stream",
          "text": [
            "Epoch 9/14, Validation F1 Score: 0.38088712884617315\n",
            "Starting trial 37\n"
          ]
        },
        {
          "name": "stderr",
          "output_type": "stream",
          "text": [
            "[I 2024-06-23 13:54:32,006] Trial 36 pruned.               \n"
          ]
        },
        {
          "name": "stdout",
          "output_type": "stream",
          "text": [
            "Epoch 1/14, Validation F1 Score: 0.2936516636131211\n",
            "Starting trial 38\n"
          ]
        },
        {
          "name": "stderr",
          "output_type": "stream",
          "text": [
            "                                                           \r"
          ]
        },
        {
          "name": "stdout",
          "output_type": "stream",
          "text": [
            "Epoch 1/14, Validation F1 Score: 0.35197221788231753\n"
          ]
        },
        {
          "name": "stderr",
          "output_type": "stream",
          "text": [
            "[I 2024-06-23 13:57:19,481] Trial 37 pruned.               \n"
          ]
        },
        {
          "name": "stdout",
          "output_type": "stream",
          "text": [
            "Epoch 2/14, Validation F1 Score: 0.2993569647227826\n",
            "Starting trial 39\n"
          ]
        },
        {
          "name": "stderr",
          "output_type": "stream",
          "text": [
            "                                                           \r"
          ]
        },
        {
          "name": "stdout",
          "output_type": "stream",
          "text": [
            "Epoch 1/14, Validation F1 Score: 0.35868198151366537\n"
          ]
        },
        {
          "name": "stderr",
          "output_type": "stream",
          "text": [
            "                                                           \r"
          ]
        },
        {
          "name": "stdout",
          "output_type": "stream",
          "text": [
            "Epoch 2/14, Validation F1 Score: 0.3585732195013766\n"
          ]
        },
        {
          "name": "stderr",
          "output_type": "stream",
          "text": [
            "                                                           \r"
          ]
        },
        {
          "name": "stdout",
          "output_type": "stream",
          "text": [
            "Epoch 3/14, Validation F1 Score: 0.31781072026836465\n"
          ]
        },
        {
          "name": "stderr",
          "output_type": "stream",
          "text": [
            "                                                           \r"
          ]
        },
        {
          "name": "stdout",
          "output_type": "stream",
          "text": [
            "Epoch 4/14, Validation F1 Score: 0.4079732798962237\n"
          ]
        },
        {
          "name": "stderr",
          "output_type": "stream",
          "text": [
            "                                                           \r"
          ]
        },
        {
          "name": "stdout",
          "output_type": "stream",
          "text": [
            "Epoch 5/14, Validation F1 Score: 0.39333269593759784\n"
          ]
        },
        {
          "name": "stderr",
          "output_type": "stream",
          "text": [
            "                                                           \r"
          ]
        },
        {
          "name": "stdout",
          "output_type": "stream",
          "text": [
            "Epoch 6/14, Validation F1 Score: 0.3441726349363586\n"
          ]
        },
        {
          "name": "stderr",
          "output_type": "stream",
          "text": [
            "                                                           \r"
          ]
        },
        {
          "name": "stdout",
          "output_type": "stream",
          "text": [
            "Epoch 7/14, Validation F1 Score: 0.3485142470807997\n"
          ]
        },
        {
          "name": "stderr",
          "output_type": "stream",
          "text": [
            "                                                           \r"
          ]
        },
        {
          "name": "stdout",
          "output_type": "stream",
          "text": [
            "Epoch 8/14, Validation F1 Score: 0.372721756829864\n"
          ]
        },
        {
          "name": "stderr",
          "output_type": "stream",
          "text": [
            "                                                           \r"
          ]
        },
        {
          "name": "stdout",
          "output_type": "stream",
          "text": [
            "Epoch 9/14, Validation F1 Score: 0.39599628522830155\n"
          ]
        },
        {
          "name": "stderr",
          "output_type": "stream",
          "text": [
            "                                                           \r"
          ]
        },
        {
          "name": "stdout",
          "output_type": "stream",
          "text": [
            "Epoch 10/14, Validation F1 Score: 0.3838369302080018\n"
          ]
        },
        {
          "name": "stderr",
          "output_type": "stream",
          "text": [
            "                                                           \r"
          ]
        },
        {
          "name": "stdout",
          "output_type": "stream",
          "text": [
            "Epoch 11/14, Validation F1 Score: 0.4248706557005982\n"
          ]
        },
        {
          "name": "stderr",
          "output_type": "stream",
          "text": [
            "                                                           \r"
          ]
        },
        {
          "name": "stdout",
          "output_type": "stream",
          "text": [
            "Epoch 12/14, Validation F1 Score: 0.38871210431407277\n"
          ]
        },
        {
          "name": "stderr",
          "output_type": "stream",
          "text": [
            "                                                           \r"
          ]
        },
        {
          "name": "stdout",
          "output_type": "stream",
          "text": [
            "Epoch 13/14, Validation F1 Score: 0.4062897544123446\n"
          ]
        },
        {
          "name": "stderr",
          "output_type": "stream",
          "text": [
            "[I 2024-06-23 14:15:16,042] Trial 38 finished with value: 0.38215478524375607 and parameters: {'lr': 0.000406146317982636, 'weight_decay': 4.514526017682662e-05}. Best is trial 10 with value: 0.41681933801737997.\n"
          ]
        },
        {
          "name": "stdout",
          "output_type": "stream",
          "text": [
            "Epoch 14/14, Validation F1 Score: 0.38215478524375607\n",
            "Starting trial 40\n"
          ]
        },
        {
          "name": "stderr",
          "output_type": "stream",
          "text": [
            "                                                           \r"
          ]
        },
        {
          "name": "stdout",
          "output_type": "stream",
          "text": [
            "Epoch 1/14, Validation F1 Score: 0.34463895577752235\n"
          ]
        },
        {
          "name": "stderr",
          "output_type": "stream",
          "text": [
            "                                                           \r"
          ]
        },
        {
          "name": "stdout",
          "output_type": "stream",
          "text": [
            "Epoch 2/14, Validation F1 Score: 0.3596720299370212\n"
          ]
        },
        {
          "name": "stderr",
          "output_type": "stream",
          "text": [
            "                                                           \r"
          ]
        },
        {
          "name": "stdout",
          "output_type": "stream",
          "text": [
            "Epoch 3/14, Validation F1 Score: 0.4023671085970083\n"
          ]
        },
        {
          "name": "stderr",
          "output_type": "stream",
          "text": [
            "                                                           \r"
          ]
        },
        {
          "name": "stdout",
          "output_type": "stream",
          "text": [
            "Epoch 4/14, Validation F1 Score: 0.35830284350470054\n"
          ]
        },
        {
          "name": "stderr",
          "output_type": "stream",
          "text": [
            "                                                           \r"
          ]
        },
        {
          "name": "stdout",
          "output_type": "stream",
          "text": [
            "Epoch 5/14, Validation F1 Score: 0.36633805856178386\n"
          ]
        },
        {
          "name": "stderr",
          "output_type": "stream",
          "text": [
            "                                                           \r"
          ]
        },
        {
          "name": "stdout",
          "output_type": "stream",
          "text": [
            "Epoch 6/14, Validation F1 Score: 0.3872251323477939\n"
          ]
        },
        {
          "name": "stderr",
          "output_type": "stream",
          "text": [
            "                                                           \r"
          ]
        },
        {
          "name": "stdout",
          "output_type": "stream",
          "text": [
            "Epoch 7/14, Validation F1 Score: 0.24413398340152584\n"
          ]
        },
        {
          "name": "stderr",
          "output_type": "stream",
          "text": [
            "                                                           \r"
          ]
        },
        {
          "name": "stdout",
          "output_type": "stream",
          "text": [
            "Epoch 8/14, Validation F1 Score: 0.32242026977325616\n"
          ]
        },
        {
          "name": "stderr",
          "output_type": "stream",
          "text": [
            "                                                           \r"
          ]
        },
        {
          "name": "stdout",
          "output_type": "stream",
          "text": [
            "Epoch 9/14, Validation F1 Score: 0.39502734775733317\n"
          ]
        },
        {
          "name": "stderr",
          "output_type": "stream",
          "text": [
            "                                                           \r"
          ]
        },
        {
          "name": "stdout",
          "output_type": "stream",
          "text": [
            "Epoch 10/14, Validation F1 Score: 0.39311265842837745\n"
          ]
        },
        {
          "name": "stderr",
          "output_type": "stream",
          "text": [
            "                                                           \r"
          ]
        },
        {
          "name": "stdout",
          "output_type": "stream",
          "text": [
            "Epoch 11/14, Validation F1 Score: 0.3842581880092896\n"
          ]
        },
        {
          "name": "stderr",
          "output_type": "stream",
          "text": [
            "                                                           \r"
          ]
        },
        {
          "name": "stdout",
          "output_type": "stream",
          "text": [
            "Epoch 12/14, Validation F1 Score: 0.3920491108891477\n"
          ]
        },
        {
          "name": "stderr",
          "output_type": "stream",
          "text": [
            "                                                           \r"
          ]
        },
        {
          "name": "stdout",
          "output_type": "stream",
          "text": [
            "Epoch 13/14, Validation F1 Score: 0.3897858390411816\n"
          ]
        },
        {
          "name": "stderr",
          "output_type": "stream",
          "text": [
            "[I 2024-06-23 14:33:22,972] Trial 39 finished with value: 0.42516472936072897 and parameters: {'lr': 0.002386066925758022, 'weight_decay': 0.0006654086822444693}. Best is trial 39 with value: 0.42516472936072897.\n"
          ]
        },
        {
          "name": "stdout",
          "output_type": "stream",
          "text": [
            "Epoch 14/14, Validation F1 Score: 0.42516472936072897\n",
            "Best hyperparameters:  {'lr': 0.002386066925758022, 'weight_decay': 0.0006654086822444693}\n"
          ]
        }
      ],
      "source": [
        "epochs = 14\n",
        "batch_size = 16\n",
        "step_size = 12\n",
        "\n",
        "device = torch.device(\"cuda\" if torch.cuda.is_available() else \"cpu\")\n",
        "\n",
        "\n",
        "def calculate_f1_score(loader, model, device):\n",
        "    model.eval()\n",
        "    all_preds = []\n",
        "    all_targets = []\n",
        "\n",
        "    with torch.no_grad():\n",
        "        for data, targets in loader:\n",
        "            data = data.float().to(device)\n",
        "            targets = targets.float().to(device)\n",
        "            predictions = torch.sigmoid(model(data)).squeeze(1)\n",
        "            preds = (predictions > 0.5).float().cpu().numpy().flatten()\n",
        "            all_preds.extend(preds)\n",
        "            all_targets.extend(targets.cpu().numpy().flatten())\n",
        "\n",
        "    f1 = f1_score(all_targets, all_preds, zero_division=1)\n",
        "    return f1\n",
        "\n",
        "def objective(trial):\n",
        "    print(f\"Starting trial {trial.number + 1}\")\n",
        "\n",
        "    lr = trial.suggest_float(\"lr\", 8e-5, 8e-3, log=True)\n",
        "    weight_decay = trial.suggest_float(\"weight_decay\", 8e-6, 8e-3, log=True)\n",
        "\n",
        "    transform_training = A.Compose([\n",
        "        A.Resize(height=512, width=512),  \n",
        "        A.HorizontalFlip(p=0.15),\n",
        "        A.VerticalFlip(p=0.15),\n",
        "        A.RandomRotate90(p=0.2),\n",
        "        ToTensorV2(),\n",
        "    ])\n",
        "\n",
        "    transform_validation = A.Compose([\n",
        "        A.Resize(height=512, width=512),\n",
        "        ToTensorV2(),\n",
        "    ])\n",
        "\n",
        "    dataset_training = SN7Dataset(image_dir_train, mask_dir_train, transform=transform_training, mean=mean, std=std)\n",
        "    dataset_validation = SN7Dataset(image_dir_valid, mask_dir_valid, transform=transform_validation, mean=mean, std=std)\n",
        "\n",
        "    loader_training = DataLoader(dataset_training, batch_size=batch_size, shuffle=True, num_workers=12, pin_memory=True)\n",
        "    loader_validation = DataLoader(dataset_validation, batch_size=batch_size, shuffle=False, num_workers=12, pin_memory=True)\n",
        "    pos_weight = calculate_pos_weight(dataset_training).to(device)\n",
        "\n",
        "    model = UNET(in_channels=4, out_channels=1).to(device)\n",
        "    optimizer = optim.Adam(model.parameters(), lr=lr, weight_decay=weight_decay)\n",
        "    type_loss = nn.BCEWithLogitsLoss(pos_weight=pos_weight)\n",
        "    scheduler = optim.lr_scheduler.StepLR(optimizer, step_size=step_size)\n",
        "    scaler = torch.cuda.amp.GradScaler()\n",
        "\n",
        "    # Training Loop\n",
        "    for epoch in range(epochs):\n",
        "        model.train()\n",
        "        running_loss = 0.0\n",
        "        loop = tqdm(loader_training, leave=False)\n",
        "        for batch_idx, (data, targets) in enumerate(loop):\n",
        "            data = data.float().to(device)\n",
        "            targets = targets.float().to(device)\n",
        "            optimizer.zero_grad()\n",
        "            with torch.cuda.amp.autocast():\n",
        "                predictions = model(data).squeeze(1)\n",
        "                loss = type_loss(predictions, targets)\n",
        "            scaler.scale(loss).backward()\n",
        "            scaler.step(optimizer)\n",
        "            scaler.update()\n",
        "            running_loss += loss.item()\n",
        "            loop.set_postfix(loss=loss.item())\n",
        "\n",
        "        scheduler.step()\n",
        "\n",
        "        # Validation Loop\n",
        "        f1_validation = calculate_f1_score(loader_validation, model, device)\n",
        "        print(f\"Epoch {epoch + 1}/{epochs}, Validation F1 Score: {f1_validation}\")\n",
        "        trial.report(f1_validation, epoch)\n",
        "\n",
        "        #\"early stopping\"\n",
        "        if trial.should_prune():\n",
        "            raise optuna.exceptions.TrialPruned()\n",
        "\n",
        "    return f1_validation\n",
        "\n",
        "study = optuna.create_study(direction=\"maximize\")\n",
        "study.optimize(objective, n_trials=40)\n",
        "\n",
        "print(\"Best hyperparameters: \", study.best_params)\n",
        "\n",
        "best_lr = study.best_params['lr']\n",
        "best_weight_decay = study.best_params['weight_decay'] "
      ]
    },
    {
      "cell_type": "markdown",
      "metadata": {
        "id": "tbth5EvB--CE"
      },
      "source": [
        "Training baseline"
      ]
    },
    {
      "cell_type": "code",
      "execution_count": 42,
      "metadata": {
        "id": "6nECZaPk--CE",
        "outputId": "1f888dd7-2612-45e7-f87b-2e1177d1a880"
      },
      "outputs": [
        {
          "name": "stdout",
          "output_type": "stream",
          "text": [
            "Checkpoint file not found, starting training from scratch.\n",
            "epoch 0\n"
          ]
        },
        {
          "name": "stderr",
          "output_type": "stream",
          "text": [
            "100%|██████████| 63/63 [00:41<00:00,  1.51it/s, loss=0.806]\n"
          ]
        },
        {
          "name": "stdout",
          "output_type": "stream",
          "text": [
            "=> Saving checkpoint\n",
            "1\n",
            "2\n",
            "3\n",
            "4\n",
            "5\n",
            "6\n",
            "7\n",
            "8\n",
            "9\n",
            "10\n",
            "11\n",
            "12\n",
            "13\n",
            "Validation Loss: 0.9510\n",
            "Accuracy: 65.76\n",
            "Precision: 0.1721\n",
            "Recall: 0.8990\n",
            "F1 Score: 0.2888\n",
            "=> Saving checkpoint\n",
            "New best F1 score: 0.2888\n"
          ]
        },
        {
          "name": "stderr",
          "output_type": "stream",
          "text": [
            "Saving predictions:   0%|          | 0/13 [00:00<?, ?it/s]"
          ]
        },
        {
          "name": "stdout",
          "output_type": "stream",
          "text": [
            "1\n"
          ]
        },
        {
          "name": "stderr",
          "output_type": "stream",
          "text": [
            "Saving predictions:   8%|▊         | 1/13 [00:01<00:19,  1.61s/it]"
          ]
        },
        {
          "name": "stdout",
          "output_type": "stream",
          "text": [
            "2\n"
          ]
        },
        {
          "name": "stderr",
          "output_type": "stream",
          "text": [
            "Saving predictions:  15%|█▌        | 2/13 [00:02<00:10,  1.10it/s]"
          ]
        },
        {
          "name": "stdout",
          "output_type": "stream",
          "text": [
            "3\n"
          ]
        },
        {
          "name": "stderr",
          "output_type": "stream",
          "text": [
            "Saving predictions:  23%|██▎       | 3/13 [00:02<00:06,  1.47it/s]"
          ]
        },
        {
          "name": "stdout",
          "output_type": "stream",
          "text": [
            "4\n"
          ]
        },
        {
          "name": "stderr",
          "output_type": "stream",
          "text": [
            "Saving predictions:  31%|███       | 4/13 [00:02<00:05,  1.75it/s]"
          ]
        },
        {
          "name": "stdout",
          "output_type": "stream",
          "text": [
            "5\n"
          ]
        },
        {
          "name": "stderr",
          "output_type": "stream",
          "text": [
            "Saving predictions:  38%|███▊      | 5/13 [00:03<00:04,  1.94it/s]"
          ]
        },
        {
          "name": "stdout",
          "output_type": "stream",
          "text": [
            "6\n"
          ]
        },
        {
          "name": "stderr",
          "output_type": "stream",
          "text": [
            "Saving predictions:  46%|████▌     | 6/13 [00:03<00:03,  2.07it/s]"
          ]
        },
        {
          "name": "stdout",
          "output_type": "stream",
          "text": [
            "7\n"
          ]
        },
        {
          "name": "stderr",
          "output_type": "stream",
          "text": [
            "Saving predictions:  54%|█████▍    | 7/13 [00:04<00:02,  2.18it/s]"
          ]
        },
        {
          "name": "stdout",
          "output_type": "stream",
          "text": [
            "8\n"
          ]
        },
        {
          "name": "stderr",
          "output_type": "stream",
          "text": [
            "Saving predictions:  62%|██████▏   | 8/13 [00:04<00:02,  2.26it/s]"
          ]
        },
        {
          "name": "stdout",
          "output_type": "stream",
          "text": [
            "9\n"
          ]
        },
        {
          "name": "stderr",
          "output_type": "stream",
          "text": [
            "Saving predictions:  69%|██████▉   | 9/13 [00:04<00:01,  2.31it/s]"
          ]
        },
        {
          "name": "stdout",
          "output_type": "stream",
          "text": [
            "10\n"
          ]
        },
        {
          "name": "stderr",
          "output_type": "stream",
          "text": [
            "Saving predictions:  77%|███████▋  | 10/13 [00:05<00:01,  2.34it/s]"
          ]
        },
        {
          "name": "stdout",
          "output_type": "stream",
          "text": [
            "11\n"
          ]
        },
        {
          "name": "stderr",
          "output_type": "stream",
          "text": [
            "Saving predictions:  85%|████████▍ | 11/13 [00:05<00:00,  2.37it/s]"
          ]
        },
        {
          "name": "stdout",
          "output_type": "stream",
          "text": [
            "12\n"
          ]
        },
        {
          "name": "stderr",
          "output_type": "stream",
          "text": [
            "Saving predictions:  92%|█████████▏| 12/13 [00:06<00:00,  2.39it/s]"
          ]
        },
        {
          "name": "stdout",
          "output_type": "stream",
          "text": [
            "13\n"
          ]
        },
        {
          "name": "stderr",
          "output_type": "stream",
          "text": [
            "Saving predictions: 100%|██████████| 13/13 [00:06<00:00,  1.97it/s]\n"
          ]
        },
        {
          "name": "stdout",
          "output_type": "stream",
          "text": [
            "epoch 1\n"
          ]
        },
        {
          "name": "stderr",
          "output_type": "stream",
          "text": [
            "100%|██████████| 63/63 [00:42<00:00,  1.49it/s, loss=0.988]\n"
          ]
        },
        {
          "name": "stdout",
          "output_type": "stream",
          "text": [
            "=> Saving checkpoint\n",
            "1\n",
            "2\n",
            "3\n",
            "4\n",
            "5\n",
            "6\n",
            "7\n",
            "8\n",
            "9\n",
            "10\n",
            "11\n",
            "12\n",
            "13\n",
            "Validation Loss: 1.2064\n",
            "Accuracy: 87.55\n",
            "Precision: 0.3209\n",
            "Recall: 0.5322\n",
            "F1 Score: 0.3974\n",
            "=> Saving checkpoint\n",
            "New best F1 score: 0.3974\n"
          ]
        },
        {
          "name": "stderr",
          "output_type": "stream",
          "text": [
            "Saving predictions:   0%|          | 0/13 [00:00<?, ?it/s]"
          ]
        },
        {
          "name": "stdout",
          "output_type": "stream",
          "text": [
            "1\n"
          ]
        },
        {
          "name": "stderr",
          "output_type": "stream",
          "text": [
            "Saving predictions:   8%|▊         | 1/13 [00:01<00:19,  1.66s/it]"
          ]
        },
        {
          "name": "stdout",
          "output_type": "stream",
          "text": [
            "2\n"
          ]
        },
        {
          "name": "stderr",
          "output_type": "stream",
          "text": [
            "Saving predictions:  15%|█▌        | 2/13 [00:02<00:10,  1.08it/s]"
          ]
        },
        {
          "name": "stdout",
          "output_type": "stream",
          "text": [
            "3\n"
          ]
        },
        {
          "name": "stderr",
          "output_type": "stream",
          "text": [
            "Saving predictions:  23%|██▎       | 3/13 [00:02<00:06,  1.44it/s]"
          ]
        },
        {
          "name": "stdout",
          "output_type": "stream",
          "text": [
            "4\n"
          ]
        },
        {
          "name": "stderr",
          "output_type": "stream",
          "text": [
            "Saving predictions:  31%|███       | 4/13 [00:02<00:05,  1.71it/s]"
          ]
        },
        {
          "name": "stdout",
          "output_type": "stream",
          "text": [
            "5\n"
          ]
        },
        {
          "name": "stderr",
          "output_type": "stream",
          "text": [
            "Saving predictions:  38%|███▊      | 5/13 [00:03<00:04,  1.92it/s]"
          ]
        },
        {
          "name": "stdout",
          "output_type": "stream",
          "text": [
            "6\n"
          ]
        },
        {
          "name": "stderr",
          "output_type": "stream",
          "text": [
            "Saving predictions:  46%|████▌     | 6/13 [00:03<00:03,  2.07it/s]"
          ]
        },
        {
          "name": "stdout",
          "output_type": "stream",
          "text": [
            "7\n"
          ]
        },
        {
          "name": "stderr",
          "output_type": "stream",
          "text": [
            "Saving predictions:  54%|█████▍    | 7/13 [00:04<00:02,  2.16it/s]"
          ]
        },
        {
          "name": "stdout",
          "output_type": "stream",
          "text": [
            "8\n"
          ]
        },
        {
          "name": "stderr",
          "output_type": "stream",
          "text": [
            "Saving predictions:  62%|██████▏   | 8/13 [00:04<00:02,  2.24it/s]"
          ]
        },
        {
          "name": "stdout",
          "output_type": "stream",
          "text": [
            "9\n"
          ]
        },
        {
          "name": "stderr",
          "output_type": "stream",
          "text": [
            "Saving predictions:  69%|██████▉   | 9/13 [00:04<00:01,  2.30it/s]"
          ]
        },
        {
          "name": "stdout",
          "output_type": "stream",
          "text": [
            "10\n"
          ]
        },
        {
          "name": "stderr",
          "output_type": "stream",
          "text": [
            "Saving predictions:  77%|███████▋  | 10/13 [00:05<00:01,  2.33it/s]"
          ]
        },
        {
          "name": "stdout",
          "output_type": "stream",
          "text": [
            "11\n"
          ]
        },
        {
          "name": "stderr",
          "output_type": "stream",
          "text": [
            "Saving predictions:  85%|████████▍ | 11/13 [00:05<00:00,  2.37it/s]"
          ]
        },
        {
          "name": "stdout",
          "output_type": "stream",
          "text": [
            "12\n"
          ]
        },
        {
          "name": "stderr",
          "output_type": "stream",
          "text": [
            "Saving predictions:  92%|█████████▏| 12/13 [00:06<00:00,  2.38it/s]"
          ]
        },
        {
          "name": "stdout",
          "output_type": "stream",
          "text": [
            "13\n"
          ]
        },
        {
          "name": "stderr",
          "output_type": "stream",
          "text": [
            "Saving predictions: 100%|██████████| 13/13 [00:06<00:00,  1.95it/s]\n"
          ]
        },
        {
          "name": "stdout",
          "output_type": "stream",
          "text": [
            "epoch 2\n"
          ]
        },
        {
          "name": "stderr",
          "output_type": "stream",
          "text": [
            "100%|██████████| 63/63 [00:42<00:00,  1.49it/s, loss=0.796]\n"
          ]
        },
        {
          "name": "stdout",
          "output_type": "stream",
          "text": [
            "=> Saving checkpoint\n",
            "1\n",
            "2\n",
            "3\n",
            "4\n",
            "5\n",
            "6\n",
            "7\n",
            "8\n",
            "9\n",
            "10\n",
            "11\n",
            "12\n",
            "13\n",
            "Validation Loss: 0.8956\n",
            "Accuracy: 75.14\n",
            "Precision: 0.2148\n",
            "Recall: 0.8297\n",
            "F1 Score: 0.3407\n",
            "epoch 3\n"
          ]
        },
        {
          "name": "stderr",
          "output_type": "stream",
          "text": [
            "100%|██████████| 63/63 [00:42<00:00,  1.49it/s, loss=0.703]\n"
          ]
        },
        {
          "name": "stdout",
          "output_type": "stream",
          "text": [
            "=> Saving checkpoint\n",
            "1\n",
            "2\n",
            "3\n",
            "4\n",
            "5\n",
            "6\n",
            "7\n",
            "8\n",
            "9\n",
            "10\n",
            "11\n",
            "12\n",
            "13\n",
            "Validation Loss: 0.9128\n",
            "Accuracy: 79.44\n",
            "Precision: 0.2405\n",
            "Recall: 0.7585\n",
            "F1 Score: 0.3640\n",
            "epoch 4\n"
          ]
        },
        {
          "name": "stderr",
          "output_type": "stream",
          "text": [
            "100%|██████████| 63/63 [00:42<00:00,  1.48it/s, loss=0.898]\n"
          ]
        },
        {
          "name": "stdout",
          "output_type": "stream",
          "text": [
            "=> Saving checkpoint\n",
            "1\n",
            "2\n",
            "3\n",
            "4\n",
            "5\n",
            "6\n",
            "7\n",
            "8\n",
            "9\n",
            "10\n",
            "11\n",
            "12\n",
            "13\n",
            "Validation Loss: 0.9026\n",
            "Accuracy: 76.89\n",
            "Precision: 0.2242\n",
            "Recall: 0.7989\n",
            "F1 Score: 0.3493\n",
            "epoch 5\n"
          ]
        },
        {
          "name": "stderr",
          "output_type": "stream",
          "text": [
            "100%|██████████| 63/63 [00:41<00:00,  1.50it/s, loss=0.744]\n"
          ]
        },
        {
          "name": "stdout",
          "output_type": "stream",
          "text": [
            "=> Saving checkpoint\n",
            "1\n",
            "2\n",
            "3\n",
            "4\n",
            "5\n",
            "6\n",
            "7\n",
            "8\n",
            "9\n",
            "10\n",
            "11\n",
            "12\n",
            "13\n",
            "Validation Loss: 0.8868\n",
            "Accuracy: 80.27\n",
            "Precision: 0.2514\n",
            "Recall: 0.7733\n",
            "F1 Score: 0.3784\n",
            "epoch 6\n"
          ]
        },
        {
          "name": "stderr",
          "output_type": "stream",
          "text": [
            "100%|██████████| 63/63 [00:41<00:00,  1.50it/s, loss=0.906]\n"
          ]
        },
        {
          "name": "stdout",
          "output_type": "stream",
          "text": [
            "=> Saving checkpoint\n",
            "1\n",
            "2\n",
            "3\n",
            "4\n",
            "5\n",
            "6\n",
            "7\n",
            "8\n",
            "9\n",
            "10\n",
            "11\n",
            "12\n",
            "13\n",
            "Validation Loss: 0.9946\n",
            "Accuracy: 81.86\n",
            "Precision: 0.2601\n",
            "Recall: 0.7150\n",
            "F1 Score: 0.3797\n",
            "epoch 7\n"
          ]
        },
        {
          "name": "stderr",
          "output_type": "stream",
          "text": [
            "100%|██████████| 63/63 [00:42<00:00,  1.49it/s, loss=0.76] \n"
          ]
        },
        {
          "name": "stdout",
          "output_type": "stream",
          "text": [
            "=> Saving checkpoint\n",
            "1\n",
            "2\n",
            "3\n",
            "4\n",
            "5\n",
            "6\n",
            "7\n",
            "8\n",
            "9\n",
            "10\n",
            "11\n",
            "12\n",
            "13\n",
            "Validation Loss: 0.8334\n",
            "Accuracy: 75.29\n",
            "Precision: 0.2215\n",
            "Recall: 0.8623\n",
            "F1 Score: 0.3517\n",
            "epoch 8\n"
          ]
        },
        {
          "name": "stderr",
          "output_type": "stream",
          "text": [
            "100%|██████████| 63/63 [00:37<00:00,  1.66it/s, loss=0.74] \n"
          ]
        },
        {
          "name": "stdout",
          "output_type": "stream",
          "text": [
            "=> Saving checkpoint\n",
            "1\n",
            "2\n",
            "3\n",
            "4\n",
            "5\n",
            "6\n",
            "7\n",
            "8\n",
            "9\n",
            "10\n",
            "11\n",
            "12\n",
            "13\n",
            "Validation Loss: 1.0966\n",
            "Accuracy: 60.36\n",
            "Precision: 0.1465\n",
            "Recall: 0.8436\n",
            "F1 Score: 0.2490\n",
            "epoch 9\n"
          ]
        },
        {
          "name": "stderr",
          "output_type": "stream",
          "text": [
            "100%|██████████| 63/63 [00:37<00:00,  1.66it/s, loss=0.599]\n"
          ]
        },
        {
          "name": "stdout",
          "output_type": "stream",
          "text": [
            "=> Saving checkpoint\n",
            "1\n",
            "2\n",
            "3\n",
            "4\n",
            "5\n",
            "6\n",
            "7\n",
            "8\n",
            "9\n",
            "10\n",
            "11\n",
            "12\n",
            "13\n",
            "Validation Loss: 0.9406\n",
            "Accuracy: 83.26\n",
            "Precision: 0.2753\n",
            "Recall: 0.7048\n",
            "F1 Score: 0.3948\n",
            "epoch 10\n"
          ]
        },
        {
          "name": "stderr",
          "output_type": "stream",
          "text": [
            "100%|██████████| 63/63 [00:38<00:00,  1.64it/s, loss=1.11] \n"
          ]
        },
        {
          "name": "stdout",
          "output_type": "stream",
          "text": [
            "=> Saving checkpoint\n",
            "1\n",
            "2\n",
            "3\n",
            "4\n",
            "5\n",
            "6\n",
            "7\n",
            "8\n",
            "9\n",
            "10\n",
            "11\n",
            "12\n",
            "13\n",
            "Validation Loss: 1.0547\n",
            "Accuracy: 85.74\n",
            "Precision: 0.3050\n",
            "Recall: 0.6471\n",
            "F1 Score: 0.4124\n",
            "=> Saving checkpoint\n",
            "New best F1 score: 0.4124\n"
          ]
        },
        {
          "name": "stderr",
          "output_type": "stream",
          "text": [
            "Saving predictions:   0%|          | 0/13 [00:00<?, ?it/s]"
          ]
        },
        {
          "name": "stdout",
          "output_type": "stream",
          "text": [
            "1\n"
          ]
        },
        {
          "name": "stderr",
          "output_type": "stream",
          "text": [
            "Saving predictions:   8%|▊         | 1/13 [00:01<00:18,  1.51s/it]"
          ]
        },
        {
          "name": "stdout",
          "output_type": "stream",
          "text": [
            "2\n"
          ]
        },
        {
          "name": "stderr",
          "output_type": "stream",
          "text": [
            "Saving predictions:  15%|█▌        | 2/13 [00:01<00:09,  1.17it/s]"
          ]
        },
        {
          "name": "stdout",
          "output_type": "stream",
          "text": [
            "3\n"
          ]
        },
        {
          "name": "stderr",
          "output_type": "stream",
          "text": [
            "Saving predictions:  23%|██▎       | 3/13 [00:02<00:06,  1.56it/s]"
          ]
        },
        {
          "name": "stdout",
          "output_type": "stream",
          "text": [
            "4\n"
          ]
        },
        {
          "name": "stderr",
          "output_type": "stream",
          "text": [
            "Saving predictions:  31%|███       | 4/13 [00:02<00:04,  1.85it/s]"
          ]
        },
        {
          "name": "stdout",
          "output_type": "stream",
          "text": [
            "5\n"
          ]
        },
        {
          "name": "stderr",
          "output_type": "stream",
          "text": [
            "Saving predictions:  38%|███▊      | 5/13 [00:03<00:03,  2.07it/s]"
          ]
        },
        {
          "name": "stdout",
          "output_type": "stream",
          "text": [
            "6\n"
          ]
        },
        {
          "name": "stderr",
          "output_type": "stream",
          "text": [
            "Saving predictions:  46%|████▌     | 6/13 [00:03<00:03,  2.22it/s]"
          ]
        },
        {
          "name": "stdout",
          "output_type": "stream",
          "text": [
            "7\n"
          ]
        },
        {
          "name": "stderr",
          "output_type": "stream",
          "text": [
            "Saving predictions:  54%|█████▍    | 7/13 [00:03<00:02,  2.33it/s]"
          ]
        },
        {
          "name": "stdout",
          "output_type": "stream",
          "text": [
            "8\n"
          ]
        },
        {
          "name": "stderr",
          "output_type": "stream",
          "text": [
            "Saving predictions:  62%|██████▏   | 8/13 [00:04<00:02,  2.41it/s]"
          ]
        },
        {
          "name": "stdout",
          "output_type": "stream",
          "text": [
            "9\n"
          ]
        },
        {
          "name": "stderr",
          "output_type": "stream",
          "text": [
            "Saving predictions:  69%|██████▉   | 9/13 [00:04<00:01,  2.47it/s]"
          ]
        },
        {
          "name": "stdout",
          "output_type": "stream",
          "text": [
            "10\n"
          ]
        },
        {
          "name": "stderr",
          "output_type": "stream",
          "text": [
            "Saving predictions:  77%|███████▋  | 10/13 [00:04<00:01,  2.53it/s]"
          ]
        },
        {
          "name": "stdout",
          "output_type": "stream",
          "text": [
            "11\n"
          ]
        },
        {
          "name": "stderr",
          "output_type": "stream",
          "text": [
            "Saving predictions:  85%|████████▍ | 11/13 [00:05<00:00,  2.57it/s]"
          ]
        },
        {
          "name": "stdout",
          "output_type": "stream",
          "text": [
            "12\n"
          ]
        },
        {
          "name": "stderr",
          "output_type": "stream",
          "text": [
            "Saving predictions:  92%|█████████▏| 12/13 [00:05<00:00,  2.60it/s]"
          ]
        },
        {
          "name": "stdout",
          "output_type": "stream",
          "text": [
            "13\n"
          ]
        },
        {
          "name": "stderr",
          "output_type": "stream",
          "text": [
            "Saving predictions: 100%|██████████| 13/13 [00:06<00:00,  2.11it/s]\n"
          ]
        },
        {
          "name": "stdout",
          "output_type": "stream",
          "text": [
            "epoch 11\n"
          ]
        },
        {
          "name": "stderr",
          "output_type": "stream",
          "text": [
            "100%|██████████| 63/63 [00:38<00:00,  1.65it/s, loss=0.663]\n"
          ]
        },
        {
          "name": "stdout",
          "output_type": "stream",
          "text": [
            "=> Saving checkpoint\n",
            "1\n",
            "2\n",
            "3\n",
            "4\n",
            "5\n",
            "6\n",
            "7\n",
            "8\n",
            "9\n",
            "10\n",
            "11\n",
            "12\n",
            "13\n",
            "Validation Loss: 0.9283\n",
            "Accuracy: 81.13\n",
            "Precision: 0.2596\n",
            "Recall: 0.7653\n",
            "F1 Score: 0.3864\n",
            "epoch 12\n"
          ]
        },
        {
          "name": "stderr",
          "output_type": "stream",
          "text": [
            "100%|██████████| 63/63 [00:38<00:00,  1.65it/s, loss=0.896]\n"
          ]
        },
        {
          "name": "stdout",
          "output_type": "stream",
          "text": [
            "=> Saving checkpoint\n",
            "1\n",
            "2\n",
            "3\n",
            "4\n",
            "5\n",
            "6\n",
            "7\n",
            "8\n",
            "9\n",
            "10\n",
            "11\n",
            "12\n",
            "13\n",
            "Validation Loss: 1.0331\n",
            "Accuracy: 84.99\n",
            "Precision: 0.2988\n",
            "Recall: 0.6815\n",
            "F1 Score: 0.4134\n",
            "=> Saving checkpoint\n",
            "New best F1 score: 0.4134\n"
          ]
        },
        {
          "name": "stderr",
          "output_type": "stream",
          "text": [
            "Saving predictions:   0%|          | 0/13 [00:00<?, ?it/s]"
          ]
        },
        {
          "name": "stdout",
          "output_type": "stream",
          "text": [
            "1\n"
          ]
        },
        {
          "name": "stderr",
          "output_type": "stream",
          "text": [
            "Saving predictions:   8%|▊         | 1/13 [00:01<00:18,  1.51s/it]"
          ]
        },
        {
          "name": "stdout",
          "output_type": "stream",
          "text": [
            "2\n"
          ]
        },
        {
          "name": "stderr",
          "output_type": "stream",
          "text": [
            "Saving predictions:  15%|█▌        | 2/13 [00:01<00:09,  1.17it/s]"
          ]
        },
        {
          "name": "stdout",
          "output_type": "stream",
          "text": [
            "3\n"
          ]
        },
        {
          "name": "stderr",
          "output_type": "stream",
          "text": [
            "Saving predictions:  23%|██▎       | 3/13 [00:02<00:06,  1.55it/s]"
          ]
        },
        {
          "name": "stdout",
          "output_type": "stream",
          "text": [
            "4\n"
          ]
        },
        {
          "name": "stderr",
          "output_type": "stream",
          "text": [
            "Saving predictions:  31%|███       | 4/13 [00:02<00:04,  1.81it/s]"
          ]
        },
        {
          "name": "stdout",
          "output_type": "stream",
          "text": [
            "5\n"
          ]
        },
        {
          "name": "stderr",
          "output_type": "stream",
          "text": [
            "Saving predictions:  38%|███▊      | 5/13 [00:03<00:03,  2.04it/s]"
          ]
        },
        {
          "name": "stdout",
          "output_type": "stream",
          "text": [
            "6\n"
          ]
        },
        {
          "name": "stderr",
          "output_type": "stream",
          "text": [
            "Saving predictions:  46%|████▌     | 6/13 [00:03<00:03,  2.21it/s]"
          ]
        },
        {
          "name": "stdout",
          "output_type": "stream",
          "text": [
            "7\n"
          ]
        },
        {
          "name": "stderr",
          "output_type": "stream",
          "text": [
            "Saving predictions:  54%|█████▍    | 7/13 [00:03<00:02,  2.33it/s]"
          ]
        },
        {
          "name": "stdout",
          "output_type": "stream",
          "text": [
            "8\n"
          ]
        },
        {
          "name": "stderr",
          "output_type": "stream",
          "text": [
            "Saving predictions:  62%|██████▏   | 8/13 [00:04<00:02,  2.39it/s]"
          ]
        },
        {
          "name": "stdout",
          "output_type": "stream",
          "text": [
            "9\n"
          ]
        },
        {
          "name": "stderr",
          "output_type": "stream",
          "text": [
            "Saving predictions:  69%|██████▉   | 9/13 [00:04<00:01,  2.44it/s]"
          ]
        },
        {
          "name": "stdout",
          "output_type": "stream",
          "text": [
            "10\n"
          ]
        },
        {
          "name": "stderr",
          "output_type": "stream",
          "text": [
            "Saving predictions:  77%|███████▋  | 10/13 [00:05<00:01,  2.49it/s]"
          ]
        },
        {
          "name": "stdout",
          "output_type": "stream",
          "text": [
            "11\n"
          ]
        },
        {
          "name": "stderr",
          "output_type": "stream",
          "text": [
            "Saving predictions:  85%|████████▍ | 11/13 [00:05<00:00,  2.51it/s]"
          ]
        },
        {
          "name": "stdout",
          "output_type": "stream",
          "text": [
            "12\n"
          ]
        },
        {
          "name": "stderr",
          "output_type": "stream",
          "text": [
            "Saving predictions:  92%|█████████▏| 12/13 [00:05<00:00,  2.53it/s]"
          ]
        },
        {
          "name": "stdout",
          "output_type": "stream",
          "text": [
            "13\n"
          ]
        },
        {
          "name": "stderr",
          "output_type": "stream",
          "text": [
            "Saving predictions: 100%|██████████| 13/13 [00:06<00:00,  2.08it/s]\n"
          ]
        },
        {
          "name": "stdout",
          "output_type": "stream",
          "text": [
            "epoch 13\n"
          ]
        },
        {
          "name": "stderr",
          "output_type": "stream",
          "text": [
            "100%|██████████| 63/63 [00:37<00:00,  1.67it/s, loss=0.644]\n"
          ]
        },
        {
          "name": "stdout",
          "output_type": "stream",
          "text": [
            "=> Saving checkpoint\n",
            "1\n",
            "2\n",
            "3\n",
            "4\n",
            "5\n",
            "6\n",
            "7\n",
            "8\n",
            "9\n",
            "10\n",
            "11\n",
            "12\n",
            "13\n",
            "Validation Loss: 0.9834\n",
            "Accuracy: 82.57\n",
            "Precision: 0.2683\n",
            "Recall: 0.7164\n",
            "F1 Score: 0.3891\n",
            "epoch 14\n"
          ]
        },
        {
          "name": "stderr",
          "output_type": "stream",
          "text": [
            "100%|██████████| 63/63 [00:39<00:00,  1.61it/s, loss=0.896]\n"
          ]
        },
        {
          "name": "stdout",
          "output_type": "stream",
          "text": [
            "=> Saving checkpoint\n",
            "1\n",
            "2\n",
            "3\n",
            "4\n",
            "5\n",
            "6\n",
            "7\n",
            "8\n",
            "9\n",
            "10\n",
            "11\n",
            "12\n",
            "13\n",
            "Validation Loss: 0.8714\n",
            "Accuracy: 79.04\n",
            "Precision: 0.2451\n",
            "Recall: 0.8086\n",
            "F1 Score: 0.3751\n",
            "epoch 15\n"
          ]
        },
        {
          "name": "stderr",
          "output_type": "stream",
          "text": [
            "100%|██████████| 63/63 [00:41<00:00,  1.53it/s, loss=0.7]  \n"
          ]
        },
        {
          "name": "stdout",
          "output_type": "stream",
          "text": [
            "=> Saving checkpoint\n",
            "1\n",
            "2\n",
            "3\n",
            "4\n",
            "5\n",
            "6\n",
            "7\n",
            "8\n",
            "9\n",
            "10\n",
            "11\n",
            "12\n",
            "13\n",
            "Validation Loss: 0.8765\n",
            "Accuracy: 71.05\n",
            "Precision: 0.1992\n",
            "Recall: 0.9040\n",
            "F1 Score: 0.3261\n",
            "epoch 16\n"
          ]
        },
        {
          "name": "stderr",
          "output_type": "stream",
          "text": [
            "100%|██████████| 63/63 [00:41<00:00,  1.51it/s, loss=0.941]\n"
          ]
        },
        {
          "name": "stdout",
          "output_type": "stream",
          "text": [
            "=> Saving checkpoint\n",
            "1\n",
            "2\n",
            "3\n",
            "4\n",
            "5\n",
            "6\n",
            "7\n",
            "8\n",
            "9\n",
            "10\n",
            "11\n",
            "12\n",
            "13\n",
            "Validation Loss: 1.0903\n",
            "Accuracy: 89.59\n",
            "Precision: 0.3827\n",
            "Recall: 0.5447\n",
            "F1 Score: 0.4463\n",
            "=> Saving checkpoint\n",
            "New best F1 score: 0.4463\n"
          ]
        },
        {
          "name": "stderr",
          "output_type": "stream",
          "text": [
            "Saving predictions:   0%|          | 0/13 [00:00<?, ?it/s]"
          ]
        },
        {
          "name": "stdout",
          "output_type": "stream",
          "text": [
            "1\n"
          ]
        },
        {
          "name": "stderr",
          "output_type": "stream",
          "text": [
            "Saving predictions:   8%|▊         | 1/13 [00:01<00:18,  1.57s/it]"
          ]
        },
        {
          "name": "stdout",
          "output_type": "stream",
          "text": [
            "2\n"
          ]
        },
        {
          "name": "stderr",
          "output_type": "stream",
          "text": [
            "Saving predictions:  15%|█▌        | 2/13 [00:02<00:09,  1.11it/s]"
          ]
        },
        {
          "name": "stdout",
          "output_type": "stream",
          "text": [
            "3\n"
          ]
        },
        {
          "name": "stderr",
          "output_type": "stream",
          "text": [
            "Saving predictions:  23%|██▎       | 3/13 [00:02<00:06,  1.48it/s]"
          ]
        },
        {
          "name": "stdout",
          "output_type": "stream",
          "text": [
            "4\n"
          ]
        },
        {
          "name": "stderr",
          "output_type": "stream",
          "text": [
            "Saving predictions:  31%|███       | 4/13 [00:02<00:05,  1.76it/s]"
          ]
        },
        {
          "name": "stdout",
          "output_type": "stream",
          "text": [
            "5\n"
          ]
        },
        {
          "name": "stderr",
          "output_type": "stream",
          "text": [
            "Saving predictions:  38%|███▊      | 5/13 [00:03<00:04,  1.96it/s]"
          ]
        },
        {
          "name": "stdout",
          "output_type": "stream",
          "text": [
            "6\n"
          ]
        },
        {
          "name": "stderr",
          "output_type": "stream",
          "text": [
            "Saving predictions:  46%|████▌     | 6/13 [00:03<00:03,  2.11it/s]"
          ]
        },
        {
          "name": "stdout",
          "output_type": "stream",
          "text": [
            "7\n"
          ]
        },
        {
          "name": "stderr",
          "output_type": "stream",
          "text": [
            "Saving predictions:  54%|█████▍    | 7/13 [00:04<00:02,  2.23it/s]"
          ]
        },
        {
          "name": "stdout",
          "output_type": "stream",
          "text": [
            "8\n"
          ]
        },
        {
          "name": "stderr",
          "output_type": "stream",
          "text": [
            "Saving predictions:  62%|██████▏   | 8/13 [00:04<00:02,  2.31it/s]"
          ]
        },
        {
          "name": "stdout",
          "output_type": "stream",
          "text": [
            "9\n"
          ]
        },
        {
          "name": "stderr",
          "output_type": "stream",
          "text": [
            "Saving predictions:  69%|██████▉   | 9/13 [00:04<00:01,  2.37it/s]"
          ]
        },
        {
          "name": "stdout",
          "output_type": "stream",
          "text": [
            "10\n"
          ]
        },
        {
          "name": "stderr",
          "output_type": "stream",
          "text": [
            "Saving predictions:  77%|███████▋  | 10/13 [00:05<00:01,  2.41it/s]"
          ]
        },
        {
          "name": "stdout",
          "output_type": "stream",
          "text": [
            "11\n"
          ]
        },
        {
          "name": "stderr",
          "output_type": "stream",
          "text": [
            "Saving predictions:  85%|████████▍ | 11/13 [00:05<00:00,  2.44it/s]"
          ]
        },
        {
          "name": "stdout",
          "output_type": "stream",
          "text": [
            "12\n"
          ]
        },
        {
          "name": "stderr",
          "output_type": "stream",
          "text": [
            "Saving predictions:  92%|█████████▏| 12/13 [00:06<00:00,  2.46it/s]"
          ]
        },
        {
          "name": "stdout",
          "output_type": "stream",
          "text": [
            "13\n"
          ]
        },
        {
          "name": "stderr",
          "output_type": "stream",
          "text": [
            "Saving predictions: 100%|██████████| 13/13 [00:06<00:00,  2.01it/s]\n"
          ]
        },
        {
          "name": "stdout",
          "output_type": "stream",
          "text": [
            "epoch 17\n"
          ]
        },
        {
          "name": "stderr",
          "output_type": "stream",
          "text": [
            "100%|██████████| 63/63 [00:42<00:00,  1.48it/s, loss=0.846]\n"
          ]
        },
        {
          "name": "stdout",
          "output_type": "stream",
          "text": [
            "=> Saving checkpoint\n",
            "1\n",
            "2\n",
            "3\n",
            "4\n",
            "5\n",
            "6\n",
            "7\n",
            "8\n",
            "9\n",
            "10\n",
            "11\n",
            "12\n",
            "13\n",
            "Validation Loss: 0.9150\n",
            "Accuracy: 82.99\n",
            "Precision: 0.2797\n",
            "Recall: 0.7429\n",
            "F1 Score: 0.4044\n",
            "epoch 18\n"
          ]
        },
        {
          "name": "stderr",
          "output_type": "stream",
          "text": [
            "100%|██████████| 63/63 [00:42<00:00,  1.47it/s, loss=0.709]\n"
          ]
        },
        {
          "name": "stdout",
          "output_type": "stream",
          "text": [
            "=> Saving checkpoint\n",
            "1\n",
            "2\n",
            "3\n",
            "4\n",
            "5\n",
            "6\n",
            "7\n",
            "8\n",
            "9\n",
            "10\n",
            "11\n",
            "12\n",
            "13\n",
            "Validation Loss: 0.8947\n",
            "Accuracy: 75.88\n",
            "Precision: 0.2234\n",
            "Recall: 0.8505\n",
            "F1 Score: 0.3534\n",
            "epoch 19\n"
          ]
        },
        {
          "name": "stderr",
          "output_type": "stream",
          "text": [
            "100%|██████████| 63/63 [00:43<00:00,  1.44it/s, loss=0.546]\n"
          ]
        },
        {
          "name": "stdout",
          "output_type": "stream",
          "text": [
            "=> Saving checkpoint\n",
            "1\n",
            "2\n",
            "3\n",
            "4\n",
            "5\n",
            "6\n",
            "7\n",
            "8\n",
            "9\n",
            "10\n",
            "11\n",
            "12\n",
            "13\n",
            "Validation Loss: 1.0286\n",
            "Accuracy: 86.66\n",
            "Precision: 0.3207\n",
            "Recall: 0.6394\n",
            "F1 Score: 0.4254\n",
            "epoch 20\n"
          ]
        },
        {
          "name": "stderr",
          "output_type": "stream",
          "text": [
            "100%|██████████| 63/63 [00:42<00:00,  1.48it/s, loss=0.662]\n"
          ]
        },
        {
          "name": "stdout",
          "output_type": "stream",
          "text": [
            "=> Saving checkpoint\n",
            "1\n",
            "2\n",
            "3\n",
            "4\n",
            "5\n",
            "6\n",
            "7\n",
            "8\n",
            "9\n",
            "10\n",
            "11\n",
            "12\n",
            "13\n",
            "Validation Loss: 0.9183\n",
            "Accuracy: 84.33\n",
            "Precision: 0.2888\n",
            "Recall: 0.6976\n",
            "F1 Score: 0.4076\n",
            "epoch 21\n"
          ]
        },
        {
          "name": "stderr",
          "output_type": "stream",
          "text": [
            "100%|██████████| 63/63 [00:43<00:00,  1.46it/s, loss=0.757]\n"
          ]
        },
        {
          "name": "stdout",
          "output_type": "stream",
          "text": [
            "=> Saving checkpoint\n",
            "1\n",
            "2\n",
            "3\n",
            "4\n",
            "5\n",
            "6\n",
            "7\n",
            "8\n",
            "9\n",
            "10\n",
            "11\n",
            "12\n",
            "13\n",
            "Validation Loss: 0.8675\n",
            "Accuracy: 67.06\n",
            "Precision: 0.1834\n",
            "Recall: 0.9421\n",
            "F1 Score: 0.3069\n",
            "epoch 22\n"
          ]
        },
        {
          "name": "stderr",
          "output_type": "stream",
          "text": [
            "100%|██████████| 63/63 [00:43<00:00,  1.43it/s, loss=0.815]\n"
          ]
        },
        {
          "name": "stdout",
          "output_type": "stream",
          "text": [
            "=> Saving checkpoint\n",
            "1\n",
            "2\n",
            "3\n",
            "4\n",
            "5\n",
            "6\n",
            "7\n",
            "8\n",
            "9\n",
            "10\n",
            "11\n",
            "12\n",
            "13\n",
            "Validation Loss: 0.8455\n",
            "Accuracy: 72.89\n",
            "Precision: 0.2080\n",
            "Recall: 0.8837\n",
            "F1 Score: 0.3362\n",
            "epoch 23\n"
          ]
        },
        {
          "name": "stderr",
          "output_type": "stream",
          "text": [
            "100%|██████████| 63/63 [00:41<00:00,  1.51it/s, loss=0.589]\n"
          ]
        },
        {
          "name": "stdout",
          "output_type": "stream",
          "text": [
            "=> Saving checkpoint\n",
            "1\n",
            "2\n",
            "3\n",
            "4\n",
            "5\n",
            "6\n",
            "7\n",
            "8\n",
            "9\n",
            "10\n",
            "11\n",
            "12\n",
            "13\n",
            "Validation Loss: 1.0329\n",
            "Accuracy: 86.59\n",
            "Precision: 0.3223\n",
            "Recall: 0.6524\n",
            "F1 Score: 0.4296\n",
            "epoch 24\n"
          ]
        },
        {
          "name": "stderr",
          "output_type": "stream",
          "text": [
            "100%|██████████| 63/63 [00:41<00:00,  1.53it/s, loss=0.693]\n"
          ]
        },
        {
          "name": "stdout",
          "output_type": "stream",
          "text": [
            "=> Saving checkpoint\n",
            "1\n",
            "2\n",
            "3\n",
            "4\n",
            "5\n",
            "6\n",
            "7\n",
            "8\n",
            "9\n",
            "10\n",
            "11\n",
            "12\n",
            "13\n",
            "Validation Loss: 1.1549\n",
            "Accuracy: 89.09\n",
            "Precision: 0.3628\n",
            "Recall: 0.5457\n",
            "F1 Score: 0.4351\n",
            "epoch 25\n"
          ]
        },
        {
          "name": "stderr",
          "output_type": "stream",
          "text": [
            "100%|██████████| 63/63 [00:43<00:00,  1.45it/s, loss=0.855]\n"
          ]
        },
        {
          "name": "stdout",
          "output_type": "stream",
          "text": [
            "=> Saving checkpoint\n",
            "1\n",
            "2\n",
            "3\n",
            "4\n",
            "5\n",
            "6\n",
            "7\n",
            "8\n",
            "9\n",
            "10\n",
            "11\n",
            "12\n",
            "13\n",
            "Validation Loss: 0.9171\n",
            "Accuracy: 83.38\n",
            "Precision: 0.2812\n",
            "Recall: 0.7277\n",
            "F1 Score: 0.4044\n",
            "epoch 26\n"
          ]
        },
        {
          "name": "stderr",
          "output_type": "stream",
          "text": [
            "100%|██████████| 63/63 [00:43<00:00,  1.46it/s, loss=0.603]\n"
          ]
        },
        {
          "name": "stdout",
          "output_type": "stream",
          "text": [
            "=> Saving checkpoint\n",
            "1\n",
            "2\n",
            "3\n",
            "4\n",
            "5\n",
            "6\n",
            "7\n",
            "8\n",
            "9\n",
            "10\n",
            "11\n",
            "12\n",
            "13\n",
            "Validation Loss: 0.9143\n",
            "Accuracy: 78.39\n",
            "Precision: 0.2397\n",
            "Recall: 0.8122\n",
            "F1 Score: 0.3691\n",
            "epoch 27\n"
          ]
        },
        {
          "name": "stderr",
          "output_type": "stream",
          "text": [
            "100%|██████████| 63/63 [00:42<00:00,  1.48it/s, loss=0.701]\n"
          ]
        },
        {
          "name": "stdout",
          "output_type": "stream",
          "text": [
            "=> Saving checkpoint\n",
            "1\n",
            "2\n",
            "3\n",
            "4\n",
            "5\n",
            "6\n",
            "7\n",
            "8\n",
            "9\n",
            "10\n",
            "11\n",
            "12\n",
            "13\n",
            "Validation Loss: 1.1771\n",
            "Accuracy: 89.83\n",
            "Precision: 0.3869\n",
            "Recall: 0.5357\n",
            "F1 Score: 0.4478\n",
            "=> Saving checkpoint\n",
            "New best F1 score: 0.4478\n"
          ]
        },
        {
          "name": "stderr",
          "output_type": "stream",
          "text": [
            "Saving predictions:   0%|          | 0/13 [00:00<?, ?it/s]"
          ]
        },
        {
          "name": "stdout",
          "output_type": "stream",
          "text": [
            "1\n"
          ]
        },
        {
          "name": "stderr",
          "output_type": "stream",
          "text": [
            "Saving predictions:   8%|▊         | 1/13 [00:01<00:19,  1.61s/it]"
          ]
        },
        {
          "name": "stdout",
          "output_type": "stream",
          "text": [
            "2\n"
          ]
        },
        {
          "name": "stderr",
          "output_type": "stream",
          "text": [
            "Saving predictions:  15%|█▌        | 2/13 [00:02<00:09,  1.10it/s]"
          ]
        },
        {
          "name": "stdout",
          "output_type": "stream",
          "text": [
            "3\n"
          ]
        },
        {
          "name": "stderr",
          "output_type": "stream",
          "text": [
            "Saving predictions:  23%|██▎       | 3/13 [00:02<00:06,  1.48it/s]"
          ]
        },
        {
          "name": "stdout",
          "output_type": "stream",
          "text": [
            "4\n"
          ]
        },
        {
          "name": "stderr",
          "output_type": "stream",
          "text": [
            "Saving predictions:  31%|███       | 4/13 [00:02<00:05,  1.75it/s]"
          ]
        },
        {
          "name": "stdout",
          "output_type": "stream",
          "text": [
            "5\n"
          ]
        },
        {
          "name": "stderr",
          "output_type": "stream",
          "text": [
            "Saving predictions:  38%|███▊      | 5/13 [00:03<00:04,  1.95it/s]"
          ]
        },
        {
          "name": "stdout",
          "output_type": "stream",
          "text": [
            "6\n"
          ]
        },
        {
          "name": "stderr",
          "output_type": "stream",
          "text": [
            "Saving predictions:  46%|████▌     | 6/13 [00:03<00:03,  2.10it/s]"
          ]
        },
        {
          "name": "stdout",
          "output_type": "stream",
          "text": [
            "7\n"
          ]
        },
        {
          "name": "stderr",
          "output_type": "stream",
          "text": [
            "Saving predictions:  54%|█████▍    | 7/13 [00:04<00:02,  2.21it/s]"
          ]
        },
        {
          "name": "stdout",
          "output_type": "stream",
          "text": [
            "8\n"
          ]
        },
        {
          "name": "stderr",
          "output_type": "stream",
          "text": [
            "Saving predictions:  62%|██████▏   | 8/13 [00:04<00:02,  2.28it/s]"
          ]
        },
        {
          "name": "stdout",
          "output_type": "stream",
          "text": [
            "9\n"
          ]
        },
        {
          "name": "stderr",
          "output_type": "stream",
          "text": [
            "Saving predictions:  69%|██████▉   | 9/13 [00:04<00:01,  2.34it/s]"
          ]
        },
        {
          "name": "stdout",
          "output_type": "stream",
          "text": [
            "10\n"
          ]
        },
        {
          "name": "stderr",
          "output_type": "stream",
          "text": [
            "Saving predictions:  77%|███████▋  | 10/13 [00:05<00:01,  2.38it/s]"
          ]
        },
        {
          "name": "stdout",
          "output_type": "stream",
          "text": [
            "11\n"
          ]
        },
        {
          "name": "stderr",
          "output_type": "stream",
          "text": [
            "Saving predictions:  85%|████████▍ | 11/13 [00:05<00:00,  2.40it/s]"
          ]
        },
        {
          "name": "stdout",
          "output_type": "stream",
          "text": [
            "12\n"
          ]
        },
        {
          "name": "stderr",
          "output_type": "stream",
          "text": [
            "Saving predictions:  92%|█████████▏| 12/13 [00:06<00:00,  2.41it/s]"
          ]
        },
        {
          "name": "stdout",
          "output_type": "stream",
          "text": [
            "13\n"
          ]
        },
        {
          "name": "stderr",
          "output_type": "stream",
          "text": [
            "Saving predictions: 100%|██████████| 13/13 [00:06<00:00,  1.98it/s]\n"
          ]
        },
        {
          "name": "stdout",
          "output_type": "stream",
          "text": [
            "epoch 28\n"
          ]
        },
        {
          "name": "stderr",
          "output_type": "stream",
          "text": [
            "100%|██████████| 63/63 [00:42<00:00,  1.49it/s, loss=0.708]\n"
          ]
        },
        {
          "name": "stdout",
          "output_type": "stream",
          "text": [
            "=> Saving checkpoint\n",
            "1\n",
            "2\n",
            "3\n",
            "4\n",
            "5\n",
            "6\n",
            "7\n",
            "8\n",
            "9\n",
            "10\n",
            "11\n",
            "12\n",
            "13\n",
            "Validation Loss: 0.8974\n",
            "Accuracy: 80.08\n",
            "Precision: 0.2520\n",
            "Recall: 0.7953\n",
            "F1 Score: 0.3821\n",
            "epoch 29\n"
          ]
        },
        {
          "name": "stderr",
          "output_type": "stream",
          "text": [
            "100%|██████████| 63/63 [00:42<00:00,  1.50it/s, loss=0.638]\n"
          ]
        },
        {
          "name": "stdout",
          "output_type": "stream",
          "text": [
            "=> Saving checkpoint\n",
            "1\n",
            "2\n",
            "3\n",
            "4\n",
            "5\n",
            "6\n",
            "7\n",
            "8\n",
            "9\n",
            "10\n",
            "11\n",
            "12\n",
            "13\n",
            "Validation Loss: 0.9846\n",
            "Accuracy: 84.21\n",
            "Precision: 0.2890\n",
            "Recall: 0.7035\n",
            "F1 Score: 0.4081\n",
            "epoch 30\n"
          ]
        },
        {
          "name": "stderr",
          "output_type": "stream",
          "text": [
            "100%|██████████| 63/63 [00:41<00:00,  1.52it/s, loss=0.577]\n"
          ]
        },
        {
          "name": "stdout",
          "output_type": "stream",
          "text": [
            "=> Saving checkpoint\n",
            "1\n",
            "2\n",
            "3\n",
            "4\n",
            "5\n",
            "6\n",
            "7\n",
            "8\n",
            "9\n",
            "10\n",
            "11\n",
            "12\n",
            "13\n",
            "Validation Loss: 0.8210\n",
            "Accuracy: 73.11\n",
            "Precision: 0.2090\n",
            "Recall: 0.8858\n",
            "F1 Score: 0.3378\n",
            "epoch 31\n"
          ]
        },
        {
          "name": "stderr",
          "output_type": "stream",
          "text": [
            "100%|██████████| 63/63 [00:41<00:00,  1.50it/s, loss=0.713]\n"
          ]
        },
        {
          "name": "stdout",
          "output_type": "stream",
          "text": [
            "=> Saving checkpoint\n",
            "1\n",
            "2\n",
            "3\n",
            "4\n",
            "5\n",
            "6\n",
            "7\n",
            "8\n",
            "9\n",
            "10\n",
            "11\n",
            "12\n",
            "13\n",
            "Validation Loss: 1.0146\n",
            "Accuracy: 86.62\n",
            "Precision: 0.3237\n",
            "Recall: 0.6608\n",
            "F1 Score: 0.4330\n",
            "epoch 32\n"
          ]
        },
        {
          "name": "stderr",
          "output_type": "stream",
          "text": [
            "100%|██████████| 63/63 [00:41<00:00,  1.53it/s, loss=0.757]\n"
          ]
        },
        {
          "name": "stdout",
          "output_type": "stream",
          "text": [
            "=> Saving checkpoint\n",
            "1\n",
            "2\n",
            "3\n",
            "4\n",
            "5\n",
            "6\n",
            "7\n",
            "8\n",
            "9\n",
            "10\n",
            "11\n",
            "12\n",
            "13\n",
            "Validation Loss: 1.1886\n",
            "Accuracy: 88.71\n",
            "Precision: 0.3596\n",
            "Recall: 0.5829\n",
            "F1 Score: 0.4432\n",
            "epoch 33\n"
          ]
        },
        {
          "name": "stderr",
          "output_type": "stream",
          "text": [
            "100%|██████████| 63/63 [00:40<00:00,  1.55it/s, loss=0.679]\n"
          ]
        },
        {
          "name": "stdout",
          "output_type": "stream",
          "text": [
            "=> Saving checkpoint\n",
            "1\n",
            "2\n",
            "3\n",
            "4\n",
            "5\n",
            "6\n",
            "7\n",
            "8\n",
            "9\n",
            "10\n",
            "11\n",
            "12\n",
            "13\n",
            "Validation Loss: 0.8655\n",
            "Accuracy: 79.74\n",
            "Precision: 0.2493\n",
            "Recall: 0.7966\n",
            "F1 Score: 0.3789\n",
            "epoch 34\n"
          ]
        },
        {
          "name": "stderr",
          "output_type": "stream",
          "text": [
            "100%|██████████| 63/63 [00:41<00:00,  1.53it/s, loss=0.584]\n"
          ]
        },
        {
          "name": "stdout",
          "output_type": "stream",
          "text": [
            "=> Saving checkpoint\n",
            "1\n",
            "2\n",
            "3\n",
            "4\n",
            "5\n",
            "6\n",
            "7\n",
            "8\n",
            "9\n",
            "10\n",
            "11\n",
            "12\n",
            "13\n",
            "Validation Loss: 0.8548\n",
            "Accuracy: 78.99\n",
            "Precision: 0.2466\n",
            "Recall: 0.8091\n",
            "F1 Score: 0.3760\n",
            "epoch 35\n"
          ]
        },
        {
          "name": "stderr",
          "output_type": "stream",
          "text": [
            "100%|██████████| 63/63 [00:42<00:00,  1.48it/s, loss=0.587]\n"
          ]
        },
        {
          "name": "stdout",
          "output_type": "stream",
          "text": [
            "=> Saving checkpoint\n",
            "1\n",
            "2\n",
            "3\n",
            "4\n",
            "5\n",
            "6\n",
            "7\n",
            "8\n",
            "9\n",
            "10\n",
            "11\n",
            "12\n",
            "13\n",
            "Validation Loss: 0.8183\n",
            "Accuracy: 80.01\n",
            "Precision: 0.2552\n",
            "Recall: 0.8213\n",
            "F1 Score: 0.3887\n",
            "epoch 36\n"
          ]
        },
        {
          "name": "stderr",
          "output_type": "stream",
          "text": [
            "100%|██████████| 63/63 [00:42<00:00,  1.47it/s, loss=1.16] \n"
          ]
        },
        {
          "name": "stdout",
          "output_type": "stream",
          "text": [
            "=> Saving checkpoint\n",
            "1\n",
            "2\n",
            "3\n",
            "4\n",
            "5\n",
            "6\n",
            "7\n",
            "8\n",
            "9\n",
            "10\n",
            "11\n",
            "12\n",
            "13\n",
            "Validation Loss: 0.8823\n",
            "Accuracy: 82.36\n",
            "Precision: 0.2728\n",
            "Recall: 0.7656\n",
            "F1 Score: 0.4016\n",
            "epoch 37\n"
          ]
        },
        {
          "name": "stderr",
          "output_type": "stream",
          "text": [
            "100%|██████████| 63/63 [00:42<00:00,  1.48it/s, loss=0.639]\n"
          ]
        },
        {
          "name": "stdout",
          "output_type": "stream",
          "text": [
            "=> Saving checkpoint\n",
            "1\n",
            "2\n",
            "3\n",
            "4\n",
            "5\n",
            "6\n",
            "7\n",
            "8\n",
            "9\n",
            "10\n",
            "11\n",
            "12\n",
            "13\n",
            "Validation Loss: 0.8929\n",
            "Accuracy: 84.55\n",
            "Precision: 0.2980\n",
            "Recall: 0.7343\n",
            "F1 Score: 0.4234\n",
            "epoch 38\n"
          ]
        },
        {
          "name": "stderr",
          "output_type": "stream",
          "text": [
            "100%|██████████| 63/63 [00:42<00:00,  1.49it/s, loss=0.717]\n"
          ]
        },
        {
          "name": "stdout",
          "output_type": "stream",
          "text": [
            "=> Saving checkpoint\n",
            "1\n",
            "2\n",
            "3\n",
            "4\n",
            "5\n",
            "6\n",
            "7\n",
            "8\n",
            "9\n",
            "10\n",
            "11\n",
            "12\n",
            "13\n",
            "Validation Loss: 0.8065\n",
            "Accuracy: 77.80\n",
            "Precision: 0.2387\n",
            "Recall: 0.8521\n",
            "F1 Score: 0.3725\n",
            "epoch 39\n"
          ]
        },
        {
          "name": "stderr",
          "output_type": "stream",
          "text": [
            "100%|██████████| 63/63 [00:42<00:00,  1.48it/s, loss=0.7]  \n"
          ]
        },
        {
          "name": "stdout",
          "output_type": "stream",
          "text": [
            "=> Saving checkpoint\n",
            "1\n",
            "2\n",
            "3\n",
            "4\n",
            "5\n",
            "6\n",
            "7\n",
            "8\n",
            "9\n",
            "10\n",
            "11\n",
            "12\n",
            "13\n",
            "Validation Loss: 0.7975\n",
            "Accuracy: 72.09\n",
            "Precision: 0.2083\n",
            "Recall: 0.9214\n",
            "F1 Score: 0.3392\n",
            "epoch 40\n"
          ]
        },
        {
          "name": "stderr",
          "output_type": "stream",
          "text": [
            "100%|██████████| 63/63 [00:42<00:00,  1.48it/s, loss=0.521]\n"
          ]
        },
        {
          "name": "stdout",
          "output_type": "stream",
          "text": [
            "=> Saving checkpoint\n",
            "1\n",
            "2\n",
            "3\n",
            "4\n",
            "5\n",
            "6\n",
            "7\n",
            "8\n",
            "9\n",
            "10\n",
            "11\n",
            "12\n",
            "13\n",
            "Validation Loss: 1.0205\n",
            "Accuracy: 88.06\n",
            "Precision: 0.3499\n",
            "Recall: 0.6209\n",
            "F1 Score: 0.4453\n",
            "epoch 41\n"
          ]
        },
        {
          "name": "stderr",
          "output_type": "stream",
          "text": [
            "100%|██████████| 63/63 [00:41<00:00,  1.50it/s, loss=0.526]\n"
          ]
        },
        {
          "name": "stdout",
          "output_type": "stream",
          "text": [
            "=> Saving checkpoint\n",
            "1\n",
            "2\n",
            "3\n",
            "4\n",
            "5\n",
            "6\n",
            "7\n",
            "8\n",
            "9\n",
            "10\n",
            "11\n",
            "12\n",
            "13\n",
            "Validation Loss: 0.8460\n",
            "Accuracy: 78.74\n",
            "Precision: 0.2435\n",
            "Recall: 0.8233\n",
            "F1 Score: 0.3751\n",
            "epoch 42\n"
          ]
        },
        {
          "name": "stderr",
          "output_type": "stream",
          "text": [
            "100%|██████████| 63/63 [00:42<00:00,  1.48it/s, loss=0.62] \n"
          ]
        },
        {
          "name": "stdout",
          "output_type": "stream",
          "text": [
            "=> Saving checkpoint\n",
            "1\n",
            "2\n",
            "3\n",
            "4\n",
            "5\n",
            "6\n",
            "7\n",
            "8\n",
            "9\n",
            "10\n",
            "11\n",
            "12\n",
            "13\n",
            "Validation Loss: 0.8329\n",
            "Accuracy: 82.31\n",
            "Precision: 0.2753\n",
            "Recall: 0.7852\n",
            "F1 Score: 0.4068\n",
            "epoch 43\n"
          ]
        },
        {
          "name": "stderr",
          "output_type": "stream",
          "text": [
            "100%|██████████| 63/63 [00:42<00:00,  1.47it/s, loss=0.776]\n"
          ]
        },
        {
          "name": "stdout",
          "output_type": "stream",
          "text": [
            "=> Saving checkpoint\n",
            "1\n",
            "2\n",
            "3\n",
            "4\n",
            "5\n",
            "6\n",
            "7\n",
            "8\n",
            "9\n",
            "10\n",
            "11\n",
            "12\n",
            "13\n",
            "Validation Loss: 0.8023\n",
            "Accuracy: 69.56\n",
            "Precision: 0.1963\n",
            "Recall: 0.9427\n",
            "F1 Score: 0.3246\n",
            "epoch 44\n"
          ]
        },
        {
          "name": "stderr",
          "output_type": "stream",
          "text": [
            "100%|██████████| 63/63 [00:42<00:00,  1.49it/s, loss=0.551]\n"
          ]
        },
        {
          "name": "stdout",
          "output_type": "stream",
          "text": [
            "=> Saving checkpoint\n",
            "1\n",
            "2\n",
            "3\n",
            "4\n",
            "5\n",
            "6\n",
            "7\n",
            "8\n",
            "9\n",
            "10\n",
            "11\n",
            "12\n",
            "13\n",
            "Validation Loss: 0.7845\n",
            "Accuracy: 78.04\n",
            "Precision: 0.2418\n",
            "Recall: 0.8572\n",
            "F1 Score: 0.3767\n",
            "epoch 45\n"
          ]
        },
        {
          "name": "stderr",
          "output_type": "stream",
          "text": [
            "100%|██████████| 63/63 [00:43<00:00,  1.46it/s, loss=0.559]\n"
          ]
        },
        {
          "name": "stdout",
          "output_type": "stream",
          "text": [
            "=> Saving checkpoint\n",
            "1\n",
            "2\n",
            "3\n",
            "4\n",
            "5\n",
            "6\n",
            "7\n",
            "8\n",
            "9\n",
            "10\n",
            "11\n",
            "12\n",
            "13\n",
            "Validation Loss: 0.7653\n",
            "Accuracy: 79.57\n",
            "Precision: 0.2554\n",
            "Recall: 0.8567\n",
            "F1 Score: 0.3931\n",
            "epoch 46\n"
          ]
        },
        {
          "name": "stderr",
          "output_type": "stream",
          "text": [
            "100%|██████████| 63/63 [00:38<00:00,  1.64it/s, loss=0.618]\n"
          ]
        },
        {
          "name": "stdout",
          "output_type": "stream",
          "text": [
            "=> Saving checkpoint\n",
            "1\n",
            "2\n",
            "3\n",
            "4\n",
            "5\n",
            "6\n",
            "7\n",
            "8\n",
            "9\n",
            "10\n",
            "11\n",
            "12\n",
            "13\n",
            "Validation Loss: 0.8112\n",
            "Accuracy: 82.52\n",
            "Precision: 0.2801\n",
            "Recall: 0.8037\n",
            "F1 Score: 0.4149\n",
            "epoch 47\n"
          ]
        },
        {
          "name": "stderr",
          "output_type": "stream",
          "text": [
            "100%|██████████| 63/63 [00:38<00:00,  1.65it/s, loss=0.494]\n"
          ]
        },
        {
          "name": "stdout",
          "output_type": "stream",
          "text": [
            "=> Saving checkpoint\n",
            "1\n",
            "2\n",
            "3\n",
            "4\n",
            "5\n",
            "6\n",
            "7\n",
            "8\n",
            "9\n",
            "10\n",
            "11\n",
            "12\n",
            "13\n",
            "Validation Loss: 0.7902\n",
            "Accuracy: 81.74\n",
            "Precision: 0.2732\n",
            "Recall: 0.8205\n",
            "F1 Score: 0.4095\n",
            "epoch 48\n"
          ]
        },
        {
          "name": "stderr",
          "output_type": "stream",
          "text": [
            "100%|██████████| 63/63 [00:37<00:00,  1.66it/s, loss=0.632]\n"
          ]
        },
        {
          "name": "stdout",
          "output_type": "stream",
          "text": [
            "=> Saving checkpoint\n",
            "1\n",
            "2\n",
            "3\n",
            "4\n",
            "5\n",
            "6\n",
            "7\n",
            "8\n",
            "9\n",
            "10\n",
            "11\n",
            "12\n",
            "13\n",
            "Validation Loss: 0.7982\n",
            "Accuracy: 82.41\n",
            "Precision: 0.2795\n",
            "Recall: 0.8089\n",
            "F1 Score: 0.4150\n",
            "epoch 49\n"
          ]
        },
        {
          "name": "stderr",
          "output_type": "stream",
          "text": [
            "100%|██████████| 63/63 [00:38<00:00,  1.64it/s, loss=0.584]\n"
          ]
        },
        {
          "name": "stdout",
          "output_type": "stream",
          "text": [
            "=> Saving checkpoint\n",
            "1\n",
            "2\n",
            "3\n",
            "4\n",
            "5\n",
            "6\n",
            "7\n",
            "8\n",
            "9\n",
            "10\n",
            "11\n",
            "12\n",
            "13\n",
            "Validation Loss: 0.7515\n",
            "Accuracy: 78.29\n",
            "Precision: 0.2466\n",
            "Recall: 0.8779\n",
            "F1 Score: 0.3846\n",
            "epoch 50\n"
          ]
        },
        {
          "name": "stderr",
          "output_type": "stream",
          "text": [
            "100%|██████████| 63/63 [00:38<00:00,  1.65it/s, loss=0.623]\n"
          ]
        },
        {
          "name": "stdout",
          "output_type": "stream",
          "text": [
            "=> Saving checkpoint\n",
            "1\n",
            "2\n",
            "3\n",
            "4\n",
            "5\n",
            "6\n",
            "7\n",
            "8\n",
            "9\n",
            "10\n",
            "11\n",
            "12\n",
            "13\n",
            "Validation Loss: 0.7690\n",
            "Accuracy: 80.31\n",
            "Precision: 0.2614\n",
            "Recall: 0.8478\n",
            "F1 Score: 0.3992\n",
            "epoch 51\n"
          ]
        },
        {
          "name": "stderr",
          "output_type": "stream",
          "text": [
            "100%|██████████| 63/63 [00:38<00:00,  1.63it/s, loss=0.542]\n"
          ]
        },
        {
          "name": "stdout",
          "output_type": "stream",
          "text": [
            "=> Saving checkpoint\n",
            "1\n",
            "2\n",
            "3\n",
            "4\n",
            "5\n",
            "6\n",
            "7\n",
            "8\n",
            "9\n",
            "10\n",
            "11\n",
            "12\n",
            "13\n",
            "Validation Loss: 0.7545\n",
            "Accuracy: 79.52\n",
            "Precision: 0.2558\n",
            "Recall: 0.8630\n",
            "F1 Score: 0.3943\n",
            "epoch 52\n"
          ]
        },
        {
          "name": "stderr",
          "output_type": "stream",
          "text": [
            "100%|██████████| 63/63 [00:37<00:00,  1.66it/s, loss=0.637]\n"
          ]
        },
        {
          "name": "stdout",
          "output_type": "stream",
          "text": [
            "=> Saving checkpoint\n",
            "1\n",
            "2\n",
            "3\n",
            "4\n",
            "5\n",
            "6\n",
            "7\n",
            "8\n",
            "9\n",
            "10\n",
            "11\n",
            "12\n",
            "13\n",
            "Validation Loss: 0.7650\n",
            "Accuracy: 80.11\n",
            "Precision: 0.2606\n",
            "Recall: 0.8528\n",
            "F1 Score: 0.3987\n",
            "epoch 53\n"
          ]
        },
        {
          "name": "stderr",
          "output_type": "stream",
          "text": [
            "100%|██████████| 63/63 [00:37<00:00,  1.67it/s, loss=0.598]\n"
          ]
        },
        {
          "name": "stdout",
          "output_type": "stream",
          "text": [
            "=> Saving checkpoint\n",
            "1\n",
            "2\n",
            "3\n",
            "4\n",
            "5\n",
            "6\n",
            "7\n",
            "8\n",
            "9\n",
            "10\n",
            "11\n",
            "12\n",
            "13\n",
            "Validation Loss: 0.8188\n",
            "Accuracy: 82.86\n",
            "Precision: 0.2840\n",
            "Recall: 0.7990\n",
            "F1 Score: 0.4185\n",
            "epoch 54\n"
          ]
        },
        {
          "name": "stderr",
          "output_type": "stream",
          "text": [
            "100%|██████████| 63/63 [00:38<00:00,  1.63it/s, loss=0.665]\n"
          ]
        },
        {
          "name": "stdout",
          "output_type": "stream",
          "text": [
            "=> Saving checkpoint\n",
            "1\n",
            "2\n",
            "3\n",
            "4\n",
            "5\n",
            "6\n",
            "7\n",
            "8\n",
            "9\n",
            "10\n",
            "11\n",
            "12\n",
            "13\n",
            "Validation Loss: 0.7704\n",
            "Accuracy: 80.34\n",
            "Precision: 0.2619\n",
            "Recall: 0.8486\n",
            "F1 Score: 0.3999\n",
            "epoch 55\n"
          ]
        },
        {
          "name": "stderr",
          "output_type": "stream",
          "text": [
            "100%|██████████| 63/63 [00:37<00:00,  1.67it/s, loss=0.479]\n"
          ]
        },
        {
          "name": "stdout",
          "output_type": "stream",
          "text": [
            "=> Saving checkpoint\n",
            "1\n",
            "2\n",
            "3\n",
            "4\n",
            "5\n",
            "6\n",
            "7\n",
            "8\n",
            "9\n",
            "10\n",
            "11\n",
            "12\n",
            "13\n",
            "Validation Loss: 0.7737\n",
            "Accuracy: 80.70\n",
            "Precision: 0.2651\n",
            "Recall: 0.8442\n",
            "F1 Score: 0.4030\n",
            "epoch 56\n"
          ]
        },
        {
          "name": "stderr",
          "output_type": "stream",
          "text": [
            "100%|██████████| 63/63 [00:38<00:00,  1.65it/s, loss=0.653]\n"
          ]
        },
        {
          "name": "stdout",
          "output_type": "stream",
          "text": [
            "=> Saving checkpoint\n",
            "1\n",
            "2\n",
            "3\n",
            "4\n",
            "5\n",
            "6\n",
            "7\n",
            "8\n",
            "9\n",
            "10\n",
            "11\n",
            "12\n",
            "13\n",
            "Validation Loss: 0.7595\n",
            "Accuracy: 73.52\n",
            "Precision: 0.2161\n",
            "Recall: 0.9247\n",
            "F1 Score: 0.3501\n",
            "epoch 57\n"
          ]
        },
        {
          "name": "stderr",
          "output_type": "stream",
          "text": [
            "100%|██████████| 63/63 [00:38<00:00,  1.63it/s, loss=0.47] \n"
          ]
        },
        {
          "name": "stdout",
          "output_type": "stream",
          "text": [
            "=> Saving checkpoint\n",
            "1\n",
            "2\n",
            "3\n",
            "4\n",
            "5\n",
            "6\n",
            "7\n",
            "8\n",
            "9\n",
            "10\n",
            "11\n",
            "12\n",
            "13\n",
            "Validation Loss: 0.8261\n",
            "Accuracy: 83.70\n",
            "Precision: 0.2929\n",
            "Recall: 0.7863\n",
            "F1 Score: 0.4265\n",
            "epoch 58\n"
          ]
        },
        {
          "name": "stderr",
          "output_type": "stream",
          "text": [
            "100%|██████████| 63/63 [00:38<00:00,  1.65it/s, loss=0.682]\n"
          ]
        },
        {
          "name": "stdout",
          "output_type": "stream",
          "text": [
            "=> Saving checkpoint\n",
            "1\n",
            "2\n",
            "3\n",
            "4\n",
            "5\n",
            "6\n",
            "7\n",
            "8\n",
            "9\n",
            "10\n",
            "11\n",
            "12\n",
            "13\n",
            "Validation Loss: 0.8479\n",
            "Accuracy: 84.79\n",
            "Precision: 0.3055\n",
            "Recall: 0.7629\n",
            "F1 Score: 0.4359\n",
            "epoch 59\n"
          ]
        },
        {
          "name": "stderr",
          "output_type": "stream",
          "text": [
            "100%|██████████| 63/63 [00:38<00:00,  1.65it/s, loss=0.48] \n"
          ]
        },
        {
          "name": "stdout",
          "output_type": "stream",
          "text": [
            "=> Saving checkpoint\n",
            "1\n",
            "2\n",
            "3\n",
            "4\n",
            "5\n",
            "6\n",
            "7\n",
            "8\n",
            "9\n",
            "10\n",
            "11\n",
            "12\n",
            "13\n",
            "Validation Loss: 0.7930\n",
            "Accuracy: 82.09\n",
            "Precision: 0.2772\n",
            "Recall: 0.8210\n",
            "F1 Score: 0.4141\n",
            "epoch 60\n"
          ]
        },
        {
          "name": "stderr",
          "output_type": "stream",
          "text": [
            "100%|██████████| 63/63 [00:41<00:00,  1.50it/s, loss=0.609]\n"
          ]
        },
        {
          "name": "stdout",
          "output_type": "stream",
          "text": [
            "=> Saving checkpoint\n",
            "1\n",
            "2\n",
            "3\n",
            "4\n",
            "5\n",
            "6\n",
            "7\n",
            "8\n",
            "9\n",
            "10\n",
            "11\n",
            "12\n",
            "13\n",
            "Validation Loss: 0.7704\n",
            "Accuracy: 81.01\n",
            "Precision: 0.2676\n",
            "Recall: 0.8404\n",
            "F1 Score: 0.4056\n",
            "epoch 61\n"
          ]
        },
        {
          "name": "stderr",
          "output_type": "stream",
          "text": [
            "100%|██████████| 63/63 [00:42<00:00,  1.49it/s, loss=0.807]\n"
          ]
        },
        {
          "name": "stdout",
          "output_type": "stream",
          "text": [
            "=> Saving checkpoint\n",
            "1\n",
            "2\n",
            "3\n",
            "4\n",
            "5\n",
            "6\n",
            "7\n",
            "8\n",
            "9\n",
            "10\n",
            "11\n",
            "12\n",
            "13\n",
            "Validation Loss: 0.8074\n",
            "Accuracy: 83.09\n",
            "Precision: 0.2868\n",
            "Recall: 0.8013\n",
            "F1 Score: 0.4220\n",
            "epoch 62\n"
          ]
        },
        {
          "name": "stderr",
          "output_type": "stream",
          "text": [
            "100%|██████████| 63/63 [00:42<00:00,  1.48it/s, loss=0.432]\n"
          ]
        },
        {
          "name": "stdout",
          "output_type": "stream",
          "text": [
            "=> Saving checkpoint\n",
            "1\n",
            "2\n",
            "3\n",
            "4\n",
            "5\n",
            "6\n",
            "7\n",
            "8\n",
            "9\n",
            "10\n",
            "11\n",
            "12\n",
            "13\n",
            "Validation Loss: 0.7443\n",
            "Accuracy: 75.75\n",
            "Precision: 0.2299\n",
            "Recall: 0.9092\n",
            "F1 Score: 0.3667\n",
            "epoch 63\n"
          ]
        },
        {
          "name": "stderr",
          "output_type": "stream",
          "text": [
            "100%|██████████| 63/63 [00:42<00:00,  1.48it/s, loss=0.572]\n"
          ]
        },
        {
          "name": "stdout",
          "output_type": "stream",
          "text": [
            "=> Saving checkpoint\n",
            "1\n",
            "2\n",
            "3\n",
            "4\n",
            "5\n",
            "6\n",
            "7\n",
            "8\n",
            "9\n",
            "10\n",
            "11\n",
            "12\n",
            "13\n",
            "Validation Loss: 0.7532\n",
            "Accuracy: 78.47\n",
            "Precision: 0.2480\n",
            "Recall: 0.8782\n",
            "F1 Score: 0.3865\n",
            "epoch 64\n"
          ]
        },
        {
          "name": "stderr",
          "output_type": "stream",
          "text": [
            "100%|██████████| 63/63 [00:42<00:00,  1.48it/s, loss=0.6]  \n"
          ]
        },
        {
          "name": "stdout",
          "output_type": "stream",
          "text": [
            "=> Saving checkpoint\n",
            "1\n",
            "2\n",
            "3\n",
            "4\n",
            "5\n",
            "6\n",
            "7\n",
            "8\n",
            "9\n",
            "10\n",
            "11\n",
            "12\n",
            "13\n",
            "Validation Loss: 0.8122\n",
            "Accuracy: 83.63\n",
            "Precision: 0.2936\n",
            "Recall: 0.7949\n",
            "F1 Score: 0.4283\n",
            "epoch 65\n"
          ]
        },
        {
          "name": "stderr",
          "output_type": "stream",
          "text": [
            "100%|██████████| 63/63 [00:42<00:00,  1.48it/s, loss=0.556]\n"
          ]
        },
        {
          "name": "stdout",
          "output_type": "stream",
          "text": [
            "=> Saving checkpoint\n",
            "1\n",
            "2\n",
            "3\n",
            "4\n",
            "5\n",
            "6\n",
            "7\n",
            "8\n",
            "9\n",
            "10\n",
            "11\n",
            "12\n",
            "13\n",
            "Validation Loss: 0.7528\n",
            "Accuracy: 76.90\n",
            "Precision: 0.2366\n",
            "Recall: 0.8943\n",
            "F1 Score: 0.3739\n",
            "epoch 66\n"
          ]
        },
        {
          "name": "stderr",
          "output_type": "stream",
          "text": [
            "100%|██████████| 63/63 [00:42<00:00,  1.48it/s, loss=0.508]\n"
          ]
        },
        {
          "name": "stdout",
          "output_type": "stream",
          "text": [
            "=> Saving checkpoint\n",
            "1\n",
            "2\n",
            "3\n",
            "4\n",
            "5\n",
            "6\n",
            "7\n",
            "8\n",
            "9\n",
            "10\n",
            "11\n",
            "12\n",
            "13\n",
            "Validation Loss: 0.7699\n",
            "Accuracy: 81.53\n",
            "Precision: 0.2727\n",
            "Recall: 0.8357\n",
            "F1 Score: 0.4109\n",
            "epoch 67\n"
          ]
        },
        {
          "name": "stderr",
          "output_type": "stream",
          "text": [
            "100%|██████████| 63/63 [00:42<00:00,  1.47it/s, loss=0.696]\n"
          ]
        },
        {
          "name": "stdout",
          "output_type": "stream",
          "text": [
            "=> Saving checkpoint\n",
            "1\n",
            "2\n",
            "3\n",
            "4\n",
            "5\n",
            "6\n",
            "7\n",
            "8\n",
            "9\n",
            "10\n",
            "11\n",
            "12\n",
            "13\n",
            "Validation Loss: 0.8676\n",
            "Accuracy: 85.31\n",
            "Precision: 0.3121\n",
            "Recall: 0.7522\n",
            "F1 Score: 0.4408\n",
            "epoch 68\n"
          ]
        },
        {
          "name": "stderr",
          "output_type": "stream",
          "text": [
            "100%|██████████| 63/63 [00:42<00:00,  1.50it/s, loss=0.59] \n"
          ]
        },
        {
          "name": "stdout",
          "output_type": "stream",
          "text": [
            "=> Saving checkpoint\n",
            "1\n",
            "2\n",
            "3\n",
            "4\n",
            "5\n",
            "6\n",
            "7\n",
            "8\n",
            "9\n",
            "10\n",
            "11\n",
            "12\n",
            "13\n",
            "Validation Loss: 0.8096\n",
            "Accuracy: 83.49\n",
            "Precision: 0.2916\n",
            "Recall: 0.7979\n",
            "F1 Score: 0.4268\n",
            "epoch 69\n"
          ]
        },
        {
          "name": "stderr",
          "output_type": "stream",
          "text": [
            "100%|██████████| 63/63 [00:42<00:00,  1.48it/s, loss=0.573]\n"
          ]
        },
        {
          "name": "stdout",
          "output_type": "stream",
          "text": [
            "=> Saving checkpoint\n",
            "1\n",
            "2\n",
            "3\n",
            "4\n",
            "5\n",
            "6\n",
            "7\n",
            "8\n",
            "9\n",
            "10\n",
            "11\n",
            "12\n",
            "13\n",
            "Validation Loss: 0.7750\n",
            "Accuracy: 81.40\n",
            "Precision: 0.2717\n",
            "Recall: 0.8362\n",
            "F1 Score: 0.4097\n",
            "epoch 70\n"
          ]
        },
        {
          "name": "stderr",
          "output_type": "stream",
          "text": [
            "100%|██████████| 63/63 [00:42<00:00,  1.48it/s, loss=0.502]\n"
          ]
        },
        {
          "name": "stdout",
          "output_type": "stream",
          "text": [
            "=> Saving checkpoint\n",
            "1\n",
            "2\n",
            "3\n",
            "4\n",
            "5\n",
            "6\n",
            "7\n",
            "8\n",
            "9\n",
            "10\n",
            "11\n",
            "12\n",
            "13\n",
            "Validation Loss: 0.7710\n",
            "Accuracy: 81.21\n",
            "Precision: 0.2699\n",
            "Recall: 0.8402\n",
            "F1 Score: 0.4081\n",
            "epoch 71\n"
          ]
        },
        {
          "name": "stderr",
          "output_type": "stream",
          "text": [
            "100%|██████████| 63/63 [00:42<00:00,  1.47it/s, loss=0.553]\n"
          ]
        },
        {
          "name": "stdout",
          "output_type": "stream",
          "text": [
            "=> Saving checkpoint\n",
            "1\n",
            "2\n",
            "3\n",
            "4\n",
            "5\n",
            "6\n",
            "7\n",
            "8\n",
            "9\n",
            "10\n",
            "11\n",
            "12\n",
            "13\n",
            "Validation Loss: 0.7672\n",
            "Accuracy: 81.48\n",
            "Precision: 0.2721\n",
            "Recall: 0.8356\n",
            "F1 Score: 0.4103\n",
            "epoch 72\n"
          ]
        },
        {
          "name": "stderr",
          "output_type": "stream",
          "text": [
            "100%|██████████| 63/63 [00:42<00:00,  1.48it/s, loss=0.573]\n"
          ]
        },
        {
          "name": "stdout",
          "output_type": "stream",
          "text": [
            "=> Saving checkpoint\n",
            "1\n",
            "2\n",
            "3\n",
            "4\n",
            "5\n",
            "6\n",
            "7\n",
            "8\n",
            "9\n",
            "10\n",
            "11\n",
            "12\n",
            "13\n",
            "Validation Loss: 0.8215\n",
            "Accuracy: 83.07\n",
            "Precision: 0.2852\n",
            "Recall: 0.7888\n",
            "F1 Score: 0.4184\n",
            "epoch 73\n"
          ]
        },
        {
          "name": "stderr",
          "output_type": "stream",
          "text": [
            "100%|██████████| 63/63 [00:42<00:00,  1.47it/s, loss=0.514]\n"
          ]
        },
        {
          "name": "stdout",
          "output_type": "stream",
          "text": [
            "=> Saving checkpoint\n",
            "1\n",
            "2\n",
            "3\n",
            "4\n",
            "5\n",
            "6\n",
            "7\n",
            "8\n",
            "9\n",
            "10\n",
            "11\n",
            "12\n",
            "13\n",
            "Validation Loss: 0.7612\n",
            "Accuracy: 81.93\n",
            "Precision: 0.2777\n",
            "Recall: 0.8348\n",
            "F1 Score: 0.4163\n",
            "epoch 74\n"
          ]
        },
        {
          "name": "stderr",
          "output_type": "stream",
          "text": [
            "100%|██████████| 63/63 [00:42<00:00,  1.47it/s, loss=0.491]\n"
          ]
        },
        {
          "name": "stdout",
          "output_type": "stream",
          "text": [
            "=> Saving checkpoint\n",
            "1\n",
            "2\n",
            "3\n",
            "4\n",
            "5\n",
            "6\n",
            "7\n",
            "8\n",
            "9\n",
            "10\n",
            "11\n",
            "12\n",
            "13\n",
            "Validation Loss: 0.7202\n",
            "Accuracy: 78.15\n",
            "Precision: 0.2475\n",
            "Recall: 0.8959\n",
            "F1 Score: 0.3875\n",
            "epoch 75\n"
          ]
        },
        {
          "name": "stderr",
          "output_type": "stream",
          "text": [
            "100%|██████████| 63/63 [00:42<00:00,  1.47it/s, loss=0.457]\n"
          ]
        },
        {
          "name": "stdout",
          "output_type": "stream",
          "text": [
            "=> Saving checkpoint\n",
            "1\n",
            "2\n",
            "3\n",
            "4\n",
            "5\n",
            "6\n",
            "7\n",
            "8\n",
            "9\n",
            "10\n",
            "11\n",
            "12\n",
            "13\n",
            "Validation Loss: 0.7454\n",
            "Accuracy: 78.30\n",
            "Precision: 0.2469\n",
            "Recall: 0.8794\n",
            "F1 Score: 0.3851\n",
            "epoch 76\n"
          ]
        },
        {
          "name": "stderr",
          "output_type": "stream",
          "text": [
            "100%|██████████| 63/63 [00:42<00:00,  1.47it/s, loss=0.43] \n"
          ]
        },
        {
          "name": "stdout",
          "output_type": "stream",
          "text": [
            "=> Saving checkpoint\n",
            "1\n",
            "2\n",
            "3\n",
            "4\n",
            "5\n",
            "6\n",
            "7\n",
            "8\n",
            "9\n",
            "10\n",
            "11\n",
            "12\n",
            "13\n",
            "Validation Loss: 0.7664\n",
            "Accuracy: 81.42\n",
            "Precision: 0.2724\n",
            "Recall: 0.8436\n",
            "F1 Score: 0.4116\n",
            "epoch 77\n"
          ]
        },
        {
          "name": "stderr",
          "output_type": "stream",
          "text": [
            "100%|██████████| 63/63 [00:42<00:00,  1.47it/s, loss=0.706]\n"
          ]
        },
        {
          "name": "stdout",
          "output_type": "stream",
          "text": [
            "=> Saving checkpoint\n",
            "1\n",
            "2\n",
            "3\n",
            "4\n",
            "5\n",
            "6\n",
            "7\n",
            "8\n",
            "9\n",
            "10\n",
            "11\n",
            "12\n",
            "13\n",
            "Validation Loss: 0.7937\n",
            "Accuracy: 83.09\n",
            "Precision: 0.2882\n",
            "Recall: 0.8098\n",
            "F1 Score: 0.4247\n",
            "epoch 78\n"
          ]
        },
        {
          "name": "stderr",
          "output_type": "stream",
          "text": [
            "100%|██████████| 63/63 [00:42<00:00,  1.50it/s, loss=0.605]\n"
          ]
        },
        {
          "name": "stdout",
          "output_type": "stream",
          "text": [
            "=> Saving checkpoint\n",
            "1\n",
            "2\n",
            "3\n",
            "4\n",
            "5\n",
            "6\n",
            "7\n",
            "8\n",
            "9\n",
            "10\n",
            "11\n",
            "12\n",
            "13\n",
            "Validation Loss: 0.8222\n",
            "Accuracy: 84.04\n",
            "Precision: 0.2980\n",
            "Recall: 0.7886\n",
            "F1 Score: 0.4322\n",
            "epoch 79\n"
          ]
        },
        {
          "name": "stderr",
          "output_type": "stream",
          "text": [
            "100%|██████████| 63/63 [00:42<00:00,  1.49it/s, loss=0.524]\n"
          ]
        },
        {
          "name": "stdout",
          "output_type": "stream",
          "text": [
            "=> Saving checkpoint\n",
            "1\n",
            "2\n",
            "3\n",
            "4\n",
            "5\n",
            "6\n",
            "7\n",
            "8\n",
            "9\n",
            "10\n",
            "11\n",
            "12\n",
            "13\n",
            "Validation Loss: 0.8690\n",
            "Accuracy: 85.27\n",
            "Precision: 0.3130\n",
            "Recall: 0.7574\n",
            "F1 Score: 0.4422\n"
          ]
        }
      ],
      "source": [
        "#first best hyperparameters Best hyperparameters:  {'lr': 0.002386066925758022, 'weight_decay': 0.0006654086822444693}\n",
        "#second best hyperparameters Best hyperparameters: {'lr': 0.0009157166864196702, 'weight_decay': 0.005317745339497608}\n",
        "\n",
        "epochs = 80\n",
        "step_size = 45\n",
        "lr = best_lr   \n",
        "load_model = True\n",
        "\n",
        "\n",
        "transform_training = A.Compose([\n",
        "    A.Resize(height=512, width=512),\n",
        "    A.HorizontalFlip(p=0.15),          \n",
        "    A.VerticalFlip(p=0.15),            \n",
        "    A.RandomRotate90(p=0.2),          \n",
        "    ToTensorV2(),\n",
        "])\n",
        "\n",
        "transform_validation = A.Compose([\n",
        "    A.Resize(height=512, width=512),\n",
        "    ToTensorV2(),\n",
        "])\n",
        "\n",
        "dataset_training = SN7Dataset(image_dir_train, mask_dir_train, transform=transform_training, mean=mean, std=std)\n",
        "dataset_validation = SN7Dataset(image_dir_valid, mask_dir_valid, transform=transform_validation, mean=mean, std=std)\n",
        "loader_training = DataLoader(dataset_training, batch_size=16, shuffle=True, num_workers=12, pin_memory=True)\n",
        "loader_validation = DataLoader(dataset_validation, batch_size=16, shuffle=False, num_workers=12, pin_memory=True)\n",
        "\n",
        "\n",
        "# pos_weight BCEWithLogitsLoss\n",
        "pos_weight = calculate_pos_weight(dataset_training).to(device)\n",
        "\n",
        "device = torch.device(\"cuda\" if torch.cuda.is_available() else \"cpu\")\n",
        "model = UNET(in_channels=4, out_channels=1).to(device)\n",
        "type_loss = nn.BCEWithLogitsLoss(pos_weight=pos_weight)     \n",
        "optimizer = optim.Adam(model.parameters(), lr=lr, weight_decay=best_weight_decay)\n",
        "scheduler = StepLR(optimizer, step_size=step_size)\n",
        "scaler = torch.cuda.amp.GradScaler()\n",
        "\n",
        "checkpoint_path = os.path.join(model_dir, \"checkpoint.pth.tar\")\n",
        "if load_model and os.path.exists(checkpoint_path):\n",
        "    load_model_checkpoint(torch.load(checkpoint_path), model)\n",
        "else:\n",
        "    print(\"Checkpoint file not found, starting training from scratch.\")\n",
        "    \n",
        "    \n",
        "#############################################################################################################\n",
        "### -----------------------------------------------Training-----------------------------------------------###\n",
        "#############################################################################################################\n",
        "    \n",
        "    \n",
        "best_f1 = 0.0\n",
        "for epoch in range(epochs):\n",
        "    print(f\"epoch {epoch}\")\n",
        "    training_nn(loader_training, model, optimizer, type_loss, scaler, os.path.join(output_dir, \"output.txt\"))\n",
        "\n",
        "    checkpoint = {\n",
        "        \"state_dict\": model.state_dict(),\n",
        "        \"optimizer\": optimizer.state_dict(),\n",
        "    }\n",
        "    save_model_checkpoint(checkpoint, os.path.join(model_dir, \"checkpoint.pth.tar\"))\n",
        "\n",
        "    loss_validation, accuracy_validation, precision_validation, recall_validation, f1_validation = evaluation_nn(loader_validation, model, type_loss, os.path.join(output_dir, \"output.txt\"), device=device)\n",
        "\n",
        "    if f1_validation > best_f1:\n",
        "        best_f1 = f1_validation\n",
        "        save_model_checkpoint(checkpoint, file_path=os.path.join(model_dir, \"best_model.pth.tar\"))\n",
        "        save_predictions_as_images(loader_validation, model, image_output_dir, device=device)\n",
        "        print(f\"New best F1 score: {best_f1:.4f}\")\n",
        "\n",
        "    scheduler.step()"
      ]
    },
    {
      "cell_type": "markdown",
      "metadata": {
        "id": "zNQSv33L--CE"
      },
      "source": [
        "Metrics"
      ]
    },
    {
      "cell_type": "code",
      "execution_count": 14,
      "metadata": {
        "id": "gc0OJSJn--CE",
        "outputId": "6a5b89fb-6d09-4beb-9c97-0909f8cce31f"
      },
      "outputs": [
        {
          "data": {
            "image/png": "[encoded data removed]",
            "text/plain": [
              "<Figure size 1000x1000 with 1 Axes>"
            ]
          },
          "metadata": {},
          "output_type": "display_data"
        },
        {
          "data": {
            "image/png": "[encoded data removed]",
            "text/plain": [
              "<Figure size 1000x1000 with 1 Axes>"
            ]
          },
          "metadata": {},
          "output_type": "display_data"
        }
      ],
      "source": [
        "def visualize_metrics(data, output_dir=None):\n",
        "    epochs = data[\"epochs\"]\n",
        "\n",
        "    plt.figure(figsize=(10, 10))\n",
        "    plt.plot(epochs, data[\"training_loss\"], label=\"Training Loss\")\n",
        "    plt.plot(epochs, data[\"validation_loss\"], label=\"Validation Loss\")\n",
        "    plt.xlabel(\"Epochs\")\n",
        "    plt.ylabel(\"Loss\")\n",
        "    plt.title(\"Training and Validation Loss Over Epochs\")\n",
        "    plt.legend()\n",
        "    plt.grid(True)\n",
        "    plt.ylim(0, 2)\n",
        "    if output_dir:\n",
        "        plt.savefig(os.path.join(output_dir, \"loss_curve.png\"))\n",
        "    else:\n",
        "        plt.show()\n",
        "\n",
        "    plt.figure(figsize=(10, 10))\n",
        "    plt.plot(epochs, data[\"accuracy\"], label=\"Accuracy\")\n",
        "    plt.plot(epochs, data[\"precision\"], label=\"Precision\")\n",
        "    plt.plot(epochs, data[\"recall\"], label=\"Recall\")\n",
        "    plt.plot(epochs, data[\"f1_score\"], label=\"F1 Score\")\n",
        "    plt.xlabel(\"Epochs\")\n",
        "    plt.ylabel(\"Metrics\")\n",
        "    plt.title(\"Validation Metrics Over Epochs\")\n",
        "    plt.legend()\n",
        "    plt.grid(True)\n",
        "    plt.ylim(0, 1)\n",
        "    if output_dir:\n",
        "        plt.savefig(os.path.join(output_dir, \"metrics.png\"))\n",
        "    else:\n",
        "        plt.show()\n",
        "\n",
        "\n",
        "def parse_metrics(file_path):\n",
        "    with open(file_path, \"r\") as file:\n",
        "        lines = file.readlines()\n",
        "\n",
        "    data = {\n",
        "        \"epochs\": [],\n",
        "        \"training_loss\": [],\n",
        "        \"validation_loss\": [],\n",
        "        \"accuracy\": [],\n",
        "        \"precision\": [],\n",
        "        \"recall\": [],\n",
        "        \"f1_score\": []\n",
        "    }\n",
        "\n",
        "    current_epoch = 0\n",
        "    for line in lines:\n",
        "        line = line.strip()\n",
        "        if line.startswith(\"Train Loss:\"):\n",
        "            data[\"epochs\"].append(current_epoch)\n",
        "            data[\"training_loss\"].append(float(line.split(\":\")[1].strip()))\n",
        "        elif line.startswith(\"Validation Loss:\"):\n",
        "            data[\"validation_loss\"].append(float(line.split(\":\")[1].strip()))\n",
        "        elif line.startswith(\"Accuracy:\"):\n",
        "            data[\"accuracy\"].append(float(line.split(\":\")[1].strip()) / 100)\n",
        "        elif line.startswith(\"Precision:\"):\n",
        "            data[\"precision\"].append(float(line.split(\":\")[1].strip()))\n",
        "        elif line.startswith(\"Recall:\"):\n",
        "            data[\"recall\"].append(float(line.split(\":\")[1].strip()))\n",
        "        elif line.startswith(\"F1 Score:\"):\n",
        "            data[\"f1_score\"].append(float(line.split(\":\")[1].strip()))\n",
        "            current_epoch += 1\n",
        "\n",
        "    return data\n",
        "\n",
        "\n",
        "metrics_data = parse_metrics(model_dir + \"/output/output.txt\")\n",
        "output_directory = os.path.join(model_dir, \"graphs\")\n",
        "if not os.path.exists(output_directory):\n",
        "    os.makedirs(output_directory)\n",
        "visualize_metrics(metrics_data, output_dir=output_directory)\n"
      ]
    },
    {
      "cell_type": "markdown",
      "metadata": {
        "id": "bUHIOYbZ--CE"
      },
      "source": [
        "Test set"
      ]
    },
    {
      "cell_type": "code",
      "execution_count": 16,
      "metadata": {
        "id": "qs5ZbtRM--CE",
        "outputId": "95189cfa-3f04-4a78-8e61-7a48b119a645"
      },
      "outputs": [
        {
          "name": "stdout",
          "output_type": "stream",
          "text": [
            "=> Loading checkpoint\n",
            "=> Loading checkpoint\n",
            "=> Loading checkpoint\n"
          ]
        }
      ],
      "source": [
        "model1_path = os.path.join(model_dir, \"better_models\", \"model_1\", \"best_model.pth.tar\")\n",
        "model2_path = os.path.join(model_dir, \"better_models\", \"model_2\", \"best_model.pth.tar\")\n",
        "model3_path = os.path.join(model_dir, \"better_models\", \"model_3\", \"best_model.pth.tar\")\n",
        "\n",
        "model1 = UNET(in_channels=4, out_channels=1).to(device)\n",
        "model2 = UNET(in_channels=4, out_channels=1).to(device)\n",
        "model3 = UNET(in_channels=4, out_channels=1).to(device)\n",
        "\n",
        "load_model_checkpoint(torch.load(model1_path), model1)\n",
        "load_model_checkpoint(torch.load(model2_path), model2)\n",
        "load_model_checkpoint(torch.load(model3_path), model3)\n",
        "\n",
        "\n",
        "test_transform = A.Compose([\n",
        "    A.Resize(height=512, width=512),\n",
        "    ToTensorV2(),\n",
        "])\n",
        "\n",
        "dataset_test = SN7Dataset(image_dir_test, mask_dir_test, transform=test_transform, mean=mean, std=std)\n",
        "loader_test = DataLoader(dataset_test, batch_size=16, shuffle=False, num_workers=8, pin_memory=True)"
      ]
    },
    {
      "cell_type": "markdown",
      "metadata": {},
      "source": [
        "Best score with confusion matrix"
      ]
    },
    {
      "cell_type": "code",
      "execution_count": 26,
      "metadata": {},
      "outputs": [
        {
          "name": "stdout",
          "output_type": "stream",
          "text": [
            "-------------------------Model 1-------------------------\n",
            "Number epochs: 40, lr: '0.0003293572220747851' l2: '0.0004508784371565647'\n",
            "\n",
            "Validation Loss: 0.6231\n",
            "Accuracy: 87.32\n",
            "Precision: 0.2722\n",
            "Recall: 0.7962\n",
            "F1 Score: 0.4050\n",
            "\n",
            "-------------------------Model 2-------------------------\n",
            "Number epochs: 50, lr: '0.002386066925758022' l2: '0.0006654086822444693'\n",
            "\n",
            "Validation Loss: 0.8538\n",
            "Accuracy: 91.55\n",
            "Precision: 0.3355\n",
            "Recall: 0.5604\n",
            "F1 Score: 0.4185\n",
            "\n",
            "-------------------------Model 3-------------------------\n",
            "Number epochs: 80, lr: '0.0009157166864196702' l2: '0.005317745339497608'\n",
            "\n",
            "Validation Loss: 0.8887\n",
            "Accuracy: 91.95\n",
            "Precision: 0.3461\n",
            "Recall: 0.5235\n",
            "F1 Score: 0.4145\n"
          ]
        },
        {
          "data": {
            "image/png": "[encoded data removed]",
            "text/plain": [
              "<Figure size 1000x700 with 2 Axes>"
            ]
          },
          "metadata": {},
          "output_type": "display_data"
        },
        {
          "data": {
            "image/png": "[encoded data removed]",
            "text/plain": [
              "<Figure size 1000x700 with 2 Axes>"
            ]
          },
          "metadata": {},
          "output_type": "display_data"
        },
        {
          "data": {
            "image/png": "[encoded data removed]",
            "text/plain": [
              "<Figure size 1000x700 with 2 Axes>"
            ]
          },
          "metadata": {},
          "output_type": "display_data"
        }
      ],
      "source": [
        "print(\"-\"*25 + \"Model 1\" + \"-\"*25)\n",
        "print(\"Number epochs: 40, lr: '0.0003293572220747851' l2: '0.0004508784371565647'\\n\")\n",
        "loss_test1, accuracy_test1, precision_test1, recall_test1, f1_test1 = evaluation_nn(loader_test, model1, type_loss, os.path.join(output_dir, \"output_test_model1.txt\"), device=device, is_testing=True)\n",
        "print(\"\\n\" + \"-\"*25 + \"Model 2\" + \"-\"*25)\n",
        "print(\"Number epochs: 50, lr: '0.002386066925758022' l2: '0.0006654086822444693'\\n\")\n",
        "\n",
        "loss_test2, accuracy_test2, precision_test2, recall_test2, f1_test2 = evaluation_nn(loader_test, model2, type_loss, os.path.join(output_dir, \"output_test_model2.txt\"), device=device, is_testing=True)\n",
        "print(\"\\n\" + \"-\"*25 + \"Model 3\" + \"-\"*25)\n",
        "print(\"Number epochs: 80, lr: '0.0009157166864196702' l2: '0.005317745339497608'\\n\")\n",
        "loss_test3, accuracy_test3, precision_test3, recall_test3, f1_test3 = evaluation_nn(loader_test, model3, type_loss, os.path.join(output_dir, \"output_test_model_3.txt\"), device=device, is_testing=True)"
      ]
    }
  ],
  "metadata": {
    "colab": {
      "provenance": []
    },
    "kernelspec": {
      "display_name": "Python 3",
      "language": "python",
      "name": "python3"
    },
    "language_info": {
      "codemirror_mode": {
        "name": "ipython",
        "version": 3
      },
      "file_extension": ".py",
      "mimetype": "text/x-python",
      "name": "python",
      "nbconvert_exporter": "python",
      "pygments_lexer": "ipython3",
      "version": "3.10.12"
    }
  },
  "nbformat": 4,
  "nbformat_minor": 0
}
