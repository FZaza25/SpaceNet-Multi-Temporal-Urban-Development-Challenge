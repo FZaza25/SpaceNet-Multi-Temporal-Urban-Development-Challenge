{
  "cells": [
    {
      "cell_type": "markdown",
      "metadata": {
        "id": "9h49LP9Z--B8"
      },
      "source": [
        "SN7"
      ]
    },
    {
      "cell_type": "code",
      "execution_count": null,
      "metadata": {
        "id": "_k9VcqUs--B9"
      },
      "outputs": [],
      "source": [
        "import os\n",
        "import numpy as np\n",
        "import rasterio\n",
        "import torch\n",
        "import cv2\n",
        "import torchvision\n",
        "from torchvision import datasets, transforms\n",
        "from torch.utils.data import DataLoader, random_split\n",
        "from glob import glob\n",
        "import geopandas as gpd\n",
        "from rasterio.features import rasterize\n",
        "import matplotlib.pyplot as plt\n",
        "import torch.nn as nn\n",
        "import torchvision.transforms.functional as TF\n",
        "import random\n",
        "from tqdm import tqdm\n",
        "from sklearn.metrics import f1_score, accuracy_score, precision_score, recall_score, confusion_matrix\n",
        "from torch.optim.lr_scheduler import ReduceLROnPlateau\n",
        "import albumentations as A\n",
        "import torch.optim as optim\n",
        "from torch.optim.lr_scheduler import StepLR\n",
        "from albumentations.pytorch import ToTensorV2\n",
        "from torch.utils.data import Dataset\n",
        "import seaborn as sns"
      ]
    },
    {
      "cell_type": "markdown",
      "metadata": {
        "id": "q9QAykpF--B-"
      },
      "source": [
        "Funzione per calcolare media e deviazione standard"
      ]
    },
    {
      "cell_type": "code",
      "execution_count": null,
      "metadata": {
        "id": "OviawHVQ--B-"
      },
      "outputs": [],
      "source": [
        "def compute_mean_std(image_paths):\n",
        "    means = []\n",
        "    stds = []\n",
        "\n",
        "    for img_path in image_paths:\n",
        "        img = cv2.imread(img_path, cv2.IMREAD_UNCHANGED)  # Carica l'immagine inclusi tutti i canali\n",
        "        #img_rgb = img[:, :, :3]  # Prendo i primi tre canali (RGB)\n",
        "        #permute mi serve perchè img la leggo con opencv che mi da HxWxC e pytorch vuole CxHxW\n",
        "        img_tensor = torch.tensor(img, dtype=torch.float32).permute(2, 0, 1)  # Converti in tensor e permuta le dimensioni a (Canali, Altezza, Larghezza)\n",
        "\n",
        "        means.append(img_tensor.mean(dim=(1, 2)))  # Calcola e aggiungi la media per ogni canale (RGB) alla lista delle medie (1=h, 2=w)\n",
        "        stds.append(img_tensor.std(dim=(1, 2)))    # Calcola e aggiungi la deviazione standard per ogni canale (RGB) alla lista delle deviazioni standard\n",
        "\n",
        "    mean = torch.stack(means).mean(dim=0)  # Combina tutte le medie delle immagini e calcola la media finale per ogni canale\n",
        "    std = torch.stack(stds).mean(dim=0)    # Combina tutte le deviazioni standard delle immagini e calcola la deviazione standard finale per ogni canale\n",
        "\n",
        "    return mean.tolist(), std.tolist()  # Converte i tensori risultanti in liste e li restituisce"
      ]
    },
    {
      "cell_type": "code",
      "execution_count": null,
      "metadata": {
        "id": "ot1rWEAw--B-",
        "outputId": "75a64f07-0ad6-46a9-c571-84f303438943"
      },
      "outputs": [
        {
          "name": "stdout",
          "output_type": "stream",
          "text": [
            "Media dei canali RGBM: [80.52394104003906, 108.15859985351562, 123.90472412109375, 249.4403839111328]\n",
            "Deviazione standard dei canali RGBM: [27.61859703063965, 31.344022750854492, 39.270687103271484, 11.513572692871094]\n"
          ]
        }
      ],
      "source": [
        "# Path alle immagini nella cartella \"training/images\"\n",
        "image_paths = glob('training/images_masked/*.tif')\n",
        "\n",
        "# Esegui la computazione su GPU se disponibile\n",
        "if torch.cuda.is_available():\n",
        "    device = torch.device('cuda')\n",
        "else:\n",
        "    device = torch.device('cpu')\n",
        "\n",
        "mean, std = compute_mean_std(image_paths)\n",
        "\n",
        "print(f'Media dei canali RGBM: {mean}')\n",
        "print(f'Deviazione standard dei canali RGBM: {std}')\n"
      ]
    },
    {
      "cell_type": "markdown",
      "metadata": {
        "id": "u3QEyVZe--B_"
      },
      "source": [
        "Elaborazione label:\n",
        "La gestione dell'eccezione: ValueError è dovuta alle immagini e label native del dataset, in pratica in alcune immagini satellitari, c'è la presenza di nuvole, oppure rumore di qualche altro tipo. Per gestire questo rumore è stato creato un 4 canale, che effettua una maschera coprente  sulle zone dove c'è rumore/nuvole. Ci sono anche alcune labels apposite per le maschere. In casi eccezzionali l'intera immagine ha la maschera, dove avviene il mascheramento, le labels ordinarie sono prive di dati geojson, quindi se l'intera immagine è mascherata alcune label sono vuote e quindi cioò comporta quell'errore, che vista l'assenza di label, ho deciso di gestire la problematica semplicemente creando una maschera nera."
      ]
    },
    {
      "cell_type": "code",
      "execution_count": null,
      "metadata": {
        "id": "n4N2mx_3--B_"
      },
      "outputs": [],
      "source": [
        "# Definisce una funzione per creare una maschera binaria da geometrie\n",
        "def create_mask(geojson, img_shape, transform):\n",
        "    shapes = [(geom, 1) for geom in geojson.geometry if geom.is_valid and not geom.is_empty]\n",
        "    if not shapes:\n",
        "        raise ValueError('No valid geometry objects found for rasterize')\n",
        "    mask = rasterize(shapes=shapes, out_shape=img_shape, transform=transform, fill=0, dtype=np.uint8)\n",
        "    return mask\n",
        "\n",
        "# Salva la maschera binaria normalizzata per visualizzazione (normalizzata  intesa come valori tra 0 e 255)\n",
        "def save_normalized_mask(mask, output_path, crs, transform):\n",
        "    mask_normalized = (mask * 255).astype(np.uint8)\n",
        "    with rasterio.open(\n",
        "        output_path,\n",
        "        'w',\n",
        "        driver='GTiff',\n",
        "        height=mask_normalized.shape[0],\n",
        "        width=mask_normalized.shape[1],\n",
        "        count=1,\n",
        "        dtype=mask_normalized.dtype,\n",
        "        crs=crs,\n",
        "        transform=transform,\n",
        "    ) as dst:\n",
        "        dst.write(mask_normalized, 1)\n",
        "\n",
        "def process_dataset(image_dir, label_dir, output_dir):\n",
        "    image_paths = sorted(glob(os.path.join(image_dir, '*.tif')))\n",
        "    label_paths = sorted(glob(os.path.join(label_dir, '*.geojson')))\n",
        "\n",
        "    if not os.path.exists(output_dir):\n",
        "        os.makedirs(output_dir)\n",
        "\n",
        "    processed_count = 0\n",
        "\n",
        "    for img_path, label_path in zip(image_paths, label_paths):\n",
        "        labels_match = gpd.read_file(label_path)\n",
        "\n",
        "        with rasterio.open(img_path) as src:\n",
        "            img_shape = (src.height, src.width)\n",
        "            transform = src.transform\n",
        "            img_crs = src.crs\n",
        "\n",
        "        try:\n",
        "            mask_labels_match = create_mask(labels_match, img_shape, transform)\n",
        "        except ValueError as e:\n",
        "            print(f\"Empty or invalid label, noise on image: {img_path} due to error: {e}\")\n",
        "            mask_labels_match = np.zeros(img_shape, dtype=np.uint8)  # Crea una maschera nera in caso di errore\n",
        "\n",
        "        img_name = os.path.basename(img_path)\n",
        "        mask_name = img_name.replace('.tif', '_label_mask.tif')\n",
        "        mask_output_path = os.path.join(output_dir, mask_name)\n",
        "\n",
        "        save_normalized_mask(mask_labels_match, mask_output_path, img_crs, transform)\n",
        "\n",
        "        processed_count += 1\n",
        "\n",
        "        if processed_count % 100 == 0:\n",
        "            print(f'Processed: {processed_count} masks')"
      ]
    },
    {
      "cell_type": "markdown",
      "metadata": {
        "id": "BIoHAUjg--B_"
      },
      "source": [
        "Path"
      ]
    },
    {
      "cell_type": "code",
      "execution_count": null,
      "metadata": {
        "id": "6-OyRkM---CA"
      },
      "outputs": [],
      "source": [
        "image_dir_train = 'training/images_masked'\n",
        "label_dir_train = 'training/labels/labels_match'\n",
        "mask_dir_train = 'training/mask_from_label'\n",
        "\n",
        "image_dir_valid = 'validation/images_masked'\n",
        "label_dir_valid = 'validation/labels/labels_match'\n",
        "mask_dir_valid = 'validation/mask_from_label'\n",
        "\n",
        "image_dir_test = 'test/images_masked'\n",
        "label_dir_test = 'test/labels/labels_match'\n",
        "mask_dir_test = 'test/mask_from_label'"
      ]
    },
    {
      "cell_type": "code",
      "execution_count": null,
      "metadata": {
        "id": "sH8gUpel--CA"
      },
      "outputs": [],
      "source": [
        "#process_dataset(image_dir_train, label_dir_train, mask_dir_train)"
      ]
    },
    {
      "cell_type": "markdown",
      "metadata": {
        "id": "qEnVk25f--CB"
      },
      "source": [
        "Validation"
      ]
    },
    {
      "cell_type": "code",
      "execution_count": null,
      "metadata": {
        "id": "bqcjflP4--CB"
      },
      "outputs": [],
      "source": [
        "#process_dataset(image_dir_valid, label_dir_valid, mask_dir_valid)"
      ]
    },
    {
      "cell_type": "markdown",
      "metadata": {
        "id": "sPamb8P8--CB"
      },
      "source": [
        "Test"
      ]
    },
    {
      "cell_type": "code",
      "execution_count": null,
      "metadata": {
        "id": "SVlhXeOQ--CB"
      },
      "outputs": [],
      "source": [
        "#process_dataset(image_dir_test, label_dir_test, mask_dir_test)"
      ]
    },
    {
      "cell_type": "markdown",
      "metadata": {
        "id": "Ow895gbG--CB"
      },
      "source": [
        "SN7Dataset"
      ]
    },
    {
      "cell_type": "code",
      "execution_count": null,
      "metadata": {
        "id": "D-wyNSbJ--CB"
      },
      "outputs": [],
      "source": [
        "class SN7Dataset(Dataset):\n",
        "    def __init__(self, image_dir, mask_dir, transform=None, mean=None, std=None):\n",
        "        self.image_paths = sorted(glob(os.path.join(image_dir, '*.tif')))  #liste ordinate con i percorsi\n",
        "        self.mask_paths = sorted(glob(os.path.join(mask_dir, '*.tif')))\n",
        "        self.transform = transform\n",
        "\n",
        "    def __len__(self):\n",
        "        return len(self.image_paths)\n",
        "\n",
        "    def __getitem__(self, idx):\n",
        "        image_path = self.image_paths[idx]\n",
        "        mask_path = self.mask_paths[idx]\n",
        "\n",
        "        with rasterio.open(image_path) as src:\n",
        "            image = src.read().transpose((1, 2, 0))\n",
        "            image = image.astype(np.float32)\n",
        "            image = (image - mean) / std\n",
        "\n",
        "        with rasterio.open(mask_path) as src:\n",
        "            mask = src.read(1).astype(np.float32)\n",
        "            mask[mask == 255.0] = 1.0  # Conversione per maschera binaria\n",
        "\n",
        "        if self.transform is not None:\n",
        "            augmentations = self.transform(image=image, mask=mask)\n",
        "            image = augmentations[\"image\"]\n",
        "            mask = augmentations[\"mask\"]\n",
        "\n",
        "        return image, mask\n"
      ]
    },
    {
      "cell_type": "markdown",
      "metadata": {
        "id": "RgxgO2BW--CC"
      },
      "source": [
        "DoubleConv"
      ]
    },
    {
      "cell_type": "code",
      "execution_count": null,
      "metadata": {
        "id": "pmX0RtPB--CC"
      },
      "outputs": [],
      "source": [
        "class DoubleConv(nn.Module):\n",
        "  def __init__(self, in_channels, out_channels):\n",
        "      super(DoubleConv, self).__init__()\n",
        "      self.conv = nn.Sequential(\n",
        "          nn.Conv2d(in_channels, out_channels, 3, 1, 1, bias=False),\n",
        "          nn.BatchNorm2d(out_channels),\n",
        "          nn.ReLU(inplace=True),\n",
        "          nn.Conv2d(out_channels, out_channels, 3, 1, 1, bias=False),\n",
        "          nn.BatchNorm2d(out_channels),\n",
        "          nn.ReLU(inplace=True),\n",
        "      )\n",
        "\n",
        "  def forward(self, x):\n",
        "      return self.conv(x)"
      ]
    },
    {
      "cell_type": "markdown",
      "metadata": {
        "id": "nt4lGJxB--CC"
      },
      "source": [
        "UNET"
      ]
    },
    {
      "cell_type": "code",
      "execution_count": null,
      "metadata": {
        "id": "D6gceAQf--CC"
      },
      "outputs": [],
      "source": [
        "class UNET(nn.Module):\n",
        "  def __init__(\n",
        "      self, in_channels=4, out_channels=1, features=[64, 128, 256, 512],\n",
        "  ):\n",
        "    super(UNET, self).__init__()\n",
        "    self.ups = nn.ModuleList()\n",
        "    self.downs = nn.ModuleList()\n",
        "    self.pool = nn.MaxPool2d(kernel_size=2, stride=2)\n",
        "\n",
        "    for feature in features:\n",
        "      self.downs.append(DoubleConv(in_channels, feature))\n",
        "      in_channels = feature\n",
        "\n",
        "    for feature in reversed(features):\n",
        "      self.ups.append(\n",
        "          nn.ConvTranspose2d(\n",
        "              feature*2, feature, kernel_size=2, stride=2,\n",
        "          )\n",
        "      )\n",
        "      self.ups.append(DoubleConv(feature*2, feature))\n",
        "\n",
        "    self.bottleneck = DoubleConv(features[-1], features[-1]*2)\n",
        "    self.final_conv = nn.Conv2d(features[0], out_channels, kernel_size=1)\n",
        "  def forward(self, x):\n",
        "    skip_connections = []\n",
        "\n",
        "    for down in self.downs:\n",
        "      x = down(x)\n",
        "      skip_connections.append(x)\n",
        "      x = self.pool(x)\n",
        "\n",
        "    x = self.bottleneck(x)\n",
        "    skip_connections = skip_connections[::-1]\n",
        "\n",
        "    for idx in range(0, len(self.ups), 2):\n",
        "      x = self.ups[idx](x)\n",
        "      skip_connection = skip_connections[idx//2]\n",
        "\n",
        "      if x.shape != skip_connection.shape:\n",
        "        x = TF.resize(x, size=skip_connection.shape[2:])\n",
        "\n",
        "      concat_skip = torch.cat((skip_connection, x), dim=1)\n",
        "      x = self.ups[idx+1](concat_skip)\n",
        "\n",
        "    return self.final_conv(x)"
      ]
    },
    {
      "cell_type": "markdown",
      "metadata": {
        "id": "gji728PB--CC"
      },
      "source": [
        "seed"
      ]
    },
    {
      "cell_type": "code",
      "execution_count": null,
      "metadata": {
        "id": "Wo-1KszI--CC"
      },
      "outputs": [],
      "source": [
        "def set_seed(seed):\n",
        "  random.seed(seed)\n",
        "  np.random.seed(seed)\n",
        "  torch.manual_seed(seed)\n",
        "  torch.cuda.manual_seed_all(seed)"
      ]
    },
    {
      "cell_type": "markdown",
      "metadata": {
        "id": "AOrbW1Vi--CC"
      },
      "source": [
        "Funzione per il training"
      ]
    },
    {
      "cell_type": "code",
      "execution_count": null,
      "metadata": {
        "id": "g3_9wu0H--CD"
      },
      "outputs": [],
      "source": [
        "def train_fn(loader, model, optimizer, loss_fn, scaler, txtfile):\n",
        "    loop = tqdm(loader)\n",
        "    tot_loss = 0.0\n",
        "\n",
        "    for batch_idx, (data, targets) in enumerate(loop):\n",
        "        data = data.float().to(device=device)  # Converti l'input in float\n",
        "        targets = targets.float().to(device=device)  # Converti i target in float\n",
        "\n",
        "        with torch.cuda.amp.autocast():\n",
        "            predictions = model(data).squeeze(1)\n",
        "            loss = loss_fn(predictions, targets)\n",
        "\n",
        "        optimizer.zero_grad()\n",
        "        scaler.scale(loss).backward()\n",
        "        scaler.step(optimizer)\n",
        "        scaler.update()\n",
        "        tot_loss += loss.item()\n",
        "        loop.set_postfix(loss=loss.item())\n",
        "\n",
        "    avg_loss = tot_loss / len(loader)\n",
        "    with open(txtfile, \"a\") as f:\n",
        "        f.write(f\"Train Loss: {avg_loss:.4f}\\n\")"
      ]
    },
    {
      "cell_type": "markdown",
      "metadata": {
        "id": "O7FGnJTR--CD"
      },
      "source": [
        "Funzioni di mantenimento addestramento"
      ]
    },
    {
      "cell_type": "code",
      "execution_count": null,
      "metadata": {
        "id": "yvvdZHv0--CD"
      },
      "outputs": [],
      "source": [
        "def save_checkpoint(state, filename=\"/NN_register/checkpoint.pth.tar\"):\n",
        "  print(\"=> Saving checkpoint\")\n",
        "  torch.save(state, filename)\n",
        "\n",
        "def load_checkpoint(checkpoint, model):\n",
        "  print(\"=> Loading checkpoint\")\n",
        "  model.load_state_dict(checkpoint[\"state_dict\"])"
      ]
    },
    {
      "cell_type": "markdown",
      "metadata": {
        "id": "5bVa-AX4--CD"
      },
      "source": [
        "Evaluation Function"
      ]
    },
    {
      "cell_type": "code",
      "execution_count": null,
      "metadata": {
        "id": "wUf_Fabn--CD"
      },
      "outputs": [],
      "source": [
        "def eval_fn(loader, model, loss_fn, txtfile, device=\"cuda\", testing=False):\n",
        "    model.eval()\n",
        "    num_correct = 0\n",
        "    num_pixels = 0\n",
        "    total_precision = 0\n",
        "    total_recall = 0\n",
        "    total_f1 = 0\n",
        "    total_loss = 0\n",
        "\n",
        "    all_preds = []\n",
        "    all_labels = []\n",
        "\n",
        "    with torch.no_grad():\n",
        "        for num_it, (x, y) in enumerate(loader, start=1):\n",
        "            print(num_it)\n",
        "            x = x.float().to(device)\n",
        "            y = y.float().to(device)\n",
        "            out = model(x).squeeze(1)\n",
        "            loss = loss_fn(out, y)\n",
        "            total_loss += loss.item()\n",
        "            preds = torch.sigmoid(out)\n",
        "            preds = (preds > 0.5).float()\n",
        "\n",
        "            if testing:\n",
        "                all_preds.append(preds.cpu().numpy().flatten())\n",
        "                all_labels.append(y.cpu().numpy().flatten())\n",
        "\n",
        "            num_correct += (preds == y).sum().item()\n",
        "            num_pixels += torch.numel(preds)\n",
        "\n",
        "            y_np = y.cpu().numpy().flatten()\n",
        "            preds_np = preds.cpu().numpy().flatten()\n",
        "            total_precision += precision_score(y_np, preds_np, zero_division=1)\n",
        "            total_recall += recall_score(y_np, preds_np, zero_division=1)\n",
        "            total_f1 += f1_score(y_np, preds_np, zero_division=1)\n",
        "\n",
        "    avg_loss = total_loss / len(loader)\n",
        "    avg_precision = total_precision / len(loader)\n",
        "    avg_recall = total_recall / len(loader)\n",
        "    avg_f1 = total_f1 / len(loader)\n",
        "    accuracy = num_correct / num_pixels * 100\n",
        "\n",
        "    print(f\"Validation Loss: {avg_loss:.4f}\")\n",
        "    print(f\"Accuracy: {accuracy:.2f}\")\n",
        "    print(f\"Precision: {avg_precision:.4f}\")\n",
        "    print(f\"Recall: {avg_recall:.4f}\")\n",
        "    print(f\"F1 Score: {avg_f1:.4f}\")\n",
        "\n",
        "    with open(txtfile, \"a\") as f:\n",
        "        f.write(f\"Validation Loss: {avg_loss:.4f}\\n\")\n",
        "        f.write(f\"Accuracy: {accuracy:.2f}\\n\")\n",
        "        f.write(f\"Precision: {avg_precision:.4f}\\n\")\n",
        "        f.write(f\"Recall: {avg_recall:.4f}\\n\")\n",
        "        f.write(f\"F1 Score: {avg_f1:.4f}\\n\")\n",
        "        f.write(\"\\n\")\n",
        "    if testing:\n",
        "        all_preds = np.concatenate(all_preds)\n",
        "        all_labels = np.concatenate(all_labels)\n",
        "        conf_matrix = confusion_matrix(all_labels, all_preds)\n",
        "\n",
        "        plt.figure(figsize=(10, 7))\n",
        "        sns.heatmap(conf_matrix, annot=True, fmt=\"d\")\n",
        "        plt.title(\"Confusion Matrix\")\n",
        "        plt.xlabel(\"Predicted\")\n",
        "        plt.ylabel(\"True\")\n",
        "        plt.savefig(txtfile.replace(\".txt\", \"_confusion_matrix.png\"))\n",
        "\n",
        "    model.train()\n",
        "    return avg_loss, accuracy, avg_precision, avg_recall, avg_f1"
      ]
    },
    {
      "cell_type": "code",
      "execution_count": null,
      "metadata": {
        "id": "C2FZ4aCn--CD"
      },
      "outputs": [],
      "source": [
        "def save_predictions_as_imgs(loader, model, folder, device=\"cuda\"):\n",
        "    os.makedirs(folder, exist_ok=True)\n",
        "    model.eval()\n",
        "    it = 1\n",
        "    for idx, (x, y) in enumerate(tqdm(loader, desc=\"Saving predictions\")):\n",
        "        print(it)\n",
        "        it += 1\n",
        "        x = x.float().to(device=device)  # Converti l'input in float\n",
        "        y = y.float().to(device=device).unsqueeze(1)  # Converti i target in float\n",
        "\n",
        "        with torch.no_grad():\n",
        "            preds = torch.sigmoid(model(x))\n",
        "            preds = (preds > 0.5).float()\n",
        "\n",
        "        combined = torch.cat((y, preds), dim=2)\n",
        "        torchvision.utils.save_image(combined, f\"{folder}/comparison_{idx}.png\")\n",
        "\n",
        "    model.train()\n"
      ]
    },
    {
      "cell_type": "markdown",
      "metadata": {
        "id": "NjXhOZG---CD"
      },
      "source": [
        "Pos-weight, ottimizzazione per la loss"
      ]
    },
    {
      "cell_type": "code",
      "execution_count": null,
      "metadata": {
        "id": "PZolWkTw--CD"
      },
      "outputs": [],
      "source": [
        "def calculate_pos_weight(dataset):\n",
        "    pos_pixels = 0\n",
        "    neg_pixels = 0\n",
        "\n",
        "    for _, mask in dataset:\n",
        "        pos_pixels += mask.sum().item()\n",
        "        neg_pixels += (mask.numel() - mask.sum().item())\n",
        "\n",
        "    pos_weight = neg_pixels / pos_pixels\n",
        "    return torch.tensor([pos_weight], dtype=torch.float)"
      ]
    },
    {
      "cell_type": "code",
      "execution_count": null,
      "metadata": {
        "id": "9LUusDo1--CE"
      },
      "outputs": [],
      "source": [
        "# Usa il percorso relativo alla posizione dello script\n",
        "base_dir = os.getcwd()\n",
        "model_dir = os.path.join(base_dir, \"NN_register\")\n",
        "output_dir = os.path.join(model_dir, \"output\")\n",
        "image_output_dir = os.path.join(model_dir, \"images\")\n",
        "\n",
        "# Assicurati che le directory di output esistano\n",
        "os.makedirs(output_dir, exist_ok=True)\n",
        "os.makedirs(image_output_dir, exist_ok=True)\n",
        "\n",
        "# Definisci i percorsi delle immagini\n",
        "image_dir_train = os.path.join(base_dir, 'training/images_masked')\n",
        "mask_dir_train = os.path.join(base_dir, 'training/mask_from_label')\n",
        "\n",
        "image_dir_valid = os.path.join(base_dir, 'validation/images_masked')\n",
        "mask_dir_valid = os.path.join(base_dir, 'validation/mask_from_label')\n",
        "\n",
        "image_dir_test = os.path.join(base_dir, 'test/images_masked')\n",
        "mask_dir_test = os.path.join(base_dir, 'test/mask_from_label')\n",
        "\n",
        "set_seed(42)"
      ]
    },
    {
      "cell_type": "code",
      "execution_count": null,
      "metadata": {
        "id": "GdQ2wFD---CE",
        "outputId": "83c92ac4-8a86-471a-821e-39906c499856"
      },
      "outputs": [
        {
          "name": "stdout",
          "output_type": "stream",
          "text": [
            "Epoch 1/8, Validation F1 Score: 0.03870102031933008\n",
            "Epoch 2/8, Validation F1 Score: 0.2647378135157278\n",
            "Epoch 3/8, Validation F1 Score: 0.25442839723956456\n",
            "Epoch 4/8, Validation F1 Score: 0.2415461939644019\n",
            "Epoch 5/8, Validation F1 Score: 0.35728089470240265\n",
            "Epoch 6/8, Validation F1 Score: 0.3005813313607831\n",
            "Epoch 7/8, Validation F1 Score: 0.2639245066576918\n"
          ]
        },
        {
          "name": "stderr",
          "output_type": "stream",
          "text": [
            "[I 2024-06-22 13:07:32,436] Trial 0 finished with value: 0.3154393981124039 and parameters: {'lr': 0.00022470674993181603, 'batch_size': 16, 'resize_dim': 512}. Best is trial 0 with value: 0.3154393981124039.\n"
          ]
        },
        {
          "name": "stdout",
          "output_type": "stream",
          "text": [
            "Epoch 8/8, Validation F1 Score: 0.3154393981124039\n",
            "Trial 1 completed with F1 Score: 0.3154393981124039\n",
            "Starting trial 2\n",
            "Out of memory at batch 1 of epoch 1, reducing batch size from 8\n",
            "Out of memory at batch 2 of epoch 1, reducing batch size from 4\n",
            "Out of memory at batch 3 of epoch 1, reducing batch size from 2\n",
            "Out of memory at batch 4 of epoch 1, reducing batch size from 1\n",
            "Out of memory at batch 5 of epoch 1, reducing batch size from 1\n",
            "Out of memory at batch 6 of epoch 1, reducing batch size from 1\n",
            "Out of memory at batch 7 of epoch 1, reducing batch size from 1\n",
            "Out of memory at batch 8 of epoch 1, reducing batch size from 1\n",
            "Out of memory at batch 9 of epoch 1, reducing batch size from 1\n",
            "Out of memory at batch 10 of epoch 1, reducing batch size from 1\n",
            "Out of memory at batch 11 of epoch 1, reducing batch size from 1\n",
            "Out of memory at batch 12 of epoch 1, reducing batch size from 1\n",
            "Out of memory at batch 13 of epoch 1, reducing batch size from 1\n",
            "Out of memory at batch 14 of epoch 1, reducing batch size from 1\n",
            "Out of memory at batch 15 of epoch 1, reducing batch size from 1\n",
            "Out of memory at batch 16 of epoch 1, reducing batch size from 1\n",
            "Out of memory at batch 17 of epoch 1, reducing batch size from 1\n",
            "Out of memory at batch 18 of epoch 1, reducing batch size from 1\n",
            "Out of memory at batch 19 of epoch 1, reducing batch size from 1\n",
            "Out of memory at batch 20 of epoch 1, reducing batch size from 1\n",
            "Out of memory at batch 21 of epoch 1, reducing batch size from 1\n",
            "Out of memory at batch 22 of epoch 1, reducing batch size from 1\n",
            "Out of memory at batch 23 of epoch 1, reducing batch size from 1\n",
            "Out of memory at batch 24 of epoch 1, reducing batch size from 1\n",
            "Out of memory at batch 25 of epoch 1, reducing batch size from 1\n",
            "Out of memory at batch 26 of epoch 1, reducing batch size from 1\n",
            "Out of memory at batch 27 of epoch 1, reducing batch size from 1\n",
            "Out of memory at batch 28 of epoch 1, reducing batch size from 1\n",
            "Out of memory at batch 29 of epoch 1, reducing batch size from 1\n",
            "Out of memory at batch 30 of epoch 1, reducing batch size from 1\n",
            "Out of memory at batch 31 of epoch 1, reducing batch size from 1\n",
            "Out of memory at batch 32 of epoch 1, reducing batch size from 1\n",
            "Out of memory at batch 33 of epoch 1, reducing batch size from 1\n",
            "Out of memory at batch 34 of epoch 1, reducing batch size from 1\n",
            "Out of memory at batch 35 of epoch 1, reducing batch size from 1\n",
            "Out of memory at batch 36 of epoch 1, reducing batch size from 1\n",
            "Out of memory at batch 37 of epoch 1, reducing batch size from 1\n",
            "Out of memory at batch 38 of epoch 1, reducing batch size from 1\n",
            "Out of memory at batch 39 of epoch 1, reducing batch size from 1\n",
            "Out of memory at batch 40 of epoch 1, reducing batch size from 1\n",
            "Out of memory at batch 41 of epoch 1, reducing batch size from 1\n",
            "Out of memory at batch 42 of epoch 1, reducing batch size from 1\n",
            "Out of memory at batch 43 of epoch 1, reducing batch size from 1\n",
            "Out of memory at batch 44 of epoch 1, reducing batch size from 1\n",
            "Out of memory at batch 45 of epoch 1, reducing batch size from 1\n",
            "Out of memory at batch 46 of epoch 1, reducing batch size from 1\n",
            "Out of memory at batch 47 of epoch 1, reducing batch size from 1\n",
            "Out of memory at batch 48 of epoch 1, reducing batch size from 1\n",
            "Out of memory at batch 49 of epoch 1, reducing batch size from 1\n",
            "Out of memory at batch 50 of epoch 1, reducing batch size from 1\n",
            "Out of memory at batch 51 of epoch 1, reducing batch size from 1\n",
            "Out of memory at batch 52 of epoch 1, reducing batch size from 1\n",
            "Out of memory at batch 53 of epoch 1, reducing batch size from 1\n",
            "Out of memory at batch 54 of epoch 1, reducing batch size from 1\n",
            "Out of memory at batch 55 of epoch 1, reducing batch size from 1\n",
            "Out of memory at batch 56 of epoch 1, reducing batch size from 1\n",
            "Out of memory at batch 57 of epoch 1, reducing batch size from 1\n",
            "Out of memory at batch 58 of epoch 1, reducing batch size from 1\n",
            "Out of memory at batch 59 of epoch 1, reducing batch size from 1\n",
            "Out of memory at batch 60 of epoch 1, reducing batch size from 1\n",
            "Out of memory at batch 61 of epoch 1, reducing batch size from 1\n",
            "Out of memory at batch 62 of epoch 1, reducing batch size from 1\n",
            "Out of memory at batch 63 of epoch 1, reducing batch size from 1\n",
            "Out of memory at batch 64 of epoch 1, reducing batch size from 1\n",
            "Out of memory at batch 65 of epoch 1, reducing batch size from 1\n",
            "Out of memory at batch 66 of epoch 1, reducing batch size from 1\n",
            "Out of memory at batch 67 of epoch 1, reducing batch size from 1\n",
            "Out of memory at batch 68 of epoch 1, reducing batch size from 1\n",
            "Out of memory at batch 69 of epoch 1, reducing batch size from 1\n",
            "Out of memory at batch 70 of epoch 1, reducing batch size from 1\n",
            "Out of memory at batch 71 of epoch 1, reducing batch size from 1\n",
            "Out of memory at batch 72 of epoch 1, reducing batch size from 1\n",
            "Out of memory at batch 73 of epoch 1, reducing batch size from 1\n",
            "Out of memory at batch 74 of epoch 1, reducing batch size from 1\n",
            "Out of memory at batch 75 of epoch 1, reducing batch size from 1\n",
            "Out of memory at batch 76 of epoch 1, reducing batch size from 1\n",
            "Out of memory at batch 77 of epoch 1, reducing batch size from 1\n",
            "Out of memory at batch 78 of epoch 1, reducing batch size from 1\n",
            "Out of memory at batch 79 of epoch 1, reducing batch size from 1\n",
            "Out of memory at batch 80 of epoch 1, reducing batch size from 1\n",
            "Out of memory at batch 81 of epoch 1, reducing batch size from 1\n",
            "Out of memory at batch 82 of epoch 1, reducing batch size from 1\n",
            "Out of memory at batch 83 of epoch 1, reducing batch size from 1\n",
            "Out of memory at batch 84 of epoch 1, reducing batch size from 1\n",
            "Out of memory at batch 85 of epoch 1, reducing batch size from 1\n",
            "Out of memory at batch 86 of epoch 1, reducing batch size from 1\n",
            "Out of memory at batch 87 of epoch 1, reducing batch size from 1\n",
            "Out of memory at batch 88 of epoch 1, reducing batch size from 1\n",
            "Out of memory at batch 89 of epoch 1, reducing batch size from 1\n",
            "Out of memory at batch 90 of epoch 1, reducing batch size from 1\n",
            "Out of memory at batch 91 of epoch 1, reducing batch size from 1\n",
            "Out of memory at batch 92 of epoch 1, reducing batch size from 1\n",
            "Out of memory at batch 93 of epoch 1, reducing batch size from 1\n",
            "Out of memory at batch 94 of epoch 1, reducing batch size from 1\n",
            "Out of memory at batch 95 of epoch 1, reducing batch size from 1\n",
            "Out of memory at batch 96 of epoch 1, reducing batch size from 1\n",
            "Out of memory at batch 97 of epoch 1, reducing batch size from 1\n",
            "Out of memory at batch 98 of epoch 1, reducing batch size from 1\n",
            "Out of memory at batch 99 of epoch 1, reducing batch size from 1\n",
            "Out of memory at batch 100 of epoch 1, reducing batch size from 1\n",
            "Out of memory at batch 101 of epoch 1, reducing batch size from 1\n",
            "Out of memory at batch 102 of epoch 1, reducing batch size from 1\n",
            "Out of memory at batch 103 of epoch 1, reducing batch size from 1\n",
            "Out of memory at batch 104 of epoch 1, reducing batch size from 1\n",
            "Out of memory at batch 105 of epoch 1, reducing batch size from 1\n",
            "Out of memory at batch 106 of epoch 1, reducing batch size from 1\n",
            "Out of memory at batch 107 of epoch 1, reducing batch size from 1\n",
            "Out of memory at batch 108 of epoch 1, reducing batch size from 1\n",
            "Out of memory at batch 109 of epoch 1, reducing batch size from 1\n",
            "Out of memory at batch 110 of epoch 1, reducing batch size from 1\n",
            "Out of memory at batch 111 of epoch 1, reducing batch size from 1\n",
            "Out of memory at batch 112 of epoch 1, reducing batch size from 1\n",
            "Out of memory at batch 113 of epoch 1, reducing batch size from 1\n",
            "Out of memory at batch 114 of epoch 1, reducing batch size from 1\n",
            "Out of memory at batch 115 of epoch 1, reducing batch size from 1\n",
            "Out of memory at batch 116 of epoch 1, reducing batch size from 1\n",
            "Out of memory at batch 117 of epoch 1, reducing batch size from 1\n",
            "Out of memory at batch 118 of epoch 1, reducing batch size from 1\n",
            "Out of memory at batch 119 of epoch 1, reducing batch size from 1\n",
            "Out of memory at batch 120 of epoch 1, reducing batch size from 1\n",
            "Out of memory at batch 121 of epoch 1, reducing batch size from 1\n",
            "Out of memory at batch 122 of epoch 1, reducing batch size from 1\n",
            "Out of memory at batch 123 of epoch 1, reducing batch size from 1\n",
            "Out of memory at batch 124 of epoch 1, reducing batch size from 1\n",
            "Out of memory at batch 125 of epoch 1, reducing batch size from 1\n",
            "Epoch 1/8, Validation F1 Score: 0.14841457816267542\n",
            "Epoch 2/8, Validation F1 Score: 0.21840893170409004\n",
            "Epoch 3/8, Validation F1 Score: 0.3656275809262922\n",
            "Epoch 4/8, Validation F1 Score: 0.26243325921699495\n",
            "Epoch 5/8, Validation F1 Score: 0.38186013795329155\n",
            "Epoch 6/8, Validation F1 Score: 0.3352786699818027\n",
            "Epoch 7/8, Validation F1 Score: 0.2502179189642945\n"
          ]
        },
        {
          "name": "stderr",
          "output_type": "stream",
          "text": [
            "[I 2024-06-22 13:34:55,243] Trial 1 finished with value: 0.3253735846638809 and parameters: {'lr': 7.835576406487916e-05, 'batch_size': 8, 'resize_dim': 768}. Best is trial 1 with value: 0.3253735846638809.\n"
          ]
        },
        {
          "name": "stdout",
          "output_type": "stream",
          "text": [
            "Epoch 8/8, Validation F1 Score: 0.3253735846638809\n",
            "Trial 2 completed with F1 Score: 0.3253735846638809\n",
            "Starting trial 3\n",
            "Out of memory at batch 1 of epoch 1, reducing batch size from 8\n",
            "Out of memory at batch 2 of epoch 1, reducing batch size from 4\n",
            "Out of memory at batch 3 of epoch 1, reducing batch size from 2\n",
            "Out of memory at batch 4 of epoch 1, reducing batch size from 1\n",
            "Out of memory at batch 5 of epoch 1, reducing batch size from 1\n",
            "Out of memory at batch 6 of epoch 1, reducing batch size from 1\n",
            "Out of memory at batch 7 of epoch 1, reducing batch size from 1\n",
            "Out of memory at batch 8 of epoch 1, reducing batch size from 1\n",
            "Out of memory at batch 9 of epoch 1, reducing batch size from 1\n",
            "Out of memory at batch 10 of epoch 1, reducing batch size from 1\n",
            "Out of memory at batch 11 of epoch 1, reducing batch size from 1\n",
            "Out of memory at batch 12 of epoch 1, reducing batch size from 1\n",
            "Out of memory at batch 13 of epoch 1, reducing batch size from 1\n",
            "Out of memory at batch 14 of epoch 1, reducing batch size from 1\n",
            "Out of memory at batch 15 of epoch 1, reducing batch size from 1\n",
            "Out of memory at batch 16 of epoch 1, reducing batch size from 1\n",
            "Out of memory at batch 17 of epoch 1, reducing batch size from 1\n",
            "Out of memory at batch 18 of epoch 1, reducing batch size from 1\n",
            "Out of memory at batch 19 of epoch 1, reducing batch size from 1\n",
            "Out of memory at batch 20 of epoch 1, reducing batch size from 1\n",
            "Out of memory at batch 21 of epoch 1, reducing batch size from 1\n",
            "Out of memory at batch 22 of epoch 1, reducing batch size from 1\n",
            "Out of memory at batch 23 of epoch 1, reducing batch size from 1\n",
            "Out of memory at batch 24 of epoch 1, reducing batch size from 1\n",
            "Out of memory at batch 25 of epoch 1, reducing batch size from 1\n",
            "Out of memory at batch 26 of epoch 1, reducing batch size from 1\n",
            "Out of memory at batch 27 of epoch 1, reducing batch size from 1\n",
            "Out of memory at batch 28 of epoch 1, reducing batch size from 1\n",
            "Out of memory at batch 29 of epoch 1, reducing batch size from 1\n",
            "Out of memory at batch 30 of epoch 1, reducing batch size from 1\n",
            "Out of memory at batch 31 of epoch 1, reducing batch size from 1\n",
            "Out of memory at batch 32 of epoch 1, reducing batch size from 1\n",
            "Out of memory at batch 33 of epoch 1, reducing batch size from 1\n",
            "Out of memory at batch 34 of epoch 1, reducing batch size from 1\n",
            "Out of memory at batch 35 of epoch 1, reducing batch size from 1\n",
            "Out of memory at batch 36 of epoch 1, reducing batch size from 1\n",
            "Out of memory at batch 37 of epoch 1, reducing batch size from 1\n",
            "Out of memory at batch 38 of epoch 1, reducing batch size from 1\n",
            "Out of memory at batch 39 of epoch 1, reducing batch size from 1\n",
            "Out of memory at batch 40 of epoch 1, reducing batch size from 1\n",
            "Out of memory at batch 41 of epoch 1, reducing batch size from 1\n",
            "Out of memory at batch 42 of epoch 1, reducing batch size from 1\n",
            "Out of memory at batch 43 of epoch 1, reducing batch size from 1\n",
            "Out of memory at batch 44 of epoch 1, reducing batch size from 1\n",
            "Out of memory at batch 45 of epoch 1, reducing batch size from 1\n",
            "Out of memory at batch 46 of epoch 1, reducing batch size from 1\n",
            "Out of memory at batch 47 of epoch 1, reducing batch size from 1\n",
            "Out of memory at batch 48 of epoch 1, reducing batch size from 1\n",
            "Out of memory at batch 49 of epoch 1, reducing batch size from 1\n",
            "Out of memory at batch 50 of epoch 1, reducing batch size from 1\n",
            "Out of memory at batch 51 of epoch 1, reducing batch size from 1\n",
            "Out of memory at batch 52 of epoch 1, reducing batch size from 1\n",
            "Out of memory at batch 53 of epoch 1, reducing batch size from 1\n",
            "Out of memory at batch 54 of epoch 1, reducing batch size from 1\n",
            "Out of memory at batch 55 of epoch 1, reducing batch size from 1\n",
            "Out of memory at batch 56 of epoch 1, reducing batch size from 1\n",
            "Out of memory at batch 57 of epoch 1, reducing batch size from 1\n",
            "Out of memory at batch 58 of epoch 1, reducing batch size from 1\n",
            "Out of memory at batch 59 of epoch 1, reducing batch size from 1\n",
            "Out of memory at batch 60 of epoch 1, reducing batch size from 1\n",
            "Out of memory at batch 61 of epoch 1, reducing batch size from 1\n",
            "Out of memory at batch 62 of epoch 1, reducing batch size from 1\n",
            "Out of memory at batch 63 of epoch 1, reducing batch size from 1\n",
            "Out of memory at batch 64 of epoch 1, reducing batch size from 1\n",
            "Out of memory at batch 65 of epoch 1, reducing batch size from 1\n",
            "Out of memory at batch 66 of epoch 1, reducing batch size from 1\n",
            "Out of memory at batch 67 of epoch 1, reducing batch size from 1\n",
            "Out of memory at batch 68 of epoch 1, reducing batch size from 1\n",
            "Out of memory at batch 69 of epoch 1, reducing batch size from 1\n",
            "Out of memory at batch 70 of epoch 1, reducing batch size from 1\n",
            "Out of memory at batch 71 of epoch 1, reducing batch size from 1\n",
            "Out of memory at batch 72 of epoch 1, reducing batch size from 1\n",
            "Out of memory at batch 73 of epoch 1, reducing batch size from 1\n",
            "Out of memory at batch 74 of epoch 1, reducing batch size from 1\n",
            "Out of memory at batch 75 of epoch 1, reducing batch size from 1\n",
            "Out of memory at batch 76 of epoch 1, reducing batch size from 1\n",
            "Out of memory at batch 77 of epoch 1, reducing batch size from 1\n",
            "Out of memory at batch 78 of epoch 1, reducing batch size from 1\n",
            "Out of memory at batch 79 of epoch 1, reducing batch size from 1\n",
            "Out of memory at batch 80 of epoch 1, reducing batch size from 1\n",
            "Out of memory at batch 81 of epoch 1, reducing batch size from 1\n",
            "Out of memory at batch 82 of epoch 1, reducing batch size from 1\n",
            "Out of memory at batch 83 of epoch 1, reducing batch size from 1\n",
            "Out of memory at batch 84 of epoch 1, reducing batch size from 1\n",
            "Out of memory at batch 85 of epoch 1, reducing batch size from 1\n",
            "Out of memory at batch 86 of epoch 1, reducing batch size from 1\n",
            "Out of memory at batch 87 of epoch 1, reducing batch size from 1\n",
            "Out of memory at batch 88 of epoch 1, reducing batch size from 1\n",
            "Out of memory at batch 89 of epoch 1, reducing batch size from 1\n",
            "Out of memory at batch 90 of epoch 1, reducing batch size from 1\n",
            "Out of memory at batch 91 of epoch 1, reducing batch size from 1\n",
            "Out of memory at batch 92 of epoch 1, reducing batch size from 1\n",
            "Out of memory at batch 93 of epoch 1, reducing batch size from 1\n",
            "Out of memory at batch 94 of epoch 1, reducing batch size from 1\n",
            "Out of memory at batch 95 of epoch 1, reducing batch size from 1\n",
            "Out of memory at batch 96 of epoch 1, reducing batch size from 1\n",
            "Out of memory at batch 97 of epoch 1, reducing batch size from 1\n",
            "Out of memory at batch 98 of epoch 1, reducing batch size from 1\n",
            "Out of memory at batch 99 of epoch 1, reducing batch size from 1\n",
            "Out of memory at batch 100 of epoch 1, reducing batch size from 1\n",
            "Out of memory at batch 101 of epoch 1, reducing batch size from 1\n",
            "Out of memory at batch 102 of epoch 1, reducing batch size from 1\n",
            "Out of memory at batch 103 of epoch 1, reducing batch size from 1\n",
            "Out of memory at batch 104 of epoch 1, reducing batch size from 1\n",
            "Out of memory at batch 105 of epoch 1, reducing batch size from 1\n",
            "Out of memory at batch 106 of epoch 1, reducing batch size from 1\n",
            "Out of memory at batch 107 of epoch 1, reducing batch size from 1\n",
            "Out of memory at batch 108 of epoch 1, reducing batch size from 1\n",
            "Out of memory at batch 109 of epoch 1, reducing batch size from 1\n",
            "Out of memory at batch 110 of epoch 1, reducing batch size from 1\n",
            "Out of memory at batch 111 of epoch 1, reducing batch size from 1\n",
            "Out of memory at batch 112 of epoch 1, reducing batch size from 1\n",
            "Out of memory at batch 113 of epoch 1, reducing batch size from 1\n",
            "Out of memory at batch 114 of epoch 1, reducing batch size from 1\n",
            "Out of memory at batch 115 of epoch 1, reducing batch size from 1\n",
            "Out of memory at batch 116 of epoch 1, reducing batch size from 1\n",
            "Out of memory at batch 117 of epoch 1, reducing batch size from 1\n",
            "Out of memory at batch 118 of epoch 1, reducing batch size from 1\n",
            "Out of memory at batch 119 of epoch 1, reducing batch size from 1\n",
            "Out of memory at batch 120 of epoch 1, reducing batch size from 1\n",
            "Out of memory at batch 121 of epoch 1, reducing batch size from 1\n",
            "Out of memory at batch 122 of epoch 1, reducing batch size from 1\n",
            "Out of memory at batch 123 of epoch 1, reducing batch size from 1\n",
            "Out of memory at batch 124 of epoch 1, reducing batch size from 1\n",
            "Out of memory at batch 125 of epoch 1, reducing batch size from 1\n",
            "Epoch 1/8, Validation F1 Score: 0.14780589092877863\n",
            "Epoch 2/8, Validation F1 Score: 0.27759214032860063\n",
            "Epoch 3/8, Validation F1 Score: 0.17115933919979592\n",
            "Epoch 4/8, Validation F1 Score: 0.3129042322074374\n",
            "Epoch 5/8, Validation F1 Score: 0.22855599657642142\n",
            "Epoch 6/8, Validation F1 Score: 0.2987103769303541\n",
            "Epoch 7/8, Validation F1 Score: 0.26508031199714843\n"
          ]
        },
        {
          "name": "stderr",
          "output_type": "stream",
          "text": [
            "[I 2024-06-22 14:01:14,731] Trial 2 finished with value: 0.2162559844950545 and parameters: {'lr': 2.90331832472382e-05, 'batch_size': 8, 'resize_dim': 768}. Best is trial 1 with value: 0.3253735846638809.\n"
          ]
        },
        {
          "name": "stdout",
          "output_type": "stream",
          "text": [
            "Epoch 8/8, Validation F1 Score: 0.2162559844950545\n",
            "Trial 3 completed with F1 Score: 0.2162559844950545\n",
            "Starting trial 4\n",
            "Epoch 1/8, Validation F1 Score: 0.22865583019912322\n",
            "Epoch 2/8, Validation F1 Score: 0.21076255097182167\n",
            "Epoch 3/8, Validation F1 Score: 0.20207380493163185\n",
            "Epoch 4/8, Validation F1 Score: 0.285566100814893\n",
            "Epoch 5/8, Validation F1 Score: 0.2937302934147837\n",
            "Epoch 6/8, Validation F1 Score: 0.2680269282572145\n",
            "Epoch 7/8, Validation F1 Score: 0.26526467537338955\n"
          ]
        },
        {
          "name": "stderr",
          "output_type": "stream",
          "text": [
            "[I 2024-06-22 14:13:08,434] Trial 3 finished with value: 0.3097313537648757 and parameters: {'lr': 0.00010646461774120039, 'batch_size': 8, 'resize_dim': 512}. Best is trial 1 with value: 0.3253735846638809.\n"
          ]
        },
        {
          "name": "stdout",
          "output_type": "stream",
          "text": [
            "Epoch 8/8, Validation F1 Score: 0.3097313537648757\n",
            "Trial 4 completed with F1 Score: 0.3097313537648757\n",
            "Starting trial 5\n",
            "Out of memory at batch 1 of epoch 1, reducing batch size from 16\n",
            "Out of memory at batch 2 of epoch 1, reducing batch size from 8\n",
            "Out of memory at batch 3 of epoch 1, reducing batch size from 4\n",
            "Out of memory at batch 4 of epoch 1, reducing batch size from 2\n",
            "Out of memory at batch 5 of epoch 1, reducing batch size from 1\n",
            "Out of memory at batch 6 of epoch 1, reducing batch size from 1\n",
            "Out of memory at batch 7 of epoch 1, reducing batch size from 1\n",
            "Out of memory at batch 8 of epoch 1, reducing batch size from 1\n",
            "Out of memory at batch 9 of epoch 1, reducing batch size from 1\n",
            "Out of memory at batch 10 of epoch 1, reducing batch size from 1\n",
            "Out of memory at batch 11 of epoch 1, reducing batch size from 1\n",
            "Out of memory at batch 12 of epoch 1, reducing batch size from 1\n",
            "Out of memory at batch 13 of epoch 1, reducing batch size from 1\n",
            "Out of memory at batch 14 of epoch 1, reducing batch size from 1\n",
            "Out of memory at batch 15 of epoch 1, reducing batch size from 1\n",
            "Out of memory at batch 16 of epoch 1, reducing batch size from 1\n",
            "Out of memory at batch 17 of epoch 1, reducing batch size from 1\n",
            "Out of memory at batch 18 of epoch 1, reducing batch size from 1\n",
            "Out of memory at batch 19 of epoch 1, reducing batch size from 1\n",
            "Out of memory at batch 20 of epoch 1, reducing batch size from 1\n",
            "Out of memory at batch 21 of epoch 1, reducing batch size from 1\n",
            "Out of memory at batch 22 of epoch 1, reducing batch size from 1\n",
            "Out of memory at batch 23 of epoch 1, reducing batch size from 1\n",
            "Out of memory at batch 24 of epoch 1, reducing batch size from 1\n",
            "Out of memory at batch 25 of epoch 1, reducing batch size from 1\n",
            "Out of memory at batch 26 of epoch 1, reducing batch size from 1\n",
            "Out of memory at batch 27 of epoch 1, reducing batch size from 1\n",
            "Out of memory at batch 28 of epoch 1, reducing batch size from 1\n",
            "Out of memory at batch 29 of epoch 1, reducing batch size from 1\n",
            "Out of memory at batch 30 of epoch 1, reducing batch size from 1\n",
            "Out of memory at batch 31 of epoch 1, reducing batch size from 1\n",
            "Out of memory at batch 32 of epoch 1, reducing batch size from 1\n",
            "Out of memory at batch 33 of epoch 1, reducing batch size from 1\n",
            "Out of memory at batch 34 of epoch 1, reducing batch size from 1\n",
            "Out of memory at batch 35 of epoch 1, reducing batch size from 1\n",
            "Out of memory at batch 36 of epoch 1, reducing batch size from 1\n",
            "Out of memory at batch 37 of epoch 1, reducing batch size from 1\n",
            "Out of memory at batch 38 of epoch 1, reducing batch size from 1\n",
            "Out of memory at batch 39 of epoch 1, reducing batch size from 1\n",
            "Out of memory at batch 40 of epoch 1, reducing batch size from 1\n",
            "Out of memory at batch 41 of epoch 1, reducing batch size from 1\n",
            "Out of memory at batch 42 of epoch 1, reducing batch size from 1\n",
            "Out of memory at batch 43 of epoch 1, reducing batch size from 1\n",
            "Out of memory at batch 44 of epoch 1, reducing batch size from 1\n",
            "Out of memory at batch 45 of epoch 1, reducing batch size from 1\n",
            "Out of memory at batch 46 of epoch 1, reducing batch size from 1\n",
            "Out of memory at batch 47 of epoch 1, reducing batch size from 1\n",
            "Out of memory at batch 48 of epoch 1, reducing batch size from 1\n",
            "Out of memory at batch 49 of epoch 1, reducing batch size from 1\n",
            "Out of memory at batch 50 of epoch 1, reducing batch size from 1\n",
            "Out of memory at batch 51 of epoch 1, reducing batch size from 1\n",
            "Out of memory at batch 52 of epoch 1, reducing batch size from 1\n",
            "Out of memory at batch 53 of epoch 1, reducing batch size from 1\n",
            "Out of memory at batch 54 of epoch 1, reducing batch size from 1\n",
            "Out of memory at batch 55 of epoch 1, reducing batch size from 1\n",
            "Out of memory at batch 56 of epoch 1, reducing batch size from 1\n",
            "Out of memory at batch 57 of epoch 1, reducing batch size from 1\n",
            "Out of memory at batch 58 of epoch 1, reducing batch size from 1\n",
            "Out of memory at batch 59 of epoch 1, reducing batch size from 1\n",
            "Out of memory at batch 60 of epoch 1, reducing batch size from 1\n",
            "Out of memory at batch 61 of epoch 1, reducing batch size from 1\n",
            "Out of memory at batch 62 of epoch 1, reducing batch size from 1\n",
            "Out of memory at batch 63 of epoch 1, reducing batch size from 1\n",
            "Epoch 1/8, Validation F1 Score: 0.07166833582970887\n",
            "Epoch 2/8, Validation F1 Score: 0.2297293012271457\n",
            "Epoch 3/8, Validation F1 Score: 0.15872714423950215\n",
            "Epoch 4/8, Validation F1 Score: 0.23448577517467875\n",
            "Epoch 5/8, Validation F1 Score: 0.27057125157737755\n",
            "Epoch 6/8, Validation F1 Score: 0.23280691754280164\n",
            "Epoch 7/8, Validation F1 Score: 0.27089089553121765\n"
          ]
        },
        {
          "name": "stderr",
          "output_type": "stream",
          "text": [
            "[I 2024-06-22 14:24:39,239] Trial 4 finished with value: 0.3170542875942048 and parameters: {'lr': 2.305133979638397e-05, 'batch_size': 16, 'resize_dim': 512}. Best is trial 1 with value: 0.3253735846638809.\n"
          ]
        },
        {
          "name": "stdout",
          "output_type": "stream",
          "text": [
            "Epoch 8/8, Validation F1 Score: 0.3170542875942048\n",
            "Trial 5 completed with F1 Score: 0.3170542875942048\n",
            "Starting trial 6\n",
            "Out of memory at batch 1 of epoch 1, reducing batch size from 16\n",
            "Out of memory at batch 2 of epoch 1, reducing batch size from 8\n",
            "Out of memory at batch 3 of epoch 1, reducing batch size from 4\n",
            "Out of memory at batch 4 of epoch 1, reducing batch size from 2\n",
            "Out of memory at batch 5 of epoch 1, reducing batch size from 1\n",
            "Out of memory at batch 6 of epoch 1, reducing batch size from 1\n",
            "Out of memory at batch 7 of epoch 1, reducing batch size from 1\n",
            "Out of memory at batch 8 of epoch 1, reducing batch size from 1\n",
            "Out of memory at batch 9 of epoch 1, reducing batch size from 1\n",
            "Out of memory at batch 10 of epoch 1, reducing batch size from 1\n",
            "Out of memory at batch 11 of epoch 1, reducing batch size from 1\n",
            "Out of memory at batch 12 of epoch 1, reducing batch size from 1\n",
            "Out of memory at batch 13 of epoch 1, reducing batch size from 1\n",
            "Out of memory at batch 14 of epoch 1, reducing batch size from 1\n",
            "Out of memory at batch 15 of epoch 1, reducing batch size from 1\n",
            "Out of memory at batch 16 of epoch 1, reducing batch size from 1\n",
            "Out of memory at batch 17 of epoch 1, reducing batch size from 1\n",
            "Out of memory at batch 18 of epoch 1, reducing batch size from 1\n",
            "Out of memory at batch 19 of epoch 1, reducing batch size from 1\n",
            "Out of memory at batch 20 of epoch 1, reducing batch size from 1\n",
            "Out of memory at batch 21 of epoch 1, reducing batch size from 1\n",
            "Out of memory at batch 22 of epoch 1, reducing batch size from 1\n",
            "Out of memory at batch 23 of epoch 1, reducing batch size from 1\n",
            "Out of memory at batch 24 of epoch 1, reducing batch size from 1\n",
            "Out of memory at batch 25 of epoch 1, reducing batch size from 1\n",
            "Out of memory at batch 26 of epoch 1, reducing batch size from 1\n",
            "Out of memory at batch 27 of epoch 1, reducing batch size from 1\n",
            "Out of memory at batch 28 of epoch 1, reducing batch size from 1\n",
            "Out of memory at batch 29 of epoch 1, reducing batch size from 1\n",
            "Out of memory at batch 30 of epoch 1, reducing batch size from 1\n",
            "Out of memory at batch 31 of epoch 1, reducing batch size from 1\n",
            "Out of memory at batch 32 of epoch 1, reducing batch size from 1\n",
            "Out of memory at batch 33 of epoch 1, reducing batch size from 1\n",
            "Out of memory at batch 34 of epoch 1, reducing batch size from 1\n",
            "Out of memory at batch 35 of epoch 1, reducing batch size from 1\n",
            "Out of memory at batch 36 of epoch 1, reducing batch size from 1\n",
            "Out of memory at batch 37 of epoch 1, reducing batch size from 1\n",
            "Out of memory at batch 38 of epoch 1, reducing batch size from 1\n",
            "Out of memory at batch 39 of epoch 1, reducing batch size from 1\n",
            "Out of memory at batch 40 of epoch 1, reducing batch size from 1\n",
            "Out of memory at batch 41 of epoch 1, reducing batch size from 1\n",
            "Out of memory at batch 42 of epoch 1, reducing batch size from 1\n",
            "Out of memory at batch 43 of epoch 1, reducing batch size from 1\n",
            "Out of memory at batch 44 of epoch 1, reducing batch size from 1\n",
            "Out of memory at batch 45 of epoch 1, reducing batch size from 1\n",
            "Out of memory at batch 46 of epoch 1, reducing batch size from 1\n",
            "Out of memory at batch 47 of epoch 1, reducing batch size from 1\n",
            "Out of memory at batch 48 of epoch 1, reducing batch size from 1\n",
            "Out of memory at batch 49 of epoch 1, reducing batch size from 1\n",
            "Out of memory at batch 50 of epoch 1, reducing batch size from 1\n",
            "Out of memory at batch 51 of epoch 1, reducing batch size from 1\n",
            "Out of memory at batch 52 of epoch 1, reducing batch size from 1\n",
            "Out of memory at batch 53 of epoch 1, reducing batch size from 1\n",
            "Out of memory at batch 54 of epoch 1, reducing batch size from 1\n",
            "Out of memory at batch 55 of epoch 1, reducing batch size from 1\n",
            "Out of memory at batch 56 of epoch 1, reducing batch size from 1\n",
            "Out of memory at batch 57 of epoch 1, reducing batch size from 1\n",
            "Out of memory at batch 58 of epoch 1, reducing batch size from 1\n",
            "Out of memory at batch 59 of epoch 1, reducing batch size from 1\n",
            "Out of memory at batch 60 of epoch 1, reducing batch size from 1\n",
            "Out of memory at batch 61 of epoch 1, reducing batch size from 1\n",
            "Out of memory at batch 62 of epoch 1, reducing batch size from 1\n",
            "Out of memory at batch 63 of epoch 1, reducing batch size from 1\n"
          ]
        },
        {
          "name": "stderr",
          "output_type": "stream",
          "text": [
            "[I 2024-06-22 14:25:25,057] Trial 5 pruned. \n"
          ]
        },
        {
          "name": "stdout",
          "output_type": "stream",
          "text": [
            "Epoch 1/8, Validation F1 Score: 0.00016358879578435477\n",
            "Starting trial 7\n",
            "Out of memory at batch 1 of epoch 1, reducing batch size from 16\n",
            "Out of memory at batch 2 of epoch 1, reducing batch size from 8\n",
            "Out of memory at batch 3 of epoch 1, reducing batch size from 4\n",
            "Out of memory at batch 4 of epoch 1, reducing batch size from 2\n",
            "Out of memory at batch 5 of epoch 1, reducing batch size from 1\n",
            "Out of memory at batch 6 of epoch 1, reducing batch size from 1\n",
            "Out of memory at batch 7 of epoch 1, reducing batch size from 1\n",
            "Out of memory at batch 8 of epoch 1, reducing batch size from 1\n",
            "Out of memory at batch 9 of epoch 1, reducing batch size from 1\n",
            "Out of memory at batch 10 of epoch 1, reducing batch size from 1\n",
            "Out of memory at batch 11 of epoch 1, reducing batch size from 1\n",
            "Out of memory at batch 12 of epoch 1, reducing batch size from 1\n",
            "Out of memory at batch 13 of epoch 1, reducing batch size from 1\n",
            "Out of memory at batch 14 of epoch 1, reducing batch size from 1\n",
            "Out of memory at batch 15 of epoch 1, reducing batch size from 1\n",
            "Out of memory at batch 16 of epoch 1, reducing batch size from 1\n",
            "Out of memory at batch 17 of epoch 1, reducing batch size from 1\n",
            "Out of memory at batch 18 of epoch 1, reducing batch size from 1\n",
            "Out of memory at batch 19 of epoch 1, reducing batch size from 1\n",
            "Out of memory at batch 20 of epoch 1, reducing batch size from 1\n",
            "Out of memory at batch 21 of epoch 1, reducing batch size from 1\n",
            "Out of memory at batch 22 of epoch 1, reducing batch size from 1\n",
            "Out of memory at batch 23 of epoch 1, reducing batch size from 1\n",
            "Out of memory at batch 24 of epoch 1, reducing batch size from 1\n",
            "Out of memory at batch 25 of epoch 1, reducing batch size from 1\n",
            "Out of memory at batch 26 of epoch 1, reducing batch size from 1\n",
            "Out of memory at batch 27 of epoch 1, reducing batch size from 1\n",
            "Out of memory at batch 28 of epoch 1, reducing batch size from 1\n",
            "Out of memory at batch 29 of epoch 1, reducing batch size from 1\n",
            "Out of memory at batch 30 of epoch 1, reducing batch size from 1\n",
            "Out of memory at batch 31 of epoch 1, reducing batch size from 1\n",
            "Out of memory at batch 32 of epoch 1, reducing batch size from 1\n",
            "Out of memory at batch 33 of epoch 1, reducing batch size from 1\n",
            "Out of memory at batch 34 of epoch 1, reducing batch size from 1\n",
            "Out of memory at batch 35 of epoch 1, reducing batch size from 1\n",
            "Out of memory at batch 36 of epoch 1, reducing batch size from 1\n",
            "Out of memory at batch 37 of epoch 1, reducing batch size from 1\n",
            "Out of memory at batch 38 of epoch 1, reducing batch size from 1\n",
            "Out of memory at batch 39 of epoch 1, reducing batch size from 1\n",
            "Out of memory at batch 40 of epoch 1, reducing batch size from 1\n",
            "Out of memory at batch 41 of epoch 1, reducing batch size from 1\n",
            "Out of memory at batch 42 of epoch 1, reducing batch size from 1\n",
            "Out of memory at batch 43 of epoch 1, reducing batch size from 1\n",
            "Out of memory at batch 44 of epoch 1, reducing batch size from 1\n",
            "Out of memory at batch 45 of epoch 1, reducing batch size from 1\n",
            "Out of memory at batch 46 of epoch 1, reducing batch size from 1\n",
            "Out of memory at batch 47 of epoch 1, reducing batch size from 1\n",
            "Out of memory at batch 48 of epoch 1, reducing batch size from 1\n",
            "Out of memory at batch 49 of epoch 1, reducing batch size from 1\n",
            "Out of memory at batch 50 of epoch 1, reducing batch size from 1\n",
            "Out of memory at batch 51 of epoch 1, reducing batch size from 1\n",
            "Out of memory at batch 52 of epoch 1, reducing batch size from 1\n",
            "Out of memory at batch 53 of epoch 1, reducing batch size from 1\n",
            "Out of memory at batch 54 of epoch 1, reducing batch size from 1\n",
            "Out of memory at batch 55 of epoch 1, reducing batch size from 1\n",
            "Out of memory at batch 56 of epoch 1, reducing batch size from 1\n",
            "Out of memory at batch 57 of epoch 1, reducing batch size from 1\n",
            "Out of memory at batch 58 of epoch 1, reducing batch size from 1\n",
            "Out of memory at batch 59 of epoch 1, reducing batch size from 1\n",
            "Out of memory at batch 60 of epoch 1, reducing batch size from 1\n",
            "Out of memory at batch 61 of epoch 1, reducing batch size from 1\n",
            "Out of memory at batch 62 of epoch 1, reducing batch size from 1\n",
            "Out of memory at batch 63 of epoch 1, reducing batch size from 1\n"
          ]
        },
        {
          "name": "stderr",
          "output_type": "stream",
          "text": [
            "[I 2024-06-22 14:27:05,162] Trial 6 pruned. \n"
          ]
        },
        {
          "name": "stdout",
          "output_type": "stream",
          "text": [
            "Epoch 1/8, Validation F1 Score: 0.007447994472047646\n",
            "Starting trial 8\n",
            "Out of memory at batch 1 of epoch 1, reducing batch size from 16\n",
            "Out of memory at batch 2 of epoch 1, reducing batch size from 8\n",
            "Out of memory at batch 3 of epoch 1, reducing batch size from 4\n",
            "Out of memory at batch 4 of epoch 1, reducing batch size from 2\n",
            "Out of memory at batch 5 of epoch 1, reducing batch size from 1\n",
            "Out of memory at batch 6 of epoch 1, reducing batch size from 1\n",
            "Out of memory at batch 7 of epoch 1, reducing batch size from 1\n",
            "Out of memory at batch 8 of epoch 1, reducing batch size from 1\n",
            "Out of memory at batch 9 of epoch 1, reducing batch size from 1\n",
            "Out of memory at batch 10 of epoch 1, reducing batch size from 1\n",
            "Out of memory at batch 11 of epoch 1, reducing batch size from 1\n",
            "Out of memory at batch 12 of epoch 1, reducing batch size from 1\n",
            "Out of memory at batch 13 of epoch 1, reducing batch size from 1\n",
            "Out of memory at batch 14 of epoch 1, reducing batch size from 1\n",
            "Out of memory at batch 15 of epoch 1, reducing batch size from 1\n",
            "Out of memory at batch 16 of epoch 1, reducing batch size from 1\n",
            "Out of memory at batch 17 of epoch 1, reducing batch size from 1\n",
            "Out of memory at batch 18 of epoch 1, reducing batch size from 1\n",
            "Out of memory at batch 19 of epoch 1, reducing batch size from 1\n",
            "Out of memory at batch 20 of epoch 1, reducing batch size from 1\n",
            "Out of memory at batch 21 of epoch 1, reducing batch size from 1\n",
            "Out of memory at batch 22 of epoch 1, reducing batch size from 1\n",
            "Out of memory at batch 23 of epoch 1, reducing batch size from 1\n",
            "Out of memory at batch 24 of epoch 1, reducing batch size from 1\n",
            "Out of memory at batch 25 of epoch 1, reducing batch size from 1\n",
            "Out of memory at batch 26 of epoch 1, reducing batch size from 1\n",
            "Out of memory at batch 27 of epoch 1, reducing batch size from 1\n",
            "Out of memory at batch 28 of epoch 1, reducing batch size from 1\n",
            "Out of memory at batch 29 of epoch 1, reducing batch size from 1\n",
            "Out of memory at batch 30 of epoch 1, reducing batch size from 1\n",
            "Out of memory at batch 31 of epoch 1, reducing batch size from 1\n",
            "Out of memory at batch 32 of epoch 1, reducing batch size from 1\n",
            "Out of memory at batch 33 of epoch 1, reducing batch size from 1\n",
            "Out of memory at batch 34 of epoch 1, reducing batch size from 1\n",
            "Out of memory at batch 35 of epoch 1, reducing batch size from 1\n",
            "Out of memory at batch 36 of epoch 1, reducing batch size from 1\n",
            "Out of memory at batch 37 of epoch 1, reducing batch size from 1\n",
            "Out of memory at batch 38 of epoch 1, reducing batch size from 1\n",
            "Out of memory at batch 39 of epoch 1, reducing batch size from 1\n",
            "Out of memory at batch 40 of epoch 1, reducing batch size from 1\n",
            "Out of memory at batch 41 of epoch 1, reducing batch size from 1\n",
            "Out of memory at batch 42 of epoch 1, reducing batch size from 1\n",
            "Out of memory at batch 43 of epoch 1, reducing batch size from 1\n",
            "Out of memory at batch 44 of epoch 1, reducing batch size from 1\n",
            "Out of memory at batch 45 of epoch 1, reducing batch size from 1\n",
            "Out of memory at batch 46 of epoch 1, reducing batch size from 1\n",
            "Out of memory at batch 47 of epoch 1, reducing batch size from 1\n",
            "Out of memory at batch 48 of epoch 1, reducing batch size from 1\n",
            "Out of memory at batch 49 of epoch 1, reducing batch size from 1\n",
            "Out of memory at batch 50 of epoch 1, reducing batch size from 1\n",
            "Out of memory at batch 51 of epoch 1, reducing batch size from 1\n",
            "Out of memory at batch 52 of epoch 1, reducing batch size from 1\n",
            "Out of memory at batch 53 of epoch 1, reducing batch size from 1\n",
            "Out of memory at batch 54 of epoch 1, reducing batch size from 1\n",
            "Out of memory at batch 55 of epoch 1, reducing batch size from 1\n",
            "Out of memory at batch 56 of epoch 1, reducing batch size from 1\n",
            "Out of memory at batch 57 of epoch 1, reducing batch size from 1\n",
            "Out of memory at batch 58 of epoch 1, reducing batch size from 1\n",
            "Out of memory at batch 59 of epoch 1, reducing batch size from 1\n",
            "Out of memory at batch 60 of epoch 1, reducing batch size from 1\n",
            "Out of memory at batch 61 of epoch 1, reducing batch size from 1\n",
            "Out of memory at batch 62 of epoch 1, reducing batch size from 1\n",
            "Out of memory at batch 63 of epoch 1, reducing batch size from 1\n"
          ]
        },
        {
          "name": "stderr",
          "output_type": "stream",
          "text": [
            "[I 2024-06-22 14:27:51,279] Trial 7 pruned. \n"
          ]
        },
        {
          "name": "stdout",
          "output_type": "stream",
          "text": [
            "Epoch 1/8, Validation F1 Score: 0.13968065059053816\n",
            "Starting trial 9\n",
            "Epoch 1/8, Validation F1 Score: 0.14934073378911963\n"
          ]
        },
        {
          "name": "stderr",
          "output_type": "stream",
          "text": [
            "[I 2024-06-22 14:30:53,080] Trial 8 pruned. \n"
          ]
        },
        {
          "name": "stdout",
          "output_type": "stream",
          "text": [
            "Epoch 2/8, Validation F1 Score: 0.22437908761605585\n",
            "Starting trial 10\n",
            "Epoch 1/8, Validation F1 Score: 0.28181804716145087\n",
            "Epoch 2/8, Validation F1 Score: 0.24183428027293424\n",
            "Epoch 3/8, Validation F1 Score: 0.2423244715816897\n",
            "Epoch 4/8, Validation F1 Score: 0.28753844189949584\n"
          ]
        },
        {
          "name": "stderr",
          "output_type": "stream",
          "text": [
            "[I 2024-06-22 14:38:28,626] Trial 9 pruned. \n"
          ]
        },
        {
          "name": "stdout",
          "output_type": "stream",
          "text": [
            "Epoch 5/8, Validation F1 Score: 0.28514512830560673\n",
            "Starting trial 11\n",
            "Out of memory at batch 1 of epoch 1, reducing batch size from 8\n",
            "Out of memory at batch 2 of epoch 1, reducing batch size from 4\n",
            "Out of memory at batch 3 of epoch 1, reducing batch size from 2\n",
            "Out of memory at batch 4 of epoch 1, reducing batch size from 1\n",
            "Out of memory at batch 5 of epoch 1, reducing batch size from 1\n",
            "Out of memory at batch 6 of epoch 1, reducing batch size from 1\n",
            "Out of memory at batch 7 of epoch 1, reducing batch size from 1\n",
            "Out of memory at batch 8 of epoch 1, reducing batch size from 1\n",
            "Out of memory at batch 9 of epoch 1, reducing batch size from 1\n",
            "Out of memory at batch 10 of epoch 1, reducing batch size from 1\n",
            "Out of memory at batch 11 of epoch 1, reducing batch size from 1\n",
            "Out of memory at batch 12 of epoch 1, reducing batch size from 1\n",
            "Out of memory at batch 13 of epoch 1, reducing batch size from 1\n",
            "Out of memory at batch 14 of epoch 1, reducing batch size from 1\n",
            "Out of memory at batch 15 of epoch 1, reducing batch size from 1\n",
            "Out of memory at batch 16 of epoch 1, reducing batch size from 1\n",
            "Out of memory at batch 17 of epoch 1, reducing batch size from 1\n",
            "Out of memory at batch 18 of epoch 1, reducing batch size from 1\n",
            "Out of memory at batch 19 of epoch 1, reducing batch size from 1\n",
            "Out of memory at batch 20 of epoch 1, reducing batch size from 1\n",
            "Out of memory at batch 21 of epoch 1, reducing batch size from 1\n",
            "Out of memory at batch 22 of epoch 1, reducing batch size from 1\n",
            "Out of memory at batch 23 of epoch 1, reducing batch size from 1\n",
            "Out of memory at batch 24 of epoch 1, reducing batch size from 1\n",
            "Out of memory at batch 25 of epoch 1, reducing batch size from 1\n",
            "Out of memory at batch 26 of epoch 1, reducing batch size from 1\n",
            "Out of memory at batch 27 of epoch 1, reducing batch size from 1\n",
            "Out of memory at batch 28 of epoch 1, reducing batch size from 1\n",
            "Out of memory at batch 29 of epoch 1, reducing batch size from 1\n",
            "Out of memory at batch 30 of epoch 1, reducing batch size from 1\n",
            "Out of memory at batch 31 of epoch 1, reducing batch size from 1\n",
            "Out of memory at batch 32 of epoch 1, reducing batch size from 1\n",
            "Out of memory at batch 33 of epoch 1, reducing batch size from 1\n",
            "Out of memory at batch 34 of epoch 1, reducing batch size from 1\n",
            "Out of memory at batch 35 of epoch 1, reducing batch size from 1\n",
            "Out of memory at batch 36 of epoch 1, reducing batch size from 1\n",
            "Out of memory at batch 37 of epoch 1, reducing batch size from 1\n",
            "Out of memory at batch 38 of epoch 1, reducing batch size from 1\n",
            "Out of memory at batch 39 of epoch 1, reducing batch size from 1\n",
            "Out of memory at batch 40 of epoch 1, reducing batch size from 1\n",
            "Out of memory at batch 41 of epoch 1, reducing batch size from 1\n",
            "Out of memory at batch 42 of epoch 1, reducing batch size from 1\n",
            "Out of memory at batch 43 of epoch 1, reducing batch size from 1\n",
            "Out of memory at batch 44 of epoch 1, reducing batch size from 1\n",
            "Out of memory at batch 45 of epoch 1, reducing batch size from 1\n",
            "Out of memory at batch 46 of epoch 1, reducing batch size from 1\n",
            "Out of memory at batch 47 of epoch 1, reducing batch size from 1\n",
            "Out of memory at batch 48 of epoch 1, reducing batch size from 1\n",
            "Out of memory at batch 49 of epoch 1, reducing batch size from 1\n",
            "Out of memory at batch 50 of epoch 1, reducing batch size from 1\n",
            "Out of memory at batch 51 of epoch 1, reducing batch size from 1\n",
            "Out of memory at batch 52 of epoch 1, reducing batch size from 1\n",
            "Out of memory at batch 53 of epoch 1, reducing batch size from 1\n",
            "Out of memory at batch 54 of epoch 1, reducing batch size from 1\n",
            "Out of memory at batch 55 of epoch 1, reducing batch size from 1\n",
            "Out of memory at batch 56 of epoch 1, reducing batch size from 1\n",
            "Out of memory at batch 57 of epoch 1, reducing batch size from 1\n",
            "Out of memory at batch 58 of epoch 1, reducing batch size from 1\n",
            "Out of memory at batch 59 of epoch 1, reducing batch size from 1\n",
            "Out of memory at batch 60 of epoch 1, reducing batch size from 1\n",
            "Out of memory at batch 61 of epoch 1, reducing batch size from 1\n",
            "Out of memory at batch 62 of epoch 1, reducing batch size from 1\n",
            "Out of memory at batch 63 of epoch 1, reducing batch size from 1\n",
            "Out of memory at batch 64 of epoch 1, reducing batch size from 1\n",
            "Out of memory at batch 65 of epoch 1, reducing batch size from 1\n",
            "Out of memory at batch 66 of epoch 1, reducing batch size from 1\n",
            "Out of memory at batch 67 of epoch 1, reducing batch size from 1\n",
            "Out of memory at batch 68 of epoch 1, reducing batch size from 1\n",
            "Out of memory at batch 69 of epoch 1, reducing batch size from 1\n",
            "Out of memory at batch 70 of epoch 1, reducing batch size from 1\n",
            "Out of memory at batch 71 of epoch 1, reducing batch size from 1\n",
            "Out of memory at batch 72 of epoch 1, reducing batch size from 1\n",
            "Out of memory at batch 73 of epoch 1, reducing batch size from 1\n",
            "Out of memory at batch 74 of epoch 1, reducing batch size from 1\n",
            "Out of memory at batch 75 of epoch 1, reducing batch size from 1\n",
            "Out of memory at batch 76 of epoch 1, reducing batch size from 1\n",
            "Out of memory at batch 77 of epoch 1, reducing batch size from 1\n",
            "Out of memory at batch 78 of epoch 1, reducing batch size from 1\n",
            "Out of memory at batch 79 of epoch 1, reducing batch size from 1\n",
            "Out of memory at batch 80 of epoch 1, reducing batch size from 1\n",
            "Out of memory at batch 81 of epoch 1, reducing batch size from 1\n",
            "Out of memory at batch 82 of epoch 1, reducing batch size from 1\n",
            "Out of memory at batch 83 of epoch 1, reducing batch size from 1\n",
            "Out of memory at batch 84 of epoch 1, reducing batch size from 1\n",
            "Out of memory at batch 85 of epoch 1, reducing batch size from 1\n",
            "Out of memory at batch 86 of epoch 1, reducing batch size from 1\n",
            "Out of memory at batch 87 of epoch 1, reducing batch size from 1\n",
            "Out of memory at batch 88 of epoch 1, reducing batch size from 1\n",
            "Out of memory at batch 89 of epoch 1, reducing batch size from 1\n",
            "Out of memory at batch 90 of epoch 1, reducing batch size from 1\n",
            "Out of memory at batch 91 of epoch 1, reducing batch size from 1\n",
            "Out of memory at batch 92 of epoch 1, reducing batch size from 1\n",
            "Out of memory at batch 93 of epoch 1, reducing batch size from 1\n",
            "Out of memory at batch 94 of epoch 1, reducing batch size from 1\n",
            "Out of memory at batch 95 of epoch 1, reducing batch size from 1\n",
            "Out of memory at batch 96 of epoch 1, reducing batch size from 1\n",
            "Out of memory at batch 97 of epoch 1, reducing batch size from 1\n",
            "Out of memory at batch 98 of epoch 1, reducing batch size from 1\n",
            "Out of memory at batch 99 of epoch 1, reducing batch size from 1\n",
            "Out of memory at batch 100 of epoch 1, reducing batch size from 1\n",
            "Out of memory at batch 101 of epoch 1, reducing batch size from 1\n",
            "Out of memory at batch 102 of epoch 1, reducing batch size from 1\n",
            "Out of memory at batch 103 of epoch 1, reducing batch size from 1\n",
            "Out of memory at batch 104 of epoch 1, reducing batch size from 1\n",
            "Out of memory at batch 105 of epoch 1, reducing batch size from 1\n",
            "Out of memory at batch 106 of epoch 1, reducing batch size from 1\n",
            "Out of memory at batch 107 of epoch 1, reducing batch size from 1\n",
            "Out of memory at batch 108 of epoch 1, reducing batch size from 1\n",
            "Out of memory at batch 109 of epoch 1, reducing batch size from 1\n",
            "Out of memory at batch 110 of epoch 1, reducing batch size from 1\n",
            "Out of memory at batch 111 of epoch 1, reducing batch size from 1\n",
            "Out of memory at batch 112 of epoch 1, reducing batch size from 1\n",
            "Out of memory at batch 113 of epoch 1, reducing batch size from 1\n",
            "Out of memory at batch 114 of epoch 1, reducing batch size from 1\n",
            "Out of memory at batch 115 of epoch 1, reducing batch size from 1\n",
            "Out of memory at batch 116 of epoch 1, reducing batch size from 1\n",
            "Out of memory at batch 117 of epoch 1, reducing batch size from 1\n",
            "Out of memory at batch 118 of epoch 1, reducing batch size from 1\n",
            "Out of memory at batch 119 of epoch 1, reducing batch size from 1\n",
            "Out of memory at batch 120 of epoch 1, reducing batch size from 1\n",
            "Out of memory at batch 121 of epoch 1, reducing batch size from 1\n",
            "Out of memory at batch 122 of epoch 1, reducing batch size from 1\n",
            "Out of memory at batch 123 of epoch 1, reducing batch size from 1\n",
            "Out of memory at batch 124 of epoch 1, reducing batch size from 1\n",
            "Out of memory at batch 125 of epoch 1, reducing batch size from 1\n"
          ]
        },
        {
          "name": "stderr",
          "output_type": "stream",
          "text": [
            "[I 2024-06-22 14:40:16,847] Trial 10 pruned. \n"
          ]
        },
        {
          "name": "stdout",
          "output_type": "stream",
          "text": [
            "Epoch 1/8, Validation F1 Score: 0.143406263332123\n",
            "Starting trial 12\n",
            "Out of memory at batch 1 of epoch 1, reducing batch size from 8\n",
            "Out of memory at batch 2 of epoch 1, reducing batch size from 4\n",
            "Out of memory at batch 3 of epoch 1, reducing batch size from 2\n",
            "Out of memory at batch 4 of epoch 1, reducing batch size from 1\n",
            "Out of memory at batch 5 of epoch 1, reducing batch size from 1\n",
            "Out of memory at batch 6 of epoch 1, reducing batch size from 1\n",
            "Out of memory at batch 7 of epoch 1, reducing batch size from 1\n",
            "Out of memory at batch 8 of epoch 1, reducing batch size from 1\n",
            "Out of memory at batch 9 of epoch 1, reducing batch size from 1\n",
            "Out of memory at batch 10 of epoch 1, reducing batch size from 1\n",
            "Out of memory at batch 11 of epoch 1, reducing batch size from 1\n",
            "Out of memory at batch 12 of epoch 1, reducing batch size from 1\n",
            "Out of memory at batch 13 of epoch 1, reducing batch size from 1\n",
            "Out of memory at batch 14 of epoch 1, reducing batch size from 1\n",
            "Out of memory at batch 15 of epoch 1, reducing batch size from 1\n",
            "Out of memory at batch 16 of epoch 1, reducing batch size from 1\n",
            "Out of memory at batch 17 of epoch 1, reducing batch size from 1\n",
            "Out of memory at batch 18 of epoch 1, reducing batch size from 1\n",
            "Out of memory at batch 19 of epoch 1, reducing batch size from 1\n",
            "Out of memory at batch 20 of epoch 1, reducing batch size from 1\n",
            "Out of memory at batch 21 of epoch 1, reducing batch size from 1\n",
            "Out of memory at batch 22 of epoch 1, reducing batch size from 1\n",
            "Out of memory at batch 23 of epoch 1, reducing batch size from 1\n",
            "Out of memory at batch 24 of epoch 1, reducing batch size from 1\n",
            "Out of memory at batch 25 of epoch 1, reducing batch size from 1\n",
            "Out of memory at batch 26 of epoch 1, reducing batch size from 1\n",
            "Out of memory at batch 27 of epoch 1, reducing batch size from 1\n",
            "Out of memory at batch 28 of epoch 1, reducing batch size from 1\n",
            "Out of memory at batch 29 of epoch 1, reducing batch size from 1\n",
            "Out of memory at batch 30 of epoch 1, reducing batch size from 1\n",
            "Out of memory at batch 31 of epoch 1, reducing batch size from 1\n",
            "Out of memory at batch 32 of epoch 1, reducing batch size from 1\n",
            "Out of memory at batch 33 of epoch 1, reducing batch size from 1\n",
            "Out of memory at batch 34 of epoch 1, reducing batch size from 1\n",
            "Out of memory at batch 35 of epoch 1, reducing batch size from 1\n",
            "Out of memory at batch 36 of epoch 1, reducing batch size from 1\n",
            "Out of memory at batch 37 of epoch 1, reducing batch size from 1\n",
            "Out of memory at batch 38 of epoch 1, reducing batch size from 1\n",
            "Out of memory at batch 39 of epoch 1, reducing batch size from 1\n",
            "Out of memory at batch 40 of epoch 1, reducing batch size from 1\n",
            "Out of memory at batch 41 of epoch 1, reducing batch size from 1\n",
            "Out of memory at batch 42 of epoch 1, reducing batch size from 1\n",
            "Out of memory at batch 43 of epoch 1, reducing batch size from 1\n",
            "Out of memory at batch 44 of epoch 1, reducing batch size from 1\n",
            "Out of memory at batch 45 of epoch 1, reducing batch size from 1\n",
            "Out of memory at batch 46 of epoch 1, reducing batch size from 1\n",
            "Out of memory at batch 47 of epoch 1, reducing batch size from 1\n",
            "Out of memory at batch 48 of epoch 1, reducing batch size from 1\n",
            "Out of memory at batch 49 of epoch 1, reducing batch size from 1\n",
            "Out of memory at batch 50 of epoch 1, reducing batch size from 1\n",
            "Out of memory at batch 51 of epoch 1, reducing batch size from 1\n",
            "Out of memory at batch 52 of epoch 1, reducing batch size from 1\n",
            "Out of memory at batch 53 of epoch 1, reducing batch size from 1\n",
            "Out of memory at batch 54 of epoch 1, reducing batch size from 1\n",
            "Out of memory at batch 55 of epoch 1, reducing batch size from 1\n",
            "Out of memory at batch 56 of epoch 1, reducing batch size from 1\n",
            "Out of memory at batch 57 of epoch 1, reducing batch size from 1\n",
            "Out of memory at batch 58 of epoch 1, reducing batch size from 1\n",
            "Out of memory at batch 59 of epoch 1, reducing batch size from 1\n",
            "Out of memory at batch 60 of epoch 1, reducing batch size from 1\n",
            "Out of memory at batch 61 of epoch 1, reducing batch size from 1\n",
            "Out of memory at batch 62 of epoch 1, reducing batch size from 1\n",
            "Out of memory at batch 63 of epoch 1, reducing batch size from 1\n",
            "Out of memory at batch 64 of epoch 1, reducing batch size from 1\n",
            "Out of memory at batch 65 of epoch 1, reducing batch size from 1\n",
            "Out of memory at batch 66 of epoch 1, reducing batch size from 1\n",
            "Out of memory at batch 67 of epoch 1, reducing batch size from 1\n",
            "Out of memory at batch 68 of epoch 1, reducing batch size from 1\n",
            "Out of memory at batch 69 of epoch 1, reducing batch size from 1\n",
            "Out of memory at batch 70 of epoch 1, reducing batch size from 1\n",
            "Out of memory at batch 71 of epoch 1, reducing batch size from 1\n",
            "Out of memory at batch 72 of epoch 1, reducing batch size from 1\n",
            "Out of memory at batch 73 of epoch 1, reducing batch size from 1\n",
            "Out of memory at batch 74 of epoch 1, reducing batch size from 1\n",
            "Out of memory at batch 75 of epoch 1, reducing batch size from 1\n",
            "Out of memory at batch 76 of epoch 1, reducing batch size from 1\n",
            "Out of memory at batch 77 of epoch 1, reducing batch size from 1\n",
            "Out of memory at batch 78 of epoch 1, reducing batch size from 1\n",
            "Out of memory at batch 79 of epoch 1, reducing batch size from 1\n",
            "Out of memory at batch 80 of epoch 1, reducing batch size from 1\n",
            "Out of memory at batch 81 of epoch 1, reducing batch size from 1\n",
            "Out of memory at batch 82 of epoch 1, reducing batch size from 1\n",
            "Out of memory at batch 83 of epoch 1, reducing batch size from 1\n",
            "Out of memory at batch 84 of epoch 1, reducing batch size from 1\n",
            "Out of memory at batch 85 of epoch 1, reducing batch size from 1\n",
            "Out of memory at batch 86 of epoch 1, reducing batch size from 1\n",
            "Out of memory at batch 87 of epoch 1, reducing batch size from 1\n",
            "Out of memory at batch 88 of epoch 1, reducing batch size from 1\n",
            "Out of memory at batch 89 of epoch 1, reducing batch size from 1\n",
            "Out of memory at batch 90 of epoch 1, reducing batch size from 1\n",
            "Out of memory at batch 91 of epoch 1, reducing batch size from 1\n",
            "Out of memory at batch 92 of epoch 1, reducing batch size from 1\n",
            "Out of memory at batch 93 of epoch 1, reducing batch size from 1\n",
            "Out of memory at batch 94 of epoch 1, reducing batch size from 1\n",
            "Out of memory at batch 95 of epoch 1, reducing batch size from 1\n",
            "Out of memory at batch 96 of epoch 1, reducing batch size from 1\n",
            "Out of memory at batch 97 of epoch 1, reducing batch size from 1\n",
            "Out of memory at batch 98 of epoch 1, reducing batch size from 1\n",
            "Out of memory at batch 99 of epoch 1, reducing batch size from 1\n",
            "Out of memory at batch 100 of epoch 1, reducing batch size from 1\n",
            "Out of memory at batch 101 of epoch 1, reducing batch size from 1\n",
            "Out of memory at batch 102 of epoch 1, reducing batch size from 1\n",
            "Out of memory at batch 103 of epoch 1, reducing batch size from 1\n",
            "Out of memory at batch 104 of epoch 1, reducing batch size from 1\n",
            "Out of memory at batch 105 of epoch 1, reducing batch size from 1\n",
            "Out of memory at batch 106 of epoch 1, reducing batch size from 1\n",
            "Out of memory at batch 107 of epoch 1, reducing batch size from 1\n",
            "Out of memory at batch 108 of epoch 1, reducing batch size from 1\n",
            "Out of memory at batch 109 of epoch 1, reducing batch size from 1\n",
            "Out of memory at batch 110 of epoch 1, reducing batch size from 1\n",
            "Out of memory at batch 111 of epoch 1, reducing batch size from 1\n",
            "Out of memory at batch 112 of epoch 1, reducing batch size from 1\n",
            "Out of memory at batch 113 of epoch 1, reducing batch size from 1\n",
            "Out of memory at batch 114 of epoch 1, reducing batch size from 1\n",
            "Out of memory at batch 115 of epoch 1, reducing batch size from 1\n",
            "Out of memory at batch 116 of epoch 1, reducing batch size from 1\n",
            "Out of memory at batch 117 of epoch 1, reducing batch size from 1\n",
            "Out of memory at batch 118 of epoch 1, reducing batch size from 1\n",
            "Out of memory at batch 119 of epoch 1, reducing batch size from 1\n",
            "Out of memory at batch 120 of epoch 1, reducing batch size from 1\n",
            "Out of memory at batch 121 of epoch 1, reducing batch size from 1\n",
            "Out of memory at batch 122 of epoch 1, reducing batch size from 1\n",
            "Out of memory at batch 123 of epoch 1, reducing batch size from 1\n",
            "Out of memory at batch 124 of epoch 1, reducing batch size from 1\n",
            "Out of memory at batch 125 of epoch 1, reducing batch size from 1\n"
          ]
        },
        {
          "name": "stderr",
          "output_type": "stream",
          "text": [
            "[I 2024-06-22 14:42:16,536] Trial 11 pruned. \n"
          ]
        },
        {
          "name": "stdout",
          "output_type": "stream",
          "text": [
            "Epoch 1/8, Validation F1 Score: 0.14340386254093182\n",
            "Starting trial 13\n",
            "Out of memory at batch 1 of epoch 1, reducing batch size from 16\n",
            "Out of memory at batch 2 of epoch 1, reducing batch size from 8\n",
            "Out of memory at batch 3 of epoch 1, reducing batch size from 4\n",
            "Out of memory at batch 4 of epoch 1, reducing batch size from 2\n",
            "Out of memory at batch 5 of epoch 1, reducing batch size from 1\n",
            "Out of memory at batch 6 of epoch 1, reducing batch size from 1\n",
            "Out of memory at batch 7 of epoch 1, reducing batch size from 1\n",
            "Out of memory at batch 8 of epoch 1, reducing batch size from 1\n",
            "Out of memory at batch 9 of epoch 1, reducing batch size from 1\n",
            "Out of memory at batch 10 of epoch 1, reducing batch size from 1\n",
            "Out of memory at batch 11 of epoch 1, reducing batch size from 1\n",
            "Out of memory at batch 12 of epoch 1, reducing batch size from 1\n",
            "Out of memory at batch 13 of epoch 1, reducing batch size from 1\n",
            "Out of memory at batch 14 of epoch 1, reducing batch size from 1\n",
            "Out of memory at batch 15 of epoch 1, reducing batch size from 1\n",
            "Out of memory at batch 16 of epoch 1, reducing batch size from 1\n",
            "Out of memory at batch 17 of epoch 1, reducing batch size from 1\n",
            "Out of memory at batch 18 of epoch 1, reducing batch size from 1\n",
            "Out of memory at batch 19 of epoch 1, reducing batch size from 1\n",
            "Out of memory at batch 20 of epoch 1, reducing batch size from 1\n",
            "Out of memory at batch 21 of epoch 1, reducing batch size from 1\n",
            "Out of memory at batch 22 of epoch 1, reducing batch size from 1\n",
            "Out of memory at batch 23 of epoch 1, reducing batch size from 1\n",
            "Out of memory at batch 24 of epoch 1, reducing batch size from 1\n",
            "Out of memory at batch 25 of epoch 1, reducing batch size from 1\n",
            "Out of memory at batch 26 of epoch 1, reducing batch size from 1\n",
            "Out of memory at batch 27 of epoch 1, reducing batch size from 1\n",
            "Out of memory at batch 28 of epoch 1, reducing batch size from 1\n",
            "Out of memory at batch 29 of epoch 1, reducing batch size from 1\n",
            "Out of memory at batch 30 of epoch 1, reducing batch size from 1\n",
            "Out of memory at batch 31 of epoch 1, reducing batch size from 1\n",
            "Out of memory at batch 32 of epoch 1, reducing batch size from 1\n",
            "Out of memory at batch 33 of epoch 1, reducing batch size from 1\n",
            "Out of memory at batch 34 of epoch 1, reducing batch size from 1\n",
            "Out of memory at batch 35 of epoch 1, reducing batch size from 1\n",
            "Out of memory at batch 36 of epoch 1, reducing batch size from 1\n",
            "Out of memory at batch 37 of epoch 1, reducing batch size from 1\n",
            "Out of memory at batch 38 of epoch 1, reducing batch size from 1\n",
            "Out of memory at batch 39 of epoch 1, reducing batch size from 1\n",
            "Out of memory at batch 40 of epoch 1, reducing batch size from 1\n",
            "Out of memory at batch 41 of epoch 1, reducing batch size from 1\n",
            "Out of memory at batch 42 of epoch 1, reducing batch size from 1\n",
            "Out of memory at batch 43 of epoch 1, reducing batch size from 1\n",
            "Out of memory at batch 44 of epoch 1, reducing batch size from 1\n",
            "Out of memory at batch 45 of epoch 1, reducing batch size from 1\n",
            "Out of memory at batch 46 of epoch 1, reducing batch size from 1\n",
            "Out of memory at batch 47 of epoch 1, reducing batch size from 1\n",
            "Out of memory at batch 48 of epoch 1, reducing batch size from 1\n",
            "Out of memory at batch 49 of epoch 1, reducing batch size from 1\n",
            "Out of memory at batch 50 of epoch 1, reducing batch size from 1\n",
            "Out of memory at batch 51 of epoch 1, reducing batch size from 1\n",
            "Out of memory at batch 52 of epoch 1, reducing batch size from 1\n",
            "Out of memory at batch 53 of epoch 1, reducing batch size from 1\n",
            "Out of memory at batch 54 of epoch 1, reducing batch size from 1\n",
            "Out of memory at batch 55 of epoch 1, reducing batch size from 1\n",
            "Out of memory at batch 56 of epoch 1, reducing batch size from 1\n",
            "Out of memory at batch 57 of epoch 1, reducing batch size from 1\n",
            "Out of memory at batch 58 of epoch 1, reducing batch size from 1\n",
            "Out of memory at batch 59 of epoch 1, reducing batch size from 1\n",
            "Out of memory at batch 60 of epoch 1, reducing batch size from 1\n",
            "Out of memory at batch 61 of epoch 1, reducing batch size from 1\n",
            "Out of memory at batch 62 of epoch 1, reducing batch size from 1\n",
            "Out of memory at batch 63 of epoch 1, reducing batch size from 1\n"
          ]
        },
        {
          "name": "stderr",
          "output_type": "stream",
          "text": [
            "[I 2024-06-22 14:44:00,752] Trial 12 pruned. \n"
          ]
        },
        {
          "name": "stdout",
          "output_type": "stream",
          "text": [
            "Epoch 1/8, Validation F1 Score: 0.13586907260252437\n",
            "Starting trial 14\n",
            "Out of memory at batch 1 of epoch 1, reducing batch size from 8\n",
            "Out of memory at batch 2 of epoch 1, reducing batch size from 4\n",
            "Out of memory at batch 3 of epoch 1, reducing batch size from 2\n",
            "Out of memory at batch 4 of epoch 1, reducing batch size from 1\n",
            "Out of memory at batch 5 of epoch 1, reducing batch size from 1\n",
            "Out of memory at batch 6 of epoch 1, reducing batch size from 1\n",
            "Out of memory at batch 7 of epoch 1, reducing batch size from 1\n",
            "Out of memory at batch 8 of epoch 1, reducing batch size from 1\n",
            "Out of memory at batch 9 of epoch 1, reducing batch size from 1\n",
            "Out of memory at batch 10 of epoch 1, reducing batch size from 1\n",
            "Out of memory at batch 11 of epoch 1, reducing batch size from 1\n",
            "Out of memory at batch 12 of epoch 1, reducing batch size from 1\n",
            "Out of memory at batch 13 of epoch 1, reducing batch size from 1\n",
            "Out of memory at batch 14 of epoch 1, reducing batch size from 1\n",
            "Out of memory at batch 15 of epoch 1, reducing batch size from 1\n",
            "Out of memory at batch 16 of epoch 1, reducing batch size from 1\n",
            "Out of memory at batch 17 of epoch 1, reducing batch size from 1\n",
            "Out of memory at batch 18 of epoch 1, reducing batch size from 1\n",
            "Out of memory at batch 19 of epoch 1, reducing batch size from 1\n",
            "Out of memory at batch 20 of epoch 1, reducing batch size from 1\n",
            "Out of memory at batch 21 of epoch 1, reducing batch size from 1\n",
            "Out of memory at batch 22 of epoch 1, reducing batch size from 1\n",
            "Out of memory at batch 23 of epoch 1, reducing batch size from 1\n",
            "Out of memory at batch 24 of epoch 1, reducing batch size from 1\n",
            "Out of memory at batch 25 of epoch 1, reducing batch size from 1\n",
            "Out of memory at batch 26 of epoch 1, reducing batch size from 1\n",
            "Out of memory at batch 27 of epoch 1, reducing batch size from 1\n",
            "Out of memory at batch 28 of epoch 1, reducing batch size from 1\n",
            "Out of memory at batch 29 of epoch 1, reducing batch size from 1\n",
            "Out of memory at batch 30 of epoch 1, reducing batch size from 1\n",
            "Out of memory at batch 31 of epoch 1, reducing batch size from 1\n",
            "Out of memory at batch 32 of epoch 1, reducing batch size from 1\n",
            "Out of memory at batch 33 of epoch 1, reducing batch size from 1\n",
            "Out of memory at batch 34 of epoch 1, reducing batch size from 1\n",
            "Out of memory at batch 35 of epoch 1, reducing batch size from 1\n",
            "Out of memory at batch 36 of epoch 1, reducing batch size from 1\n",
            "Out of memory at batch 37 of epoch 1, reducing batch size from 1\n",
            "Out of memory at batch 38 of epoch 1, reducing batch size from 1\n",
            "Out of memory at batch 39 of epoch 1, reducing batch size from 1\n",
            "Out of memory at batch 40 of epoch 1, reducing batch size from 1\n",
            "Out of memory at batch 41 of epoch 1, reducing batch size from 1\n",
            "Out of memory at batch 42 of epoch 1, reducing batch size from 1\n",
            "Out of memory at batch 43 of epoch 1, reducing batch size from 1\n",
            "Out of memory at batch 44 of epoch 1, reducing batch size from 1\n",
            "Out of memory at batch 45 of epoch 1, reducing batch size from 1\n",
            "Out of memory at batch 46 of epoch 1, reducing batch size from 1\n",
            "Out of memory at batch 47 of epoch 1, reducing batch size from 1\n",
            "Out of memory at batch 48 of epoch 1, reducing batch size from 1\n",
            "Out of memory at batch 49 of epoch 1, reducing batch size from 1\n",
            "Out of memory at batch 50 of epoch 1, reducing batch size from 1\n",
            "Out of memory at batch 51 of epoch 1, reducing batch size from 1\n",
            "Out of memory at batch 52 of epoch 1, reducing batch size from 1\n",
            "Out of memory at batch 53 of epoch 1, reducing batch size from 1\n",
            "Out of memory at batch 54 of epoch 1, reducing batch size from 1\n",
            "Out of memory at batch 55 of epoch 1, reducing batch size from 1\n",
            "Out of memory at batch 56 of epoch 1, reducing batch size from 1\n",
            "Out of memory at batch 57 of epoch 1, reducing batch size from 1\n",
            "Out of memory at batch 58 of epoch 1, reducing batch size from 1\n",
            "Out of memory at batch 59 of epoch 1, reducing batch size from 1\n",
            "Out of memory at batch 60 of epoch 1, reducing batch size from 1\n",
            "Out of memory at batch 61 of epoch 1, reducing batch size from 1\n",
            "Out of memory at batch 62 of epoch 1, reducing batch size from 1\n",
            "Out of memory at batch 63 of epoch 1, reducing batch size from 1\n",
            "Out of memory at batch 64 of epoch 1, reducing batch size from 1\n",
            "Out of memory at batch 65 of epoch 1, reducing batch size from 1\n",
            "Out of memory at batch 66 of epoch 1, reducing batch size from 1\n",
            "Out of memory at batch 67 of epoch 1, reducing batch size from 1\n",
            "Out of memory at batch 68 of epoch 1, reducing batch size from 1\n",
            "Out of memory at batch 69 of epoch 1, reducing batch size from 1\n",
            "Out of memory at batch 70 of epoch 1, reducing batch size from 1\n",
            "Out of memory at batch 71 of epoch 1, reducing batch size from 1\n",
            "Out of memory at batch 72 of epoch 1, reducing batch size from 1\n",
            "Out of memory at batch 73 of epoch 1, reducing batch size from 1\n",
            "Out of memory at batch 74 of epoch 1, reducing batch size from 1\n",
            "Out of memory at batch 75 of epoch 1, reducing batch size from 1\n",
            "Out of memory at batch 76 of epoch 1, reducing batch size from 1\n",
            "Out of memory at batch 77 of epoch 1, reducing batch size from 1\n",
            "Out of memory at batch 78 of epoch 1, reducing batch size from 1\n",
            "Out of memory at batch 79 of epoch 1, reducing batch size from 1\n",
            "Out of memory at batch 80 of epoch 1, reducing batch size from 1\n",
            "Out of memory at batch 81 of epoch 1, reducing batch size from 1\n",
            "Out of memory at batch 82 of epoch 1, reducing batch size from 1\n",
            "Out of memory at batch 83 of epoch 1, reducing batch size from 1\n",
            "Out of memory at batch 84 of epoch 1, reducing batch size from 1\n",
            "Out of memory at batch 85 of epoch 1, reducing batch size from 1\n",
            "Out of memory at batch 86 of epoch 1, reducing batch size from 1\n",
            "Out of memory at batch 87 of epoch 1, reducing batch size from 1\n",
            "Out of memory at batch 88 of epoch 1, reducing batch size from 1\n",
            "Out of memory at batch 89 of epoch 1, reducing batch size from 1\n",
            "Out of memory at batch 90 of epoch 1, reducing batch size from 1\n",
            "Out of memory at batch 91 of epoch 1, reducing batch size from 1\n",
            "Out of memory at batch 92 of epoch 1, reducing batch size from 1\n",
            "Out of memory at batch 93 of epoch 1, reducing batch size from 1\n",
            "Out of memory at batch 94 of epoch 1, reducing batch size from 1\n",
            "Out of memory at batch 95 of epoch 1, reducing batch size from 1\n",
            "Out of memory at batch 96 of epoch 1, reducing batch size from 1\n",
            "Out of memory at batch 97 of epoch 1, reducing batch size from 1\n",
            "Out of memory at batch 98 of epoch 1, reducing batch size from 1\n",
            "Out of memory at batch 99 of epoch 1, reducing batch size from 1\n",
            "Out of memory at batch 100 of epoch 1, reducing batch size from 1\n",
            "Out of memory at batch 101 of epoch 1, reducing batch size from 1\n",
            "Out of memory at batch 102 of epoch 1, reducing batch size from 1\n",
            "Out of memory at batch 103 of epoch 1, reducing batch size from 1\n",
            "Out of memory at batch 104 of epoch 1, reducing batch size from 1\n",
            "Out of memory at batch 105 of epoch 1, reducing batch size from 1\n",
            "Out of memory at batch 106 of epoch 1, reducing batch size from 1\n",
            "Out of memory at batch 107 of epoch 1, reducing batch size from 1\n",
            "Out of memory at batch 108 of epoch 1, reducing batch size from 1\n",
            "Out of memory at batch 109 of epoch 1, reducing batch size from 1\n",
            "Out of memory at batch 110 of epoch 1, reducing batch size from 1\n",
            "Out of memory at batch 111 of epoch 1, reducing batch size from 1\n",
            "Out of memory at batch 112 of epoch 1, reducing batch size from 1\n",
            "Out of memory at batch 113 of epoch 1, reducing batch size from 1\n",
            "Out of memory at batch 114 of epoch 1, reducing batch size from 1\n",
            "Out of memory at batch 115 of epoch 1, reducing batch size from 1\n",
            "Out of memory at batch 116 of epoch 1, reducing batch size from 1\n",
            "Out of memory at batch 117 of epoch 1, reducing batch size from 1\n",
            "Out of memory at batch 118 of epoch 1, reducing batch size from 1\n",
            "Out of memory at batch 119 of epoch 1, reducing batch size from 1\n",
            "Out of memory at batch 120 of epoch 1, reducing batch size from 1\n",
            "Out of memory at batch 121 of epoch 1, reducing batch size from 1\n",
            "Out of memory at batch 122 of epoch 1, reducing batch size from 1\n",
            "Out of memory at batch 123 of epoch 1, reducing batch size from 1\n",
            "Out of memory at batch 124 of epoch 1, reducing batch size from 1\n",
            "Out of memory at batch 125 of epoch 1, reducing batch size from 1\n",
            "Epoch 1/8, Validation F1 Score: 0.14902029531022087\n",
            "Epoch 2/8, Validation F1 Score: 0.2668975645171079\n",
            "Epoch 3/8, Validation F1 Score: 0.30046166381215744\n",
            "Epoch 4/8, Validation F1 Score: 0.2553170540705777\n",
            "Epoch 5/8, Validation F1 Score: 0.3572471868329239\n",
            "Epoch 6/8, Validation F1 Score: 0.3141919620092636\n",
            "Epoch 7/8, Validation F1 Score: 0.30139876177473146\n"
          ]
        },
        {
          "name": "stderr",
          "output_type": "stream",
          "text": [
            "[I 2024-06-22 15:14:40,088] Trial 13 finished with value: 0.32691588667884536 and parameters: {'lr': 5.1993889715369516e-05, 'batch_size': 8, 'resize_dim': 768}. Best is trial 13 with value: 0.32691588667884536.\n"
          ]
        },
        {
          "name": "stdout",
          "output_type": "stream",
          "text": [
            "Epoch 8/8, Validation F1 Score: 0.32691588667884536\n",
            "Trial 14 completed with F1 Score: 0.32691588667884536\n",
            "Starting trial 15\n",
            "Out of memory at batch 1 of epoch 1, reducing batch size from 8\n",
            "Out of memory at batch 2 of epoch 1, reducing batch size from 4\n",
            "Out of memory at batch 3 of epoch 1, reducing batch size from 2\n",
            "Out of memory at batch 4 of epoch 1, reducing batch size from 1\n",
            "Out of memory at batch 5 of epoch 1, reducing batch size from 1\n",
            "Out of memory at batch 6 of epoch 1, reducing batch size from 1\n",
            "Out of memory at batch 7 of epoch 1, reducing batch size from 1\n",
            "Out of memory at batch 8 of epoch 1, reducing batch size from 1\n",
            "Out of memory at batch 9 of epoch 1, reducing batch size from 1\n",
            "Out of memory at batch 10 of epoch 1, reducing batch size from 1\n",
            "Out of memory at batch 11 of epoch 1, reducing batch size from 1\n",
            "Out of memory at batch 12 of epoch 1, reducing batch size from 1\n",
            "Out of memory at batch 13 of epoch 1, reducing batch size from 1\n",
            "Out of memory at batch 14 of epoch 1, reducing batch size from 1\n",
            "Out of memory at batch 15 of epoch 1, reducing batch size from 1\n",
            "Out of memory at batch 16 of epoch 1, reducing batch size from 1\n",
            "Out of memory at batch 17 of epoch 1, reducing batch size from 1\n",
            "Out of memory at batch 18 of epoch 1, reducing batch size from 1\n",
            "Out of memory at batch 19 of epoch 1, reducing batch size from 1\n",
            "Out of memory at batch 20 of epoch 1, reducing batch size from 1\n",
            "Out of memory at batch 21 of epoch 1, reducing batch size from 1\n",
            "Out of memory at batch 22 of epoch 1, reducing batch size from 1\n",
            "Out of memory at batch 23 of epoch 1, reducing batch size from 1\n",
            "Out of memory at batch 24 of epoch 1, reducing batch size from 1\n",
            "Out of memory at batch 25 of epoch 1, reducing batch size from 1\n",
            "Out of memory at batch 26 of epoch 1, reducing batch size from 1\n",
            "Out of memory at batch 27 of epoch 1, reducing batch size from 1\n",
            "Out of memory at batch 28 of epoch 1, reducing batch size from 1\n",
            "Out of memory at batch 29 of epoch 1, reducing batch size from 1\n",
            "Out of memory at batch 30 of epoch 1, reducing batch size from 1\n",
            "Out of memory at batch 31 of epoch 1, reducing batch size from 1\n",
            "Out of memory at batch 32 of epoch 1, reducing batch size from 1\n",
            "Out of memory at batch 33 of epoch 1, reducing batch size from 1\n",
            "Out of memory at batch 34 of epoch 1, reducing batch size from 1\n",
            "Out of memory at batch 35 of epoch 1, reducing batch size from 1\n",
            "Out of memory at batch 36 of epoch 1, reducing batch size from 1\n",
            "Out of memory at batch 37 of epoch 1, reducing batch size from 1\n",
            "Out of memory at batch 38 of epoch 1, reducing batch size from 1\n",
            "Out of memory at batch 39 of epoch 1, reducing batch size from 1\n",
            "Out of memory at batch 40 of epoch 1, reducing batch size from 1\n",
            "Out of memory at batch 41 of epoch 1, reducing batch size from 1\n",
            "Out of memory at batch 42 of epoch 1, reducing batch size from 1\n",
            "Out of memory at batch 43 of epoch 1, reducing batch size from 1\n",
            "Out of memory at batch 44 of epoch 1, reducing batch size from 1\n",
            "Out of memory at batch 45 of epoch 1, reducing batch size from 1\n",
            "Out of memory at batch 46 of epoch 1, reducing batch size from 1\n",
            "Out of memory at batch 47 of epoch 1, reducing batch size from 1\n",
            "Out of memory at batch 48 of epoch 1, reducing batch size from 1\n",
            "Out of memory at batch 49 of epoch 1, reducing batch size from 1\n",
            "Out of memory at batch 50 of epoch 1, reducing batch size from 1\n",
            "Out of memory at batch 51 of epoch 1, reducing batch size from 1\n",
            "Out of memory at batch 52 of epoch 1, reducing batch size from 1\n",
            "Out of memory at batch 53 of epoch 1, reducing batch size from 1\n",
            "Out of memory at batch 54 of epoch 1, reducing batch size from 1\n",
            "Out of memory at batch 55 of epoch 1, reducing batch size from 1\n",
            "Out of memory at batch 56 of epoch 1, reducing batch size from 1\n",
            "Out of memory at batch 57 of epoch 1, reducing batch size from 1\n",
            "Out of memory at batch 58 of epoch 1, reducing batch size from 1\n",
            "Out of memory at batch 59 of epoch 1, reducing batch size from 1\n",
            "Out of memory at batch 60 of epoch 1, reducing batch size from 1\n",
            "Out of memory at batch 61 of epoch 1, reducing batch size from 1\n",
            "Out of memory at batch 62 of epoch 1, reducing batch size from 1\n",
            "Out of memory at batch 63 of epoch 1, reducing batch size from 1\n",
            "Out of memory at batch 64 of epoch 1, reducing batch size from 1\n",
            "Out of memory at batch 65 of epoch 1, reducing batch size from 1\n",
            "Out of memory at batch 66 of epoch 1, reducing batch size from 1\n",
            "Out of memory at batch 67 of epoch 1, reducing batch size from 1\n",
            "Out of memory at batch 68 of epoch 1, reducing batch size from 1\n",
            "Out of memory at batch 69 of epoch 1, reducing batch size from 1\n",
            "Out of memory at batch 70 of epoch 1, reducing batch size from 1\n",
            "Out of memory at batch 71 of epoch 1, reducing batch size from 1\n",
            "Out of memory at batch 72 of epoch 1, reducing batch size from 1\n",
            "Out of memory at batch 73 of epoch 1, reducing batch size from 1\n",
            "Out of memory at batch 74 of epoch 1, reducing batch size from 1\n",
            "Out of memory at batch 75 of epoch 1, reducing batch size from 1\n",
            "Out of memory at batch 76 of epoch 1, reducing batch size from 1\n",
            "Out of memory at batch 77 of epoch 1, reducing batch size from 1\n",
            "Out of memory at batch 78 of epoch 1, reducing batch size from 1\n",
            "Out of memory at batch 79 of epoch 1, reducing batch size from 1\n",
            "Out of memory at batch 80 of epoch 1, reducing batch size from 1\n",
            "Out of memory at batch 81 of epoch 1, reducing batch size from 1\n",
            "Out of memory at batch 82 of epoch 1, reducing batch size from 1\n",
            "Out of memory at batch 83 of epoch 1, reducing batch size from 1\n",
            "Out of memory at batch 84 of epoch 1, reducing batch size from 1\n",
            "Out of memory at batch 85 of epoch 1, reducing batch size from 1\n",
            "Out of memory at batch 86 of epoch 1, reducing batch size from 1\n",
            "Out of memory at batch 87 of epoch 1, reducing batch size from 1\n",
            "Out of memory at batch 88 of epoch 1, reducing batch size from 1\n",
            "Out of memory at batch 89 of epoch 1, reducing batch size from 1\n",
            "Out of memory at batch 90 of epoch 1, reducing batch size from 1\n",
            "Out of memory at batch 91 of epoch 1, reducing batch size from 1\n",
            "Out of memory at batch 92 of epoch 1, reducing batch size from 1\n",
            "Out of memory at batch 93 of epoch 1, reducing batch size from 1\n",
            "Out of memory at batch 94 of epoch 1, reducing batch size from 1\n",
            "Out of memory at batch 95 of epoch 1, reducing batch size from 1\n",
            "Out of memory at batch 96 of epoch 1, reducing batch size from 1\n",
            "Out of memory at batch 97 of epoch 1, reducing batch size from 1\n",
            "Out of memory at batch 98 of epoch 1, reducing batch size from 1\n",
            "Out of memory at batch 99 of epoch 1, reducing batch size from 1\n",
            "Out of memory at batch 100 of epoch 1, reducing batch size from 1\n",
            "Out of memory at batch 101 of epoch 1, reducing batch size from 1\n",
            "Out of memory at batch 102 of epoch 1, reducing batch size from 1\n",
            "Out of memory at batch 103 of epoch 1, reducing batch size from 1\n",
            "Out of memory at batch 104 of epoch 1, reducing batch size from 1\n",
            "Out of memory at batch 105 of epoch 1, reducing batch size from 1\n",
            "Out of memory at batch 106 of epoch 1, reducing batch size from 1\n",
            "Out of memory at batch 107 of epoch 1, reducing batch size from 1\n",
            "Out of memory at batch 108 of epoch 1, reducing batch size from 1\n",
            "Out of memory at batch 109 of epoch 1, reducing batch size from 1\n",
            "Out of memory at batch 110 of epoch 1, reducing batch size from 1\n",
            "Out of memory at batch 111 of epoch 1, reducing batch size from 1\n",
            "Out of memory at batch 112 of epoch 1, reducing batch size from 1\n",
            "Out of memory at batch 113 of epoch 1, reducing batch size from 1\n",
            "Out of memory at batch 114 of epoch 1, reducing batch size from 1\n",
            "Out of memory at batch 115 of epoch 1, reducing batch size from 1\n",
            "Out of memory at batch 116 of epoch 1, reducing batch size from 1\n",
            "Out of memory at batch 117 of epoch 1, reducing batch size from 1\n",
            "Out of memory at batch 118 of epoch 1, reducing batch size from 1\n",
            "Out of memory at batch 119 of epoch 1, reducing batch size from 1\n",
            "Out of memory at batch 120 of epoch 1, reducing batch size from 1\n",
            "Out of memory at batch 121 of epoch 1, reducing batch size from 1\n",
            "Out of memory at batch 122 of epoch 1, reducing batch size from 1\n",
            "Out of memory at batch 123 of epoch 1, reducing batch size from 1\n",
            "Out of memory at batch 124 of epoch 1, reducing batch size from 1\n",
            "Out of memory at batch 125 of epoch 1, reducing batch size from 1\n"
          ]
        },
        {
          "name": "stderr",
          "output_type": "stream",
          "text": [
            "[I 2024-06-22 15:16:55,017] Trial 14 pruned. \n"
          ]
        },
        {
          "name": "stdout",
          "output_type": "stream",
          "text": [
            "Epoch 1/8, Validation F1 Score: 0.1433905509185076\n",
            "Best hyperparameters:  {'lr': 5.1993889715369516e-05, 'batch_size': 8, 'resize_dim': 768}\n"
          ]
        }
      ],
      "source": [
        "import optuna\n",
        "\n",
        "num_epochs = 8\n",
        "device = torch.device(\"cuda\" if torch.cuda.is_available() else \"cpu\")\n",
        "\n",
        "def check_gpu_memory():\n",
        "    if torch.cuda.is_available():\n",
        "        reserved_memory = torch.cuda.memory_reserved()\n",
        "        allocated_memory = torch.cuda.memory_allocated()\n",
        "        free_memory = reserved_memory - allocated_memory\n",
        "        return free_memory\n",
        "    return float('inf')\n",
        "\n",
        "def calculate_f1_score(loader, model, device):\n",
        "    model.eval()\n",
        "    all_preds = []\n",
        "    all_targets = []\n",
        "\n",
        "    with torch.no_grad():\n",
        "        for data, targets in loader:\n",
        "            data = data.float().to(device)\n",
        "            targets = targets.float().to(device)\n",
        "            predictions = torch.sigmoid(model(data)).squeeze(1)\n",
        "            preds = (predictions > 0.5).float().cpu().numpy().flatten()\n",
        "            all_preds.extend(preds)\n",
        "            all_targets.extend(targets.cpu().numpy().flatten())\n",
        "\n",
        "    f1 = f1_score(all_targets, all_preds, zero_division=1)\n",
        "    return f1\n",
        "\n",
        "def objective(trial):\n",
        "    # Log del trial corrente\n",
        "    print(f\"Starting trial {trial.number + 1}\")\n",
        "\n",
        "    # Definisci lo spazio di ricerca degli iperparametri\n",
        "    lr = trial.suggest_float(\"lr\", 1e-5, 1e-2, log=True)\n",
        "\n",
        "    # Crea il modello\n",
        "    model = UNET(in_channels=4, out_channels=1).to(device)\n",
        "    optimizer = optim.Adam(model.parameters(), lr=lr)\n",
        "    criterion = nn.BCEWithLogitsLoss()\n",
        "\n",
        "    # Dataset e DataLoader\n",
        "    transform = A.Compose([\n",
        "        A.Resize(height=512, width=512),  # Dimensioni fisse\n",
        "        ToTensorV2(),\n",
        "    ])\n",
        "\n",
        "    train_dataset = SN7Dataset(image_dir_train, mask_dir_train, transform=transform, mean=mean, std=std)\n",
        "    val_dataset = SN7Dataset(image_dir_valid, mask_dir_valid, transform=transform, mean=mean, std=std)\n",
        "\n",
        "    # Batch size fisso\n",
        "    batch_size = 16\n",
        "\n",
        "    train_loader = DataLoader(train_dataset, batch_size=batch_size, shuffle=True, num_workers=6, pin_memory=True)\n",
        "    val_loader = DataLoader(val_dataset, batch_size=batch_size, shuffle=False, num_workers=6, pin_memory=True)\n",
        "\n",
        "    # Training Loop\n",
        "    for epoch in range(num_epochs):\n",
        "        model.train()\n",
        "        running_loss = 0.0\n",
        "        for batch_idx, (data, targets) in enumerate(train_loader):\n",
        "            try:\n",
        "                data = data.float().to(device)\n",
        "                targets = targets.float().to(device)\n",
        "                optimizer.zero_grad()\n",
        "                predictions = model(data).squeeze(1)\n",
        "                loss = criterion(predictions, targets)\n",
        "                loss.backward()\n",
        "                optimizer.step()\n",
        "                running_loss += loss.item()\n",
        "            except RuntimeError as e:\n",
        "                if 'out of memory' in str(e):\n",
        "                    #print(f\"Out of memory at batch {batch_idx + 1} of epoch {epoch + 1}, reducing batch size from {batch_size}\")\n",
        "                    batch_size = max(batch_size // 2, 1)\n",
        "                    train_loader = DataLoader(train_dataset, batch_size=batch_size, shuffle=True, num_workers=6, pin_memory=True)\n",
        "                    val_loader = DataLoader(val_dataset, batch_size=batch_size, shuffle=False, num_workers=6, pin_memory=True)\n",
        "                    torch.cuda.empty_cache()\n",
        "                else:\n",
        "                    raise e\n",
        "\n",
        "        # Validation Loop\n",
        "        val_f1 = calculate_f1_score(val_loader, model, device)\n",
        "        print(f\"Epoch {epoch + 1}/{num_epochs}, Validation F1 Score: {val_f1}\")\n",
        "        trial.report(val_f1, epoch)\n",
        "\n",
        "        # Fermati se la performance non migliora\n",
        "        if trial.should_prune():\n",
        "            raise optuna.exceptions.TrialPruned()\n",
        "\n",
        "    print(f\"Trial {trial.number + 1} completed with F1 Score: {val_f1}\")\n",
        "    return val_f1\n",
        "\n",
        "# Crea uno studio e ottimizza\n",
        "study = optuna.create_study(direction=\"maximize\")\n",
        "study.optimize(objective, n_trials=15)\n",
        "\n",
        "# Migliori iperparametri\n",
        "print(\"Best hyperparameters: \", study.best_params)\n"
      ]
    },
    {
      "cell_type": "markdown",
      "metadata": {
        "id": "tbth5EvB--CE"
      },
      "source": [
        "Training baseline"
      ]
    },
    {
      "cell_type": "code",
      "execution_count": null,
      "metadata": {
        "id": "6nECZaPk--CE",
        "outputId": "1f888dd7-2612-45e7-f87b-2e1177d1a880"
      },
      "outputs": [
        {
          "name": "stdout",
          "output_type": "stream",
          "text": [
            "Checkpoint file not found, starting training from scratch.\n"
          ]
        }
      ],
      "source": [
        "#1Best hyperparameters:  {'lr': 5.1993889715369516e-05, 'batch_size': 8, 'resize_dim': 768}\n",
        "\n",
        "#512\n",
        "transform = A.Compose([\n",
        "    A.Resize(height=512, width=512),\n",
        "    #A.Normalize(mean=mean, std=std),\n",
        "    ToTensorV2(),\n",
        "])\n",
        "\n",
        "val_transform = A.Compose([\n",
        "    A.Resize(height=512, width=512),\n",
        "    #A.Normalize(mean=mean, std=std),\n",
        "    ToTensorV2(),\n",
        "])\n",
        "\n",
        "train_dataset = SN7Dataset(image_dir_train, mask_dir_train, transform=transform, mean=mean, std=std)\n",
        "val_dataset = SN7Dataset(image_dir_valid, mask_dir_valid, transform=val_transform, mean=mean, std=std)\n",
        "train_loader = DataLoader(train_dataset, batch_size=16, shuffle=True, num_workers=12, pin_memory=True)\n",
        "val_loader = DataLoader(val_dataset, batch_size=16, shuffle=False, num_workers=12, pin_memory=True)\n",
        "\n",
        "\n",
        "# Calcolo del pos_weight\n",
        "pos_weight = calculate_pos_weight(train_dataset).to(device)\n",
        "\n",
        "\n",
        "load_model = True\n",
        "lr = 1e-4\n",
        "step_size = 18\n",
        "\n",
        "device = torch.device(\"cuda\" if torch.cuda.is_available() else \"cpu\")\n",
        "model = UNET(in_channels=4, out_channels=1).to(device)\n",
        "criterion = nn.BCEWithLogitsLoss(pos_weight=pos_weight)\n",
        "optimizer = optim.Adam(model.parameters(), lr=lr)\n",
        "scheduler = StepLR(optimizer, step_size=step_size)\n",
        "num_epochs = 20\n",
        "scaler = torch.cuda.amp.GradScaler()\n",
        "\n",
        "checkpoint_path = os.path.join(model_dir, \"checkpoint.pth.tar\")\n",
        "if load_model and os.path.exists(checkpoint_path):\n",
        "    load_checkpoint(torch.load(checkpoint_path), model)\n",
        "else:\n",
        "    print(\"Checkpoint file not found, starting training from scratch.\")"
      ]
    },
    {
      "cell_type": "code",
      "execution_count": null,
      "metadata": {
        "id": "hdZaWqm0--CE",
        "outputId": "d0f7f1e3-d20d-4b51-8187-90d5e07663b2"
      },
      "outputs": [
        {
          "name": "stdout",
          "output_type": "stream",
          "text": [
            "epoch 0\n"
          ]
        },
        {
          "name": "stderr",
          "output_type": "stream",
          "text": [
            "100%|██████████| 63/63 [00:59<00:00,  1.06it/s, loss=0.81] \n"
          ]
        },
        {
          "name": "stdout",
          "output_type": "stream",
          "text": [
            "=> Saving checkpoint\n",
            "1\n",
            "2\n",
            "3\n",
            "4\n",
            "5\n",
            "6\n",
            "7\n",
            "8\n",
            "9\n",
            "10\n",
            "11\n",
            "12\n",
            "13\n",
            "Validation Loss: 1.0201\n",
            "Accuracy: 81.37\n",
            "Precision: 0.2475\n",
            "Recall: 0.6757\n",
            "F1 Score: 0.3600\n",
            "=> Saving checkpoint\n",
            "New best F1 score: 0.3600\n"
          ]
        },
        {
          "name": "stderr",
          "output_type": "stream",
          "text": [
            "Saving predictions:   0%|          | 0/13 [00:00<?, ?it/s]"
          ]
        },
        {
          "name": "stdout",
          "output_type": "stream",
          "text": [
            "1\n"
          ]
        },
        {
          "name": "stderr",
          "output_type": "stream",
          "text": [
            "Saving predictions:   8%|▊         | 1/13 [00:01<00:22,  1.89s/it]"
          ]
        },
        {
          "name": "stdout",
          "output_type": "stream",
          "text": [
            "2\n"
          ]
        },
        {
          "name": "stderr",
          "output_type": "stream",
          "text": [
            "Saving predictions:  15%|█▌        | 2/13 [00:02<00:12,  1.15s/it]"
          ]
        },
        {
          "name": "stdout",
          "output_type": "stream",
          "text": [
            "3\n"
          ]
        },
        {
          "name": "stderr",
          "output_type": "stream",
          "text": [
            "Saving predictions:  23%|██▎       | 3/13 [00:03<00:09,  1.10it/s]"
          ]
        },
        {
          "name": "stdout",
          "output_type": "stream",
          "text": [
            "4\n"
          ]
        },
        {
          "name": "stderr",
          "output_type": "stream",
          "text": [
            "Saving predictions:  31%|███       | 4/13 [00:03<00:07,  1.26it/s]"
          ]
        },
        {
          "name": "stdout",
          "output_type": "stream",
          "text": [
            "5\n"
          ]
        },
        {
          "name": "stderr",
          "output_type": "stream",
          "text": [
            "Saving predictions:  38%|███▊      | 5/13 [00:04<00:05,  1.38it/s]"
          ]
        },
        {
          "name": "stdout",
          "output_type": "stream",
          "text": [
            "6\n"
          ]
        },
        {
          "name": "stderr",
          "output_type": "stream",
          "text": [
            "Saving predictions:  46%|████▌     | 6/13 [00:04<00:04,  1.46it/s]"
          ]
        },
        {
          "name": "stdout",
          "output_type": "stream",
          "text": [
            "7\n"
          ]
        },
        {
          "name": "stderr",
          "output_type": "stream",
          "text": [
            "Saving predictions:  54%|█████▍    | 7/13 [00:05<00:03,  1.51it/s]"
          ]
        },
        {
          "name": "stdout",
          "output_type": "stream",
          "text": [
            "8\n"
          ]
        },
        {
          "name": "stderr",
          "output_type": "stream",
          "text": [
            "Saving predictions:  62%|██████▏   | 8/13 [00:06<00:03,  1.53it/s]"
          ]
        },
        {
          "name": "stdout",
          "output_type": "stream",
          "text": [
            "9\n"
          ]
        },
        {
          "name": "stderr",
          "output_type": "stream",
          "text": [
            "Saving predictions:  69%|██████▉   | 9/13 [00:06<00:02,  1.56it/s]"
          ]
        },
        {
          "name": "stdout",
          "output_type": "stream",
          "text": [
            "10\n"
          ]
        },
        {
          "name": "stderr",
          "output_type": "stream",
          "text": [
            "Saving predictions:  77%|███████▋  | 10/13 [00:07<00:01,  1.59it/s]"
          ]
        },
        {
          "name": "stdout",
          "output_type": "stream",
          "text": [
            "11\n"
          ]
        },
        {
          "name": "stderr",
          "output_type": "stream",
          "text": [
            "Saving predictions:  85%|████████▍ | 11/13 [00:08<00:01,  1.61it/s]"
          ]
        },
        {
          "name": "stdout",
          "output_type": "stream",
          "text": [
            "12\n"
          ]
        },
        {
          "name": "stderr",
          "output_type": "stream",
          "text": [
            "Saving predictions:  92%|█████████▏| 12/13 [00:08<00:00,  1.62it/s]"
          ]
        },
        {
          "name": "stdout",
          "output_type": "stream",
          "text": [
            "13\n"
          ]
        },
        {
          "name": "stderr",
          "output_type": "stream",
          "text": [
            "Saving predictions: 100%|██████████| 13/13 [00:09<00:00,  1.40it/s]\n"
          ]
        },
        {
          "name": "stdout",
          "output_type": "stream",
          "text": [
            "epoch 1\n"
          ]
        },
        {
          "name": "stderr",
          "output_type": "stream",
          "text": [
            "100%|██████████| 63/63 [00:59<00:00,  1.06it/s, loss=0.78] \n"
          ]
        },
        {
          "name": "stdout",
          "output_type": "stream",
          "text": [
            "=> Saving checkpoint\n",
            "1\n",
            "2\n",
            "3\n",
            "4\n",
            "5\n",
            "6\n",
            "7\n",
            "8\n",
            "9\n",
            "10\n",
            "11\n",
            "12\n",
            "13\n",
            "Validation Loss: 0.9283\n",
            "Accuracy: 78.36\n",
            "Precision: 0.2322\n",
            "Recall: 0.7714\n",
            "F1 Score: 0.3558\n"
          ]
        },
        {
          "name": "stderr",
          "output_type": "stream",
          "text": [
            "Saving predictions:   0%|          | 0/13 [00:00<?, ?it/s]"
          ]
        },
        {
          "name": "stdout",
          "output_type": "stream",
          "text": [
            "1\n"
          ]
        },
        {
          "name": "stderr",
          "output_type": "stream",
          "text": [
            "Saving predictions:   8%|▊         | 1/13 [00:01<00:23,  1.98s/it]"
          ]
        },
        {
          "name": "stdout",
          "output_type": "stream",
          "text": [
            "2\n"
          ]
        },
        {
          "name": "stderr",
          "output_type": "stream",
          "text": [
            "Saving predictions:  15%|█▌        | 2/13 [00:02<00:13,  1.21s/it]"
          ]
        },
        {
          "name": "stdout",
          "output_type": "stream",
          "text": [
            "3\n"
          ]
        },
        {
          "name": "stderr",
          "output_type": "stream",
          "text": [
            "Saving predictions:  23%|██▎       | 3/13 [00:03<00:09,  1.04it/s]"
          ]
        },
        {
          "name": "stdout",
          "output_type": "stream",
          "text": [
            "4\n"
          ]
        },
        {
          "name": "stderr",
          "output_type": "stream",
          "text": [
            "Saving predictions:  31%|███       | 4/13 [00:03<00:07,  1.19it/s]"
          ]
        },
        {
          "name": "stdout",
          "output_type": "stream",
          "text": [
            "5\n"
          ]
        },
        {
          "name": "stderr",
          "output_type": "stream",
          "text": [
            "Saving predictions:  38%|███▊      | 5/13 [00:04<00:06,  1.29it/s]"
          ]
        },
        {
          "name": "stdout",
          "output_type": "stream",
          "text": [
            "6\n"
          ]
        },
        {
          "name": "stderr",
          "output_type": "stream",
          "text": [
            "Saving predictions:  46%|████▌     | 6/13 [00:05<00:05,  1.38it/s]"
          ]
        },
        {
          "name": "stdout",
          "output_type": "stream",
          "text": [
            "7\n"
          ]
        },
        {
          "name": "stderr",
          "output_type": "stream",
          "text": [
            "Saving predictions:  54%|█████▍    | 7/13 [00:05<00:04,  1.44it/s]"
          ]
        },
        {
          "name": "stdout",
          "output_type": "stream",
          "text": [
            "8\n"
          ]
        },
        {
          "name": "stderr",
          "output_type": "stream",
          "text": [
            "Saving predictions:  62%|██████▏   | 8/13 [00:06<00:03,  1.47it/s]"
          ]
        },
        {
          "name": "stdout",
          "output_type": "stream",
          "text": [
            "9\n"
          ]
        },
        {
          "name": "stderr",
          "output_type": "stream",
          "text": [
            "Saving predictions:  69%|██████▉   | 9/13 [00:07<00:02,  1.51it/s]"
          ]
        },
        {
          "name": "stdout",
          "output_type": "stream",
          "text": [
            "10\n"
          ]
        },
        {
          "name": "stderr",
          "output_type": "stream",
          "text": [
            "Saving predictions:  77%|███████▋  | 10/13 [00:07<00:01,  1.55it/s]"
          ]
        },
        {
          "name": "stdout",
          "output_type": "stream",
          "text": [
            "11\n"
          ]
        },
        {
          "name": "stderr",
          "output_type": "stream",
          "text": [
            "Saving predictions:  85%|████████▍ | 11/13 [00:08<00:01,  1.57it/s]"
          ]
        },
        {
          "name": "stdout",
          "output_type": "stream",
          "text": [
            "12\n"
          ]
        },
        {
          "name": "stderr",
          "output_type": "stream",
          "text": [
            "Saving predictions:  92%|█████████▏| 12/13 [00:08<00:00,  1.59it/s]"
          ]
        },
        {
          "name": "stdout",
          "output_type": "stream",
          "text": [
            "13\n"
          ]
        },
        {
          "name": "stderr",
          "output_type": "stream",
          "text": [
            "Saving predictions: 100%|██████████| 13/13 [00:09<00:00,  1.34it/s]\n"
          ]
        },
        {
          "name": "stdout",
          "output_type": "stream",
          "text": [
            "epoch 2\n"
          ]
        },
        {
          "name": "stderr",
          "output_type": "stream",
          "text": [
            "100%|██████████| 63/63 [01:00<00:00,  1.04it/s, loss=0.738]\n"
          ]
        },
        {
          "name": "stdout",
          "output_type": "stream",
          "text": [
            "=> Saving checkpoint\n",
            "1\n",
            "2\n",
            "3\n",
            "4\n",
            "5\n",
            "6\n",
            "7\n",
            "8\n",
            "9\n",
            "10\n",
            "11\n",
            "12\n",
            "13\n",
            "Validation Loss: 0.9276\n",
            "Accuracy: 82.94\n",
            "Precision: 0.2713\n",
            "Recall: 0.7050\n",
            "F1 Score: 0.3902\n",
            "=> Saving checkpoint\n",
            "New best F1 score: 0.3902\n"
          ]
        },
        {
          "name": "stderr",
          "output_type": "stream",
          "text": [
            "Saving predictions:   0%|          | 0/13 [00:00<?, ?it/s]"
          ]
        },
        {
          "name": "stdout",
          "output_type": "stream",
          "text": [
            "1\n"
          ]
        },
        {
          "name": "stderr",
          "output_type": "stream",
          "text": [
            "Saving predictions:   8%|▊         | 1/13 [00:02<00:24,  2.01s/it]"
          ]
        },
        {
          "name": "stdout",
          "output_type": "stream",
          "text": [
            "2\n"
          ]
        },
        {
          "name": "stderr",
          "output_type": "stream",
          "text": [
            "Saving predictions:  15%|█▌        | 2/13 [00:02<00:13,  1.25s/it]"
          ]
        },
        {
          "name": "stdout",
          "output_type": "stream",
          "text": [
            "3\n"
          ]
        },
        {
          "name": "stderr",
          "output_type": "stream",
          "text": [
            "Saving predictions:  23%|██▎       | 3/13 [00:03<00:09,  1.01it/s]"
          ]
        },
        {
          "name": "stdout",
          "output_type": "stream",
          "text": [
            "4\n"
          ]
        },
        {
          "name": "stderr",
          "output_type": "stream",
          "text": [
            "Saving predictions:  31%|███       | 4/13 [00:04<00:07,  1.15it/s]"
          ]
        },
        {
          "name": "stdout",
          "output_type": "stream",
          "text": [
            "5\n"
          ]
        },
        {
          "name": "stderr",
          "output_type": "stream",
          "text": [
            "Saving predictions:  38%|███▊      | 5/13 [00:04<00:06,  1.25it/s]"
          ]
        },
        {
          "name": "stdout",
          "output_type": "stream",
          "text": [
            "6\n"
          ]
        },
        {
          "name": "stderr",
          "output_type": "stream",
          "text": [
            "Saving predictions:  46%|████▌     | 6/13 [00:05<00:05,  1.31it/s]"
          ]
        },
        {
          "name": "stdout",
          "output_type": "stream",
          "text": [
            "7\n"
          ]
        },
        {
          "name": "stderr",
          "output_type": "stream",
          "text": [
            "Saving predictions:  54%|█████▍    | 7/13 [00:06<00:04,  1.34it/s]"
          ]
        },
        {
          "name": "stdout",
          "output_type": "stream",
          "text": [
            "8\n"
          ]
        },
        {
          "name": "stderr",
          "output_type": "stream",
          "text": [
            "Saving predictions:  62%|██████▏   | 8/13 [00:06<00:03,  1.40it/s]"
          ]
        },
        {
          "name": "stdout",
          "output_type": "stream",
          "text": [
            "9\n"
          ]
        },
        {
          "name": "stderr",
          "output_type": "stream",
          "text": [
            "Saving predictions:  69%|██████▉   | 9/13 [00:07<00:02,  1.42it/s]"
          ]
        },
        {
          "name": "stdout",
          "output_type": "stream",
          "text": [
            "10\n"
          ]
        },
        {
          "name": "stderr",
          "output_type": "stream",
          "text": [
            "Saving predictions:  77%|███████▋  | 10/13 [00:08<00:02,  1.47it/s]"
          ]
        },
        {
          "name": "stdout",
          "output_type": "stream",
          "text": [
            "11\n"
          ]
        },
        {
          "name": "stderr",
          "output_type": "stream",
          "text": [
            "Saving predictions:  85%|████████▍ | 11/13 [00:08<00:01,  1.49it/s]"
          ]
        },
        {
          "name": "stdout",
          "output_type": "stream",
          "text": [
            "12\n"
          ]
        },
        {
          "name": "stderr",
          "output_type": "stream",
          "text": [
            "Saving predictions:  92%|█████████▏| 12/13 [00:09<00:00,  1.52it/s]"
          ]
        },
        {
          "name": "stdout",
          "output_type": "stream",
          "text": [
            "13\n"
          ]
        },
        {
          "name": "stderr",
          "output_type": "stream",
          "text": [
            "Saving predictions: 100%|██████████| 13/13 [00:10<00:00,  1.29it/s]\n"
          ]
        },
        {
          "name": "stdout",
          "output_type": "stream",
          "text": [
            "epoch 3\n"
          ]
        },
        {
          "name": "stderr",
          "output_type": "stream",
          "text": [
            "100%|██████████| 63/63 [01:00<00:00,  1.04it/s, loss=0.646]\n"
          ]
        },
        {
          "name": "stdout",
          "output_type": "stream",
          "text": [
            "=> Saving checkpoint\n",
            "1\n",
            "2\n",
            "3\n",
            "4\n",
            "5\n",
            "6\n",
            "7\n",
            "8\n",
            "9\n",
            "10\n",
            "11\n",
            "12\n",
            "13\n",
            "Validation Loss: 0.8899\n",
            "Accuracy: 80.52\n",
            "Precision: 0.2533\n",
            "Recall: 0.7667\n",
            "F1 Score: 0.3792\n"
          ]
        },
        {
          "name": "stderr",
          "output_type": "stream",
          "text": [
            "Saving predictions:   0%|          | 0/13 [00:00<?, ?it/s]"
          ]
        },
        {
          "name": "stdout",
          "output_type": "stream",
          "text": [
            "1\n"
          ]
        },
        {
          "name": "stderr",
          "output_type": "stream",
          "text": [
            "Saving predictions:   8%|▊         | 1/13 [00:02<00:25,  2.13s/it]"
          ]
        },
        {
          "name": "stdout",
          "output_type": "stream",
          "text": [
            "2\n"
          ]
        },
        {
          "name": "stderr",
          "output_type": "stream",
          "text": [
            "Saving predictions:  15%|█▌        | 2/13 [00:02<00:14,  1.28s/it]"
          ]
        },
        {
          "name": "stdout",
          "output_type": "stream",
          "text": [
            "3\n"
          ]
        },
        {
          "name": "stderr",
          "output_type": "stream",
          "text": [
            "Saving predictions:  23%|██▎       | 3/13 [00:03<00:09,  1.00it/s]"
          ]
        },
        {
          "name": "stdout",
          "output_type": "stream",
          "text": [
            "4\n"
          ]
        },
        {
          "name": "stderr",
          "output_type": "stream",
          "text": [
            "Saving predictions:  31%|███       | 4/13 [00:04<00:07,  1.15it/s]"
          ]
        },
        {
          "name": "stdout",
          "output_type": "stream",
          "text": [
            "5\n"
          ]
        },
        {
          "name": "stderr",
          "output_type": "stream",
          "text": [
            "Saving predictions:  38%|███▊      | 5/13 [00:04<00:06,  1.26it/s]"
          ]
        },
        {
          "name": "stdout",
          "output_type": "stream",
          "text": [
            "6\n"
          ]
        },
        {
          "name": "stderr",
          "output_type": "stream",
          "text": [
            "Saving predictions:  46%|████▌     | 6/13 [00:05<00:05,  1.33it/s]"
          ]
        },
        {
          "name": "stdout",
          "output_type": "stream",
          "text": [
            "7\n"
          ]
        },
        {
          "name": "stderr",
          "output_type": "stream",
          "text": [
            "Saving predictions:  54%|█████▍    | 7/13 [00:06<00:04,  1.36it/s]"
          ]
        },
        {
          "name": "stdout",
          "output_type": "stream",
          "text": [
            "8\n"
          ]
        },
        {
          "name": "stderr",
          "output_type": "stream",
          "text": [
            "Saving predictions:  62%|██████▏   | 8/13 [00:06<00:03,  1.39it/s]"
          ]
        },
        {
          "name": "stdout",
          "output_type": "stream",
          "text": [
            "9\n"
          ]
        },
        {
          "name": "stderr",
          "output_type": "stream",
          "text": [
            "Saving predictions:  69%|██████▉   | 9/13 [00:07<00:02,  1.42it/s]"
          ]
        },
        {
          "name": "stdout",
          "output_type": "stream",
          "text": [
            "10\n"
          ]
        },
        {
          "name": "stderr",
          "output_type": "stream",
          "text": [
            "Saving predictions:  77%|███████▋  | 10/13 [00:08<00:02,  1.44it/s]"
          ]
        },
        {
          "name": "stdout",
          "output_type": "stream",
          "text": [
            "11\n"
          ]
        },
        {
          "name": "stderr",
          "output_type": "stream",
          "text": [
            "Saving predictions:  85%|████████▍ | 11/13 [00:08<00:01,  1.46it/s]"
          ]
        },
        {
          "name": "stdout",
          "output_type": "stream",
          "text": [
            "12\n"
          ]
        },
        {
          "name": "stderr",
          "output_type": "stream",
          "text": [
            "Saving predictions:  92%|█████████▏| 12/13 [00:09<00:00,  1.48it/s]"
          ]
        },
        {
          "name": "stdout",
          "output_type": "stream",
          "text": [
            "13\n"
          ]
        },
        {
          "name": "stderr",
          "output_type": "stream",
          "text": [
            "Saving predictions: 100%|██████████| 13/13 [00:10<00:00,  1.27it/s]\n"
          ]
        },
        {
          "name": "stdout",
          "output_type": "stream",
          "text": [
            "epoch 4\n"
          ]
        },
        {
          "name": "stderr",
          "output_type": "stream",
          "text": [
            "100%|██████████| 63/63 [00:57<00:00,  1.10it/s, loss=0.705]\n"
          ]
        },
        {
          "name": "stdout",
          "output_type": "stream",
          "text": [
            "=> Saving checkpoint\n",
            "1\n",
            "2\n",
            "3\n",
            "4\n",
            "5\n",
            "6\n",
            "7\n",
            "8\n",
            "9\n",
            "10\n",
            "11\n",
            "12\n",
            "13\n",
            "Validation Loss: 0.8693\n",
            "Accuracy: 77.18\n",
            "Precision: 0.2309\n",
            "Recall: 0.8340\n",
            "F1 Score: 0.3611\n"
          ]
        },
        {
          "name": "stderr",
          "output_type": "stream",
          "text": [
            "Saving predictions:   0%|          | 0/13 [00:00<?, ?it/s]"
          ]
        },
        {
          "name": "stdout",
          "output_type": "stream",
          "text": [
            "1\n"
          ]
        },
        {
          "name": "stderr",
          "output_type": "stream",
          "text": [
            "Saving predictions:   8%|▊         | 1/13 [00:01<00:22,  1.88s/it]"
          ]
        },
        {
          "name": "stdout",
          "output_type": "stream",
          "text": [
            "2\n"
          ]
        },
        {
          "name": "stderr",
          "output_type": "stream",
          "text": [
            "Saving predictions:  15%|█▌        | 2/13 [00:02<00:12,  1.15s/it]"
          ]
        },
        {
          "name": "stdout",
          "output_type": "stream",
          "text": [
            "3\n"
          ]
        },
        {
          "name": "stderr",
          "output_type": "stream",
          "text": [
            "Saving predictions:  23%|██▎       | 3/13 [00:03<00:09,  1.10it/s]"
          ]
        },
        {
          "name": "stdout",
          "output_type": "stream",
          "text": [
            "4\n"
          ]
        },
        {
          "name": "stderr",
          "output_type": "stream",
          "text": [
            "Saving predictions:  31%|███       | 4/13 [00:03<00:07,  1.25it/s]"
          ]
        },
        {
          "name": "stdout",
          "output_type": "stream",
          "text": [
            "5\n"
          ]
        },
        {
          "name": "stderr",
          "output_type": "stream",
          "text": [
            "Saving predictions:  38%|███▊      | 5/13 [00:04<00:05,  1.37it/s]"
          ]
        },
        {
          "name": "stdout",
          "output_type": "stream",
          "text": [
            "6\n"
          ]
        },
        {
          "name": "stderr",
          "output_type": "stream",
          "text": [
            "Saving predictions:  46%|████▌     | 6/13 [00:05<00:04,  1.43it/s]"
          ]
        },
        {
          "name": "stdout",
          "output_type": "stream",
          "text": [
            "7\n"
          ]
        },
        {
          "name": "stderr",
          "output_type": "stream",
          "text": [
            "Saving predictions:  54%|█████▍    | 7/13 [00:05<00:04,  1.46it/s]"
          ]
        },
        {
          "name": "stdout",
          "output_type": "stream",
          "text": [
            "8\n"
          ]
        },
        {
          "name": "stderr",
          "output_type": "stream",
          "text": [
            "Saving predictions:  62%|██████▏   | 8/13 [00:06<00:03,  1.50it/s]"
          ]
        },
        {
          "name": "stdout",
          "output_type": "stream",
          "text": [
            "9\n"
          ]
        },
        {
          "name": "stderr",
          "output_type": "stream",
          "text": [
            "Saving predictions:  69%|██████▉   | 9/13 [00:06<00:02,  1.52it/s]"
          ]
        },
        {
          "name": "stdout",
          "output_type": "stream",
          "text": [
            "10\n"
          ]
        },
        {
          "name": "stderr",
          "output_type": "stream",
          "text": [
            "Saving predictions:  77%|███████▋  | 10/13 [00:07<00:01,  1.55it/s]"
          ]
        },
        {
          "name": "stdout",
          "output_type": "stream",
          "text": [
            "11\n"
          ]
        },
        {
          "name": "stderr",
          "output_type": "stream",
          "text": [
            "Saving predictions:  85%|████████▍ | 11/13 [00:08<00:01,  1.56it/s]"
          ]
        },
        {
          "name": "stdout",
          "output_type": "stream",
          "text": [
            "12\n"
          ]
        },
        {
          "name": "stderr",
          "output_type": "stream",
          "text": [
            "Saving predictions:  92%|█████████▏| 12/13 [00:08<00:00,  1.58it/s]"
          ]
        },
        {
          "name": "stdout",
          "output_type": "stream",
          "text": [
            "13\n"
          ]
        },
        {
          "name": "stderr",
          "output_type": "stream",
          "text": [
            "Saving predictions: 100%|██████████| 13/13 [00:09<00:00,  1.37it/s]\n"
          ]
        },
        {
          "name": "stdout",
          "output_type": "stream",
          "text": [
            "epoch 5\n"
          ]
        },
        {
          "name": "stderr",
          "output_type": "stream",
          "text": [
            "100%|██████████| 63/63 [00:57<00:00,  1.09it/s, loss=0.672]\n"
          ]
        },
        {
          "name": "stdout",
          "output_type": "stream",
          "text": [
            "=> Saving checkpoint\n",
            "1\n",
            "2\n",
            "3\n",
            "4\n",
            "5\n",
            "6\n",
            "7\n",
            "8\n",
            "9\n",
            "10\n",
            "11\n",
            "12\n",
            "13\n",
            "Validation Loss: 0.8588\n",
            "Accuracy: 73.38\n",
            "Precision: 0.2093\n",
            "Recall: 0.8811\n",
            "F1 Score: 0.3379\n"
          ]
        },
        {
          "name": "stderr",
          "output_type": "stream",
          "text": [
            "Saving predictions:   0%|          | 0/13 [00:00<?, ?it/s]"
          ]
        },
        {
          "name": "stdout",
          "output_type": "stream",
          "text": [
            "1\n"
          ]
        },
        {
          "name": "stderr",
          "output_type": "stream",
          "text": [
            "Saving predictions:   8%|▊         | 1/13 [00:01<00:22,  1.88s/it]"
          ]
        },
        {
          "name": "stdout",
          "output_type": "stream",
          "text": [
            "2\n"
          ]
        },
        {
          "name": "stderr",
          "output_type": "stream",
          "text": [
            "Saving predictions:  15%|█▌        | 2/13 [00:02<00:12,  1.15s/it]"
          ]
        },
        {
          "name": "stdout",
          "output_type": "stream",
          "text": [
            "3\n"
          ]
        },
        {
          "name": "stderr",
          "output_type": "stream",
          "text": [
            "Saving predictions:  23%|██▎       | 3/13 [00:03<00:09,  1.10it/s]"
          ]
        },
        {
          "name": "stdout",
          "output_type": "stream",
          "text": [
            "4\n"
          ]
        },
        {
          "name": "stderr",
          "output_type": "stream",
          "text": [
            "Saving predictions:  31%|███       | 4/13 [00:03<00:07,  1.25it/s]"
          ]
        },
        {
          "name": "stdout",
          "output_type": "stream",
          "text": [
            "5\n"
          ]
        },
        {
          "name": "stderr",
          "output_type": "stream",
          "text": [
            "Saving predictions:  38%|███▊      | 5/13 [00:04<00:05,  1.37it/s]"
          ]
        },
        {
          "name": "stdout",
          "output_type": "stream",
          "text": [
            "6\n"
          ]
        },
        {
          "name": "stderr",
          "output_type": "stream",
          "text": [
            "Saving predictions:  46%|████▌     | 6/13 [00:05<00:04,  1.43it/s]"
          ]
        },
        {
          "name": "stdout",
          "output_type": "stream",
          "text": [
            "7\n"
          ]
        },
        {
          "name": "stderr",
          "output_type": "stream",
          "text": [
            "Saving predictions:  54%|█████▍    | 7/13 [00:05<00:04,  1.48it/s]"
          ]
        },
        {
          "name": "stdout",
          "output_type": "stream",
          "text": [
            "8\n"
          ]
        },
        {
          "name": "stderr",
          "output_type": "stream",
          "text": [
            "Saving predictions:  62%|██████▏   | 8/13 [00:06<00:03,  1.50it/s]"
          ]
        },
        {
          "name": "stdout",
          "output_type": "stream",
          "text": [
            "9\n"
          ]
        },
        {
          "name": "stderr",
          "output_type": "stream",
          "text": [
            "Saving predictions:  69%|██████▉   | 9/13 [00:06<00:02,  1.53it/s]"
          ]
        },
        {
          "name": "stdout",
          "output_type": "stream",
          "text": [
            "10\n"
          ]
        },
        {
          "name": "stderr",
          "output_type": "stream",
          "text": [
            "Saving predictions:  77%|███████▋  | 10/13 [00:07<00:01,  1.57it/s]"
          ]
        },
        {
          "name": "stdout",
          "output_type": "stream",
          "text": [
            "11\n"
          ]
        },
        {
          "name": "stderr",
          "output_type": "stream",
          "text": [
            "Saving predictions:  85%|████████▍ | 11/13 [00:08<00:01,  1.60it/s]"
          ]
        },
        {
          "name": "stdout",
          "output_type": "stream",
          "text": [
            "12\n"
          ]
        },
        {
          "name": "stderr",
          "output_type": "stream",
          "text": [
            "Saving predictions:  92%|█████████▏| 12/13 [00:08<00:00,  1.61it/s]"
          ]
        },
        {
          "name": "stdout",
          "output_type": "stream",
          "text": [
            "13\n"
          ]
        },
        {
          "name": "stderr",
          "output_type": "stream",
          "text": [
            "Saving predictions: 100%|██████████| 13/13 [00:09<00:00,  1.38it/s]\n"
          ]
        },
        {
          "name": "stdout",
          "output_type": "stream",
          "text": [
            "epoch 6\n"
          ]
        },
        {
          "name": "stderr",
          "output_type": "stream",
          "text": [
            "100%|██████████| 63/63 [00:57<00:00,  1.09it/s, loss=0.845]\n"
          ]
        },
        {
          "name": "stdout",
          "output_type": "stream",
          "text": [
            "=> Saving checkpoint\n",
            "1\n",
            "2\n",
            "3\n",
            "4\n",
            "5\n",
            "6\n",
            "7\n",
            "8\n",
            "9\n",
            "10\n",
            "11\n",
            "12\n",
            "13\n",
            "Validation Loss: 0.8569\n",
            "Accuracy: 67.83\n",
            "Precision: 0.1854\n",
            "Recall: 0.9350\n",
            "F1 Score: 0.3093\n"
          ]
        },
        {
          "name": "stderr",
          "output_type": "stream",
          "text": [
            "Saving predictions:   0%|          | 0/13 [00:00<?, ?it/s]"
          ]
        },
        {
          "name": "stdout",
          "output_type": "stream",
          "text": [
            "1\n"
          ]
        },
        {
          "name": "stderr",
          "output_type": "stream",
          "text": [
            "Saving predictions:   8%|▊         | 1/13 [00:01<00:22,  1.90s/it]"
          ]
        },
        {
          "name": "stdout",
          "output_type": "stream",
          "text": [
            "2\n"
          ]
        },
        {
          "name": "stderr",
          "output_type": "stream",
          "text": [
            "Saving predictions:  15%|█▌        | 2/13 [00:02<00:12,  1.17s/it]"
          ]
        },
        {
          "name": "stdout",
          "output_type": "stream",
          "text": [
            "3\n"
          ]
        },
        {
          "name": "stderr",
          "output_type": "stream",
          "text": [
            "Saving predictions:  23%|██▎       | 3/13 [00:03<00:09,  1.09it/s]"
          ]
        },
        {
          "name": "stdout",
          "output_type": "stream",
          "text": [
            "4\n"
          ]
        },
        {
          "name": "stderr",
          "output_type": "stream",
          "text": [
            "Saving predictions:  31%|███       | 4/13 [00:03<00:07,  1.24it/s]"
          ]
        },
        {
          "name": "stdout",
          "output_type": "stream",
          "text": [
            "5\n"
          ]
        },
        {
          "name": "stderr",
          "output_type": "stream",
          "text": [
            "Saving predictions:  38%|███▊      | 5/13 [00:04<00:05,  1.35it/s]"
          ]
        },
        {
          "name": "stdout",
          "output_type": "stream",
          "text": [
            "6\n"
          ]
        },
        {
          "name": "stderr",
          "output_type": "stream",
          "text": [
            "Saving predictions:  46%|████▌     | 6/13 [00:05<00:04,  1.41it/s]"
          ]
        },
        {
          "name": "stdout",
          "output_type": "stream",
          "text": [
            "7\n"
          ]
        },
        {
          "name": "stderr",
          "output_type": "stream",
          "text": [
            "Saving predictions:  54%|█████▍    | 7/13 [00:05<00:04,  1.44it/s]"
          ]
        },
        {
          "name": "stdout",
          "output_type": "stream",
          "text": [
            "8\n"
          ]
        },
        {
          "name": "stderr",
          "output_type": "stream",
          "text": [
            "Saving predictions:  62%|██████▏   | 8/13 [00:06<00:03,  1.46it/s]"
          ]
        },
        {
          "name": "stdout",
          "output_type": "stream",
          "text": [
            "9\n"
          ]
        },
        {
          "name": "stderr",
          "output_type": "stream",
          "text": [
            "Saving predictions:  69%|██████▉   | 9/13 [00:07<00:02,  1.50it/s]"
          ]
        },
        {
          "name": "stdout",
          "output_type": "stream",
          "text": [
            "10\n"
          ]
        },
        {
          "name": "stderr",
          "output_type": "stream",
          "text": [
            "Saving predictions:  77%|███████▋  | 10/13 [00:07<00:01,  1.53it/s]"
          ]
        },
        {
          "name": "stdout",
          "output_type": "stream",
          "text": [
            "11\n"
          ]
        },
        {
          "name": "stderr",
          "output_type": "stream",
          "text": [
            "Saving predictions:  85%|████████▍ | 11/13 [00:08<00:01,  1.55it/s]"
          ]
        },
        {
          "name": "stdout",
          "output_type": "stream",
          "text": [
            "12\n"
          ]
        },
        {
          "name": "stderr",
          "output_type": "stream",
          "text": [
            "Saving predictions:  92%|█████████▏| 12/13 [00:08<00:00,  1.56it/s]"
          ]
        },
        {
          "name": "stdout",
          "output_type": "stream",
          "text": [
            "13\n"
          ]
        },
        {
          "name": "stderr",
          "output_type": "stream",
          "text": [
            "Saving predictions: 100%|██████████| 13/13 [00:09<00:00,  1.35it/s]\n"
          ]
        },
        {
          "name": "stdout",
          "output_type": "stream",
          "text": [
            "epoch 7\n"
          ]
        },
        {
          "name": "stderr",
          "output_type": "stream",
          "text": [
            "100%|██████████| 63/63 [01:00<00:00,  1.04it/s, loss=0.731]\n"
          ]
        },
        {
          "name": "stdout",
          "output_type": "stream",
          "text": [
            "=> Saving checkpoint\n",
            "1\n",
            "2\n",
            "3\n",
            "4\n",
            "5\n",
            "6\n",
            "7\n",
            "8\n",
            "9\n",
            "10\n",
            "11\n",
            "12\n",
            "13\n",
            "Validation Loss: 0.8768\n",
            "Accuracy: 72.84\n",
            "Precision: 0.2053\n",
            "Recall: 0.8713\n",
            "F1 Score: 0.3318\n"
          ]
        },
        {
          "name": "stderr",
          "output_type": "stream",
          "text": [
            "Saving predictions:   0%|          | 0/13 [00:00<?, ?it/s]"
          ]
        },
        {
          "name": "stdout",
          "output_type": "stream",
          "text": [
            "1\n"
          ]
        },
        {
          "name": "stderr",
          "output_type": "stream",
          "text": [
            "Saving predictions:   8%|▊         | 1/13 [00:02<00:24,  2.01s/it]"
          ]
        },
        {
          "name": "stdout",
          "output_type": "stream",
          "text": [
            "2\n"
          ]
        },
        {
          "name": "stderr",
          "output_type": "stream",
          "text": [
            "Saving predictions:  15%|█▌        | 2/13 [00:02<00:13,  1.20s/it]"
          ]
        },
        {
          "name": "stdout",
          "output_type": "stream",
          "text": [
            "3\n"
          ]
        },
        {
          "name": "stderr",
          "output_type": "stream",
          "text": [
            "Saving predictions:  23%|██▎       | 3/13 [00:03<00:09,  1.08it/s]"
          ]
        },
        {
          "name": "stdout",
          "output_type": "stream",
          "text": [
            "4\n"
          ]
        },
        {
          "name": "stderr",
          "output_type": "stream",
          "text": [
            "Saving predictions:  31%|███       | 4/13 [00:03<00:07,  1.24it/s]"
          ]
        },
        {
          "name": "stdout",
          "output_type": "stream",
          "text": [
            "5\n"
          ]
        },
        {
          "name": "stderr",
          "output_type": "stream",
          "text": [
            "Saving predictions:  38%|███▊      | 5/13 [00:04<00:05,  1.36it/s]"
          ]
        },
        {
          "name": "stdout",
          "output_type": "stream",
          "text": [
            "6\n"
          ]
        },
        {
          "name": "stderr",
          "output_type": "stream",
          "text": [
            "Saving predictions:  46%|████▌     | 6/13 [00:05<00:04,  1.43it/s]"
          ]
        },
        {
          "name": "stdout",
          "output_type": "stream",
          "text": [
            "7\n"
          ]
        },
        {
          "name": "stderr",
          "output_type": "stream",
          "text": [
            "Saving predictions:  54%|█████▍    | 7/13 [00:05<00:04,  1.47it/s]"
          ]
        },
        {
          "name": "stdout",
          "output_type": "stream",
          "text": [
            "8\n"
          ]
        },
        {
          "name": "stderr",
          "output_type": "stream",
          "text": [
            "Saving predictions:  62%|██████▏   | 8/13 [00:06<00:03,  1.50it/s]"
          ]
        },
        {
          "name": "stdout",
          "output_type": "stream",
          "text": [
            "9\n"
          ]
        },
        {
          "name": "stderr",
          "output_type": "stream",
          "text": [
            "Saving predictions:  69%|██████▉   | 9/13 [00:07<00:02,  1.53it/s]"
          ]
        },
        {
          "name": "stdout",
          "output_type": "stream",
          "text": [
            "10\n"
          ]
        },
        {
          "name": "stderr",
          "output_type": "stream",
          "text": [
            "Saving predictions:  77%|███████▋  | 10/13 [00:07<00:01,  1.57it/s]"
          ]
        },
        {
          "name": "stdout",
          "output_type": "stream",
          "text": [
            "11\n"
          ]
        },
        {
          "name": "stderr",
          "output_type": "stream",
          "text": [
            "Saving predictions:  85%|████████▍ | 11/13 [00:08<00:01,  1.59it/s]"
          ]
        },
        {
          "name": "stdout",
          "output_type": "stream",
          "text": [
            "12\n"
          ]
        },
        {
          "name": "stderr",
          "output_type": "stream",
          "text": [
            "Saving predictions:  92%|█████████▏| 12/13 [00:08<00:00,  1.60it/s]"
          ]
        },
        {
          "name": "stdout",
          "output_type": "stream",
          "text": [
            "13\n"
          ]
        },
        {
          "name": "stderr",
          "output_type": "stream",
          "text": [
            "Saving predictions: 100%|██████████| 13/13 [00:09<00:00,  1.37it/s]\n"
          ]
        },
        {
          "name": "stdout",
          "output_type": "stream",
          "text": [
            "epoch 8\n"
          ]
        },
        {
          "name": "stderr",
          "output_type": "stream",
          "text": [
            "100%|██████████| 63/63 [00:58<00:00,  1.08it/s, loss=0.756]\n"
          ]
        },
        {
          "name": "stdout",
          "output_type": "stream",
          "text": [
            "=> Saving checkpoint\n",
            "1\n",
            "2\n",
            "3\n",
            "4\n",
            "5\n",
            "6\n",
            "7\n",
            "8\n",
            "9\n",
            "10\n",
            "11\n",
            "12\n",
            "13\n",
            "Validation Loss: 0.8276\n",
            "Accuracy: 80.07\n",
            "Precision: 0.2547\n",
            "Recall: 0.8174\n",
            "F1 Score: 0.3878\n"
          ]
        },
        {
          "name": "stderr",
          "output_type": "stream",
          "text": [
            "Saving predictions:   0%|          | 0/13 [00:00<?, ?it/s]"
          ]
        },
        {
          "name": "stdout",
          "output_type": "stream",
          "text": [
            "1\n"
          ]
        },
        {
          "name": "stderr",
          "output_type": "stream",
          "text": [
            "Saving predictions:   8%|▊         | 1/13 [00:01<00:22,  1.85s/it]"
          ]
        },
        {
          "name": "stdout",
          "output_type": "stream",
          "text": [
            "2\n"
          ]
        },
        {
          "name": "stderr",
          "output_type": "stream",
          "text": [
            "Saving predictions:  15%|█▌        | 2/13 [00:02<00:12,  1.14s/it]"
          ]
        },
        {
          "name": "stdout",
          "output_type": "stream",
          "text": [
            "3\n"
          ]
        },
        {
          "name": "stderr",
          "output_type": "stream",
          "text": [
            "Saving predictions:  23%|██▎       | 3/13 [00:03<00:08,  1.11it/s]"
          ]
        },
        {
          "name": "stdout",
          "output_type": "stream",
          "text": [
            "4\n"
          ]
        },
        {
          "name": "stderr",
          "output_type": "stream",
          "text": [
            "Saving predictions:  31%|███       | 4/13 [00:03<00:07,  1.27it/s]"
          ]
        },
        {
          "name": "stdout",
          "output_type": "stream",
          "text": [
            "5\n"
          ]
        },
        {
          "name": "stderr",
          "output_type": "stream",
          "text": [
            "Saving predictions:  38%|███▊      | 5/13 [00:04<00:05,  1.37it/s]"
          ]
        },
        {
          "name": "stdout",
          "output_type": "stream",
          "text": [
            "6\n"
          ]
        },
        {
          "name": "stderr",
          "output_type": "stream",
          "text": [
            "Saving predictions:  46%|████▌     | 6/13 [00:04<00:04,  1.44it/s]"
          ]
        },
        {
          "name": "stdout",
          "output_type": "stream",
          "text": [
            "7\n"
          ]
        },
        {
          "name": "stderr",
          "output_type": "stream",
          "text": [
            "Saving predictions:  54%|█████▍    | 7/13 [00:05<00:04,  1.48it/s]"
          ]
        },
        {
          "name": "stdout",
          "output_type": "stream",
          "text": [
            "8\n"
          ]
        },
        {
          "name": "stderr",
          "output_type": "stream",
          "text": [
            "Saving predictions:  62%|██████▏   | 8/13 [00:06<00:03,  1.50it/s]"
          ]
        },
        {
          "name": "stdout",
          "output_type": "stream",
          "text": [
            "9\n"
          ]
        },
        {
          "name": "stderr",
          "output_type": "stream",
          "text": [
            "Saving predictions:  69%|██████▉   | 9/13 [00:06<00:02,  1.53it/s]"
          ]
        },
        {
          "name": "stdout",
          "output_type": "stream",
          "text": [
            "10\n"
          ]
        },
        {
          "name": "stderr",
          "output_type": "stream",
          "text": [
            "Saving predictions:  77%|███████▋  | 10/13 [00:07<00:01,  1.56it/s]"
          ]
        },
        {
          "name": "stdout",
          "output_type": "stream",
          "text": [
            "11\n"
          ]
        },
        {
          "name": "stderr",
          "output_type": "stream",
          "text": [
            "Saving predictions:  85%|████████▍ | 11/13 [00:08<00:01,  1.58it/s]"
          ]
        },
        {
          "name": "stdout",
          "output_type": "stream",
          "text": [
            "12\n"
          ]
        },
        {
          "name": "stderr",
          "output_type": "stream",
          "text": [
            "Saving predictions:  92%|█████████▏| 12/13 [00:08<00:00,  1.59it/s]"
          ]
        },
        {
          "name": "stdout",
          "output_type": "stream",
          "text": [
            "13\n"
          ]
        },
        {
          "name": "stderr",
          "output_type": "stream",
          "text": [
            "Saving predictions: 100%|██████████| 13/13 [00:09<00:00,  1.38it/s]\n"
          ]
        },
        {
          "name": "stdout",
          "output_type": "stream",
          "text": [
            "epoch 9\n"
          ]
        },
        {
          "name": "stderr",
          "output_type": "stream",
          "text": [
            "100%|██████████| 63/63 [00:58<00:00,  1.08it/s, loss=0.653]\n"
          ]
        },
        {
          "name": "stdout",
          "output_type": "stream",
          "text": [
            "=> Saving checkpoint\n",
            "1\n",
            "2\n",
            "3\n",
            "4\n",
            "5\n",
            "6\n",
            "7\n",
            "8\n",
            "9\n",
            "10\n",
            "11\n",
            "12\n",
            "13\n",
            "Validation Loss: 0.8309\n",
            "Accuracy: 81.13\n",
            "Precision: 0.2638\n",
            "Recall: 0.8077\n",
            "F1 Score: 0.3972\n",
            "=> Saving checkpoint\n",
            "New best F1 score: 0.3972\n"
          ]
        },
        {
          "name": "stderr",
          "output_type": "stream",
          "text": [
            "Saving predictions:   0%|          | 0/13 [00:00<?, ?it/s]"
          ]
        },
        {
          "name": "stdout",
          "output_type": "stream",
          "text": [
            "1\n"
          ]
        },
        {
          "name": "stderr",
          "output_type": "stream",
          "text": [
            "Saving predictions:   8%|▊         | 1/13 [00:01<00:23,  1.92s/it]"
          ]
        },
        {
          "name": "stdout",
          "output_type": "stream",
          "text": [
            "2\n"
          ]
        },
        {
          "name": "stderr",
          "output_type": "stream",
          "text": [
            "Saving predictions:  15%|█▌        | 2/13 [00:02<00:12,  1.17s/it]"
          ]
        },
        {
          "name": "stdout",
          "output_type": "stream",
          "text": [
            "3\n"
          ]
        },
        {
          "name": "stderr",
          "output_type": "stream",
          "text": [
            "Saving predictions:  23%|██▎       | 3/13 [00:03<00:09,  1.09it/s]"
          ]
        },
        {
          "name": "stdout",
          "output_type": "stream",
          "text": [
            "4\n"
          ]
        },
        {
          "name": "stderr",
          "output_type": "stream",
          "text": [
            "Saving predictions:  31%|███       | 4/13 [00:03<00:07,  1.25it/s]"
          ]
        },
        {
          "name": "stdout",
          "output_type": "stream",
          "text": [
            "5\n"
          ]
        },
        {
          "name": "stderr",
          "output_type": "stream",
          "text": [
            "Saving predictions:  38%|███▊      | 5/13 [00:04<00:05,  1.36it/s]"
          ]
        },
        {
          "name": "stdout",
          "output_type": "stream",
          "text": [
            "6\n"
          ]
        },
        {
          "name": "stderr",
          "output_type": "stream",
          "text": [
            "Saving predictions:  46%|████▌     | 6/13 [00:05<00:04,  1.43it/s]"
          ]
        },
        {
          "name": "stdout",
          "output_type": "stream",
          "text": [
            "7\n"
          ]
        },
        {
          "name": "stderr",
          "output_type": "stream",
          "text": [
            "Saving predictions:  54%|█████▍    | 7/13 [00:05<00:04,  1.47it/s]"
          ]
        },
        {
          "name": "stdout",
          "output_type": "stream",
          "text": [
            "8\n"
          ]
        },
        {
          "name": "stderr",
          "output_type": "stream",
          "text": [
            "Saving predictions:  62%|██████▏   | 8/13 [00:06<00:03,  1.50it/s]"
          ]
        },
        {
          "name": "stdout",
          "output_type": "stream",
          "text": [
            "9\n"
          ]
        },
        {
          "name": "stderr",
          "output_type": "stream",
          "text": [
            "Saving predictions:  69%|██████▉   | 9/13 [00:06<00:02,  1.53it/s]"
          ]
        },
        {
          "name": "stdout",
          "output_type": "stream",
          "text": [
            "10\n"
          ]
        },
        {
          "name": "stderr",
          "output_type": "stream",
          "text": [
            "Saving predictions:  77%|███████▋  | 10/13 [00:07<00:01,  1.56it/s]"
          ]
        },
        {
          "name": "stdout",
          "output_type": "stream",
          "text": [
            "11\n"
          ]
        },
        {
          "name": "stderr",
          "output_type": "stream",
          "text": [
            "Saving predictions:  85%|████████▍ | 11/13 [00:08<00:01,  1.57it/s]"
          ]
        },
        {
          "name": "stdout",
          "output_type": "stream",
          "text": [
            "12\n"
          ]
        },
        {
          "name": "stderr",
          "output_type": "stream",
          "text": [
            "Saving predictions:  92%|█████████▏| 12/13 [00:08<00:00,  1.59it/s]"
          ]
        },
        {
          "name": "stdout",
          "output_type": "stream",
          "text": [
            "13\n"
          ]
        },
        {
          "name": "stderr",
          "output_type": "stream",
          "text": [
            "Saving predictions: 100%|██████████| 13/13 [00:09<00:00,  1.37it/s]\n"
          ]
        },
        {
          "name": "stdout",
          "output_type": "stream",
          "text": [
            "epoch 10\n"
          ]
        },
        {
          "name": "stderr",
          "output_type": "stream",
          "text": [
            "100%|██████████| 63/63 [00:58<00:00,  1.07it/s, loss=0.576]\n"
          ]
        },
        {
          "name": "stdout",
          "output_type": "stream",
          "text": [
            "=> Saving checkpoint\n",
            "1\n",
            "2\n",
            "3\n",
            "4\n",
            "5\n",
            "6\n",
            "7\n",
            "8\n",
            "9\n",
            "10\n",
            "11\n",
            "12\n",
            "13\n",
            "Validation Loss: 0.8101\n",
            "Accuracy: 80.68\n",
            "Precision: 0.2603\n",
            "Recall: 0.8165\n",
            "F1 Score: 0.3944\n"
          ]
        },
        {
          "name": "stderr",
          "output_type": "stream",
          "text": [
            "Saving predictions:   0%|          | 0/13 [00:00<?, ?it/s]"
          ]
        },
        {
          "name": "stdout",
          "output_type": "stream",
          "text": [
            "1\n"
          ]
        },
        {
          "name": "stderr",
          "output_type": "stream",
          "text": [
            "Saving predictions:   8%|▊         | 1/13 [00:01<00:23,  1.95s/it]"
          ]
        },
        {
          "name": "stdout",
          "output_type": "stream",
          "text": [
            "2\n"
          ]
        },
        {
          "name": "stderr",
          "output_type": "stream",
          "text": [
            "Saving predictions:  15%|█▌        | 2/13 [00:02<00:12,  1.18s/it]"
          ]
        },
        {
          "name": "stdout",
          "output_type": "stream",
          "text": [
            "3\n"
          ]
        },
        {
          "name": "stderr",
          "output_type": "stream",
          "text": [
            "Saving predictions:  23%|██▎       | 3/13 [00:03<00:09,  1.08it/s]"
          ]
        },
        {
          "name": "stdout",
          "output_type": "stream",
          "text": [
            "4\n"
          ]
        },
        {
          "name": "stderr",
          "output_type": "stream",
          "text": [
            "Saving predictions:  31%|███       | 4/13 [00:03<00:07,  1.24it/s]"
          ]
        },
        {
          "name": "stdout",
          "output_type": "stream",
          "text": [
            "5\n"
          ]
        },
        {
          "name": "stderr",
          "output_type": "stream",
          "text": [
            "Saving predictions:  38%|███▊      | 5/13 [00:04<00:05,  1.35it/s]"
          ]
        },
        {
          "name": "stdout",
          "output_type": "stream",
          "text": [
            "6\n"
          ]
        },
        {
          "name": "stderr",
          "output_type": "stream",
          "text": [
            "Saving predictions:  46%|████▌     | 6/13 [00:05<00:04,  1.43it/s]"
          ]
        },
        {
          "name": "stdout",
          "output_type": "stream",
          "text": [
            "7\n"
          ]
        },
        {
          "name": "stderr",
          "output_type": "stream",
          "text": [
            "Saving predictions:  54%|█████▍    | 7/13 [00:05<00:04,  1.46it/s]"
          ]
        },
        {
          "name": "stdout",
          "output_type": "stream",
          "text": [
            "8\n"
          ]
        },
        {
          "name": "stderr",
          "output_type": "stream",
          "text": [
            "Saving predictions:  62%|██████▏   | 8/13 [00:06<00:03,  1.49it/s]"
          ]
        },
        {
          "name": "stdout",
          "output_type": "stream",
          "text": [
            "9\n"
          ]
        },
        {
          "name": "stderr",
          "output_type": "stream",
          "text": [
            "Saving predictions:  69%|██████▉   | 9/13 [00:07<00:02,  1.52it/s]"
          ]
        },
        {
          "name": "stdout",
          "output_type": "stream",
          "text": [
            "10\n"
          ]
        },
        {
          "name": "stderr",
          "output_type": "stream",
          "text": [
            "Saving predictions:  77%|███████▋  | 10/13 [00:07<00:01,  1.54it/s]"
          ]
        },
        {
          "name": "stdout",
          "output_type": "stream",
          "text": [
            "11\n"
          ]
        },
        {
          "name": "stderr",
          "output_type": "stream",
          "text": [
            "Saving predictions:  85%|████████▍ | 11/13 [00:08<00:01,  1.55it/s]"
          ]
        },
        {
          "name": "stdout",
          "output_type": "stream",
          "text": [
            "12\n"
          ]
        },
        {
          "name": "stderr",
          "output_type": "stream",
          "text": [
            "Saving predictions:  92%|█████████▏| 12/13 [00:08<00:00,  1.56it/s]"
          ]
        },
        {
          "name": "stdout",
          "output_type": "stream",
          "text": [
            "13\n"
          ]
        },
        {
          "name": "stderr",
          "output_type": "stream",
          "text": [
            "Saving predictions: 100%|██████████| 13/13 [00:09<00:00,  1.36it/s]\n"
          ]
        },
        {
          "name": "stdout",
          "output_type": "stream",
          "text": [
            "epoch 11\n"
          ]
        },
        {
          "name": "stderr",
          "output_type": "stream",
          "text": [
            "100%|██████████| 63/63 [00:58<00:00,  1.08it/s, loss=0.469]\n"
          ]
        },
        {
          "name": "stdout",
          "output_type": "stream",
          "text": [
            "=> Saving checkpoint\n",
            "1\n",
            "2\n",
            "3\n",
            "4\n",
            "5\n",
            "6\n",
            "7\n",
            "8\n",
            "9\n",
            "10\n",
            "11\n",
            "12\n",
            "13\n",
            "Validation Loss: 0.7924\n",
            "Accuracy: 81.10\n",
            "Precision: 0.2664\n",
            "Recall: 0.8232\n",
            "F1 Score: 0.4020\n",
            "=> Saving checkpoint\n",
            "New best F1 score: 0.4020\n"
          ]
        },
        {
          "name": "stderr",
          "output_type": "stream",
          "text": [
            "Saving predictions:   0%|          | 0/13 [00:00<?, ?it/s]"
          ]
        },
        {
          "name": "stdout",
          "output_type": "stream",
          "text": [
            "1\n"
          ]
        },
        {
          "name": "stderr",
          "output_type": "stream",
          "text": [
            "Saving predictions:   8%|▊         | 1/13 [00:02<00:24,  2.06s/it]"
          ]
        },
        {
          "name": "stdout",
          "output_type": "stream",
          "text": [
            "2\n"
          ]
        },
        {
          "name": "stderr",
          "output_type": "stream",
          "text": [
            "Saving predictions:  15%|█▌        | 2/13 [00:02<00:13,  1.23s/it]"
          ]
        },
        {
          "name": "stdout",
          "output_type": "stream",
          "text": [
            "3\n"
          ]
        },
        {
          "name": "stderr",
          "output_type": "stream",
          "text": [
            "Saving predictions:  23%|██▎       | 3/13 [00:03<00:09,  1.05it/s]"
          ]
        },
        {
          "name": "stdout",
          "output_type": "stream",
          "text": [
            "4\n"
          ]
        },
        {
          "name": "stderr",
          "output_type": "stream",
          "text": [
            "Saving predictions:  31%|███       | 4/13 [00:03<00:07,  1.21it/s]"
          ]
        },
        {
          "name": "stdout",
          "output_type": "stream",
          "text": [
            "5\n"
          ]
        },
        {
          "name": "stderr",
          "output_type": "stream",
          "text": [
            "Saving predictions:  38%|███▊      | 5/13 [00:04<00:06,  1.33it/s]"
          ]
        },
        {
          "name": "stdout",
          "output_type": "stream",
          "text": [
            "6\n"
          ]
        },
        {
          "name": "stderr",
          "output_type": "stream",
          "text": [
            "Saving predictions:  46%|████▌     | 6/13 [00:05<00:04,  1.40it/s]"
          ]
        },
        {
          "name": "stdout",
          "output_type": "stream",
          "text": [
            "7\n"
          ]
        },
        {
          "name": "stderr",
          "output_type": "stream",
          "text": [
            "Saving predictions:  54%|█████▍    | 7/13 [00:05<00:04,  1.45it/s]"
          ]
        },
        {
          "name": "stdout",
          "output_type": "stream",
          "text": [
            "8\n"
          ]
        },
        {
          "name": "stderr",
          "output_type": "stream",
          "text": [
            "Saving predictions:  62%|██████▏   | 8/13 [00:06<00:03,  1.48it/s]"
          ]
        },
        {
          "name": "stdout",
          "output_type": "stream",
          "text": [
            "9\n"
          ]
        },
        {
          "name": "stderr",
          "output_type": "stream",
          "text": [
            "Saving predictions:  69%|██████▉   | 9/13 [00:07<00:02,  1.52it/s]"
          ]
        },
        {
          "name": "stdout",
          "output_type": "stream",
          "text": [
            "10\n"
          ]
        },
        {
          "name": "stderr",
          "output_type": "stream",
          "text": [
            "Saving predictions:  77%|███████▋  | 10/13 [00:07<00:01,  1.55it/s]"
          ]
        },
        {
          "name": "stdout",
          "output_type": "stream",
          "text": [
            "11\n"
          ]
        },
        {
          "name": "stderr",
          "output_type": "stream",
          "text": [
            "Saving predictions:  85%|████████▍ | 11/13 [00:08<00:01,  1.56it/s]"
          ]
        },
        {
          "name": "stdout",
          "output_type": "stream",
          "text": [
            "12\n"
          ]
        },
        {
          "name": "stderr",
          "output_type": "stream",
          "text": [
            "Saving predictions:  92%|█████████▏| 12/13 [00:09<00:00,  1.57it/s]"
          ]
        },
        {
          "name": "stdout",
          "output_type": "stream",
          "text": [
            "13\n"
          ]
        },
        {
          "name": "stderr",
          "output_type": "stream",
          "text": [
            "Saving predictions: 100%|██████████| 13/13 [00:09<00:00,  1.35it/s]\n"
          ]
        },
        {
          "name": "stdout",
          "output_type": "stream",
          "text": [
            "epoch 12\n"
          ]
        },
        {
          "name": "stderr",
          "output_type": "stream",
          "text": [
            "100%|██████████| 63/63 [00:58<00:00,  1.08it/s, loss=0.799]\n"
          ]
        },
        {
          "name": "stdout",
          "output_type": "stream",
          "text": [
            "=> Saving checkpoint\n",
            "1\n",
            "2\n",
            "3\n",
            "4\n",
            "5\n",
            "6\n",
            "7\n",
            "8\n",
            "9\n",
            "10\n",
            "11\n",
            "12\n",
            "13\n",
            "Validation Loss: 0.7607\n",
            "Accuracy: 79.44\n",
            "Precision: 0.2528\n",
            "Recall: 0.8518\n",
            "F1 Score: 0.3896\n"
          ]
        },
        {
          "name": "stderr",
          "output_type": "stream",
          "text": [
            "Saving predictions:   0%|          | 0/13 [00:00<?, ?it/s]"
          ]
        },
        {
          "name": "stdout",
          "output_type": "stream",
          "text": [
            "1\n"
          ]
        },
        {
          "name": "stderr",
          "output_type": "stream",
          "text": [
            "Saving predictions:   8%|▊         | 1/13 [00:01<00:23,  1.95s/it]"
          ]
        },
        {
          "name": "stdout",
          "output_type": "stream",
          "text": [
            "2\n"
          ]
        },
        {
          "name": "stderr",
          "output_type": "stream",
          "text": [
            "Saving predictions:  15%|█▌        | 2/13 [00:02<00:13,  1.19s/it]"
          ]
        },
        {
          "name": "stdout",
          "output_type": "stream",
          "text": [
            "3\n"
          ]
        },
        {
          "name": "stderr",
          "output_type": "stream",
          "text": [
            "Saving predictions:  23%|██▎       | 3/13 [00:03<00:09,  1.06it/s]"
          ]
        },
        {
          "name": "stdout",
          "output_type": "stream",
          "text": [
            "4\n"
          ]
        },
        {
          "name": "stderr",
          "output_type": "stream",
          "text": [
            "Saving predictions:  31%|███       | 4/13 [00:03<00:07,  1.21it/s]"
          ]
        },
        {
          "name": "stdout",
          "output_type": "stream",
          "text": [
            "5\n"
          ]
        },
        {
          "name": "stderr",
          "output_type": "stream",
          "text": [
            "Saving predictions:  38%|███▊      | 5/13 [00:04<00:06,  1.31it/s]"
          ]
        },
        {
          "name": "stdout",
          "output_type": "stream",
          "text": [
            "6\n"
          ]
        },
        {
          "name": "stderr",
          "output_type": "stream",
          "text": [
            "Saving predictions:  46%|████▌     | 6/13 [00:05<00:05,  1.39it/s]"
          ]
        },
        {
          "name": "stdout",
          "output_type": "stream",
          "text": [
            "7\n"
          ]
        },
        {
          "name": "stderr",
          "output_type": "stream",
          "text": [
            "Saving predictions:  54%|█████▍    | 7/13 [00:05<00:04,  1.43it/s]"
          ]
        },
        {
          "name": "stdout",
          "output_type": "stream",
          "text": [
            "8\n"
          ]
        },
        {
          "name": "stderr",
          "output_type": "stream",
          "text": [
            "Saving predictions:  62%|██████▏   | 8/13 [00:06<00:03,  1.45it/s]"
          ]
        },
        {
          "name": "stdout",
          "output_type": "stream",
          "text": [
            "9\n"
          ]
        },
        {
          "name": "stderr",
          "output_type": "stream",
          "text": [
            "Saving predictions:  69%|██████▉   | 9/13 [00:07<00:02,  1.48it/s]"
          ]
        },
        {
          "name": "stdout",
          "output_type": "stream",
          "text": [
            "10\n"
          ]
        },
        {
          "name": "stderr",
          "output_type": "stream",
          "text": [
            "Saving predictions:  77%|███████▋  | 10/13 [00:07<00:01,  1.51it/s]"
          ]
        },
        {
          "name": "stdout",
          "output_type": "stream",
          "text": [
            "11\n"
          ]
        },
        {
          "name": "stderr",
          "output_type": "stream",
          "text": [
            "Saving predictions:  85%|████████▍ | 11/13 [00:08<00:01,  1.52it/s]"
          ]
        },
        {
          "name": "stdout",
          "output_type": "stream",
          "text": [
            "12\n"
          ]
        },
        {
          "name": "stderr",
          "output_type": "stream",
          "text": [
            "Saving predictions:  92%|█████████▏| 12/13 [00:09<00:00,  1.53it/s]"
          ]
        },
        {
          "name": "stdout",
          "output_type": "stream",
          "text": [
            "13\n"
          ]
        },
        {
          "name": "stderr",
          "output_type": "stream",
          "text": [
            "Saving predictions: 100%|██████████| 13/13 [00:09<00:00,  1.33it/s]\n"
          ]
        },
        {
          "name": "stdout",
          "output_type": "stream",
          "text": [
            "epoch 13\n"
          ]
        },
        {
          "name": "stderr",
          "output_type": "stream",
          "text": [
            "100%|██████████| 63/63 [00:59<00:00,  1.05it/s, loss=0.546]\n"
          ]
        },
        {
          "name": "stdout",
          "output_type": "stream",
          "text": [
            "=> Saving checkpoint\n",
            "1\n",
            "2\n",
            "3\n",
            "4\n",
            "5\n",
            "6\n",
            "7\n",
            "8\n",
            "9\n",
            "10\n",
            "11\n",
            "12\n",
            "13\n",
            "Validation Loss: 0.9589\n",
            "Accuracy: 85.86\n",
            "Precision: 0.3154\n",
            "Recall: 0.7090\n",
            "F1 Score: 0.4358\n",
            "=> Saving checkpoint\n",
            "New best F1 score: 0.4358\n"
          ]
        },
        {
          "name": "stderr",
          "output_type": "stream",
          "text": [
            "Saving predictions:   0%|          | 0/13 [00:00<?, ?it/s]"
          ]
        },
        {
          "name": "stdout",
          "output_type": "stream",
          "text": [
            "1\n"
          ]
        },
        {
          "name": "stderr",
          "output_type": "stream",
          "text": [
            "Saving predictions:   8%|▊         | 1/13 [00:01<00:22,  1.90s/it]"
          ]
        },
        {
          "name": "stdout",
          "output_type": "stream",
          "text": [
            "2\n"
          ]
        },
        {
          "name": "stderr",
          "output_type": "stream",
          "text": [
            "Saving predictions:  15%|█▌        | 2/13 [00:02<00:12,  1.17s/it]"
          ]
        },
        {
          "name": "stdout",
          "output_type": "stream",
          "text": [
            "3\n"
          ]
        },
        {
          "name": "stderr",
          "output_type": "stream",
          "text": [
            "Saving predictions:  23%|██▎       | 3/13 [00:03<00:09,  1.09it/s]"
          ]
        },
        {
          "name": "stdout",
          "output_type": "stream",
          "text": [
            "4\n"
          ]
        },
        {
          "name": "stderr",
          "output_type": "stream",
          "text": [
            "Saving predictions:  31%|███       | 4/13 [00:03<00:07,  1.24it/s]"
          ]
        },
        {
          "name": "stdout",
          "output_type": "stream",
          "text": [
            "5\n"
          ]
        },
        {
          "name": "stderr",
          "output_type": "stream",
          "text": [
            "Saving predictions:  38%|███▊      | 5/13 [00:04<00:05,  1.35it/s]"
          ]
        },
        {
          "name": "stdout",
          "output_type": "stream",
          "text": [
            "6\n"
          ]
        },
        {
          "name": "stderr",
          "output_type": "stream",
          "text": [
            "Saving predictions:  46%|████▌     | 6/13 [00:05<00:04,  1.42it/s]"
          ]
        },
        {
          "name": "stdout",
          "output_type": "stream",
          "text": [
            "7\n"
          ]
        },
        {
          "name": "stderr",
          "output_type": "stream",
          "text": [
            "Saving predictions:  54%|█████▍    | 7/13 [00:05<00:04,  1.46it/s]"
          ]
        },
        {
          "name": "stdout",
          "output_type": "stream",
          "text": [
            "8\n"
          ]
        },
        {
          "name": "stderr",
          "output_type": "stream",
          "text": [
            "Saving predictions:  62%|██████▏   | 8/13 [00:06<00:03,  1.47it/s]"
          ]
        },
        {
          "name": "stdout",
          "output_type": "stream",
          "text": [
            "9\n"
          ]
        },
        {
          "name": "stderr",
          "output_type": "stream",
          "text": [
            "Saving predictions:  69%|██████▉   | 9/13 [00:07<00:02,  1.51it/s]"
          ]
        },
        {
          "name": "stdout",
          "output_type": "stream",
          "text": [
            "10\n"
          ]
        },
        {
          "name": "stderr",
          "output_type": "stream",
          "text": [
            "Saving predictions:  77%|███████▋  | 10/13 [00:07<00:01,  1.55it/s]"
          ]
        },
        {
          "name": "stdout",
          "output_type": "stream",
          "text": [
            "11\n"
          ]
        },
        {
          "name": "stderr",
          "output_type": "stream",
          "text": [
            "Saving predictions:  85%|████████▍ | 11/13 [00:08<00:01,  1.57it/s]"
          ]
        },
        {
          "name": "stdout",
          "output_type": "stream",
          "text": [
            "12\n"
          ]
        },
        {
          "name": "stderr",
          "output_type": "stream",
          "text": [
            "Saving predictions:  92%|█████████▏| 12/13 [00:08<00:00,  1.59it/s]"
          ]
        },
        {
          "name": "stdout",
          "output_type": "stream",
          "text": [
            "13\n"
          ]
        },
        {
          "name": "stderr",
          "output_type": "stream",
          "text": [
            "Saving predictions: 100%|██████████| 13/13 [00:09<00:00,  1.37it/s]\n"
          ]
        },
        {
          "name": "stdout",
          "output_type": "stream",
          "text": [
            "epoch 14\n"
          ]
        },
        {
          "name": "stderr",
          "output_type": "stream",
          "text": [
            "100%|██████████| 63/63 [00:58<00:00,  1.07it/s, loss=0.52] \n"
          ]
        },
        {
          "name": "stdout",
          "output_type": "stream",
          "text": [
            "=> Saving checkpoint\n",
            "1\n",
            "2\n",
            "3\n",
            "4\n",
            "5\n",
            "6\n",
            "7\n",
            "8\n",
            "9\n",
            "10\n",
            "11\n",
            "12\n",
            "13\n",
            "Validation Loss: 0.7860\n",
            "Accuracy: 80.02\n",
            "Precision: 0.2566\n",
            "Recall: 0.8408\n",
            "F1 Score: 0.3929\n"
          ]
        },
        {
          "name": "stderr",
          "output_type": "stream",
          "text": [
            "Saving predictions:   0%|          | 0/13 [00:00<?, ?it/s]"
          ]
        },
        {
          "name": "stdout",
          "output_type": "stream",
          "text": [
            "1\n"
          ]
        },
        {
          "name": "stderr",
          "output_type": "stream",
          "text": [
            "Saving predictions:   8%|▊         | 1/13 [00:01<00:23,  1.96s/it]"
          ]
        },
        {
          "name": "stdout",
          "output_type": "stream",
          "text": [
            "2\n"
          ]
        },
        {
          "name": "stderr",
          "output_type": "stream",
          "text": [
            "Saving predictions:  15%|█▌        | 2/13 [00:02<00:13,  1.18s/it]"
          ]
        },
        {
          "name": "stdout",
          "output_type": "stream",
          "text": [
            "3\n"
          ]
        },
        {
          "name": "stderr",
          "output_type": "stream",
          "text": [
            "Saving predictions:  23%|██▎       | 3/13 [00:03<00:09,  1.07it/s]"
          ]
        },
        {
          "name": "stdout",
          "output_type": "stream",
          "text": [
            "4\n"
          ]
        },
        {
          "name": "stderr",
          "output_type": "stream",
          "text": [
            "Saving predictions:  31%|███       | 4/13 [00:03<00:07,  1.23it/s]"
          ]
        },
        {
          "name": "stdout",
          "output_type": "stream",
          "text": [
            "5\n"
          ]
        },
        {
          "name": "stderr",
          "output_type": "stream",
          "text": [
            "Saving predictions:  38%|███▊      | 5/13 [00:04<00:05,  1.34it/s]"
          ]
        },
        {
          "name": "stdout",
          "output_type": "stream",
          "text": [
            "6\n"
          ]
        },
        {
          "name": "stderr",
          "output_type": "stream",
          "text": [
            "Saving predictions:  46%|████▌     | 6/13 [00:05<00:04,  1.41it/s]"
          ]
        },
        {
          "name": "stdout",
          "output_type": "stream",
          "text": [
            "7\n"
          ]
        },
        {
          "name": "stderr",
          "output_type": "stream",
          "text": [
            "Saving predictions:  54%|█████▍    | 7/13 [00:05<00:04,  1.45it/s]"
          ]
        },
        {
          "name": "stdout",
          "output_type": "stream",
          "text": [
            "8\n"
          ]
        },
        {
          "name": "stderr",
          "output_type": "stream",
          "text": [
            "Saving predictions:  62%|██████▏   | 8/13 [00:06<00:03,  1.46it/s]"
          ]
        },
        {
          "name": "stdout",
          "output_type": "stream",
          "text": [
            "9\n"
          ]
        },
        {
          "name": "stderr",
          "output_type": "stream",
          "text": [
            "Saving predictions:  69%|██████▉   | 9/13 [00:07<00:02,  1.49it/s]"
          ]
        },
        {
          "name": "stdout",
          "output_type": "stream",
          "text": [
            "10\n"
          ]
        },
        {
          "name": "stderr",
          "output_type": "stream",
          "text": [
            "Saving predictions:  77%|███████▋  | 10/13 [00:07<00:01,  1.53it/s]"
          ]
        },
        {
          "name": "stdout",
          "output_type": "stream",
          "text": [
            "11\n"
          ]
        },
        {
          "name": "stderr",
          "output_type": "stream",
          "text": [
            "Saving predictions:  85%|████████▍ | 11/13 [00:08<00:01,  1.55it/s]"
          ]
        },
        {
          "name": "stdout",
          "output_type": "stream",
          "text": [
            "12\n"
          ]
        },
        {
          "name": "stderr",
          "output_type": "stream",
          "text": [
            "Saving predictions:  92%|█████████▏| 12/13 [00:08<00:00,  1.55it/s]"
          ]
        },
        {
          "name": "stdout",
          "output_type": "stream",
          "text": [
            "13\n"
          ]
        },
        {
          "name": "stderr",
          "output_type": "stream",
          "text": [
            "Saving predictions: 100%|██████████| 13/13 [00:09<00:00,  1.35it/s]\n"
          ]
        },
        {
          "name": "stdout",
          "output_type": "stream",
          "text": [
            "epoch 15\n"
          ]
        },
        {
          "name": "stderr",
          "output_type": "stream",
          "text": [
            "100%|██████████| 63/63 [00:58<00:00,  1.08it/s, loss=0.554]\n"
          ]
        },
        {
          "name": "stdout",
          "output_type": "stream",
          "text": [
            "=> Saving checkpoint\n",
            "1\n",
            "2\n",
            "3\n",
            "4\n",
            "5\n",
            "6\n",
            "7\n",
            "8\n",
            "9\n",
            "10\n",
            "11\n",
            "12\n",
            "13\n",
            "Validation Loss: 0.7907\n",
            "Accuracy: 81.16\n",
            "Precision: 0.2667\n",
            "Recall: 0.8256\n",
            "F1 Score: 0.4028\n"
          ]
        },
        {
          "name": "stderr",
          "output_type": "stream",
          "text": [
            "Saving predictions:   0%|          | 0/13 [00:00<?, ?it/s]"
          ]
        },
        {
          "name": "stdout",
          "output_type": "stream",
          "text": [
            "1\n"
          ]
        },
        {
          "name": "stderr",
          "output_type": "stream",
          "text": [
            "Saving predictions:   8%|▊         | 1/13 [00:01<00:22,  1.88s/it]"
          ]
        },
        {
          "name": "stdout",
          "output_type": "stream",
          "text": [
            "2\n"
          ]
        },
        {
          "name": "stderr",
          "output_type": "stream",
          "text": [
            "Saving predictions:  15%|█▌        | 2/13 [00:02<00:12,  1.15s/it]"
          ]
        },
        {
          "name": "stdout",
          "output_type": "stream",
          "text": [
            "3\n"
          ]
        },
        {
          "name": "stderr",
          "output_type": "stream",
          "text": [
            "Saving predictions:  23%|██▎       | 3/13 [00:03<00:09,  1.10it/s]"
          ]
        },
        {
          "name": "stdout",
          "output_type": "stream",
          "text": [
            "4\n"
          ]
        },
        {
          "name": "stderr",
          "output_type": "stream",
          "text": [
            "Saving predictions:  31%|███       | 4/13 [00:03<00:07,  1.25it/s]"
          ]
        },
        {
          "name": "stdout",
          "output_type": "stream",
          "text": [
            "5\n"
          ]
        },
        {
          "name": "stderr",
          "output_type": "stream",
          "text": [
            "Saving predictions:  38%|███▊      | 5/13 [00:04<00:05,  1.36it/s]"
          ]
        },
        {
          "name": "stdout",
          "output_type": "stream",
          "text": [
            "6\n"
          ]
        },
        {
          "name": "stderr",
          "output_type": "stream",
          "text": [
            "Saving predictions:  46%|████▌     | 6/13 [00:05<00:04,  1.42it/s]"
          ]
        },
        {
          "name": "stdout",
          "output_type": "stream",
          "text": [
            "7\n"
          ]
        },
        {
          "name": "stderr",
          "output_type": "stream",
          "text": [
            "Saving predictions:  54%|█████▍    | 7/13 [00:05<00:04,  1.46it/s]"
          ]
        },
        {
          "name": "stdout",
          "output_type": "stream",
          "text": [
            "8\n"
          ]
        },
        {
          "name": "stderr",
          "output_type": "stream",
          "text": [
            "Saving predictions:  62%|██████▏   | 8/13 [00:06<00:03,  1.48it/s]"
          ]
        },
        {
          "name": "stdout",
          "output_type": "stream",
          "text": [
            "9\n"
          ]
        },
        {
          "name": "stderr",
          "output_type": "stream",
          "text": [
            "Saving predictions:  69%|██████▉   | 9/13 [00:06<00:02,  1.50it/s]"
          ]
        },
        {
          "name": "stdout",
          "output_type": "stream",
          "text": [
            "10\n"
          ]
        },
        {
          "name": "stderr",
          "output_type": "stream",
          "text": [
            "Saving predictions:  77%|███████▋  | 10/13 [00:07<00:01,  1.53it/s]"
          ]
        },
        {
          "name": "stdout",
          "output_type": "stream",
          "text": [
            "11\n"
          ]
        },
        {
          "name": "stderr",
          "output_type": "stream",
          "text": [
            "Saving predictions:  85%|████████▍ | 11/13 [00:08<00:01,  1.55it/s]"
          ]
        },
        {
          "name": "stdout",
          "output_type": "stream",
          "text": [
            "12\n"
          ]
        },
        {
          "name": "stderr",
          "output_type": "stream",
          "text": [
            "Saving predictions:  92%|█████████▏| 12/13 [00:08<00:00,  1.56it/s]"
          ]
        },
        {
          "name": "stdout",
          "output_type": "stream",
          "text": [
            "13\n"
          ]
        },
        {
          "name": "stderr",
          "output_type": "stream",
          "text": [
            "Saving predictions: 100%|██████████| 13/13 [00:09<00:00,  1.37it/s]\n"
          ]
        },
        {
          "name": "stdout",
          "output_type": "stream",
          "text": [
            "epoch 16\n"
          ]
        },
        {
          "name": "stderr",
          "output_type": "stream",
          "text": [
            "100%|██████████| 63/63 [00:58<00:00,  1.08it/s, loss=0.59] \n"
          ]
        },
        {
          "name": "stdout",
          "output_type": "stream",
          "text": [
            "=> Saving checkpoint\n",
            "1\n",
            "2\n",
            "3\n",
            "4\n",
            "5\n",
            "6\n",
            "7\n",
            "8\n",
            "9\n",
            "10\n",
            "11\n",
            "12\n",
            "13\n",
            "Validation Loss: 0.8340\n",
            "Accuracy: 82.63\n",
            "Precision: 0.2795\n",
            "Recall: 0.7964\n",
            "F1 Score: 0.4135\n"
          ]
        },
        {
          "name": "stderr",
          "output_type": "stream",
          "text": [
            "Saving predictions:   0%|          | 0/13 [00:00<?, ?it/s]"
          ]
        },
        {
          "name": "stdout",
          "output_type": "stream",
          "text": [
            "1\n"
          ]
        },
        {
          "name": "stderr",
          "output_type": "stream",
          "text": [
            "Saving predictions:   8%|▊         | 1/13 [00:01<00:23,  1.93s/it]"
          ]
        },
        {
          "name": "stdout",
          "output_type": "stream",
          "text": [
            "2\n"
          ]
        },
        {
          "name": "stderr",
          "output_type": "stream",
          "text": [
            "Saving predictions:  15%|█▌        | 2/13 [00:02<00:12,  1.17s/it]"
          ]
        },
        {
          "name": "stdout",
          "output_type": "stream",
          "text": [
            "3\n"
          ]
        },
        {
          "name": "stderr",
          "output_type": "stream",
          "text": [
            "Saving predictions:  23%|██▎       | 3/13 [00:03<00:09,  1.07it/s]"
          ]
        },
        {
          "name": "stdout",
          "output_type": "stream",
          "text": [
            "4\n"
          ]
        },
        {
          "name": "stderr",
          "output_type": "stream",
          "text": [
            "Saving predictions:  31%|███       | 4/13 [00:03<00:07,  1.22it/s]"
          ]
        },
        {
          "name": "stdout",
          "output_type": "stream",
          "text": [
            "5\n"
          ]
        },
        {
          "name": "stderr",
          "output_type": "stream",
          "text": [
            "Saving predictions:  38%|███▊      | 5/13 [00:04<00:05,  1.33it/s]"
          ]
        },
        {
          "name": "stdout",
          "output_type": "stream",
          "text": [
            "6\n"
          ]
        },
        {
          "name": "stderr",
          "output_type": "stream",
          "text": [
            "Saving predictions:  46%|████▌     | 6/13 [00:05<00:04,  1.41it/s]"
          ]
        },
        {
          "name": "stdout",
          "output_type": "stream",
          "text": [
            "7\n"
          ]
        },
        {
          "name": "stderr",
          "output_type": "stream",
          "text": [
            "Saving predictions:  54%|█████▍    | 7/13 [00:05<00:04,  1.45it/s]"
          ]
        },
        {
          "name": "stdout",
          "output_type": "stream",
          "text": [
            "8\n"
          ]
        },
        {
          "name": "stderr",
          "output_type": "stream",
          "text": [
            "Saving predictions:  62%|██████▏   | 8/13 [00:06<00:03,  1.47it/s]"
          ]
        },
        {
          "name": "stdout",
          "output_type": "stream",
          "text": [
            "9\n"
          ]
        },
        {
          "name": "stderr",
          "output_type": "stream",
          "text": [
            "Saving predictions:  69%|██████▉   | 9/13 [00:07<00:02,  1.51it/s]"
          ]
        },
        {
          "name": "stdout",
          "output_type": "stream",
          "text": [
            "10\n"
          ]
        },
        {
          "name": "stderr",
          "output_type": "stream",
          "text": [
            "Saving predictions:  77%|███████▋  | 10/13 [00:07<00:01,  1.55it/s]"
          ]
        },
        {
          "name": "stdout",
          "output_type": "stream",
          "text": [
            "11\n"
          ]
        },
        {
          "name": "stderr",
          "output_type": "stream",
          "text": [
            "Saving predictions:  85%|████████▍ | 11/13 [00:08<00:01,  1.56it/s]"
          ]
        },
        {
          "name": "stdout",
          "output_type": "stream",
          "text": [
            "12\n"
          ]
        },
        {
          "name": "stderr",
          "output_type": "stream",
          "text": [
            "Saving predictions:  92%|█████████▏| 12/13 [00:08<00:00,  1.58it/s]"
          ]
        },
        {
          "name": "stdout",
          "output_type": "stream",
          "text": [
            "13\n"
          ]
        },
        {
          "name": "stderr",
          "output_type": "stream",
          "text": [
            "Saving predictions: 100%|██████████| 13/13 [00:09<00:00,  1.36it/s]\n"
          ]
        },
        {
          "name": "stdout",
          "output_type": "stream",
          "text": [
            "epoch 17\n"
          ]
        },
        {
          "name": "stderr",
          "output_type": "stream",
          "text": [
            "100%|██████████| 63/63 [00:57<00:00,  1.10it/s, loss=0.62] \n"
          ]
        },
        {
          "name": "stdout",
          "output_type": "stream",
          "text": [
            "=> Saving checkpoint\n",
            "1\n",
            "2\n",
            "3\n",
            "4\n",
            "5\n",
            "6\n",
            "7\n",
            "8\n",
            "9\n",
            "10\n",
            "11\n",
            "12\n",
            "13\n",
            "Validation Loss: 0.8165\n",
            "Accuracy: 79.68\n",
            "Precision: 0.2543\n",
            "Recall: 0.8422\n",
            "F1 Score: 0.3900\n"
          ]
        },
        {
          "name": "stderr",
          "output_type": "stream",
          "text": [
            "Saving predictions:   0%|          | 0/13 [00:00<?, ?it/s]"
          ]
        },
        {
          "name": "stdout",
          "output_type": "stream",
          "text": [
            "1\n"
          ]
        },
        {
          "name": "stderr",
          "output_type": "stream",
          "text": [
            "Saving predictions:   8%|▊         | 1/13 [00:01<00:22,  1.89s/it]"
          ]
        },
        {
          "name": "stdout",
          "output_type": "stream",
          "text": [
            "2\n"
          ]
        },
        {
          "name": "stderr",
          "output_type": "stream",
          "text": [
            "Saving predictions:  15%|█▌        | 2/13 [00:02<00:12,  1.15s/it]"
          ]
        },
        {
          "name": "stdout",
          "output_type": "stream",
          "text": [
            "3\n"
          ]
        },
        {
          "name": "stderr",
          "output_type": "stream",
          "text": [
            "Saving predictions:  23%|██▎       | 3/13 [00:03<00:09,  1.10it/s]"
          ]
        },
        {
          "name": "stdout",
          "output_type": "stream",
          "text": [
            "4\n"
          ]
        },
        {
          "name": "stderr",
          "output_type": "stream",
          "text": [
            "Saving predictions:  31%|███       | 4/13 [00:03<00:07,  1.26it/s]"
          ]
        },
        {
          "name": "stdout",
          "output_type": "stream",
          "text": [
            "5\n"
          ]
        },
        {
          "name": "stderr",
          "output_type": "stream",
          "text": [
            "Saving predictions:  38%|███▊      | 5/13 [00:04<00:05,  1.37it/s]"
          ]
        },
        {
          "name": "stdout",
          "output_type": "stream",
          "text": [
            "6\n"
          ]
        },
        {
          "name": "stderr",
          "output_type": "stream",
          "text": [
            "Saving predictions:  46%|████▌     | 6/13 [00:04<00:04,  1.45it/s]"
          ]
        },
        {
          "name": "stdout",
          "output_type": "stream",
          "text": [
            "7\n"
          ]
        },
        {
          "name": "stderr",
          "output_type": "stream",
          "text": [
            "Saving predictions:  54%|█████▍    | 7/13 [00:05<00:04,  1.49it/s]"
          ]
        },
        {
          "name": "stdout",
          "output_type": "stream",
          "text": [
            "8\n"
          ]
        },
        {
          "name": "stderr",
          "output_type": "stream",
          "text": [
            "Saving predictions:  62%|██████▏   | 8/13 [00:06<00:03,  1.52it/s]"
          ]
        },
        {
          "name": "stdout",
          "output_type": "stream",
          "text": [
            "9\n"
          ]
        },
        {
          "name": "stderr",
          "output_type": "stream",
          "text": [
            "Saving predictions:  69%|██████▉   | 9/13 [00:06<00:02,  1.54it/s]"
          ]
        },
        {
          "name": "stdout",
          "output_type": "stream",
          "text": [
            "10\n"
          ]
        },
        {
          "name": "stderr",
          "output_type": "stream",
          "text": [
            "Saving predictions:  77%|███████▋  | 10/13 [00:07<00:01,  1.58it/s]"
          ]
        },
        {
          "name": "stdout",
          "output_type": "stream",
          "text": [
            "11\n"
          ]
        },
        {
          "name": "stderr",
          "output_type": "stream",
          "text": [
            "Saving predictions:  85%|████████▍ | 11/13 [00:08<00:01,  1.59it/s]"
          ]
        },
        {
          "name": "stdout",
          "output_type": "stream",
          "text": [
            "12\n"
          ]
        },
        {
          "name": "stderr",
          "output_type": "stream",
          "text": [
            "Saving predictions:  92%|█████████▏| 12/13 [00:08<00:00,  1.60it/s]"
          ]
        },
        {
          "name": "stdout",
          "output_type": "stream",
          "text": [
            "13\n"
          ]
        },
        {
          "name": "stderr",
          "output_type": "stream",
          "text": [
            "Saving predictions: 100%|██████████| 13/13 [00:09<00:00,  1.39it/s]\n"
          ]
        },
        {
          "name": "stdout",
          "output_type": "stream",
          "text": [
            "epoch 18\n"
          ]
        },
        {
          "name": "stderr",
          "output_type": "stream",
          "text": [
            "100%|██████████| 63/63 [00:56<00:00,  1.11it/s, loss=0.49] \n"
          ]
        },
        {
          "name": "stdout",
          "output_type": "stream",
          "text": [
            "=> Saving checkpoint\n",
            "1\n",
            "2\n",
            "3\n",
            "4\n",
            "5\n",
            "6\n",
            "7\n",
            "8\n",
            "9\n",
            "10\n",
            "11\n",
            "12\n",
            "13\n",
            "Validation Loss: 0.8858\n",
            "Accuracy: 84.35\n",
            "Precision: 0.2975\n",
            "Recall: 0.7570\n",
            "F1 Score: 0.4266\n"
          ]
        },
        {
          "name": "stderr",
          "output_type": "stream",
          "text": [
            "Saving predictions:   0%|          | 0/13 [00:00<?, ?it/s]"
          ]
        },
        {
          "name": "stdout",
          "output_type": "stream",
          "text": [
            "1\n"
          ]
        },
        {
          "name": "stderr",
          "output_type": "stream",
          "text": [
            "Saving predictions:   8%|▊         | 1/13 [00:01<00:22,  1.91s/it]"
          ]
        },
        {
          "name": "stdout",
          "output_type": "stream",
          "text": [
            "2\n"
          ]
        },
        {
          "name": "stderr",
          "output_type": "stream",
          "text": [
            "Saving predictions:  15%|█▌        | 2/13 [00:02<00:12,  1.16s/it]"
          ]
        },
        {
          "name": "stdout",
          "output_type": "stream",
          "text": [
            "3\n"
          ]
        },
        {
          "name": "stderr",
          "output_type": "stream",
          "text": [
            "Saving predictions:  23%|██▎       | 3/13 [00:03<00:09,  1.09it/s]"
          ]
        },
        {
          "name": "stdout",
          "output_type": "stream",
          "text": [
            "4\n"
          ]
        },
        {
          "name": "stderr",
          "output_type": "stream",
          "text": [
            "Saving predictions:  31%|███       | 4/13 [00:03<00:07,  1.25it/s]"
          ]
        },
        {
          "name": "stdout",
          "output_type": "stream",
          "text": [
            "5\n"
          ]
        },
        {
          "name": "stderr",
          "output_type": "stream",
          "text": [
            "Saving predictions:  38%|███▊      | 5/13 [00:04<00:05,  1.36it/s]"
          ]
        },
        {
          "name": "stdout",
          "output_type": "stream",
          "text": [
            "6\n"
          ]
        },
        {
          "name": "stderr",
          "output_type": "stream",
          "text": [
            "Saving predictions:  46%|████▌     | 6/13 [00:05<00:04,  1.44it/s]"
          ]
        },
        {
          "name": "stdout",
          "output_type": "stream",
          "text": [
            "7\n"
          ]
        },
        {
          "name": "stderr",
          "output_type": "stream",
          "text": [
            "Saving predictions:  54%|█████▍    | 7/13 [00:05<00:04,  1.48it/s]"
          ]
        },
        {
          "name": "stdout",
          "output_type": "stream",
          "text": [
            "8\n"
          ]
        },
        {
          "name": "stderr",
          "output_type": "stream",
          "text": [
            "Saving predictions:  62%|██████▏   | 8/13 [00:06<00:03,  1.50it/s]"
          ]
        },
        {
          "name": "stdout",
          "output_type": "stream",
          "text": [
            "9\n"
          ]
        },
        {
          "name": "stderr",
          "output_type": "stream",
          "text": [
            "Saving predictions:  69%|██████▉   | 9/13 [00:06<00:02,  1.53it/s]"
          ]
        },
        {
          "name": "stdout",
          "output_type": "stream",
          "text": [
            "10\n"
          ]
        },
        {
          "name": "stderr",
          "output_type": "stream",
          "text": [
            "Saving predictions:  77%|███████▋  | 10/13 [00:07<00:01,  1.57it/s]"
          ]
        },
        {
          "name": "stdout",
          "output_type": "stream",
          "text": [
            "11\n"
          ]
        },
        {
          "name": "stderr",
          "output_type": "stream",
          "text": [
            "Saving predictions:  85%|████████▍ | 11/13 [00:08<00:01,  1.59it/s]"
          ]
        },
        {
          "name": "stdout",
          "output_type": "stream",
          "text": [
            "12\n"
          ]
        },
        {
          "name": "stderr",
          "output_type": "stream",
          "text": [
            "Saving predictions:  92%|█████████▏| 12/13 [00:08<00:00,  1.60it/s]"
          ]
        },
        {
          "name": "stdout",
          "output_type": "stream",
          "text": [
            "13\n"
          ]
        },
        {
          "name": "stderr",
          "output_type": "stream",
          "text": [
            "Saving predictions: 100%|██████████| 13/13 [00:09<00:00,  1.38it/s]\n"
          ]
        },
        {
          "name": "stdout",
          "output_type": "stream",
          "text": [
            "epoch 19\n"
          ]
        },
        {
          "name": "stderr",
          "output_type": "stream",
          "text": [
            "100%|██████████| 63/63 [00:57<00:00,  1.10it/s, loss=0.426]\n"
          ]
        },
        {
          "name": "stdout",
          "output_type": "stream",
          "text": [
            "=> Saving checkpoint\n",
            "1\n",
            "2\n",
            "3\n",
            "4\n",
            "5\n",
            "6\n",
            "7\n",
            "8\n",
            "9\n",
            "10\n",
            "11\n",
            "12\n",
            "13\n",
            "Validation Loss: 0.8369\n",
            "Accuracy: 82.80\n",
            "Precision: 0.2818\n",
            "Recall: 0.7958\n",
            "F1 Score: 0.4159\n"
          ]
        },
        {
          "name": "stderr",
          "output_type": "stream",
          "text": [
            "Saving predictions:   0%|          | 0/13 [00:00<?, ?it/s]"
          ]
        },
        {
          "name": "stdout",
          "output_type": "stream",
          "text": [
            "1\n"
          ]
        },
        {
          "name": "stderr",
          "output_type": "stream",
          "text": [
            "Saving predictions:   8%|▊         | 1/13 [00:01<00:23,  1.94s/it]"
          ]
        },
        {
          "name": "stdout",
          "output_type": "stream",
          "text": [
            "2\n"
          ]
        },
        {
          "name": "stderr",
          "output_type": "stream",
          "text": [
            "Saving predictions:  15%|█▌        | 2/13 [00:02<00:12,  1.17s/it]"
          ]
        },
        {
          "name": "stdout",
          "output_type": "stream",
          "text": [
            "3\n"
          ]
        },
        {
          "name": "stderr",
          "output_type": "stream",
          "text": [
            "Saving predictions:  23%|██▎       | 3/13 [00:03<00:09,  1.09it/s]"
          ]
        },
        {
          "name": "stdout",
          "output_type": "stream",
          "text": [
            "4\n"
          ]
        },
        {
          "name": "stderr",
          "output_type": "stream",
          "text": [
            "Saving predictions:  31%|███       | 4/13 [00:03<00:07,  1.25it/s]"
          ]
        },
        {
          "name": "stdout",
          "output_type": "stream",
          "text": [
            "5\n"
          ]
        },
        {
          "name": "stderr",
          "output_type": "stream",
          "text": [
            "Saving predictions:  38%|███▊      | 5/13 [00:04<00:05,  1.36it/s]"
          ]
        },
        {
          "name": "stdout",
          "output_type": "stream",
          "text": [
            "6\n"
          ]
        },
        {
          "name": "stderr",
          "output_type": "stream",
          "text": [
            "Saving predictions:  46%|████▌     | 6/13 [00:05<00:04,  1.43it/s]"
          ]
        },
        {
          "name": "stdout",
          "output_type": "stream",
          "text": [
            "7\n"
          ]
        },
        {
          "name": "stderr",
          "output_type": "stream",
          "text": [
            "Saving predictions:  54%|█████▍    | 7/13 [00:05<00:04,  1.47it/s]"
          ]
        },
        {
          "name": "stdout",
          "output_type": "stream",
          "text": [
            "8\n"
          ]
        },
        {
          "name": "stderr",
          "output_type": "stream",
          "text": [
            "Saving predictions:  62%|██████▏   | 8/13 [00:06<00:03,  1.50it/s]"
          ]
        },
        {
          "name": "stdout",
          "output_type": "stream",
          "text": [
            "9\n"
          ]
        },
        {
          "name": "stderr",
          "output_type": "stream",
          "text": [
            "Saving predictions:  69%|██████▉   | 9/13 [00:06<00:02,  1.53it/s]"
          ]
        },
        {
          "name": "stdout",
          "output_type": "stream",
          "text": [
            "10\n"
          ]
        },
        {
          "name": "stderr",
          "output_type": "stream",
          "text": [
            "Saving predictions:  77%|███████▋  | 10/13 [00:07<00:01,  1.57it/s]"
          ]
        },
        {
          "name": "stdout",
          "output_type": "stream",
          "text": [
            "11\n"
          ]
        },
        {
          "name": "stderr",
          "output_type": "stream",
          "text": [
            "Saving predictions:  85%|████████▍ | 11/13 [00:08<00:01,  1.58it/s]"
          ]
        },
        {
          "name": "stdout",
          "output_type": "stream",
          "text": [
            "12\n"
          ]
        },
        {
          "name": "stderr",
          "output_type": "stream",
          "text": [
            "Saving predictions:  92%|█████████▏| 12/13 [00:08<00:00,  1.59it/s]"
          ]
        },
        {
          "name": "stdout",
          "output_type": "stream",
          "text": [
            "13\n"
          ]
        },
        {
          "name": "stderr",
          "output_type": "stream",
          "text": [
            "Saving predictions: 100%|██████████| 13/13 [00:09<00:00,  1.37it/s]\n"
          ]
        }
      ],
      "source": [
        "best_f1_score = 0.0\n",
        "for epoch in range(num_epochs):\n",
        "    print(f\"epoch {epoch}\")\n",
        "    train_fn(train_loader, model, optimizer, criterion, scaler, os.path.join(output_dir, \"output.txt\"))\n",
        "\n",
        "    checkpoint = {\n",
        "        \"state_dict\": model.state_dict(),\n",
        "        \"optimizer\": optimizer.state_dict(),\n",
        "    }\n",
        "    save_checkpoint(checkpoint, os.path.join(model_dir, \"checkpoint.pth.tar\"))\n",
        "\n",
        "    val_loss, val_accuracy, val_precision, val_recall, val_f1 = eval_fn(val_loader, model, criterion, os.path.join(output_dir, \"output.txt\"), device=device)\n",
        "\n",
        "    if val_f1 > best_f1_score:\n",
        "        best_f1_score = val_f1\n",
        "        save_checkpoint(checkpoint, filename=os.path.join(model_dir, \"best_model.pth.tar\"))\n",
        "        print(f\"New best F1 score: {best_f1_score:.4f}\")\n",
        "\n",
        "    #if (epoch + 1) % 5 == 0:\n",
        "    save_predictions_as_imgs(val_loader, model, image_output_dir, device=device)\n",
        "\n",
        "    scheduler.step()"
      ]
    },
    {
      "cell_type": "markdown",
      "metadata": {
        "id": "zNQSv33L--CE"
      },
      "source": [
        "Metrics"
      ]
    },
    {
      "cell_type": "code",
      "execution_count": null,
      "metadata": {
        "id": "gc0OJSJn--CE",
        "outputId": "6a5b89fb-6d09-4beb-9c97-0909f8cce31f"
      },
      "outputs": [
        {
          "data": {
            "image/png": "[encoded data removed]",
            "text/plain": [
              "<Figure size 1000x1000 with 1 Axes>"
            ]
          },
          "metadata": {},
          "output_type": "display_data"
        },
        {
          "data": {
            "image/png": "[encoded data removed]",
            "text/plain": [
              "<Figure size 1000x1000 with 1 Axes>"
            ]
          },
          "metadata": {},
          "output_type": "display_data"
        }
      ],
      "source": [
        "def parse_metrics(file_path):\n",
        "    with open(file_path, \"r\") as file:\n",
        "        lines = file.readlines()\n",
        "\n",
        "    data = {\n",
        "        \"epochs\": [],\n",
        "        \"training_loss\": [],\n",
        "        \"validation_loss\": [],\n",
        "        \"accuracy\": [],\n",
        "        \"precision\": [],\n",
        "        \"recall\": [],\n",
        "        \"f1_score\": []\n",
        "    }\n",
        "\n",
        "    current_epoch = 0\n",
        "    for line in lines:\n",
        "        line = line.strip()\n",
        "        if line.startswith(\"Train Loss:\"):\n",
        "            data[\"epochs\"].append(current_epoch)\n",
        "            data[\"training_loss\"].append(float(line.split(\":\")[1].strip()))\n",
        "        elif line.startswith(\"Validation Loss:\"):\n",
        "            data[\"validation_loss\"].append(float(line.split(\":\")[1].strip()))\n",
        "        elif line.startswith(\"Accuracy:\"):\n",
        "            data[\"accuracy\"].append(float(line.split(\":\")[1].strip()) / 100)\n",
        "        elif line.startswith(\"Precision:\"):\n",
        "            data[\"precision\"].append(float(line.split(\":\")[1].strip()))\n",
        "        elif line.startswith(\"Recall:\"):\n",
        "            data[\"recall\"].append(float(line.split(\":\")[1].strip()))\n",
        "        elif line.startswith(\"F1 Score:\"):\n",
        "            data[\"f1_score\"].append(float(line.split(\":\")[1].strip()))\n",
        "            current_epoch += 1\n",
        "\n",
        "    return data\n",
        "\n",
        "def visualize_metrics(data, output_dir=None):\n",
        "    epochs = data[\"epochs\"]\n",
        "\n",
        "    plt.figure(figsize=(10, 10))\n",
        "    plt.plot(epochs, data[\"training_loss\"], label=\"Training Loss\")\n",
        "    plt.plot(epochs, data[\"validation_loss\"], label=\"Validation Loss\")\n",
        "    plt.xlabel(\"Epochs\")\n",
        "    plt.ylabel(\"Loss\")\n",
        "    plt.title(\"Training and Validation Loss Over Epochs\")\n",
        "    plt.legend()\n",
        "    plt.grid(True)\n",
        "    plt.ylim(0, 1)\n",
        "    if output_dir:\n",
        "        plt.savefig(os.path.join(output_dir, \"loss_curve.png\"))\n",
        "    else:\n",
        "        plt.show()\n",
        "\n",
        "    plt.figure(figsize=(10, 10))\n",
        "    plt.plot(epochs, data[\"accuracy\"], label=\"Accuracy\")\n",
        "    plt.plot(epochs, data[\"precision\"], label=\"Precision\")\n",
        "    plt.plot(epochs, data[\"recall\"], label=\"Recall\")\n",
        "    plt.plot(epochs, data[\"f1_score\"], label=\"F1 Score\")\n",
        "    plt.xlabel(\"Epochs\")\n",
        "    plt.ylabel(\"Metrics\")\n",
        "    plt.title(\"Validation Metrics Over Epochs\")\n",
        "    plt.legend()\n",
        "    plt.grid(True)\n",
        "    plt.ylim(0, 1)\n",
        "    if output_dir:\n",
        "        plt.savefig(os.path.join(output_dir, \"metrics_curve.png\"))\n",
        "    else:\n",
        "        plt.show()\n",
        "\n",
        "metrics_data = parse_metrics(model_dir + \"/output/output.txt\")\n",
        "output_directory = os.path.join(model_dir, \"graphs\")\n",
        "if not os.path.exists(output_directory):\n",
        "    os.makedirs(output_directory)\n",
        "visualize_metrics(metrics_data, output_dir=output_directory)\n"
      ]
    },
    {
      "cell_type": "markdown",
      "metadata": {
        "id": "bUHIOYbZ--CE"
      },
      "source": [
        "Test set"
      ]
    },
    {
      "cell_type": "code",
      "execution_count": null,
      "metadata": {
        "id": "qs5ZbtRM--CE",
        "outputId": "95189cfa-3f04-4a78-8e61-7a48b119a645"
      },
      "outputs": [
        {
          "name": "stdout",
          "output_type": "stream",
          "text": [
            "=> Loading checkpoint\n"
          ]
        }
      ],
      "source": [
        "model1_path = os.path.join(model_dir, \"better_models\", \"model_1\", \"best_model.pth.tar\")\n",
        "#model2_path = os.path.join(model_dir, \"better_models\", \"model_2\", \"best_model.pth.tar\")\n",
        "#model3_path = os.path.join(model_dir, \"better_models\", \"model_3\", \"best_model.pth.tar\")\n",
        "\n",
        "model1 = UNET(in_channels=4, out_channels=1).to(device)\n",
        "#model2 = UNET(in_channels=4, out_channels=1).to(device)\n",
        "#model3 = UNET(in_channels=4, out_channels=1).to(device)\n",
        "\n",
        "load_checkpoint(torch.load(model1_path), model1)\n",
        "#load_checkpoint(torch.load(model2_path), model2)\n",
        "#load_checkpoint(torch.load(model3_path), model3)\n",
        "\n",
        "criterion = nn.BCEWithLogitsLoss()\n"
      ]
    },
    {
      "cell_type": "code",
      "execution_count": null,
      "metadata": {
        "id": "pI46mNJ9--CE"
      },
      "outputs": [],
      "source": [
        "test_transform = A.Compose([\n",
        "    A.Resize(height=512, width=512),\n",
        "    ToTensorV2(),\n",
        "])\n",
        "\n",
        "test_dataset = SN7Dataset(image_dir_test, mask_dir_test, transform=test_transform)\n",
        "test_loader = DataLoader(test_dataset, batch_size=16, shuffle=False, num_workers=8, pin_memory=True)\n"
      ]
    },
    {
      "cell_type": "code",
      "execution_count": null,
      "metadata": {
        "id": "dGXtbEli--CE",
        "outputId": "79b6f707-058b-4e3d-c399-433dc9238c29"
      },
      "outputs": [
        {
          "name": "stdout",
          "output_type": "stream",
          "text": [
            "1\n",
            "2\n",
            "3\n",
            "4\n",
            "5\n",
            "6\n",
            "7\n",
            "8\n",
            "9\n",
            "10\n",
            "11\n",
            "12\n",
            "13\n",
            "14\n",
            "Validation Loss: 0.2552\n",
            "Accuracy: 86.93\n",
            "Precision: 0.2635\n",
            "Recall: 0.7787\n",
            "F1 Score: 0.3932\n"
          ]
        },
        {
          "data": {
            "image/png": "[encoded data removed]",
            "text/plain": [
              "<Figure size 1000x700 with 2 Axes>"
            ]
          },
          "metadata": {},
          "output_type": "display_data"
        }
      ],
      "source": [
        "test_loss1, test_accuracy1, test_precision1, test_recall1, test_f1_1 = eval_fn(test_loader, model1, criterion, os.path.join(output_dir, \"output_test\"), device=device, testing=True)"
      ]
    }
  ],
  "metadata": {
    "colab": {
      "provenance": []
    },
    "kernelspec": {
      "display_name": "Python 3",
      "language": "python",
      "name": "python3"
    },
    "language_info": {
      "codemirror_mode": {
        "name": "ipython",
        "version": 3
      },
      "file_extension": ".py",
      "mimetype": "text/x-python",
      "name": "python",
      "nbconvert_exporter": "python",
      "pygments_lexer": "ipython3",
      "version": "3.10.12"
    }
  },
  "nbformat": 4,
  "nbformat_minor": 0
}
