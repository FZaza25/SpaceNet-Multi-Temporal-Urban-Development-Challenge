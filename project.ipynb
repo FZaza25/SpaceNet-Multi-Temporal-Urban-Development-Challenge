{
 "cells": [
  {
   "cell_type": "markdown",
   "metadata": {},
   "source": [
    "SN7"
   ]
  },
  {
   "cell_type": "code",
   "execution_count": 11,
   "metadata": {},
   "outputs": [],
   "source": [
    "import os\n",
    "import numpy as np \n",
    "import rasterio\n",
    "import torch\n",
    "import cv2\n",
    "from torchvision import datasets, transforms\n",
    "from torch.utils.data import DataLoader\n",
    "from glob import glob\n",
    "import geopandas as gpd\n",
    "from rasterio.features import rasterize\n",
    "import matplotlib.pyplot as plt\n"
   ]
  },
  {
   "cell_type": "markdown",
   "metadata": {},
   "source": [
    "Funzione per calcolare media e deviazione standard"
   ]
  },
  {
   "cell_type": "code",
   "execution_count": 5,
   "metadata": {},
   "outputs": [],
   "source": [
    "def compute_mean_std(image_paths):\n",
    "    means = []  \n",
    "    stds = []  \n",
    "    \n",
    "    for img_path in image_paths:\n",
    "        img = cv2.imread(img_path, cv2.IMREAD_UNCHANGED)  # Carica l'immagine inclusi tutti i canali\n",
    "        img_rgb = img[:, :, :3]  # Prendo i primi tre canali (RGB)\n",
    "        #permute mi serve perchè img la leggo con opencv che mi da HxWxC e pytorch vuole CxHxW\n",
    "        img_tensor = torch.tensor(img_rgb, dtype=torch.float32).permute(2, 0, 1)  # Converti in tensor e permuta le dimensioni a (Canali, Altezza, Larghezza)\n",
    "\n",
    "        means.append(img_tensor.mean(dim=(1, 2)))  # Calcola e aggiungi la media per ogni canale (RGB) alla lista delle medie (1=h, 2=w)\n",
    "        stds.append(img_tensor.std(dim=(1, 2)))    # Calcola e aggiungi la deviazione standard per ogni canale (RGB) alla lista delle deviazioni standard\n",
    "    \n",
    "    mean = torch.stack(means).mean(dim=0)  # Combina tutte le medie delle immagini e calcola la media finale per ogni canale\n",
    "    std = torch.stack(stds).mean(dim=0)    # Combina tutte le deviazioni standard delle immagini e calcola la deviazione standard finale per ogni canale\n",
    "    \n",
    "    return mean.tolist(), std.tolist()  # Converte i tensori risultanti in liste e li restituisce"
   ]
  },
  {
   "cell_type": "code",
   "execution_count": 6,
   "metadata": {},
   "outputs": [
    {
     "name": "stdout",
     "output_type": "stream",
     "text": [
      "Media dei canali RGB: [82.15845489501953, 110.30464935302734, 126.20238494873047]\n",
      "Deviazione standard dei canali RGB: [27.315223693847656, 30.465124130249023, 38.4728889465332]\n"
     ]
    }
   ],
   "source": [
    "# Path alle immagini nella cartella \"training/images\"\n",
    "image_paths = glob('training/images/*.tif')  \n",
    "\n",
    "# Esegui la computazione su GPU se disponibile\n",
    "if torch.cuda.is_available():\n",
    "    device = torch.device('cuda')\n",
    "else:\n",
    "    device = torch.device('cpu')\n",
    "\n",
    "mean, std = compute_mean_std(image_paths)\n",
    "\n",
    "print(f'Media dei canali RGB: {mean}')\n",
    "print(f'Deviazione standard dei canali RGB: {std}')\n",
    "    "
   ]
  },
  {
   "cell_type": "markdown",
   "metadata": {},
   "source": [
    "Elaborazione label:\n",
    "La gestione dell'eccezione: ValueError è dovuta alle immagini e label native del dataset, in pratica in alcune immagini satellitari, c'è la presenza di nuvole, oppure rumore di qualche altro tipo. Per gestire questo rumore è stato creato un 4 canale, che effettua una maschera coprente  sulle zone dove c'è rumore/nuvole. Ci sono anche alcune labels apposite per le maschere. In casi eccezzionali l'intera immagine ha la maschera, dove avviene il mascheramento, le labels ordinarie sono prive di dati geojson, quindi se l'intera immagine è mascherata alcune label sono vuote e quindi cioò comporta quell'errore, che vista l'assenza di label, ho deciso di gestire la problematica semplicemente creando una maschera nera. "
   ]
  },
  {
   "cell_type": "code",
   "execution_count": 25,
   "metadata": {},
   "outputs": [],
   "source": [
    "# Definisce una funzione per creare una maschera binaria da geometrie\n",
    "def create_mask(geojson, img_shape, transform):\n",
    "    shapes = [(geom, 1) for geom in geojson.geometry if geom.is_valid and not geom.is_empty]\n",
    "    if not shapes:\n",
    "        raise ValueError('No valid geometry objects found for rasterize')\n",
    "    mask = rasterize(shapes=shapes, out_shape=img_shape, transform=transform, fill=0, dtype=np.uint8)\n",
    "    return mask\n",
    "\n",
    "# Salva la maschera binaria normalizzata per visualizzazione\n",
    "def save_normalized_mask(mask, output_path, crs, transform):\n",
    "    mask_normalized = (mask * 255).astype(np.uint8)\n",
    "    with rasterio.open(\n",
    "        output_path,\n",
    "        'w',\n",
    "        driver='GTiff',\n",
    "        height=mask_normalized.shape[0],\n",
    "        width=mask_normalized.shape[1],\n",
    "        count=1,\n",
    "        dtype=mask_normalized.dtype,\n",
    "        crs=crs,\n",
    "        transform=transform,\n",
    "    ) as dst:\n",
    "        dst.write(mask_normalized, 1)\n",
    "\n",
    "def process_dataset(image_dir, label_dir, output_dir):\n",
    "    image_paths = sorted(glob(os.path.join(image_dir, '*.tif')))\n",
    "    label_paths = sorted(glob(os.path.join(label_dir, '*.geojson')))\n",
    "    \n",
    "    if not os.path.exists(output_dir):\n",
    "        os.makedirs(output_dir)\n",
    "\n",
    "    processed_count = 0\n",
    "\n",
    "    for img_path, label_path in zip(image_paths, label_paths):\n",
    "        labels_match = gpd.read_file(label_path)\n",
    "\n",
    "        with rasterio.open(img_path) as src:\n",
    "            img_shape = (src.height, src.width)\n",
    "            transform = src.transform\n",
    "            img_crs = src.crs\n",
    "\n",
    "        try:\n",
    "            mask_labels_match = create_mask(labels_match, img_shape, transform)\n",
    "        except ValueError as e:\n",
    "            print(f\"Empty or invalid label, noise on image: {img_path} due to error: {e}\")\n",
    "            mask_labels_match = np.zeros(img_shape, dtype=np.uint8)  # Crea una maschera nera in caso di errore\n",
    "        \n",
    "        img_name = os.path.basename(img_path)\n",
    "        mask_name = img_name.replace('.tif', '_label_mask.tif')\n",
    "        mask_output_path = os.path.join(output_dir, mask_name)\n",
    "\n",
    "        save_normalized_mask(mask_labels_match, mask_output_path, img_crs, transform)\n",
    "        \n",
    "        processed_count += 1\n",
    "\n",
    "        if processed_count % 100 == 0:\n",
    "            print(f'Processed: {processed_count} masks')"
   ]
  },
  {
   "cell_type": "markdown",
   "metadata": {},
   "source": [
    "Training"
   ]
  },
  {
   "cell_type": "code",
   "execution_count": null,
   "metadata": {},
   "outputs": [],
   "source": [
    "image_dir = 'training/images'\n",
    "label_dir = 'training/labels/labels_match'\n",
    "output_dir = 'training/mask_from_label'\n",
    "\n",
    "process_dataset(image_dir, label_dir, output_dir)"
   ]
  },
  {
   "cell_type": "markdown",
   "metadata": {},
   "source": [
    "Validation"
   ]
  },
  {
   "cell_type": "code",
   "execution_count": 26,
   "metadata": {},
   "outputs": [
    {
     "name": "stdout",
     "output_type": "stream",
     "text": [
      "Empty or invalid label, noise on image: validation/images/global_monthly_2018_10_mosaic_L15-0457E-1135N_1831_3648_13.tif due to error: No valid geometry objects found for rasterize\n",
      "Processed: 100 masks\n",
      "Empty or invalid label, noise on image: validation/images/global_monthly_2019_07_mosaic_L15-0457E-1135N_1831_3648_13.tif due to error: No valid geometry objects found for rasterize\n",
      "Empty or invalid label, noise on image: validation/images/global_monthly_2019_08_mosaic_L15-0457E-1135N_1831_3648_13.tif due to error: No valid geometry objects found for rasterize\n",
      "Empty or invalid label, noise on image: validation/images/global_monthly_2019_11_mosaic_L15-0457E-1135N_1831_3648_13.tif due to error: No valid geometry objects found for rasterize\n",
      "Processed: 200 masks\n"
     ]
    }
   ],
   "source": [
    "image_dir = 'validation/images'\n",
    "label_dir = 'validation/labels/labels_match'\n",
    "output_dir = 'validation/mask_from_label'\n",
    "\n",
    "process_dataset(image_dir, label_dir, output_dir)"
   ]
  },
  {
   "cell_type": "markdown",
   "metadata": {},
   "source": [
    "Test"
   ]
  },
  {
   "cell_type": "code",
   "execution_count": 23,
   "metadata": {},
   "outputs": [
    {
     "name": "stdout",
     "output_type": "stream",
     "text": [
      "Empty/invalid label, noise on image: test/images/global_monthly_2018_03_mosaic_L15-1848E-0793N_7394_5018_13.tif due to error: No valid geometry objects found for rasterize\n",
      "Empty/invalid label, noise on image: test/images/global_monthly_2018_04_mosaic_L15-1848E-0793N_7394_5018_13.tif due to error: No valid geometry objects found for rasterize\n",
      "Empty/invalid label, noise on image: test/images/global_monthly_2018_05_mosaic_L15-1848E-0793N_7394_5018_13.tif due to error: No valid geometry objects found for rasterize\n",
      "Empty/invalid label, noise on image: test/images/global_monthly_2018_06_mosaic_L15-1848E-0793N_7394_5018_13.tif due to error: No valid geometry objects found for rasterize\n",
      "Empty/invalid label, noise on image: test/images/global_monthly_2018_07_mosaic_L15-1848E-0793N_7394_5018_13.tif due to error: No valid geometry objects found for rasterize\n",
      "Empty/invalid label, noise on image: test/images/global_monthly_2018_08_mosaic_L15-1848E-0793N_7394_5018_13.tif due to error: No valid geometry objects found for rasterize\n",
      "Empty/invalid label, noise on image: test/images/global_monthly_2018_09_mosaic_L15-1848E-0793N_7394_5018_13.tif due to error: No valid geometry objects found for rasterize\n",
      "Processed: 100 masks\n",
      "Empty/invalid label, noise on image: test/images/global_monthly_2019_04_mosaic_L15-1848E-0793N_7394_5018_13.tif due to error: No valid geometry objects found for rasterize\n",
      "Empty/invalid label, noise on image: test/images/global_monthly_2019_05_mosaic_L15-1848E-0793N_7394_5018_13.tif due to error: No valid geometry objects found for rasterize\n",
      "Empty/invalid label, noise on image: test/images/global_monthly_2019_06_mosaic_L15-1848E-0793N_7394_5018_13.tif due to error: No valid geometry objects found for rasterize\n",
      "Empty/invalid label, noise on image: test/images/global_monthly_2019_07_mosaic_L15-1848E-0793N_7394_5018_13.tif due to error: No valid geometry objects found for rasterize\n",
      "Processed: 200 masks\n"
     ]
    }
   ],
   "source": [
    "image_dir = 'test/images'\n",
    "label_dir = 'test/labels/labels_match'\n",
    "output_dir = 'test/mask_from_label'\n",
    "\n",
    "process_dataset(image_dir, label_dir, output_dir)"
   ]
  }
 ],
 "metadata": {
  "kernelspec": {
   "display_name": "Python 3",
   "language": "python",
   "name": "python3"
  },
  "language_info": {
   "codemirror_mode": {
    "name": "ipython",
    "version": 3
   },
   "file_extension": ".py",
   "mimetype": "text/x-python",
   "name": "python",
   "nbconvert_exporter": "python",
   "pygments_lexer": "ipython3",
   "version": "3.10.12"
  }
 },
 "nbformat": 4,
 "nbformat_minor": 2
}
